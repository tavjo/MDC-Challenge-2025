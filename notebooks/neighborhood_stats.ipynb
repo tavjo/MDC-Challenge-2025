{
 "cells": [
  {
   "cell_type": "code",
   "execution_count": null,
   "id": "81b41e9b",
   "metadata": {},
   "outputs": [
    {
     "name": "stdout",
     "output_type": "stream",
     "text": [
      "Project root: /Users/taishajoseph/Documents/Projects/MDC-Challenge-2025\n",
      "Working from: /Users/taishajoseph/Documents/Projects/MDC-Challenge-2025/notebooks\n"
     ]
    }
   ],
   "source": [
    "import os\n",
    "import sys\n",
    "from pathlib import Path\n",
    "\n",
    "# Add project root to path \n",
    "project_root = Path.cwd().parent if Path.cwd().name == \"notebooks\" else Path.cwd()\n",
    "sys.path.append(str(project_root))\n",
    "\n",
    "print(f\"Project root: {project_root}\")\n",
    "print(f\"Working from: {Path.cwd()}\")"
   ]
  },
  {
   "cell_type": "code",
   "execution_count": 2,
   "id": "7f11ba0a",
   "metadata": {},
   "outputs": [],
   "source": [
    "cfg_path = os.path.join(project_root, \"configs\", \"chunking.yaml\")"
   ]
  },
  {
   "cell_type": "markdown",
   "id": "d54d2dfb",
   "metadata": {},
   "source": [
    "## Troubleshooting Neighborhood Similarity Service"
   ]
  },
  {
   "cell_type": "code",
   "execution_count": 3,
   "id": "6a798fc8",
   "metadata": {},
   "outputs": [
    {
     "name": "stderr",
     "output_type": "stream",
     "text": [
      "2025-08-04 14:33:41,110 - src.helpers - INFO - Logging initialized for /Users/taishajoseph/Documents/Projects/MDC-Challenge-2025/logs/duckdb_utils.log\n",
      "2025-08-04 14:33:41,110 - src.helpers - INFO - Logging initialized for /Users/taishajoseph/Documents/Projects/MDC-Challenge-2025/logs/duckdb_utils.log\n",
      "2025-08-04 14:33:41,115 - src.helpers - INFO - Logging initialized for /Users/taishajoseph/Documents/Projects/MDC-Challenge-2025/logs/neighborhood_stats.log\n",
      "2025-08-04 14:33:41,115 - src.helpers - INFO - Logging initialized for /Users/taishajoseph/Documents/Projects/MDC-Challenge-2025/logs/neighborhood_stats.log\n",
      "2025-08-04 14:33:41,115 - src.helpers - INFO - Logging initialized for /Users/taishajoseph/Documents/Projects/MDC-Challenge-2025/logs/neighborhood_stats.log\n"
     ]
    },
    {
     "name": "stdout",
     "output_type": "stream",
     "text": [
      "Executing _load_cfg...\n",
      "Function _load_cfg took 0.0037 seconds to complete.\n",
      "Executing _get_chroma_collection...\n"
     ]
    },
    {
     "name": "stderr",
     "output_type": "stream",
     "text": [
      "2025-08-04 14:33:41,380 - chromadb.telemetry.product.posthog - INFO - Anonymized telemetry enabled. See                     https://docs.trychroma.com/telemetry for more information.\n",
      "2025-08-04 14:33:41,380 - chromadb.telemetry.product.posthog - INFO - Anonymized telemetry enabled. See                     https://docs.trychroma.com/telemetry for more information.\n",
      "2025-08-04 14:33:41,380 - chromadb.telemetry.product.posthog - INFO - Anonymized telemetry enabled. See                     https://docs.trychroma.com/telemetry for more information.\n"
     ]
    },
    {
     "name": "stdout",
     "output_type": "stream",
     "text": [
      "Function _get_chroma_collection took 0.4445 seconds to complete.\n"
     ]
    },
    {
     "data": {
      "text/plain": [
       "7"
      ]
     },
     "execution_count": 3,
     "metadata": {},
     "output_type": "execute_result"
    }
   ],
   "source": [
    "from api.services.neighborhood_stats import get_collection, compute_neighborhood_embedding_stats\n",
    "import numpy as np\n",
    "\n",
    "# 1) load your collection\n",
    "coll = get_collection(cfg_path, \"dataset-aggregates-train\")\n",
    "\n",
    "# 2) grab the very first embedding from Chroma\n",
    "data = coll.get(include=[\"embeddings\"])\n",
    "len(data)"
   ]
  },
  {
   "cell_type": "code",
   "execution_count": 4,
   "id": "0b2835a4",
   "metadata": {},
   "outputs": [
    {
     "name": "stderr",
     "output_type": "stream",
     "text": [
      "2025-08-04 14:33:41,672 - src.helpers - INFO - Computed neighborhood stats for 3 neighbors\n",
      "2025-08-04 14:33:41,672 - src.helpers - INFO - Computed neighborhood stats for 3 neighbors\n",
      "2025-08-04 14:33:41,672 - src.helpers - INFO - Computed neighborhood stats for 3 neighbors\n"
     ]
    },
    {
     "name": "stdout",
     "output_type": "stream",
     "text": [
      "Executing compute_neighborhood_embedding_stats...\n",
      "Function compute_neighborhood_embedding_stats took 0.0072 seconds to complete.\n",
      "ENSOARG00000012128 {'neighbor_similarity_mean': 1.0, 'neighbor_similarity_max': 1.0, 'neighbor_similarity_var': 0.0, 'neighbor_norm_mean': 0.999999945851791, 'neighbor_norm_max': 0.999999945851791, 'neighbor_norm_var': 0.0}\n"
     ]
    }
   ],
   "source": [
    "emb0 = data[\"embeddings\"][3]   # should be a list[float], length>0\n",
    "id0  = data[\"ids\"][3]\n",
    "# 3) compute stats for just that one\n",
    "stats0 = compute_neighborhood_embedding_stats(np.array(emb0), coll, k=3)\n",
    "print(id0, stats0)"
   ]
  },
  {
   "cell_type": "code",
   "execution_count": 5,
   "id": "cc680f26",
   "metadata": {},
   "outputs": [
    {
     "data": {
      "text/plain": [
       "['ids', 'embeddings', 'documents', 'uris', 'included', 'data', 'metadatas']"
      ]
     },
     "execution_count": 5,
     "metadata": {},
     "output_type": "execute_result"
    }
   ],
   "source": [
    "list(data.keys())"
   ]
  },
  {
   "cell_type": "code",
   "execution_count": 6,
   "id": "a7a511d9",
   "metadata": {},
   "outputs": [
    {
     "data": {
      "text/plain": [
       "487"
      ]
     },
     "execution_count": 6,
     "metadata": {},
     "output_type": "execute_result"
    }
   ],
   "source": [
    "len(data[\"ids\"])"
   ]
  },
  {
   "cell_type": "code",
   "execution_count": 7,
   "id": "bc8d5124",
   "metadata": {},
   "outputs": [
    {
     "data": {
      "text/plain": [
       "487"
      ]
     },
     "execution_count": 7,
     "metadata": {},
     "output_type": "execute_result"
    }
   ],
   "source": [
    "len(data[\"embeddings\"])"
   ]
  },
  {
   "cell_type": "code",
   "execution_count": 8,
   "id": "1178f679",
   "metadata": {},
   "outputs": [
    {
     "data": {
      "text/plain": [
       "numpy.ndarray"
      ]
     },
     "execution_count": 8,
     "metadata": {},
     "output_type": "execute_result"
    }
   ],
   "source": [
    "type(data['embeddings'])"
   ]
  },
  {
   "cell_type": "markdown",
   "id": "23d01623",
   "metadata": {},
   "source": [
    "## Troubleshooting \"load_embeddings\" service"
   ]
  },
  {
   "cell_type": "code",
   "execution_count": 9,
   "id": "1c68d387",
   "metadata": {},
   "outputs": [],
   "source": [
    "import requests\n",
    "\n",
    "url = \"http://localhost:8000/load_embeddings\"\n",
    "payload = {\n",
    "    \"collection_name\": \"dataset-aggregates-train\",\n",
    "    \"cfg_path\": \"configs/chunking.yaml\",\n",
    "    \"include\": [\"embeddings\"]\n",
    "}\n",
    "\n",
    "response = requests.post(url, json=payload)\n",
    "# res = response.json()"
   ]
  },
  {
   "cell_type": "code",
   "execution_count": 10,
   "id": "e17691cc",
   "metadata": {},
   "outputs": [
    {
     "name": "stdout",
     "output_type": "stream",
     "text": [
      "200\n"
     ]
    }
   ],
   "source": [
    "print(response.status_code)"
   ]
  },
  {
   "cell_type": "code",
   "execution_count": 11,
   "id": "9404341f",
   "metadata": {},
   "outputs": [
    {
     "data": {
      "text/plain": [
       "LoadChromaDataResult(success=True, error=None, results={'ids': ['https://doi.org/10.11583/dtu.20555586', 'https://doi.org/10.5281/zenodo.8014150', 'ENSOARG00000003950', 'ENSOARG00000012128', 'ENSOARG00000012835', 'ENSOARG00000013782', 'ENSOARG00000013966', 'ENSOARG00000014129', 'IPR000264', 'IPR002172', 'IPR014760', 'IPR020857', 'IPR020858', 'IPR021177', 'IPR023415', 'ENSBTAG00000011038', 'ENSBTAG00000013718', 'ENSBTAG00000017121', 'ENSBTAG00000017131', 'ENSBTAG00000021275', 'ENSBTAG00000047833', 'NM_001078656', 'https://doi.org/10.15468/dl.354f8k', 'https://doi.org/10.15468/dl.nbku3v', 'https://doi.org/10.15468/dl.pdjqte', 'https://doi.org/10.15468/dl.uejpg6', '3.10.180.10', '3.20.20.120', '3.20.20.140', '3.40.50.1000', '3.90.226.10', '3.30.450.20', '3.30.450.40', '3.30.930.10', '3.40.30.10', '3.40.50.1820', '3.40.50.620', '3.40.630.30', '3.90.1200.10', 'PF00106', 'PF03372', '3.90.228.10', 'https://doi.org/10.6073/pasta/57108aaeede00e77cac110bc5366a92b', 'https://doi.org/10.25349/d9qw5x', 'https://doi.org/10.5061/dryad.j8cm402', 'https://doi.org/10.17882/53389', 'https://doi.org/10.17882/55741', 'https://doi.org/10.7937/tcia.xc7a-qt20', 'https://doi.org/10.7937/k9/tcia.2016.hdhpgjlk', 'https://doi.org/10.7937/q1ee-j082', 'https://doi.org/10.7937/tcia.e3sv-re93', 'https://doi.org/10.5066/p99onunm', 'https://doi.org/10.5066/p9s5pvon', 'https://doi.org/10.5066/p9eucgjq', 'https://doi.org/10.5066/p9xvjdnp', 'https://doi.org/10.5066/f7tt4q4b', 'https://doi.org/10.5066/p9gcdyt2', 'https://doi.org/10.5066/f72z13n1', 'https://doi.org/10.5066/p9h1s1pv', 'https://doi.org/10.5066/f7nc5zfm', 'https://doi.org/10.5066/f7930sg7', 'https://doi.org/10.5066/f7h993cz', 'https://doi.org/10.5066/f7wq01t3', 'https://doi.org/10.5066/p9fz4ojw', 'https://doi.org/10.5066/p92bghw1', 'https://doi.org/10.5066/p9vysweh', 'https://doi.org/10.5066/p9hdxe32', 'https://doi.org/10.6073/pasta/be42bb841e696b7bcad9957aed33db5e', 'https://doi.org/10.17882/59867', 'https://doi.org/10.17882/70340', 'https://doi.org/10.18434/m32126', 'SAMN07159041', 'SAMN07159044', 'SAMN07159045', 'SAMN08172567', 'SAMN08199278', 'SAMN09534374', 'SAMN12620691', 'SAMN12620692', 'SAMN12620693', 'SAMN12620694', 'SAMN12620697', 'SAMN12620700', 'SAMN12620701', 'SAMN12620702', 'SAMN12620703', 'SAMN12620704', 'NC_017643.1', 'SAMN17525956', 'https://doi.org/10.13020/jjdx-1m95', 'https://doi.org/10.5061/dryad.3b65k44', 'GSE130386', 'SRP184152', 'https://doi.org/10.5066/p9zudioh', 'https://doi.org/10.5067/modis/myd06_l2.006', 'https://doi.org/10.5061/dryad.p5hqbzkqf', 'https://doi.org/10.5066/p9gtumay', 'https://doi.org/10.15125/bath-00325', 'https://doi.org/10.5061/dryad.3xsj3txbz', 'https://doi.org/10.7937/tcia.2020.6c7y-gq39', 'K02388', 'K02389', 'K02390', 'K02391', 'K02396', 'K02397', 'K02400', 'K02401', 'K02405', 'K02407', 'K02409', 'K02410', 'K02412', 'K02413', 'K02414', 'K02417', 'K02418', 'K02422', 'PF04509', 'K02398', 'K02404', 'PF01052', 'PF02154', 'PF03748', 'PF03963', 'PF04347', 'PF00248', 'PF00356', 'PF13377', 'https://doi.org/10.6075/j0k35s05', 'https://doi.org/10.15131/shef.data.5414629', 'https://doi.org/10.5061/dryad.bn7p2f5', 'https://doi.org/10.5066/p9kehy2s', 'E-GEOD-28654', 'E-GEOD-29623', 'E-GEOD-45216', 'E-GEOD-45670', 'E-GEOD-48278', 'E-GEOD-48350', 'E-GEOD-49243', 'E-GEOD-50774', 'E-GEOD-53890', 'E-GEOD-54543', 'E-GEOD-58697', 'E-GEOD-59312', 'E-GEOD-61804', 'E-GEOD-63626', 'E-GEOD-64857', 'E-GEOD-67851', 'E-GEOD-19722', 'E-GEOD-39084', 'E-GEOD-46474', 'E-GEOD-48780', 'E-GEOD-53224', 'E-GEOD-54837', 'E-GEOD-60028', 'E-GEOD-64415', 'E-GEOD-68720', 'https://doi.org/10.5061/dryad.dk5gt88', 'https://doi.org/10.5066/p9ooiq0e', 'EMPIAR-10005', 'EMPIAR-10017', 'EMPIAR-10093', 'EMPIAR-10387', 'EMPIAR-10532', 'EMPIAR-10590', 'EMPIAR-10852', 'EMPIAR-11057', 'EMPIAR-10028', 'EMPIAR-10081', 'EMPIAR-10345', 'EMPIAR-10406', 'https://doi.org/10.7910/dvn/fwckse', 'https://doi.org/10.18150/6oxplo', 'https://doi.org/10.18150/lienz5', 'https://doi.org/10.18150/vaojlj', 'https://doi.org/10.18150/xsexuf', 'https://doi.org/10.5281/zenodo.817658', 'GSE67047', 'GSE87048', 'CAB004592', 'CAB010055', 'HPA001426', 'HPA001522', 'HPA001612', 'HPA003156', 'HPA003927', 'HPA007450', 'HPA008063', 'HPA030827', 'HPA042865', 'O75787', 'P17900', 'P21741', 'P23142', 'P24593', 'P24821', 'P51884', 'P53004', 'Q08629', 'Q12907', 'Q96AG4', 'Q99538', 'https://doi.org/10.5066/p9353101', 'https://doi.org/10.1594/pangaea.964081', 'https://doi.org/10.1594/pangaea.964085', 'https://doi.org/10.5061/dryad.12jm63xwd', 'PF00078', 'PF02170', 'PF02171', 'PF03368', 'PF05183', 'CHEMBL1568820', 'CHEMBL1652119', 'CHEMBL198796', 'CHEMBL243644', 'CHEMBL2436978', 'CHEMBL3109593', 'CHEMBL3311228', 'CHEMBL3752642', 'CHEMBL3960662', 'CHEMBL402487', 'CHEMBL403', 'CHEMBL4065616', 'CHEMBL408500', 'CHEMBL561', 'CHEMBL64391', 'CHEMBL76', 'CVCL_0213', 'CVCL_0395', 'CVCL_0530', 'CVCL_0627', 'CVCL_1916', 'CVCL_1917', 'CVCL_1918', 'CVCL_1919', 'CVCL_2213', 'CVCL_2235', 'CVCL_3967', 'CVCL_6245', 'CVCL_7151', 'CVCL_D615', 'CVCL_KS61', 'PF00348', 'PF00484', 'PF01493', 'PF05834', 'PF15461', 'IPR000884', 'IPR001124', 'IPR001577', 'IPR002477', 'IPR002889', 'IPR004007', 'IPR004302', 'IPR004785', 'IPR004911', 'IPR004963', 'IPR004981', 'IPR005524', 'IPR006201', 'IPR008139', 'IPR009613', 'IPR011040', 'IPR011124', 'IPR012338', 'IPR016201', 'IPR017920', 'IPR021345', 'IPR028730', 'IPR029723', 'IPR029787', 'IPR033396', 'IPR036452', 'EPI_ISL_445001', 'EPI_ISL_445002', 'EPI_ISL_445051', 'EPI_ISL_445052', 'EPI_ISL_445089', 'EPI_ISL_445090', 'EPI_ISL_445091', 'EPI_ISL_445092', 'EPI_ISL_445093', 'EPI_ISL_291131', 'EPI_ISL_293286', 'EPI_ISL_293287', 'EPI_ISL_293288', 'EPI_ISL_293289', 'EPI_ISL_293290', 'EPI_ISL_293291', 'EPI_ISL_332358', 'EPI_ISL_332395', 'EPI_ISL_332396', 'EPI_ISL_332399', 'EPI_ISL_332401', 'EPI_ISL_376123', 'CP130886', 'BX119912', 'CP001848', 'https://doi.org/10.5067/suborbital/oracles/p3/2016_v2', 'https://doi.org/10.5067/suborbital/oracles/p3/2017_v2', 'https://doi.org/10.5067/suborbital/oracles/p3/2018_v2', 'https://doi.org/10.15468/dl.ize4xx', 'https://doi.org/10.15468/dl.i71k4s', 'https://doi.org/10.25921/dt5g-my32', 'https://doi.org/10.1594/pangaea.938422', 'https://doi.org/10.6073/pasta/fed17d67583eda16c439216ca40b0669', '5VA1', 'CHEMBL1257821', 'CHEMBL70', 'CHEMBL1257578', 'CHEMBL1097', 'CHEMBL1782574', 'CHEMBL195180', 'CHEMBL2424928', 'CHEMBL3422978', 'CHEMBL390649', 'CHEMBL572163', 'https://doi.org/10.1594/pangaea.949117', 'PXD001676', 'PXD005693', 'PXD005709', 'PXD020454', 'PXD010458', 'https://doi.org/10.5291/ill-data.5-31-2380', '2nrj', '4k1p', '7nmq', 'https://doi.org/10.5281/zenodo.7871636', 'https://doi.org/10.5281/zenodo.8338991', 'https://doi.org/10.17882/49388', 'CP013147', 'PRJNA296687', 'SRX1830060', 'PRJNA10687', 'PRJNA16146', 'PRJNA16148', 'PRJNA167229', 'PRJNA167235', 'PRJNA167242', 'PRJNA167243', 'PRJNA167255', 'PRJNA167259', 'PRJNA185511', 'PRJNA20133', 'PRJNA217894', 'PRJNA287300', 'PRJNA293', 'PRJNA32553', 'PRJNA47139', 'PRJNA65041', 'PRJNA65043', 'PRJNA74039', 'PRJNA74077', 'PRJNA74079', 'PRJNA74089', 'PRJNA74123', 'PRJNA74167', 'https://doi.org/10.5061/dryad.pp045j3', 'EPI1387245', 'D10700', 'EPI1018205', 'EPI1018206', 'EPI1019554', 'EPI1019555', 'EPI1019556', 'EPI1104288', 'EPI1184004', 'EPI1184005', 'EPI1184014', 'EPI954555', 'EPI954556', 'EPI954557', 'EPI1018207', 'EPI1018208', 'EPI1018210', 'EPI1018211', 'EPI1019551', 'EPI1019552', 'EPI1019553', 'EPI1019558', 'EPI1104284', 'EPI1104285', 'EPI1104286', 'EPI1183999', 'EPI954552', 'EPI954553', 'EPI954554', 'EPI954559', 'KX000727', 'KX000734', 'https://doi.org/10.15468/dl.4hgjbk', 'https://doi.org/10.15468/dl.x6cwjx', 'EPI_ISL_10271777', 'EPI_ISL_13295050', 'EPI_ISL_1626969', 'EPI_ISL_17371329', 'EPI_ISL_2340570', 'EPI_ISL_2340575', 'EPI_ISL_2340581', 'EPI_ISL_2340614', 'EPI_ISL_2340615', 'EPI_ISL_2340626', 'EPI_ISL_2340662', 'EPI_ISL_2365356', 'EPI_ISL_2402571', 'https://doi.org/10.34973/983b-a047', 'https://doi.org/10.15468/dl.elq8xm', 'https://doi.org/10.15468/dl.ze0mrg', 'https://doi.org/10.24381/cds.32b04ec5', 'https://doi.org/10.24381/cds.6a6d1bc3', 'https://doi.org/10.5067/modis/mod10a1f.061', 'MODEL2106070001', 'CHEMBL3347550', 'CHEMBL3347551', 'CHEMBL3733336', 'https://doi.org/10.17882/94031', 'https://doi.org/10.17882/94032', 'https://doi.org/10.17882/94146', 'https://doi.org/10.17882/94147', 'https://doi.org/10.5061/dryad.hs20gv7', 'https://doi.org/10.21942/uva.17040392', 'https://doi.org/10.25387/g3.9478253', 'https://doi.org/10.5066/p9ys1x7p', 'https://doi.org/10.25387/g3.9626636', 'https://doi.org/10.1594/pangaea.917588', 'https://doi.org/10.5066/p9bu8faq', 'https://doi.org/10.5281/zenodo.10908593', 'https://doi.org/10.15468/dl.92jj3s', 'https://doi.org/10.15468/dl.be7krr', 'https://doi.org/10.15468/dl.cb2hsf', 'https://doi.org/10.15468/dl.qm4v2t', 'https://doi.org/10.15468/dl.2a5f6c', 'https://doi.org/10.15468/dl.6qzmh7', 'https://doi.org/10.15468/dl.ah5fq7', 'https://doi.org/10.15468/dl.dcatgu', 'https://doi.org/10.15468/dl.gtnw2a', 'https://doi.org/10.15468/dl.nvnscr', 'https://doi.org/10.15468/dl.qgemaq', 'https://doi.org/10.15468/dl.sz5x6g', 'https://doi.org/10.15468/dl.txwcpa', 'https://doi.org/10.15468/dl.ucepps', 'https://doi.org/10.15468/dl.waw9qx', 'https://doi.org/10.15468/dl.yc59mu', 'https://doi.org/10.15468/dl.zrhwa2', 'https://doi.org/10.25326/09', 'https://doi.org/10.5061/dryad.fxpnvx0pn', 'https://doi.org/10.15482/usda.adc/1524676', 'https://doi.org/10.3886/icpsr25104.v1', 'https://doi.org/10.3886/icpsr27646.v1', 'https://doi.org/10.3886/icpsr30765.v1', 'https://doi.org/10.3886/icpsr30770.v1', 'https://doi.org/10.3886/icpsr33525.v1', 'https://doi.org/10.3886/icpsr33530.v1', 'https://doi.org/10.3886/icpsr34584.v1', 'https://doi.org/10.3886/icpsr34585.v1', 'https://doi.org/10.3886/icpsr35020.v1', 'https://doi.org/10.3886/icpsr35035.v1', 'https://doi.org/10.3886/icpsr36119.v1', 'https://doi.org/10.3886/icpsr36120.v2', 'https://doi.org/10.3886/icpsr36395.v1', 'https://doi.org/10.3886/icpsr36398.v1', 'https://doi.org/10.3886/icpsr36791.v1', 'https://doi.org/10.3886/icpsr36795.v1', 'https://doi.org/10.3886/icpsr37062.v1', 'https://doi.org/10.3886/icpsr37065.v2', 'https://doi.org/10.15468/dl.czyyq2', 'https://doi.org/10.15468/dl.j4fe7k', 'https://doi.org/10.15468/dl.k6jv69', 'https://doi.org/10.15468/dl.t3h8b4', 'https://doi.org/10.15468/dl.yak5vd', 'https://doi.org/10.15485/1843541', 'https://doi.org/10.5067/zx7yx2y2lheb', 'rs33912345', 'https://doi.org/10.17632/jb4jjxsbb7.1', 'https://doi.org/10.17632/xtb4mkvf8f.1', 'https://doi.org/10.17863/cam.107163', 'https://doi.org/10.3334/cdiac/otg.ndp093_glodapv2', 'https://doi.org/10.6096/aeroclo.1754', 'https://doi.org/10.6096/aeroclo.1774', 'https://doi.org/10.6096/aeroclo.1777', 'https://doi.org/10.22033/esgf/cmip6.10843', 'https://doi.org/10.22033/esgf/cmip6.1621', 'https://doi.org/10.5066/f72j69rm', 'https://doi.org/10.15468/dl.a2a348', 'https://doi.org/10.15468/dl.k8zeq6', 'https://doi.org/10.6078/d1k419'], 'embeddings': array([[-0.06205702,  0.09158444,  0.04000078, ..., -0.02056384,\n",
       "         0.04896454,  0.0569484 ],\n",
       "       [-0.06159819,  0.01082362,  0.02368475, ..., -0.03462593,\n",
       "         0.03920791,  0.00728155],\n",
       "       [-0.03274045, -0.00435089, -0.0461706 , ..., -0.08630846,\n",
       "         0.13485345,  0.06491973],\n",
       "       ...,\n",
       "       [-0.01110151,  0.00413419,  0.05297314, ..., -0.06715012,\n",
       "        -0.00573286,  0.0653493 ],\n",
       "       [-0.01110151,  0.00413419,  0.05297314, ..., -0.06715012,\n",
       "        -0.00573286,  0.0653493 ],\n",
       "       [-0.06213691,  0.00752724, -0.0402364 , ..., -0.04417551,\n",
       "         0.04798724,  0.07403224]], shape=(487, 384)), 'included': ['embeddings']})"
      ]
     },
     "execution_count": 11,
     "metadata": {},
     "output_type": "execute_result"
    }
   ],
   "source": [
    "from src.models import LoadChromaDataResult\n",
    "res = LoadChromaDataResult.model_validate(response.json())\n",
    "res"
   ]
  },
  {
   "cell_type": "code",
   "execution_count": 13,
   "id": "3e3d7fa5",
   "metadata": {},
   "outputs": [
    {
     "data": {
      "text/plain": [
       "3"
      ]
     },
     "execution_count": 13,
     "metadata": {},
     "output_type": "execute_result"
    }
   ],
   "source": [
    "len(res.results)"
   ]
  },
  {
   "cell_type": "code",
   "execution_count": 14,
   "id": "dc812adb",
   "metadata": {},
   "outputs": [
    {
     "data": {
      "text/plain": [
       "['ids', 'embeddings', 'included']"
      ]
     },
     "execution_count": 14,
     "metadata": {},
     "output_type": "execute_result"
    }
   ],
   "source": [
    "list(res.results.keys())"
   ]
  },
  {
   "cell_type": "code",
   "execution_count": 15,
   "id": "3d47b10c",
   "metadata": {},
   "outputs": [],
   "source": [
    "if not res.success:\n",
    "    print(res.error)"
   ]
  },
  {
   "cell_type": "code",
   "execution_count": 16,
   "id": "b780649a",
   "metadata": {},
   "outputs": [
    {
     "data": {
      "text/plain": [
       "487"
      ]
     },
     "execution_count": 16,
     "metadata": {},
     "output_type": "execute_result"
    }
   ],
   "source": [
    "len(res.results[\"embeddings\"])"
   ]
  },
  {
   "cell_type": "code",
   "execution_count": 18,
   "id": "80d8e7b9",
   "metadata": {},
   "outputs": [
    {
     "data": {
      "text/plain": [
       "numpy.ndarray"
      ]
     },
     "execution_count": 18,
     "metadata": {},
     "output_type": "execute_result"
    }
   ],
   "source": [
    "type(res.results[\"embeddings\"])"
   ]
  }
 ],
 "metadata": {
  "kernelspec": {
   "display_name": "mdc-challenge-2025",
   "language": "python",
   "name": "python3"
  },
  "language_info": {
   "codemirror_mode": {
    "name": "ipython",
    "version": 3
   },
   "file_extension": ".py",
   "mimetype": "text/x-python",
   "name": "python",
   "nbconvert_exporter": "python",
   "pygments_lexer": "ipython3",
   "version": "3.12.2"
  }
 },
 "nbformat": 4,
 "nbformat_minor": 5
}
