{
 "cells": [
  {
   "cell_type": "code",
   "execution_count": 1,
   "id": "72a155f8",
   "metadata": {},
   "outputs": [
    {
     "name": "stdout",
     "output_type": "stream",
     "text": [
      "Project root: /Users/taishajoseph/Documents/Projects/MDC-Challenge-2025\n",
      "Working from: /Users/taishajoseph/Documents/Projects/MDC-Challenge-2025/notebooks\n"
     ]
    }
   ],
   "source": [
    "import os\n",
    "import sys\n",
    "from pathlib import Path\n",
    "\n",
    "# Add project root to path \n",
    "project_root = Path.cwd().parent if Path.cwd().name == \"notebooks\" else Path.cwd()\n",
    "sys.path.append(str(project_root))\n",
    "\n",
    "print(f\"Project root: {project_root}\")\n",
    "print(f\"Working from: {Path.cwd()}\")"
   ]
  },
  {
   "cell_type": "code",
   "execution_count": 2,
   "id": "04523ca3",
   "metadata": {},
   "outputs": [
    {
     "name": "stderr",
     "output_type": "stream",
     "text": [
      "2025-08-05 09:43:20,052 - src.helpers - INFO - Logging initialized for /Users/taishajoseph/Documents/Projects/MDC-Challenge-2025/logs/duckdb_utils.log\n",
      "2025-08-05 09:43:20,052 - src.helpers - INFO - Logging initialized for /Users/taishajoseph/Documents/Projects/MDC-Challenge-2025/logs/duckdb_utils.log\n",
      "/Users/taishajoseph/miniconda3/envs/mdc-challenge-2025/lib/python3.12/site-packages/tqdm/auto.py:21: TqdmWarning: IProgress not found. Please update jupyter and ipywidgets. See https://ipywidgets.readthedocs.io/en/stable/user_install.html\n",
      "  from .autonotebook import tqdm as notebook_tqdm\n",
      "2025-08-05 09:43:29,569 - src.helpers - INFO - Logging initialized for /Users/taishajoseph/Documents/Projects/MDC-Challenge-2025/logs/dimensionality_reduction.log\n",
      "2025-08-05 09:43:29,569 - src.helpers - INFO - Logging initialized for /Users/taishajoseph/Documents/Projects/MDC-Challenge-2025/logs/dimensionality_reduction.log\n",
      "2025-08-05 09:43:29,569 - src.helpers - INFO - Logging initialized for /Users/taishajoseph/Documents/Projects/MDC-Challenge-2025/logs/dimensionality_reduction.log\n"
     ]
    }
   ],
   "source": [
    "from src.dimensionality_reduction import Reducer"
   ]
  },
  {
   "cell_type": "code",
   "execution_count": 3,
   "id": "b187bf6c",
   "metadata": {},
   "outputs": [
    {
     "name": "stderr",
     "output_type": "stream",
     "text": [
      "2025-08-05 09:43:29,762 - api.database.duckdb_schema - INFO - Starting DuckDB schema creation...\n",
      "2025-08-05 09:43:29,762 - api.database.duckdb_schema - INFO - Starting DuckDB schema creation...\n",
      "2025-08-05 09:43:29,762 - api.database.duckdb_schema - INFO - Starting DuckDB schema creation...\n",
      "2025-08-05 09:43:29,766 - api.database.duckdb_schema - INFO - Creating documents table...\n",
      "2025-08-05 09:43:29,766 - api.database.duckdb_schema - INFO - Creating documents table...\n",
      "2025-08-05 09:43:29,766 - api.database.duckdb_schema - INFO - Creating documents table...\n",
      "2025-08-05 09:43:29,778 - api.database.duckdb_schema - INFO - Documents table created successfully\n",
      "2025-08-05 09:43:29,778 - api.database.duckdb_schema - INFO - Documents table created successfully\n",
      "2025-08-05 09:43:29,778 - api.database.duckdb_schema - INFO - Documents table created successfully\n",
      "2025-08-05 09:43:29,781 - api.database.duckdb_schema - INFO - Creating citations table...\n",
      "2025-08-05 09:43:29,781 - api.database.duckdb_schema - INFO - Creating citations table...\n",
      "2025-08-05 09:43:29,781 - api.database.duckdb_schema - INFO - Creating citations table...\n",
      "2025-08-05 09:43:29,785 - api.database.duckdb_schema - INFO - Citations table created successfully\n",
      "2025-08-05 09:43:29,785 - api.database.duckdb_schema - INFO - Citations table created successfully\n",
      "2025-08-05 09:43:29,785 - api.database.duckdb_schema - INFO - Citations table created successfully\n",
      "2025-08-05 09:43:29,787 - api.database.duckdb_schema - INFO - Creating chunks table...\n",
      "2025-08-05 09:43:29,787 - api.database.duckdb_schema - INFO - Creating chunks table...\n",
      "2025-08-05 09:43:29,787 - api.database.duckdb_schema - INFO - Creating chunks table...\n",
      "2025-08-05 09:43:29,792 - api.database.duckdb_schema - INFO - Chunks table created successfully\n",
      "2025-08-05 09:43:29,792 - api.database.duckdb_schema - INFO - Chunks table created successfully\n",
      "2025-08-05 09:43:29,792 - api.database.duckdb_schema - INFO - Chunks table created successfully\n",
      "2025-08-05 09:43:29,794 - api.database.duckdb_schema - INFO - Creating datasets table...\n",
      "2025-08-05 09:43:29,794 - api.database.duckdb_schema - INFO - Creating datasets table...\n",
      "2025-08-05 09:43:29,794 - api.database.duckdb_schema - INFO - Creating datasets table...\n",
      "2025-08-05 09:43:29,799 - api.database.duckdb_schema - INFO - Datasets table created successfully\n",
      "2025-08-05 09:43:29,799 - api.database.duckdb_schema - INFO - Datasets table created successfully\n",
      "2025-08-05 09:43:29,799 - api.database.duckdb_schema - INFO - Datasets table created successfully\n",
      "2025-08-05 09:43:29,802 - api.database.duckdb_schema - INFO - Creating engineered_feature_values table...\n",
      "2025-08-05 09:43:29,802 - api.database.duckdb_schema - INFO - Creating engineered_feature_values table...\n",
      "2025-08-05 09:43:29,802 - api.database.duckdb_schema - INFO - Creating engineered_feature_values table...\n",
      "2025-08-05 09:43:29,807 - api.database.duckdb_schema - INFO - engineered_feature_values table created successfully\n",
      "2025-08-05 09:43:29,807 - api.database.duckdb_schema - INFO - engineered_feature_values table created successfully\n",
      "2025-08-05 09:43:29,807 - api.database.duckdb_schema - INFO - engineered_feature_values table created successfully\n",
      "2025-08-05 09:43:29,809 - api.database.duckdb_schema - INFO - Creating indexes...\n",
      "2025-08-05 09:43:29,809 - api.database.duckdb_schema - INFO - Creating indexes...\n",
      "2025-08-05 09:43:29,809 - api.database.duckdb_schema - INFO - Creating indexes...\n",
      "2025-08-05 09:43:29,818 - api.database.duckdb_schema - INFO - Indexes created successfully\n",
      "2025-08-05 09:43:29,818 - api.database.duckdb_schema - INFO - Indexes created successfully\n",
      "2025-08-05 09:43:29,818 - api.database.duckdb_schema - INFO - Indexes created successfully\n",
      "2025-08-05 09:43:29,821 - api.database.duckdb_schema - INFO - DuckDB schema creation completed successfully\n",
      "2025-08-05 09:43:29,821 - api.database.duckdb_schema - INFO - DuckDB schema creation completed successfully\n",
      "2025-08-05 09:43:29,821 - api.database.duckdb_schema - INFO - DuckDB schema creation completed successfully\n",
      "2025-08-05 09:43:29,824 - api.database.duckdb_schema - INFO - Validating schema...\n",
      "2025-08-05 09:43:29,824 - api.database.duckdb_schema - INFO - Validating schema...\n",
      "2025-08-05 09:43:29,824 - api.database.duckdb_schema - INFO - Validating schema...\n",
      "2025-08-05 09:43:29,866 - api.database.duckdb_schema - INFO - Table documents has 14 columns\n",
      "2025-08-05 09:43:29,866 - api.database.duckdb_schema - INFO - Table documents has 14 columns\n",
      "2025-08-05 09:43:29,866 - api.database.duckdb_schema - INFO - Table documents has 14 columns\n",
      "2025-08-05 09:43:29,870 - api.database.duckdb_schema - INFO - Table citations has 5 columns\n",
      "2025-08-05 09:43:29,870 - api.database.duckdb_schema - INFO - Table citations has 5 columns\n",
      "2025-08-05 09:43:29,870 - api.database.duckdb_schema - INFO - Table citations has 5 columns\n",
      "2025-08-05 09:43:29,873 - api.database.duckdb_schema - INFO - Table chunks has 6 columns\n",
      "2025-08-05 09:43:29,873 - api.database.duckdb_schema - INFO - Table chunks has 6 columns\n",
      "2025-08-05 09:43:29,873 - api.database.duckdb_schema - INFO - Table chunks has 6 columns\n",
      "2025-08-05 09:43:29,877 - api.database.duckdb_schema - INFO - Table datasets has 11 columns\n",
      "2025-08-05 09:43:29,877 - api.database.duckdb_schema - INFO - Table datasets has 11 columns\n",
      "2025-08-05 09:43:29,877 - api.database.duckdb_schema - INFO - Table datasets has 11 columns\n",
      "2025-08-05 09:43:29,880 - api.database.duckdb_schema - INFO - Table engineered_feature_values has 6 columns\n",
      "2025-08-05 09:43:29,880 - api.database.duckdb_schema - INFO - Table engineered_feature_values has 6 columns\n",
      "2025-08-05 09:43:29,880 - api.database.duckdb_schema - INFO - Table engineered_feature_values has 6 columns\n",
      "2025-08-05 09:43:29,882 - api.database.duckdb_schema - INFO - Schema validation completed successfully\n",
      "2025-08-05 09:43:29,882 - api.database.duckdb_schema - INFO - Schema validation completed successfully\n",
      "2025-08-05 09:43:29,882 - api.database.duckdb_schema - INFO - Schema validation completed successfully\n",
      "2025-08-05 09:43:29,884 - src.helpers - INFO - DuckDB schema initialization completed successfully\n",
      "2025-08-05 09:43:29,884 - src.helpers - INFO - DuckDB schema initialization completed successfully\n",
      "2025-08-05 09:43:29,884 - src.helpers - INFO - DuckDB schema initialization completed successfully\n",
      "2025-08-05 09:43:29,887 - api.database.duckdb_schema - INFO - Database connection closed\n",
      "2025-08-05 09:43:29,887 - api.database.duckdb_schema - INFO - Database connection closed\n",
      "2025-08-05 09:43:29,887 - api.database.duckdb_schema - INFO - Database connection closed\n"
     ]
    }
   ],
   "source": [
    "reduce = Reducer()"
   ]
  },
  {
   "cell_type": "code",
   "execution_count": 4,
   "id": "96ce9389",
   "metadata": {},
   "outputs": [],
   "source": [
    "# data = reduce.load_datasets_from_duckdb()\n",
    "# len(data)"
   ]
  },
  {
   "cell_type": "code",
   "execution_count": 5,
   "id": "9f7d1b81",
   "metadata": {},
   "outputs": [],
   "source": [
    "# from api.utils.duckdb_utils import DuckDBHelper\n",
    "\n",
    "# db_helper = DuckDBHelper()"
   ]
  },
  {
   "cell_type": "code",
   "execution_count": 6,
   "id": "c81b27aa",
   "metadata": {},
   "outputs": [],
   "source": [
    "# db_helper.get_database_stats()"
   ]
  },
  {
   "cell_type": "code",
   "execution_count": 7,
   "id": "a176a3ca",
   "metadata": {},
   "outputs": [],
   "source": [
    "# data = db_helper.get_all_datasets()\n",
    "# len(data)"
   ]
  },
  {
   "cell_type": "code",
   "execution_count": 8,
   "id": "20d3309b",
   "metadata": {},
   "outputs": [
    {
     "name": "stderr",
     "output_type": "stream",
     "text": [
      "2025-08-05 09:43:44,762 - api.database.duckdb_schema - INFO - Starting DuckDB schema creation...\n",
      "2025-08-05 09:43:44,762 - api.database.duckdb_schema - INFO - Starting DuckDB schema creation...\n",
      "2025-08-05 09:43:44,762 - api.database.duckdb_schema - INFO - Starting DuckDB schema creation...\n",
      "2025-08-05 09:43:44,766 - api.database.duckdb_schema - INFO - Creating documents table...\n",
      "2025-08-05 09:43:44,766 - api.database.duckdb_schema - INFO - Creating documents table...\n",
      "2025-08-05 09:43:44,766 - api.database.duckdb_schema - INFO - Creating documents table...\n",
      "2025-08-05 09:43:44,770 - api.database.duckdb_schema - INFO - Documents table created successfully\n",
      "2025-08-05 09:43:44,770 - api.database.duckdb_schema - INFO - Documents table created successfully\n",
      "2025-08-05 09:43:44,770 - api.database.duckdb_schema - INFO - Documents table created successfully\n",
      "2025-08-05 09:43:44,772 - api.database.duckdb_schema - INFO - Creating citations table...\n",
      "2025-08-05 09:43:44,772 - api.database.duckdb_schema - INFO - Creating citations table...\n",
      "2025-08-05 09:43:44,772 - api.database.duckdb_schema - INFO - Creating citations table...\n",
      "2025-08-05 09:43:44,776 - api.database.duckdb_schema - INFO - Citations table created successfully\n",
      "2025-08-05 09:43:44,776 - api.database.duckdb_schema - INFO - Citations table created successfully\n",
      "2025-08-05 09:43:44,776 - api.database.duckdb_schema - INFO - Citations table created successfully\n",
      "2025-08-05 09:43:44,779 - api.database.duckdb_schema - INFO - Creating chunks table...\n",
      "2025-08-05 09:43:44,779 - api.database.duckdb_schema - INFO - Creating chunks table...\n",
      "2025-08-05 09:43:44,779 - api.database.duckdb_schema - INFO - Creating chunks table...\n",
      "2025-08-05 09:43:44,783 - api.database.duckdb_schema - INFO - Chunks table created successfully\n",
      "2025-08-05 09:43:44,783 - api.database.duckdb_schema - INFO - Chunks table created successfully\n",
      "2025-08-05 09:43:44,783 - api.database.duckdb_schema - INFO - Chunks table created successfully\n",
      "2025-08-05 09:43:44,786 - api.database.duckdb_schema - INFO - Creating datasets table...\n",
      "2025-08-05 09:43:44,786 - api.database.duckdb_schema - INFO - Creating datasets table...\n",
      "2025-08-05 09:43:44,786 - api.database.duckdb_schema - INFO - Creating datasets table...\n",
      "2025-08-05 09:43:44,792 - api.database.duckdb_schema - INFO - Datasets table created successfully\n",
      "2025-08-05 09:43:44,792 - api.database.duckdb_schema - INFO - Datasets table created successfully\n",
      "2025-08-05 09:43:44,792 - api.database.duckdb_schema - INFO - Datasets table created successfully\n",
      "2025-08-05 09:43:44,794 - api.database.duckdb_schema - INFO - Creating engineered_feature_values table...\n",
      "2025-08-05 09:43:44,794 - api.database.duckdb_schema - INFO - Creating engineered_feature_values table...\n",
      "2025-08-05 09:43:44,794 - api.database.duckdb_schema - INFO - Creating engineered_feature_values table...\n",
      "2025-08-05 09:43:44,798 - api.database.duckdb_schema - INFO - engineered_feature_values table created successfully\n",
      "2025-08-05 09:43:44,798 - api.database.duckdb_schema - INFO - engineered_feature_values table created successfully\n",
      "2025-08-05 09:43:44,798 - api.database.duckdb_schema - INFO - engineered_feature_values table created successfully\n",
      "2025-08-05 09:43:44,801 - api.database.duckdb_schema - INFO - Creating indexes...\n",
      "2025-08-05 09:43:44,801 - api.database.duckdb_schema - INFO - Creating indexes...\n",
      "2025-08-05 09:43:44,801 - api.database.duckdb_schema - INFO - Creating indexes...\n"
     ]
    },
    {
     "name": "stderr",
     "output_type": "stream",
     "text": [
      "2025-08-05 09:43:44,917 - api.database.duckdb_schema - INFO - Indexes created successfully\n",
      "2025-08-05 09:43:44,917 - api.database.duckdb_schema - INFO - Indexes created successfully\n",
      "2025-08-05 09:43:44,917 - api.database.duckdb_schema - INFO - Indexes created successfully\n",
      "2025-08-05 09:43:44,921 - api.database.duckdb_schema - INFO - DuckDB schema creation completed successfully\n",
      "2025-08-05 09:43:44,921 - api.database.duckdb_schema - INFO - DuckDB schema creation completed successfully\n",
      "2025-08-05 09:43:44,921 - api.database.duckdb_schema - INFO - DuckDB schema creation completed successfully\n",
      "2025-08-05 09:43:44,923 - api.database.duckdb_schema - INFO - Validating schema...\n",
      "2025-08-05 09:43:44,923 - api.database.duckdb_schema - INFO - Validating schema...\n",
      "2025-08-05 09:43:44,923 - api.database.duckdb_schema - INFO - Validating schema...\n",
      "2025-08-05 09:43:44,947 - api.database.duckdb_schema - INFO - Table documents has 14 columns\n",
      "2025-08-05 09:43:44,947 - api.database.duckdb_schema - INFO - Table documents has 14 columns\n",
      "2025-08-05 09:43:44,947 - api.database.duckdb_schema - INFO - Table documents has 14 columns\n",
      "2025-08-05 09:43:44,956 - api.database.duckdb_schema - INFO - Table citations has 5 columns\n",
      "2025-08-05 09:43:44,956 - api.database.duckdb_schema - INFO - Table citations has 5 columns\n",
      "2025-08-05 09:43:44,956 - api.database.duckdb_schema - INFO - Table citations has 5 columns\n",
      "2025-08-05 09:43:44,961 - api.database.duckdb_schema - INFO - Table chunks has 6 columns\n",
      "2025-08-05 09:43:44,961 - api.database.duckdb_schema - INFO - Table chunks has 6 columns\n",
      "2025-08-05 09:43:44,961 - api.database.duckdb_schema - INFO - Table chunks has 6 columns\n",
      "2025-08-05 09:43:44,965 - api.database.duckdb_schema - INFO - Table datasets has 11 columns\n",
      "2025-08-05 09:43:44,965 - api.database.duckdb_schema - INFO - Table datasets has 11 columns\n",
      "2025-08-05 09:43:44,965 - api.database.duckdb_schema - INFO - Table datasets has 11 columns\n",
      "2025-08-05 09:43:44,969 - api.database.duckdb_schema - INFO - Table engineered_feature_values has 6 columns\n",
      "2025-08-05 09:43:44,969 - api.database.duckdb_schema - INFO - Table engineered_feature_values has 6 columns\n",
      "2025-08-05 09:43:44,969 - api.database.duckdb_schema - INFO - Table engineered_feature_values has 6 columns\n",
      "2025-08-05 09:43:44,971 - api.database.duckdb_schema - INFO - Schema validation completed successfully\n",
      "2025-08-05 09:43:44,971 - api.database.duckdb_schema - INFO - Schema validation completed successfully\n",
      "2025-08-05 09:43:44,971 - api.database.duckdb_schema - INFO - Schema validation completed successfully\n",
      "2025-08-05 09:43:44,973 - src.helpers - INFO - DuckDB schema initialization completed successfully\n",
      "2025-08-05 09:43:44,973 - src.helpers - INFO - DuckDB schema initialization completed successfully\n",
      "2025-08-05 09:43:44,973 - src.helpers - INFO - DuckDB schema initialization completed successfully\n",
      "2025-08-05 09:43:44,976 - api.database.duckdb_schema - INFO - Database connection closed\n",
      "2025-08-05 09:43:44,976 - api.database.duckdb_schema - INFO - Database connection closed\n",
      "2025-08-05 09:43:44,976 - api.database.duckdb_schema - INFO - Database connection closed\n",
      "2025-08-05 09:43:44,978 - src.helpers - INFO - Loading datasets from DuckDB...\n",
      "2025-08-05 09:43:44,978 - src.helpers - INFO - Loading datasets from DuckDB...\n",
      "2025-08-05 09:43:44,978 - src.helpers - INFO - Loading datasets from DuckDB...\n",
      "2025-08-05 09:43:45,024 - src.helpers - INFO - Retrieved 487 datasets from database\n",
      "2025-08-05 09:43:45,024 - src.helpers - INFO - Retrieved 487 datasets from database\n",
      "2025-08-05 09:43:45,024 - src.helpers - INFO - Retrieved 487 datasets from database\n",
      "2025-08-05 09:43:45,027 - src.helpers - INFO - ✅ Successfully loaded 487 datasets from DuckDB\n",
      "2025-08-05 09:43:45,027 - src.helpers - INFO - ✅ Successfully loaded 487 datasets from DuckDB\n",
      "2025-08-05 09:43:45,027 - src.helpers - INFO - ✅ Successfully loaded 487 datasets from DuckDB\n",
      "2025-08-05 09:43:45,039 - src.helpers - INFO - Database connection closed\n",
      "2025-08-05 09:43:45,039 - src.helpers - INFO - Database connection closed\n",
      "2025-08-05 09:43:45,039 - src.helpers - INFO - Database connection closed\n"
     ]
    },
    {
     "name": "stdout",
     "output_type": "stream",
     "text": [
      "Using database: ../artifacts/mdc_challenge.db\n",
      "Found 487 datasets!\n",
      "First dataset: https://doi.org/10.11583/dtu.20555586\n"
     ]
    }
   ],
   "source": [
    "# Fix: Use the correct database path (go up one directory)\n",
    "correct_db_path = \"../artifacts/mdc_challenge.db\"\n",
    "reduce_fixed = Reducer(db_path=correct_db_path)\n",
    "\n",
    "print(f\"Using database: {correct_db_path}\")\n",
    "data_fixed = reduce_fixed.load_datasets_from_duckdb()\n",
    "print(f\"Found {len(data_fixed)} datasets!\")\n",
    "\n",
    "if len(data_fixed) > 0:\n",
    "    print(f\"First dataset: {data_fixed[0].dataset_id}\")\n"
   ]
  },
  {
   "cell_type": "code",
   "execution_count": 9,
   "id": "763ceb2b",
   "metadata": {},
   "outputs": [
    {
     "name": "stderr",
     "output_type": "stream",
     "text": [
      "2025-08-05 09:43:45,052 - src.helpers - INFO - Loading datasets from DuckDB...\n",
      "2025-08-05 09:43:45,052 - src.helpers - INFO - Loading datasets from DuckDB...\n",
      "2025-08-05 09:43:45,052 - src.helpers - INFO - Loading datasets from DuckDB...\n",
      "2025-08-05 09:43:45,058 - src.helpers - ERROR - Failed to retrieve datasets: Connection Error: Connection already closed!\n",
      "2025-08-05 09:43:45,058 - src.helpers - ERROR - Failed to retrieve datasets: Connection Error: Connection already closed!\n",
      "2025-08-05 09:43:45,058 - src.helpers - ERROR - Failed to retrieve datasets: Connection Error: Connection already closed!\n",
      "2025-08-05 09:43:45,061 - src.helpers - ERROR - Failed to load datasets from DuckDB: Database query failed: Connection Error: Connection already closed!\n",
      "2025-08-05 09:43:45,061 - src.helpers - ERROR - Failed to load datasets from DuckDB: Database query failed: Connection Error: Connection already closed!\n",
      "2025-08-05 09:43:45,061 - src.helpers - ERROR - Failed to load datasets from DuckDB: Database query failed: Connection Error: Connection already closed!\n"
     ]
    },
    {
     "ename": "TypeError",
     "evalue": "object of type 'NoneType' has no len()",
     "output_type": "error",
     "traceback": [
      "\u001b[31m---------------------------------------------------------------------------\u001b[39m",
      "\u001b[31mTypeError\u001b[39m                                 Traceback (most recent call last)",
      "\u001b[36mCell\u001b[39m\u001b[36m \u001b[39m\u001b[32mIn[9]\u001b[39m\u001b[32m, line 3\u001b[39m\n\u001b[32m      1\u001b[39m \u001b[38;5;66;03m# ✅ VERIFY: Check if cluster assignments are now working\u001b[39;00m\n\u001b[32m      2\u001b[39m data_with_clusters = reduce_fixed.load_datasets_from_duckdb()\n\u001b[32m----> \u001b[39m\u001b[32m3\u001b[39m \u001b[38;5;28mprint\u001b[39m(\u001b[33mf\u001b[39m\u001b[33m\"\u001b[39m\u001b[33mLoaded \u001b[39m\u001b[38;5;132;01m{\u001b[39;00m\u001b[38;5;28mlen\u001b[39m(data_with_clusters)\u001b[38;5;132;01m}\u001b[39;00m\u001b[33m datasets\u001b[39m\u001b[33m\"\u001b[39m)\n\u001b[32m      5\u001b[39m \u001b[38;5;66;03m# Check cluster distribution\u001b[39;00m\n\u001b[32m      6\u001b[39m cluster_counts = {}\n",
      "\u001b[31mTypeError\u001b[39m: object of type 'NoneType' has no len()"
     ]
    }
   ],
   "source": [
    "# ✅ VERIFY: Check if cluster assignments are now working\n",
    "data_with_clusters = reduce_fixed.load_datasets_from_duckdb()\n",
    "print(f\"Loaded {len(data_with_clusters)} datasets\")\n",
    "\n",
    "# Check cluster distribution\n",
    "cluster_counts = {}\n",
    "for dataset in data_with_clusters:\n",
    "    cluster = dataset.cluster or \"None\"\n",
    "    cluster_counts[cluster] = cluster_counts.get(cluster, 0) + 1\n",
    "\n",
    "print(f\"\\nCluster assignments:\")\n",
    "for cluster, count in sorted(cluster_counts.items()):\n",
    "    if cluster != \"None\":\n",
    "        print(f\"  {cluster}: {count} datasets\")\n",
    "\n",
    "print(f\"\\nFirst dataset:\")\n",
    "print(f\"  ID: {data_with_clusters[0].dataset_id}\")\n",
    "print(f\"  Cluster: {data_with_clusters[0].cluster}\")\n",
    "print(f\"  Type: {data_with_clusters[0].dataset_type}\")\n",
    "\n",
    "datasets_with_clusters = len([d for d in data_with_clusters if d.cluster is not None])\n",
    "print(f\"\\n🎉 SUCCESS: {datasets_with_clusters}/{len(data_with_clusters)} datasets have cluster assignments!\")\n"
   ]
  },
  {
   "cell_type": "code",
   "execution_count": 10,
   "id": "7354a922",
   "metadata": {},
   "outputs": [
    {
     "data": {
      "text/plain": [
       "Dataset(dataset_id='https://doi.org/10.11583/dtu.20555586', document_id='10.1016_j.fuel.2022.125768', total_tokens=1781, avg_tokens_per_chunk=593.6666870117188, total_char_length=6288, clean_text_length=6263, cluster='cluster_31', dataset_type='PRIMARY', text='(SOI), total λ, and ammonia energy. Increased intake temperature yielded shorter ignition delay for all cases. The cases with SOI = 20 CAD BTDC and λ = 1.1 showed little to no effect of intake temperature on the combustion efficiency. SOI = 30 CAD BTDC showed increased combustion efficiency with higher intake temperature, while λ = 1.3 showed a significantly lower combustion efficiency as the decreased ignition delay showed an increased gap between the combustion phases. [10] Mørch CS, et al. Ammonia/hydrogen mixtures in an SI-engine: Engine performance and analysis of a proposed fuel system. Fuel 2011;90(2):854–64. http: //dx.doi.org/10.1016/j.fuel.2010.09.042. [11] Stocker TF, et al. Climate change 2013: The physical science basis. Contribution of working group I to the fifth assessment report of the intergovernmental panel on climate change. 2013. [12] Dimitriou Pavlos, Javaid Rahat. A review of ammonia as a compression ignition engine fuel. Int J Hydrogen Energy 2020;45(11):7098–118. http://dx.doi.org/10. 1016/j.ijhydene.2019.12.209. [13] Gray James T, et al. Ammonia fuel engine compatibility and combustion. SAE Trans 1967;75:785–807. http://dx.doi.org/10.4271/660156. [14] Starkman ES, James GE, Newhall HK. Ammonia as a diesel engine fuel: Theory and application. SAE Trans 1968;76:3193–212. http://dx.doi.org/10. 4271/670946. CRediT authorship contribution statement [15] Garabedian Charles G, Johnson John H. The theory of operation of an ammonia burning internal combustion engine. Defense Technical Information Center; 1966. [16] Kobayashi Hideaki, et al. Science and technology of ammonia combustion. Proc Combust Inst 2019;37(1):109–33. http://dx.doi.org/10.1016/j.proci.2018. 09.029. Niels Førby: Software, Validation, Formal analysis, Data curation, Writing – original draft, Writing – review & editing, Visualization. Thomas B. Thomsen: Investigation. Rasmus F. Cordtz: Conceptualization, Resources, Project administration. Frantz Bræstrup: Investigation, Resources, Data curation. Jesper Schramm: Supervision, Funding acquisition. [17] Reiter Aaron J, Kong Song Charng. Demonstration of compression-ignition engine combustion using ammonia in reducing greenhouse gas emissions. Energy Fuels 2008. http://dx.doi.org/10.1021/ef800140f. [18] Reiter Aaron J, Kong Funding acquisition. [17] Reiter Aaron J, Kong Song Charng. Demonstration of compression-ignition engine combustion using ammonia in reducing greenhouse gas emissions. Energy Fuels 2008. http://dx.doi.org/10.1021/ef800140f. [18] Reiter Aaron J, Kong Song Charng. Combustion and emissions characterfuel. Fuel istics of compression-ignition engine using dual ammonia-diesel 2011;90(1):87–97. http://dx.doi.org/10.1016/j.fuel.2010.07.055. Declaration of competing interest [19] Frost James, et al. An experimental and modelling study of dual fuel aqueous ammonia and diesel combustion in a single cylinder compression ignition engine. Int J Hydrogen Energy 2021;46(71):35495–510. http://dx.doi.org/10.1016/j. ijhydene.2021.08.089. The authors declare the following financial interests/personal relationships which may be considered as potential competing interests: Jesper Schramm reports financial support was provided by The Danish Maritime Fund. Jesper Schramm reports financial support was provided by Danish Energy Agency. [20] Gross Christopher W, Kong Song Charng. Performance characteristics of a compression-ignition engine using direct-injection ammonia-DME mixtures. Fuel 2013;103:1069–79. http://dx.doi.org/10.1016/j.fuel.2012.08.026. [21] Ryu Kyung Hyun, Zacharakis-Jutz George, Kong Song-Charng. Effects of fuel compositions on diesel engine performance using ammonia-DME mixtures. SAE technical papers 2, 2013, http://dx.doi.org/10.4271/2013-01-1133. Data availability [22] Mounaïm-Rousselle Christine, et al. Performance of ammonia fuel in a spark assisted compression ignition engine. Int J Engine Res 2021;1–12. http://dx.doi. org/10.1177/14680874211038726. The experimental data used for the results is freely available in a [23] Tat Mustafaa E, Van Gerpen Jon H. The kinematic viscosity of biodiesel and its blends with diesel fuel. JAOCS J Am Oil Chem Soc 1999;76(12):1511–3. http://dx.doi.org/10.1007/s11746-999-0194-0. repository at: <DATASET_ID>.v2. [24] Haynes WM. CRC handbook of chemistry and physics. 92nd ed.. CRC Press; Acknowledgments 2011. [25] Dymond JH, Øye HA. Viscosity of selected liquid n-alkanes. J Phys Chem Ref Data 1994;23(May 2014). The authors are grateful for the EUDP and Danish Maritime Fund [26] European standard EN 590: Automotive fuels diesel requirements and test for financially supporting the research project. methods. European Committee for Standardization; 2009. Fuel331(2023)1257689 the EUDP and Danish Maritime Fund [26] European standard EN 590: Automotive fuels diesel requirements and test for financially supporting the research project. methods. European Committee for Standardization; 2009. Fuel331(2023)1257689 N. Førby et al. [31] Miller JA, Glarborg P. Modeling the thermal De-NOx process: Closing in on a final solution. Int J Chem Kinet 1999;31(11):757–65. http://dx.doi.org/10.1002/ (SICI)1097-4601(1999)31:11<757::AID-JCK1>3.0.CO;2-V. [32] Kasuya Fumihiko, et al. The thermal DeNOx process: [27] Yanowitz J, et al. Compendium of experimental cetane numbers compendium of experimental cetane numbers. 2017. [28] Savitzky Abraham, Golay Marcel JE. Smoothing and differentiation of data by simplified least squares procedures. 1964, p. 1627–39. http://dx.doi.org/10. 1021/ac60214a047. Influence of partial pressures and temperature. Chem Eng Sci 1995;50(9):1455–66. http://dx.doi. org/10.1016/0009-2509(95)00008-S. [29] Woschni G. A universally applicable equation for the instantaneous heat transfer coefficient in the internal combustion engine. SAE Trans 1967;76:3065–83. [30] Liu Rui, Ting David SK, Checkel M David. Ammonia as a fuel for SI engine. SAE [33] Aithal SM. Sensitivity of emissions to uncertainties in residual gas fraction measurements in automotive engines: A numerical study. J Combust 2018. http://dx.doi.org/10.1155/2018/7237849. technical papers 724, 2003, http://dx.doi.org/10.4271/2003-01-3095. [34] Heywood JB. Internal combustion engines fundamentals. McGraw-Hill Inc.; 1988.')"
      ]
     },
     "execution_count": 10,
     "metadata": {},
     "output_type": "execute_result"
    }
   ],
   "source": [
    "data_fixed[0]"
   ]
  },
  {
   "cell_type": "code",
   "execution_count": 11,
   "id": "3f29b20a",
   "metadata": {},
   "outputs": [
    {
     "data": {
      "text/plain": [
       "'cluster_0'"
      ]
     },
     "execution_count": 11,
     "metadata": {},
     "output_type": "execute_result"
    }
   ],
   "source": [
    "data_fixed[-1].cluster"
   ]
  },
  {
   "cell_type": "markdown",
   "id": "2b53f662",
   "metadata": {},
   "source": [
    "## UMAP"
   ]
  },
  {
   "cell_type": "code",
   "execution_count": 12,
   "id": "065183df",
   "metadata": {},
   "outputs": [
    {
     "name": "stderr",
     "output_type": "stream",
     "text": [
      "2025-08-05 09:43:58,774 - src.helpers - INFO - Loading embeddings with URL: http://localhost:8000/load_embeddings\n",
      "2025-08-05 09:43:58,774 - src.helpers - INFO - Loading embeddings with URL: http://localhost:8000/load_embeddings\n",
      "2025-08-05 09:43:58,774 - src.helpers - INFO - Loading embeddings with URL: http://localhost:8000/load_embeddings\n",
      "2025-08-05 09:43:58,777 - src.helpers - INFO - Using collection: dataset-aggregates-train\n",
      "2025-08-05 09:43:58,777 - src.helpers - INFO - Using collection: dataset-aggregates-train\n",
      "2025-08-05 09:43:58,777 - src.helpers - INFO - Using collection: dataset-aggregates-train\n",
      "2025-08-05 09:43:59,429 - src.helpers - INFO - ✅ Successfully loaded 3 embeddings\n",
      "2025-08-05 09:43:59,429 - src.helpers - INFO - ✅ Successfully loaded 3 embeddings\n",
      "2025-08-05 09:43:59,429 - src.helpers - INFO - ✅ Successfully loaded 3 embeddings\n"
     ]
    },
    {
     "data": {
      "text/plain": [
       "487"
      ]
     },
     "execution_count": 12,
     "metadata": {},
     "output_type": "execute_result"
    }
   ],
   "source": [
    "embeddings = reduce.load_embeddings_from_api()\n",
    "len(embeddings)"
   ]
  },
  {
   "cell_type": "code",
   "execution_count": 13,
   "id": "cf9046d1",
   "metadata": {},
   "outputs": [],
   "source": [
    "DEFAULT_N_NEIGHBORS = 15\n",
    "DEFAULT_MIN_DIST = 0.1\n",
    "DEFAULT_N_COMPONENTS = 2\n",
    "DEFAULT_RANDOM_SEED = 42"
   ]
  },
  {
   "cell_type": "code",
   "execution_count": 14,
   "id": "bd191f28",
   "metadata": {},
   "outputs": [
    {
     "name": "stderr",
     "output_type": "stream",
     "text": [
      "2025-08-05 09:44:07,617 - src.helpers - INFO - 🔄 Running UMAP reduction on 487 embeddings...\n",
      "2025-08-05 09:44:07,617 - src.helpers - INFO - 🔄 Running UMAP reduction on 487 embeddings...\n",
      "2025-08-05 09:44:07,617 - src.helpers - INFO - 🔄 Running UMAP reduction on 487 embeddings...\n",
      "2025-08-05 09:44:07,620 - src.helpers - INFO - Parameters: n_neighbors=15, min_dist=0.1, n_components=2, random_state=42\n",
      "2025-08-05 09:44:07,620 - src.helpers - INFO - Parameters: n_neighbors=15, min_dist=0.1, n_components=2, random_state=42\n",
      "2025-08-05 09:44:07,620 - src.helpers - INFO - Parameters: n_neighbors=15, min_dist=0.1, n_components=2, random_state=42\n",
      "2025-08-05 09:44:07,623 - src.helpers - INFO - Embedding matrix shape: (487, 384)\n",
      "2025-08-05 09:44:07,623 - src.helpers - INFO - Embedding matrix shape: (487, 384)\n",
      "2025-08-05 09:44:07,623 - src.helpers - INFO - Embedding matrix shape: (487, 384)\n"
     ]
    },
    {
     "name": "stdout",
     "output_type": "stream",
     "text": [
      "Executing run_umap_reduction...\n",
      "UMAP(n_jobs=1, random_state=42, verbose=True)\n",
      "Tue Aug  5 09:44:07 2025 Construct fuzzy simplicial set\n"
     ]
    },
    {
     "name": "stderr",
     "output_type": "stream",
     "text": [
      "/Users/taishajoseph/miniconda3/envs/mdc-challenge-2025/lib/python3.12/site-packages/umap/umap_.py:1952: UserWarning: n_jobs value 1 overridden to 1 by setting random_state. Use no seed for parallelism.\n",
      "  warn(\n"
     ]
    },
    {
     "name": "stdout",
     "output_type": "stream",
     "text": [
      "Tue Aug  5 09:44:08 2025 Finding Nearest Neighbors\n",
      "Tue Aug  5 09:44:13 2025 Finished Nearest Neighbor Search\n",
      "Tue Aug  5 09:44:16 2025 Construct embedding\n"
     ]
    },
    {
     "name": "stderr",
     "output_type": "stream",
     "text": [
      "Epochs completed:   7%| ▋          33/500 [00:01]"
     ]
    },
    {
     "name": "stdout",
     "output_type": "stream",
     "text": [
      "\tcompleted  0  /  500 epochs\n",
      "\tcompleted  50  /  500 epochs\n"
     ]
    },
    {
     "name": "stderr",
     "output_type": "stream",
     "text": [
      "Epochs completed:  31%| ███        155/500 [00:01]"
     ]
    },
    {
     "name": "stdout",
     "output_type": "stream",
     "text": [
      "\tcompleted  100  /  500 epochs\n",
      "\tcompleted  150  /  500 epochs\n"
     ]
    },
    {
     "name": "stderr",
     "output_type": "stream",
     "text": [
      "Epochs completed:  50%| █████      250/500 [00:01]"
     ]
    },
    {
     "name": "stdout",
     "output_type": "stream",
     "text": [
      "\tcompleted  200  /  500 epochs\n",
      "\tcompleted  250  /  500 epochs\n"
     ]
    },
    {
     "name": "stderr",
     "output_type": "stream",
     "text": [
      "Epochs completed:  69%| ██████▉    346/500 [00:02]"
     ]
    },
    {
     "name": "stdout",
     "output_type": "stream",
     "text": [
      "\tcompleted  300  /  500 epochs\n",
      "\tcompleted  350  /  500 epochs\n"
     ]
    },
    {
     "name": "stderr",
     "output_type": "stream",
     "text": [
      "Epochs completed:  88%| ████████▊  442/500 [00:02]"
     ]
    },
    {
     "name": "stdout",
     "output_type": "stream",
     "text": [
      "\tcompleted  400  /  500 epochs\n",
      "\tcompleted  450  /  500 epochs\n"
     ]
    },
    {
     "name": "stderr",
     "output_type": "stream",
     "text": [
      "Epochs completed: 100%| ██████████ 500/500 [00:02]\n",
      "2025-08-05 09:44:19,914 - src.helpers - INFO - UMAP embeddings shape: (487, 2)\n",
      "2025-08-05 09:44:19,914 - src.helpers - INFO - UMAP embeddings shape: (487, 2)\n",
      "2025-08-05 09:44:19,914 - src.helpers - INFO - UMAP embeddings shape: (487, 2)\n",
      "2025-08-05 09:44:19,917 - src.helpers - INFO - Saving UMAP features for 487 datasets to DuckDB...\n",
      "2025-08-05 09:44:19,917 - src.helpers - INFO - Saving UMAP features for 487 datasets to DuckDB...\n",
      "2025-08-05 09:44:19,917 - src.helpers - INFO - Saving UMAP features for 487 datasets to DuckDB...\n",
      "2025-08-05 09:44:19,920 - src.helpers - INFO - Loading datasets from DuckDB...\n",
      "2025-08-05 09:44:19,920 - src.helpers - INFO - Loading datasets from DuckDB...\n",
      "2025-08-05 09:44:19,920 - src.helpers - INFO - Loading datasets from DuckDB...\n",
      "2025-08-05 09:44:19,924 - src.helpers - INFO - Retrieved 0 datasets from database\n",
      "2025-08-05 09:44:19,924 - src.helpers - INFO - Retrieved 0 datasets from database\n",
      "2025-08-05 09:44:19,924 - src.helpers - INFO - Retrieved 0 datasets from database\n",
      "2025-08-05 09:44:19,926 - src.helpers - INFO - ✅ Successfully loaded 0 datasets from DuckDB\n",
      "2025-08-05 09:44:19,926 - src.helpers - INFO - ✅ Successfully loaded 0 datasets from DuckDB\n",
      "2025-08-05 09:44:19,926 - src.helpers - INFO - ✅ Successfully loaded 0 datasets from DuckDB\n",
      "2025-08-05 09:44:19,936 - src.helpers - INFO - Database connection closed\n",
      "2025-08-05 09:44:19,936 - src.helpers - INFO - Database connection closed\n",
      "2025-08-05 09:44:19,936 - src.helpers - INFO - Database connection closed\n",
      "2025-08-05 09:44:19,938 - src.helpers - WARNING - No EngineeredFeatures supplied for upsert.\n",
      "2025-08-05 09:44:19,938 - src.helpers - WARNING - No EngineeredFeatures supplied for upsert.\n",
      "2025-08-05 09:44:19,938 - src.helpers - WARNING - No EngineeredFeatures supplied for upsert.\n",
      "2025-08-05 09:44:19,942 - src.helpers - INFO - ✅ Successfully saved UMAP features for 0 datasets\n",
      "2025-08-05 09:44:19,942 - src.helpers - INFO - ✅ Successfully saved UMAP features for 0 datasets\n",
      "2025-08-05 09:44:19,942 - src.helpers - INFO - ✅ Successfully saved UMAP features for 0 datasets\n",
      "2025-08-05 09:44:19,946 - src.helpers - INFO - ✅ UMAP reduction completed successfully!\n",
      "2025-08-05 09:44:19,946 - src.helpers - INFO - ✅ UMAP reduction completed successfully!\n",
      "2025-08-05 09:44:19,946 - src.helpers - INFO - ✅ UMAP reduction completed successfully!\n"
     ]
    },
    {
     "name": "stdout",
     "output_type": "stream",
     "text": [
      "Tue Aug  5 09:44:19 2025 Finished embedding\n",
      "Function run_umap_reduction took 12.3325 seconds to complete.\n"
     ]
    }
   ],
   "source": [
    "res = reduce.run_umap_reduction(embeddings, n_neighbors=15, min_dist=0.1, n_components=2, random_seed=42)"
   ]
  },
  {
   "cell_type": "code",
   "execution_count": 15,
   "id": "3132fa9d",
   "metadata": {},
   "outputs": [
    {
     "name": "stderr",
     "output_type": "stream",
     "text": [
      "2025-08-05 09:44:22,698 - api.database.duckdb_schema - INFO - Starting DuckDB schema creation...\n",
      "2025-08-05 09:44:22,698 - api.database.duckdb_schema - INFO - Starting DuckDB schema creation...\n",
      "2025-08-05 09:44:22,698 - api.database.duckdb_schema - INFO - Starting DuckDB schema creation...\n"
     ]
    },
    {
     "name": "stderr",
     "output_type": "stream",
     "text": [
      "2025-08-05 09:44:22,719 - api.database.duckdb_schema - INFO - Creating documents table...\n",
      "2025-08-05 09:44:22,719 - api.database.duckdb_schema - INFO - Creating documents table...\n",
      "2025-08-05 09:44:22,719 - api.database.duckdb_schema - INFO - Creating documents table...\n",
      "2025-08-05 09:44:22,724 - api.database.duckdb_schema - INFO - Documents table created successfully\n",
      "2025-08-05 09:44:22,724 - api.database.duckdb_schema - INFO - Documents table created successfully\n",
      "2025-08-05 09:44:22,724 - api.database.duckdb_schema - INFO - Documents table created successfully\n",
      "2025-08-05 09:44:22,727 - api.database.duckdb_schema - INFO - Creating citations table...\n",
      "2025-08-05 09:44:22,727 - api.database.duckdb_schema - INFO - Creating citations table...\n",
      "2025-08-05 09:44:22,727 - api.database.duckdb_schema - INFO - Creating citations table...\n",
      "2025-08-05 09:44:22,731 - api.database.duckdb_schema - INFO - Citations table created successfully\n",
      "2025-08-05 09:44:22,731 - api.database.duckdb_schema - INFO - Citations table created successfully\n",
      "2025-08-05 09:44:22,731 - api.database.duckdb_schema - INFO - Citations table created successfully\n",
      "2025-08-05 09:44:22,734 - api.database.duckdb_schema - INFO - Creating chunks table...\n",
      "2025-08-05 09:44:22,734 - api.database.duckdb_schema - INFO - Creating chunks table...\n",
      "2025-08-05 09:44:22,734 - api.database.duckdb_schema - INFO - Creating chunks table...\n",
      "2025-08-05 09:44:22,739 - api.database.duckdb_schema - INFO - Chunks table created successfully\n",
      "2025-08-05 09:44:22,739 - api.database.duckdb_schema - INFO - Chunks table created successfully\n",
      "2025-08-05 09:44:22,739 - api.database.duckdb_schema - INFO - Chunks table created successfully\n",
      "2025-08-05 09:44:22,743 - api.database.duckdb_schema - INFO - Creating datasets table...\n",
      "2025-08-05 09:44:22,743 - api.database.duckdb_schema - INFO - Creating datasets table...\n",
      "2025-08-05 09:44:22,743 - api.database.duckdb_schema - INFO - Creating datasets table...\n",
      "2025-08-05 09:44:22,783 - api.database.duckdb_schema - INFO - Datasets table created successfully\n",
      "2025-08-05 09:44:22,783 - api.database.duckdb_schema - INFO - Datasets table created successfully\n",
      "2025-08-05 09:44:22,783 - api.database.duckdb_schema - INFO - Datasets table created successfully\n",
      "2025-08-05 09:44:22,786 - api.database.duckdb_schema - INFO - Creating engineered_feature_values table...\n",
      "2025-08-05 09:44:22,786 - api.database.duckdb_schema - INFO - Creating engineered_feature_values table...\n",
      "2025-08-05 09:44:22,786 - api.database.duckdb_schema - INFO - Creating engineered_feature_values table...\n",
      "2025-08-05 09:44:22,792 - api.database.duckdb_schema - INFO - engineered_feature_values table created successfully\n",
      "2025-08-05 09:44:22,792 - api.database.duckdb_schema - INFO - engineered_feature_values table created successfully\n",
      "2025-08-05 09:44:22,792 - api.database.duckdb_schema - INFO - engineered_feature_values table created successfully\n",
      "2025-08-05 09:44:22,795 - api.database.duckdb_schema - INFO - Creating indexes...\n",
      "2025-08-05 09:44:22,795 - api.database.duckdb_schema - INFO - Creating indexes...\n",
      "2025-08-05 09:44:22,795 - api.database.duckdb_schema - INFO - Creating indexes...\n",
      "2025-08-05 09:44:22,801 - api.database.duckdb_schema - INFO - Indexes created successfully\n",
      "2025-08-05 09:44:22,801 - api.database.duckdb_schema - INFO - Indexes created successfully\n",
      "2025-08-05 09:44:22,801 - api.database.duckdb_schema - INFO - Indexes created successfully\n",
      "2025-08-05 09:44:22,904 - api.database.duckdb_schema - INFO - DuckDB schema creation completed successfully\n",
      "2025-08-05 09:44:22,904 - api.database.duckdb_schema - INFO - DuckDB schema creation completed successfully\n",
      "2025-08-05 09:44:22,904 - api.database.duckdb_schema - INFO - DuckDB schema creation completed successfully\n",
      "2025-08-05 09:44:22,907 - api.database.duckdb_schema - INFO - Validating schema...\n",
      "2025-08-05 09:44:22,907 - api.database.duckdb_schema - INFO - Validating schema...\n",
      "2025-08-05 09:44:22,907 - api.database.duckdb_schema - INFO - Validating schema...\n",
      "2025-08-05 09:44:22,961 - api.database.duckdb_schema - INFO - Table documents has 14 columns\n",
      "2025-08-05 09:44:22,961 - api.database.duckdb_schema - INFO - Table documents has 14 columns\n",
      "2025-08-05 09:44:22,961 - api.database.duckdb_schema - INFO - Table documents has 14 columns\n",
      "2025-08-05 09:44:22,977 - api.database.duckdb_schema - INFO - Table citations has 5 columns\n",
      "2025-08-05 09:44:22,977 - api.database.duckdb_schema - INFO - Table citations has 5 columns\n",
      "2025-08-05 09:44:22,977 - api.database.duckdb_schema - INFO - Table citations has 5 columns\n",
      "2025-08-05 09:44:22,981 - api.database.duckdb_schema - INFO - Table chunks has 6 columns\n",
      "2025-08-05 09:44:22,981 - api.database.duckdb_schema - INFO - Table chunks has 6 columns\n",
      "2025-08-05 09:44:22,981 - api.database.duckdb_schema - INFO - Table chunks has 6 columns\n",
      "2025-08-05 09:44:22,985 - api.database.duckdb_schema - INFO - Table datasets has 11 columns\n",
      "2025-08-05 09:44:22,985 - api.database.duckdb_schema - INFO - Table datasets has 11 columns\n",
      "2025-08-05 09:44:22,985 - api.database.duckdb_schema - INFO - Table datasets has 11 columns\n",
      "2025-08-05 09:44:22,988 - api.database.duckdb_schema - INFO - Table engineered_feature_values has 6 columns\n",
      "2025-08-05 09:44:22,988 - api.database.duckdb_schema - INFO - Table engineered_feature_values has 6 columns\n",
      "2025-08-05 09:44:22,988 - api.database.duckdb_schema - INFO - Table engineered_feature_values has 6 columns\n",
      "2025-08-05 09:44:22,991 - api.database.duckdb_schema - INFO - Schema validation completed successfully\n",
      "2025-08-05 09:44:22,991 - api.database.duckdb_schema - INFO - Schema validation completed successfully\n",
      "2025-08-05 09:44:22,991 - api.database.duckdb_schema - INFO - Schema validation completed successfully\n",
      "2025-08-05 09:44:22,994 - src.helpers - INFO - DuckDB schema initialization completed successfully\n",
      "2025-08-05 09:44:22,994 - src.helpers - INFO - DuckDB schema initialization completed successfully\n",
      "2025-08-05 09:44:22,994 - src.helpers - INFO - DuckDB schema initialization completed successfully\n",
      "2025-08-05 09:44:23,001 - api.database.duckdb_schema - INFO - Database connection closed\n",
      "2025-08-05 09:44:23,001 - api.database.duckdb_schema - INFO - Database connection closed\n",
      "2025-08-05 09:44:23,001 - api.database.duckdb_schema - INFO - Database connection closed\n",
      "2025-08-05 09:44:23,004 - src.helpers - INFO - 🔄 Running UMAP reduction on 487 embeddings...\n",
      "2025-08-05 09:44:23,004 - src.helpers - INFO - 🔄 Running UMAP reduction on 487 embeddings...\n",
      "2025-08-05 09:44:23,004 - src.helpers - INFO - 🔄 Running UMAP reduction on 487 embeddings...\n",
      "2025-08-05 09:44:23,007 - src.helpers - INFO - Parameters: n_neighbors=15, min_dist=0.1, n_components=2, random_state=42\n",
      "2025-08-05 09:44:23,007 - src.helpers - INFO - Parameters: n_neighbors=15, min_dist=0.1, n_components=2, random_state=42\n",
      "2025-08-05 09:44:23,007 - src.helpers - INFO - Parameters: n_neighbors=15, min_dist=0.1, n_components=2, random_state=42\n",
      "2025-08-05 09:44:23,011 - src.helpers - INFO - Embedding matrix shape: (487, 384)\n",
      "2025-08-05 09:44:23,011 - src.helpers - INFO - Embedding matrix shape: (487, 384)\n",
      "2025-08-05 09:44:23,011 - src.helpers - INFO - Embedding matrix shape: (487, 384)\n",
      "/Users/taishajoseph/miniconda3/envs/mdc-challenge-2025/lib/python3.12/site-packages/umap/umap_.py:1952: UserWarning: n_jobs value 1 overridden to 1 by setting random_state. Use no seed for parallelism.\n",
      "  warn(\n"
     ]
    },
    {
     "name": "stdout",
     "output_type": "stream",
     "text": [
      "Fresh reducer with 487 pre-loaded datasets\n",
      "Executing run_umap_reduction...\n",
      "UMAP(n_jobs=1, random_state=42, verbose=True)\n",
      "Tue Aug  5 09:44:23 2025 Construct fuzzy simplicial set\n",
      "Tue Aug  5 09:44:23 2025 Finding Nearest Neighbors\n",
      "Tue Aug  5 09:44:23 2025 Finished Nearest Neighbor Search\n",
      "Tue Aug  5 09:44:23 2025 Construct embedding\n"
     ]
    },
    {
     "name": "stderr",
     "output_type": "stream",
     "text": [
      "Epochs completed:   5%| ▌          25/500 [00:00]"
     ]
    },
    {
     "name": "stdout",
     "output_type": "stream",
     "text": [
      "\tcompleted  0  /  500 epochs\n"
     ]
    },
    {
     "name": "stderr",
     "output_type": "stream",
     "text": [
      "Epochs completed:  10%| █          51/500 [00:00]"
     ]
    },
    {
     "name": "stdout",
     "output_type": "stream",
     "text": [
      "\tcompleted  50  /  500 epochs\n"
     ]
    },
    {
     "name": "stderr",
     "output_type": "stream",
     "text": [
      "Epochs completed:  16%| █▋         82/500 [00:00]"
     ]
    },
    {
     "name": "stdout",
     "output_type": "stream",
     "text": [
      "\tcompleted  100  /  500 epochs\n"
     ]
    },
    {
     "name": "stderr",
     "output_type": "stream",
     "text": [
      "Epochs completed:  29%| ██▉        144/500 [00:00]"
     ]
    },
    {
     "name": "stdout",
     "output_type": "stream",
     "text": [
      "\tcompleted  150  /  500 epochs\n"
     ]
    },
    {
     "name": "stderr",
     "output_type": "stream",
     "text": [
      "Epochs completed:  41%| ████▏      207/500 [00:00]"
     ]
    },
    {
     "name": "stdout",
     "output_type": "stream",
     "text": [
      "\tcompleted  200  /  500 epochs\n"
     ]
    },
    {
     "name": "stderr",
     "output_type": "stream",
     "text": [
      "Epochs completed:  48%| ████▊      238/500 [00:00]"
     ]
    },
    {
     "name": "stdout",
     "output_type": "stream",
     "text": [
      "\tcompleted  250  /  500 epochs\n"
     ]
    },
    {
     "name": "stderr",
     "output_type": "stream",
     "text": [
      "Epochs completed:  60%| ██████     301/500 [00:01]"
     ]
    },
    {
     "name": "stdout",
     "output_type": "stream",
     "text": [
      "\tcompleted  300  /  500 epochs\n"
     ]
    },
    {
     "name": "stderr",
     "output_type": "stream",
     "text": [
      "Epochs completed:  67%| ██████▋    333/500 [00:01]"
     ]
    },
    {
     "name": "stdout",
     "output_type": "stream",
     "text": [
      "\tcompleted  350  /  500 epochs\n"
     ]
    },
    {
     "name": "stderr",
     "output_type": "stream",
     "text": [
      "Epochs completed:  79%| ███████▉   395/500 [00:01]"
     ]
    },
    {
     "name": "stdout",
     "output_type": "stream",
     "text": [
      "\tcompleted  400  /  500 epochs\n"
     ]
    },
    {
     "name": "stderr",
     "output_type": "stream",
     "text": [
      "Epochs completed:  92%| █████████▏ 458/500 [00:01]"
     ]
    },
    {
     "name": "stdout",
     "output_type": "stream",
     "text": [
      "\tcompleted  450  /  500 epochs\n"
     ]
    },
    {
     "name": "stderr",
     "output_type": "stream",
     "text": [
      "Epochs completed: 100%| ██████████ 500/500 [00:01]\n",
      "2025-08-05 09:44:25,000 - src.helpers - INFO - UMAP embeddings shape: (487, 2)\n",
      "2025-08-05 09:44:25,000 - src.helpers - INFO - UMAP embeddings shape: (487, 2)\n",
      "2025-08-05 09:44:25,000 - src.helpers - INFO - UMAP embeddings shape: (487, 2)\n",
      "2025-08-05 09:44:25,003 - src.helpers - INFO - Saving UMAP features for 487 datasets to DuckDB...\n",
      "2025-08-05 09:44:25,003 - src.helpers - INFO - Saving UMAP features for 487 datasets to DuckDB...\n",
      "2025-08-05 09:44:25,003 - src.helpers - INFO - Saving UMAP features for 487 datasets to DuckDB...\n"
     ]
    },
    {
     "name": "stdout",
     "output_type": "stream",
     "text": [
      "Tue Aug  5 09:44:24 2025 Finished embedding\n"
     ]
    },
    {
     "name": "stderr",
     "output_type": "stream",
     "text": [
      "2025-08-05 09:44:25,085 - src.helpers - INFO - ✅ Upserted 1461 feature rows.\n",
      "2025-08-05 09:44:25,085 - src.helpers - INFO - ✅ Upserted 1461 feature rows.\n",
      "2025-08-05 09:44:25,085 - src.helpers - INFO - ✅ Upserted 1461 feature rows.\n",
      "2025-08-05 09:44:25,088 - src.helpers - INFO - ✅ Successfully saved UMAP features for 487 datasets\n",
      "2025-08-05 09:44:25,088 - src.helpers - INFO - ✅ Successfully saved UMAP features for 487 datasets\n",
      "2025-08-05 09:44:25,088 - src.helpers - INFO - ✅ Successfully saved UMAP features for 487 datasets\n",
      "2025-08-05 09:44:25,091 - src.helpers - INFO - ✅ UMAP reduction completed successfully!\n",
      "2025-08-05 09:44:25,091 - src.helpers - INFO - ✅ UMAP reduction completed successfully!\n",
      "2025-08-05 09:44:25,091 - src.helpers - INFO - ✅ UMAP reduction completed successfully!\n"
     ]
    },
    {
     "name": "stdout",
     "output_type": "stream",
     "text": [
      "Function run_umap_reduction took 2.0901 seconds to complete.\n"
     ]
    }
   ],
   "source": [
    "# Fix: Create fresh Reducer with active database connection and pre-loaded datasets\n",
    "fresh_reducer = Reducer(db_path=\"../artifacts/mdc_challenge.db\")\n",
    "fresh_reducer.datasets = data_fixed  # Pre-load datasets to avoid connection issues\n",
    "print(f\"Fresh reducer with {len(fresh_reducer.datasets)} pre-loaded datasets\")\n",
    "\n",
    "# Run UMAP reduction with fresh connection\n",
    "res = fresh_reducer.run_umap_reduction(embeddings, n_neighbors=15, min_dist=0.1, n_components=2, random_seed=42)\n"
   ]
  },
  {
   "cell_type": "code",
   "execution_count": 21,
   "id": "3ab73622",
   "metadata": {},
   "outputs": [
    {
     "data": {
      "text/html": [
       "<div>\n",
       "<style scoped>\n",
       "    .dataframe tbody tr th:only-of-type {\n",
       "        vertical-align: middle;\n",
       "    }\n",
       "\n",
       "    .dataframe tbody tr th {\n",
       "        vertical-align: top;\n",
       "    }\n",
       "\n",
       "    .dataframe thead th {\n",
       "        text-align: right;\n",
       "    }\n",
       "</style>\n",
       "<table border=\"1\" class=\"dataframe\">\n",
       "  <thead>\n",
       "    <tr style=\"text-align: right;\">\n",
       "      <th></th>\n",
       "      <th>https://doi.org/10.11583/dtu.20555586</th>\n",
       "      <th>https://doi.org/10.5281/zenodo.8014150</th>\n",
       "      <th>ENSOARG00000003950</th>\n",
       "      <th>ENSOARG00000012128</th>\n",
       "      <th>ENSOARG00000012835</th>\n",
       "      <th>ENSOARG00000013782</th>\n",
       "      <th>ENSOARG00000013966</th>\n",
       "      <th>ENSOARG00000014129</th>\n",
       "      <th>IPR000264</th>\n",
       "      <th>IPR002172</th>\n",
       "      <th>...</th>\n",
       "      <th>https://doi.org/10.3334/cdiac/otg.ndp093_glodapv2</th>\n",
       "      <th>https://doi.org/10.6096/aeroclo.1754</th>\n",
       "      <th>https://doi.org/10.6096/aeroclo.1774</th>\n",
       "      <th>https://doi.org/10.6096/aeroclo.1777</th>\n",
       "      <th>https://doi.org/10.22033/esgf/cmip6.10843</th>\n",
       "      <th>https://doi.org/10.22033/esgf/cmip6.1621</th>\n",
       "      <th>https://doi.org/10.5066/f72j69rm</th>\n",
       "      <th>https://doi.org/10.15468/dl.a2a348</th>\n",
       "      <th>https://doi.org/10.15468/dl.k8zeq6</th>\n",
       "      <th>https://doi.org/10.6078/d1k419</th>\n",
       "    </tr>\n",
       "  </thead>\n",
       "  <tbody>\n",
       "    <tr>\n",
       "      <th>0</th>\n",
       "      <td>-1.063002</td>\n",
       "      <td>0.071780</td>\n",
       "      <td>15.439142</td>\n",
       "      <td>15.362676</td>\n",
       "      <td>15.370353</td>\n",
       "      <td>15.398797</td>\n",
       "      <td>15.474799</td>\n",
       "      <td>15.360785</td>\n",
       "      <td>15.414920</td>\n",
       "      <td>15.416587</td>\n",
       "      <td>...</td>\n",
       "      <td>-2.539927</td>\n",
       "      <td>-2.434039</td>\n",
       "      <td>-1.807289</td>\n",
       "      <td>-1.789501</td>\n",
       "      <td>-1.459544</td>\n",
       "      <td>-1.530011</td>\n",
       "      <td>-3.715612</td>\n",
       "      <td>0.809914</td>\n",
       "      <td>0.818113</td>\n",
       "      <td>16.181887</td>\n",
       "    </tr>\n",
       "    <tr>\n",
       "      <th>1</th>\n",
       "      <td>8.429094</td>\n",
       "      <td>6.147533</td>\n",
       "      <td>3.243534</td>\n",
       "      <td>3.167108</td>\n",
       "      <td>3.174784</td>\n",
       "      <td>3.203144</td>\n",
       "      <td>3.279197</td>\n",
       "      <td>3.165289</td>\n",
       "      <td>3.219518</td>\n",
       "      <td>3.221028</td>\n",
       "      <td>...</td>\n",
       "      <td>8.192834</td>\n",
       "      <td>8.431552</td>\n",
       "      <td>7.964184</td>\n",
       "      <td>8.015128</td>\n",
       "      <td>8.265787</td>\n",
       "      <td>8.222087</td>\n",
       "      <td>6.940701</td>\n",
       "      <td>10.242290</td>\n",
       "      <td>10.252625</td>\n",
       "      <td>-9.430162</td>\n",
       "    </tr>\n",
       "  </tbody>\n",
       "</table>\n",
       "<p>2 rows × 487 columns</p>\n",
       "</div>"
      ],
      "text/plain": [
       "   https://doi.org/10.11583/dtu.20555586  \\\n",
       "0                              -1.063002   \n",
       "1                               8.429094   \n",
       "\n",
       "   https://doi.org/10.5281/zenodo.8014150  ENSOARG00000003950  \\\n",
       "0                                0.071780           15.439142   \n",
       "1                                6.147533            3.243534   \n",
       "\n",
       "   ENSOARG00000012128  ENSOARG00000012835  ENSOARG00000013782  \\\n",
       "0           15.362676           15.370353           15.398797   \n",
       "1            3.167108            3.174784            3.203144   \n",
       "\n",
       "   ENSOARG00000013966  ENSOARG00000014129  IPR000264  IPR002172  ...  \\\n",
       "0           15.474799           15.360785  15.414920  15.416587  ...   \n",
       "1            3.279197            3.165289   3.219518   3.221028  ...   \n",
       "\n",
       "   https://doi.org/10.3334/cdiac/otg.ndp093_glodapv2  \\\n",
       "0                                          -2.539927   \n",
       "1                                           8.192834   \n",
       "\n",
       "   https://doi.org/10.6096/aeroclo.1754  https://doi.org/10.6096/aeroclo.1774  \\\n",
       "0                             -2.434039                             -1.807289   \n",
       "1                              8.431552                              7.964184   \n",
       "\n",
       "   https://doi.org/10.6096/aeroclo.1777  \\\n",
       "0                             -1.789501   \n",
       "1                              8.015128   \n",
       "\n",
       "   https://doi.org/10.22033/esgf/cmip6.10843  \\\n",
       "0                                  -1.459544   \n",
       "1                                   8.265787   \n",
       "\n",
       "   https://doi.org/10.22033/esgf/cmip6.1621  https://doi.org/10.5066/f72j69rm  \\\n",
       "0                                 -1.530011                         -3.715612   \n",
       "1                                  8.222087                          6.940701   \n",
       "\n",
       "   https://doi.org/10.15468/dl.a2a348  https://doi.org/10.15468/dl.k8zeq6  \\\n",
       "0                            0.809914                            0.818113   \n",
       "1                           10.242290                           10.252625   \n",
       "\n",
       "   https://doi.org/10.6078/d1k419  \n",
       "0                       16.181887  \n",
       "1                       -9.430162  \n",
       "\n",
       "[2 rows x 487 columns]"
      ]
     },
     "execution_count": 21,
     "metadata": {},
     "output_type": "execute_result"
    }
   ],
   "source": [
    "import pandas as pd\n",
    "\n",
    "res_df = pd.DataFrame(res)\n",
    "res_df"
   ]
  },
  {
   "cell_type": "markdown",
   "id": "891b736a",
   "metadata": {},
   "source": [
    "## PCA"
   ]
  },
  {
   "cell_type": "code",
   "execution_count": 24,
   "id": "865dc568",
   "metadata": {},
   "outputs": [
    {
     "name": "stderr",
     "output_type": "stream",
     "text": [
      "2025-08-05 10:07:14,923 - src.helpers - INFO - 🔄 Running per-cluster PCA...\n",
      "2025-08-05 10:07:14,923 - src.helpers - INFO - 🔄 Running per-cluster PCA...\n",
      "2025-08-05 10:07:14,923 - src.helpers - INFO - 🔄 Running per-cluster PCA...\n",
      "2025-08-05 10:07:14,927 - src.helpers - INFO - Found 487 datasets with cluster assignments\n",
      "2025-08-05 10:07:14,927 - src.helpers - INFO - Found 487 datasets with cluster assignments\n",
      "2025-08-05 10:07:14,927 - src.helpers - INFO - Found 487 datasets with cluster assignments\n",
      "2025-08-05 10:07:14,930 - src.helpers - INFO - Processing 48 clusters\n",
      "2025-08-05 10:07:14,930 - src.helpers - INFO - Processing 48 clusters\n",
      "2025-08-05 10:07:14,930 - src.helpers - INFO - Processing 48 clusters\n",
      "2025-08-05 10:07:14,934 - src.helpers - INFO - Running PCA on 48 valid clusters in parallel\n",
      "2025-08-05 10:07:14,934 - src.helpers - INFO - Running PCA on 48 valid clusters in parallel\n",
      "2025-08-05 10:07:14,934 - src.helpers - INFO - Running PCA on 48 valid clusters in parallel\n",
      "2025-08-05 10:07:14,941 - src.helpers - INFO - Running PCA on cluster cluster_31 with 2 datasets\n",
      "2025-08-05 10:07:14,942 - src.helpers - INFO - Running PCA on cluster cluster_0 with 81 datasets\n",
      "2025-08-05 10:07:14,941 - src.helpers - INFO - Running PCA on cluster cluster_31 with 2 datasets\n",
      "2025-08-05 10:07:14,941 - src.helpers - INFO - Running PCA on cluster cluster_31 with 2 datasets\n",
      "2025-08-05 10:07:14,943 - src.helpers - INFO - Running PCA on cluster cluster_17 with 11 datasets\n",
      "2025-08-05 10:07:14,942 - src.helpers - INFO - Running PCA on cluster cluster_0 with 81 datasets\n",
      "2025-08-05 10:07:14,944 - src.helpers - INFO - Running PCA on cluster cluster_6 with 23 datasets\n",
      "2025-08-05 10:07:14,943 - src.helpers - INFO - Running PCA on cluster cluster_17 with 11 datasets\n",
      "2025-08-05 10:07:14,942 - src.helpers - INFO - Running PCA on cluster cluster_0 with 81 datasets\n",
      "2025-08-05 10:07:14,945 - src.helpers - INFO - Running PCA on cluster cluster_19 with 6 datasets\n",
      "2025-08-05 10:07:14,943 - src.helpers - INFO - Running PCA on cluster cluster_17 with 11 datasets\n",
      "2025-08-05 10:07:14,944 - src.helpers - INFO - Running PCA on cluster cluster_6 with 23 datasets\n",
      "2025-08-05 10:07:14,945 - src.helpers - INFO - Running PCA on cluster cluster_35 with 2 datasets\n",
      "2025-08-05 10:07:14,944 - src.helpers - INFO - Running PCA on cluster cluster_6 with 23 datasets\n",
      "2025-08-05 10:07:14,945 - src.helpers - INFO - Running PCA on cluster cluster_19 with 6 datasets\n",
      "2025-08-05 10:07:14,946 - src.helpers - INFO - Running PCA on cluster cluster_26 with 3 datasets\n",
      "2025-08-05 10:07:14,945 - src.helpers - INFO - Running PCA on cluster cluster_35 with 2 datasets\n",
      "2025-08-05 10:07:14,945 - src.helpers - INFO - Running PCA on cluster cluster_19 with 6 datasets\n",
      "2025-08-05 10:07:14,946 - src.helpers - INFO - Running PCA on cluster cluster_11 with 15 datasets\n",
      "2025-08-05 10:07:14,946 - src.helpers - INFO - Running PCA on cluster cluster_26 with 3 datasets\n",
      "2025-08-05 10:07:14,945 - src.helpers - INFO - Running PCA on cluster cluster_35 with 2 datasets\n",
      "2025-08-05 10:07:14,952 - src.helpers - INFO - Cluster cluster_31: PC1 explained variance = 1.000\n",
      "2025-08-05 10:07:14,946 - src.helpers - INFO - Running PCA on cluster cluster_26 with 3 datasets\n",
      "2025-08-05 10:07:14,946 - src.helpers - INFO - Running PCA on cluster cluster_11 with 15 datasets\n",
      "2025-08-05 10:07:14,961 - src.helpers - INFO - Cluster cluster_17: PC1 explained variance = 0.920\n",
      "2025-08-05 10:07:14,952 - src.helpers - INFO - Cluster cluster_31: PC1 explained variance = 1.000\n",
      "2025-08-05 10:07:14,946 - src.helpers - INFO - Running PCA on cluster cluster_11 with 15 datasets\n",
      "2025-08-05 10:07:14,985 - src.helpers - INFO - Cluster cluster_0: PC1 explained variance = 0.190\n",
      "2025-08-05 10:07:14,952 - src.helpers - INFO - Cluster cluster_31: PC1 explained variance = 1.000\n",
      "2025-08-05 10:07:14,961 - src.helpers - INFO - Cluster cluster_17: PC1 explained variance = 0.920\n",
      "2025-08-05 10:07:14,997 - src.helpers - INFO - Cluster cluster_19: PC1 explained variance = 1.000\n",
      "2025-08-05 10:07:14,961 - src.helpers - INFO - Cluster cluster_17: PC1 explained variance = 0.920\n",
      "2025-08-05 10:07:14,985 - src.helpers - INFO - Cluster cluster_0: PC1 explained variance = 0.190\n",
      "2025-08-05 10:07:14,997 - src.helpers - INFO - Cluster cluster_19: PC1 explained variance = 1.000\n",
      "2025-08-05 10:07:15,040 - src.helpers - INFO - Cluster cluster_6: PC1 explained variance = 0.428\n",
      "2025-08-05 10:07:14,985 - src.helpers - INFO - Cluster cluster_0: PC1 explained variance = 0.190\n",
      "2025-08-05 10:07:15,052 - src.helpers - INFO - Cluster cluster_35: PC1 explained variance = 1.000\n",
      "2025-08-05 10:07:15,040 - src.helpers - INFO - Cluster cluster_6: PC1 explained variance = 0.428\n",
      "2025-08-05 10:07:14,997 - src.helpers - INFO - Cluster cluster_19: PC1 explained variance = 1.000\n",
      "2025-08-05 10:07:15,062 - src.helpers - INFO - Cluster cluster_26: PC1 explained variance = 0.545\n",
      "2025-08-05 10:07:15,052 - src.helpers - INFO - Cluster cluster_35: PC1 explained variance = 1.000\n",
      "2025-08-05 10:07:15,040 - src.helpers - INFO - Cluster cluster_6: PC1 explained variance = 0.428\n",
      "2025-08-05 10:07:15,072 - src.helpers - INFO - Running PCA on cluster cluster_21 with 5 datasets\n",
      "2025-08-05 10:07:15,079 - src.helpers - INFO - Running PCA on cluster cluster_18 with 10 datasets\n",
      "2025-08-05 10:07:15,062 - src.helpers - INFO - Cluster cluster_26: PC1 explained variance = 0.545\n",
      "2025-08-05 10:07:15,052 - src.helpers - INFO - Cluster cluster_35: PC1 explained variance = 1.000\n",
      "2025-08-05 10:07:15,072 - src.helpers - INFO - Running PCA on cluster cluster_21 with 5 datasets\n",
      "2025-08-05 10:07:15,085 - src.helpers - INFO - Cluster cluster_11: PC1 explained variance = 0.227\n",
      "2025-08-05 10:07:15,062 - src.helpers - INFO - Cluster cluster_26: PC1 explained variance = 0.545\n",
      "2025-08-05 10:07:15,086 - src.helpers - INFO - Running PCA on cluster cluster_22 with 5 datasets\n",
      "2025-08-05 10:07:15,079 - src.helpers - INFO - Running PCA on cluster cluster_18 with 10 datasets\n",
      "2025-08-05 10:07:15,072 - src.helpers - INFO - Running PCA on cluster cluster_21 with 5 datasets\n",
      "2025-08-05 10:07:15,085 - src.helpers - INFO - Cluster cluster_11: PC1 explained variance = 0.227\n",
      "2025-08-05 10:07:15,092 - src.helpers - INFO - Running PCA on cluster cluster_32 with 2 datasets\n",
      "2025-08-05 10:07:15,079 - src.helpers - INFO - Running PCA on cluster cluster_18 with 10 datasets\n",
      "2025-08-05 10:07:15,095 - src.helpers - INFO - Running PCA on cluster cluster_8 with 17 datasets\n",
      "2025-08-05 10:07:15,086 - src.helpers - INFO - Running PCA on cluster cluster_22 with 5 datasets\n",
      "2025-08-05 10:07:15,092 - src.helpers - INFO - Running PCA on cluster cluster_32 with 2 datasets\n",
      "2025-08-05 10:07:15,099 - src.helpers - INFO - Running PCA on cluster cluster_33 with 2 datasets\n",
      "2025-08-05 10:07:15,085 - src.helpers - INFO - Cluster cluster_11: PC1 explained variance = 0.227\n",
      "2025-08-05 10:07:15,086 - src.helpers - INFO - Running PCA on cluster cluster_22 with 5 datasets\n",
      "2025-08-05 10:07:15,095 - src.helpers - INFO - Running PCA on cluster cluster_8 with 17 datasets\n",
      "2025-08-05 10:07:15,105 - src.helpers - INFO - Running PCA on cluster cluster_34 with 2 datasets\n"
     ]
    },
    {
     "name": "stdout",
     "output_type": "stream",
     "text": [
      "Executing run_per_cluster_pca...\n"
     ]
    },
    {
     "name": "stderr",
     "output_type": "stream",
     "text": [
      "2025-08-05 10:07:15,092 - src.helpers - INFO - Running PCA on cluster cluster_32 with 2 datasets\n",
      "2025-08-05 10:07:15,111 - src.helpers - INFO - Cluster cluster_21: PC1 explained variance = 0.535\n",
      "2025-08-05 10:07:15,099 - src.helpers - INFO - Running PCA on cluster cluster_33 with 2 datasets\n",
      "2025-08-05 10:07:15,095 - src.helpers - INFO - Running PCA on cluster cluster_8 with 17 datasets\n",
      "2025-08-05 10:07:15,122 - src.helpers - INFO - Cluster cluster_18: PC1 explained variance = 0.285\n",
      "2025-08-05 10:07:15,105 - src.helpers - INFO - Running PCA on cluster cluster_34 with 2 datasets\n",
      "2025-08-05 10:07:15,099 - src.helpers - INFO - Running PCA on cluster cluster_33 with 2 datasets\n",
      "2025-08-05 10:07:15,111 - src.helpers - INFO - Cluster cluster_21: PC1 explained variance = 0.535\n",
      "2025-08-05 10:07:15,123 - src.helpers - INFO - Running PCA on cluster cluster_3 with 27 datasets\n",
      "2025-08-05 10:07:15,105 - src.helpers - INFO - Running PCA on cluster cluster_34 with 2 datasets\n",
      "2025-08-05 10:07:15,122 - src.helpers - INFO - Cluster cluster_18: PC1 explained variance = 0.285\n",
      "2025-08-05 10:07:15,131 - src.helpers - INFO - Cluster cluster_22: PC1 explained variance = 0.537\n",
      "/Users/taishajoseph/miniconda3/envs/mdc-challenge-2025/lib/python3.12/site-packages/sklearn/decomposition/_pca.py:646: RuntimeWarning: invalid value encountered in divide\n",
      "  explained_variance_ratio_ = explained_variance_ / total_var\n",
      "2025-08-05 10:07:15,111 - src.helpers - INFO - Cluster cluster_21: PC1 explained variance = 0.535\n",
      "2025-08-05 10:07:15,123 - src.helpers - INFO - Running PCA on cluster cluster_3 with 27 datasets\n",
      "2025-08-05 10:07:15,139 - src.helpers - INFO - Cluster cluster_32: PC1 explained variance = 1.000\n",
      "2025-08-05 10:07:15,122 - src.helpers - INFO - Cluster cluster_18: PC1 explained variance = 0.285\n",
      "2025-08-05 10:07:15,131 - src.helpers - INFO - Cluster cluster_22: PC1 explained variance = 0.537\n",
      "2025-08-05 10:07:15,149 - src.helpers - INFO - Cluster cluster_8: PC1 explained variance = 0.455\n",
      "2025-08-05 10:07:15,123 - src.helpers - INFO - Running PCA on cluster cluster_3 with 27 datasets\n",
      "2025-08-05 10:07:15,139 - src.helpers - INFO - Cluster cluster_32: PC1 explained variance = 1.000\n",
      "2025-08-05 10:07:15,152 - src.helpers - INFO - Cluster cluster_33: PC1 explained variance = 1.000\n",
      "2025-08-05 10:07:15,131 - src.helpers - INFO - Cluster cluster_22: PC1 explained variance = 0.537\n",
      "2025-08-05 10:07:15,149 - src.helpers - INFO - Cluster cluster_8: PC1 explained variance = 0.455\n",
      "2025-08-05 10:07:15,164 - src.helpers - INFO - Cluster cluster_34: PC1 explained variance = nan\n",
      "2025-08-05 10:07:15,139 - src.helpers - INFO - Cluster cluster_32: PC1 explained variance = 1.000\n",
      "2025-08-05 10:07:15,168 - src.helpers - INFO - Running PCA on cluster cluster_13 with 12 datasets\n",
      "2025-08-05 10:07:15,152 - src.helpers - INFO - Cluster cluster_33: PC1 explained variance = 1.000\n",
      "2025-08-05 10:07:15,164 - src.helpers - INFO - Cluster cluster_34: PC1 explained variance = nan\n",
      "2025-08-05 10:07:15,149 - src.helpers - INFO - Cluster cluster_8: PC1 explained variance = 0.455\n",
      "2025-08-05 10:07:15,171 - src.helpers - INFO - Running PCA on cluster cluster_36 with 2 datasets\n",
      "2025-08-05 10:07:15,152 - src.helpers - INFO - Cluster cluster_33: PC1 explained variance = 1.000\n",
      "2025-08-05 10:07:15,235 - src.helpers - INFO - Running PCA on cluster cluster_5 with 24 datasets\n",
      "2025-08-05 10:07:15,168 - src.helpers - INFO - Running PCA on cluster cluster_13 with 12 datasets\n",
      "2025-08-05 10:07:15,164 - src.helpers - INFO - Cluster cluster_34: PC1 explained variance = nan\n",
      "2025-08-05 10:07:15,171 - src.helpers - INFO - Running PCA on cluster cluster_36 with 2 datasets\n",
      "2025-08-05 10:07:15,238 - src.helpers - INFO - Cluster cluster_3: PC1 explained variance = 0.294\n",
      "2025-08-05 10:07:15,168 - src.helpers - INFO - Running PCA on cluster cluster_13 with 12 datasets\n",
      "2025-08-05 10:07:15,235 - src.helpers - INFO - Running PCA on cluster cluster_5 with 24 datasets\n",
      "2025-08-05 10:07:15,241 - src.helpers - INFO - Running PCA on cluster cluster_37 with 2 datasets\n",
      "2025-08-05 10:07:15,171 - src.helpers - INFO - Running PCA on cluster cluster_36 with 2 datasets\n",
      "2025-08-05 10:07:15,238 - src.helpers - INFO - Cluster cluster_3: PC1 explained variance = 0.294\n",
      "2025-08-05 10:07:15,245 - src.helpers - INFO - Running PCA on cluster cluster_14 with 12 datasets\n",
      "2025-08-05 10:07:15,241 - src.helpers - INFO - Running PCA on cluster cluster_37 with 2 datasets\n",
      "2025-08-05 10:07:15,235 - src.helpers - INFO - Running PCA on cluster cluster_5 with 24 datasets\n",
      "/Users/taishajoseph/miniconda3/envs/mdc-challenge-2025/lib/python3.12/site-packages/sklearn/decomposition/_pca.py:646: RuntimeWarning: invalid value encountered in divide\n",
      "  explained_variance_ratio_ = explained_variance_ / total_var\n",
      "/Users/taishajoseph/miniconda3/envs/mdc-challenge-2025/lib/python3.12/site-packages/sklearn/decomposition/_pca.py:646: RuntimeWarning: invalid value encountered in divide\n",
      "  explained_variance_ratio_ = explained_variance_ / total_var\n",
      "2025-08-05 10:07:15,238 - src.helpers - INFO - Cluster cluster_3: PC1 explained variance = 0.294\n",
      "2025-08-05 10:07:15,245 - src.helpers - INFO - Running PCA on cluster cluster_14 with 12 datasets\n",
      "2025-08-05 10:07:15,247 - src.helpers - INFO - Running PCA on cluster cluster_23 with 4 datasets\n",
      "2025-08-05 10:07:15,241 - src.helpers - INFO - Running PCA on cluster cluster_37 with 2 datasets\n",
      "2025-08-05 10:07:15,247 - src.helpers - INFO - Running PCA on cluster cluster_23 with 4 datasets\n",
      "2025-08-05 10:07:15,252 - src.helpers - INFO - Running PCA on cluster cluster_27 with 3 datasets\n",
      "2025-08-05 10:07:15,267 - src.helpers - INFO - Cluster cluster_13: PC1 explained variance = nan\n",
      "2025-08-05 10:07:15,245 - src.helpers - INFO - Running PCA on cluster cluster_14 with 12 datasets\n",
      "2025-08-05 10:07:15,252 - src.helpers - INFO - Running PCA on cluster cluster_27 with 3 datasets\n",
      "/Users/taishajoseph/miniconda3/envs/mdc-challenge-2025/lib/python3.12/site-packages/sklearn/decomposition/_pca.py:646: RuntimeWarning: invalid value encountered in divide\n",
      "  explained_variance_ratio_ = explained_variance_ / total_var\n",
      "2025-08-05 10:07:15,270 - src.helpers - INFO - Cluster cluster_36: PC1 explained variance = nan\n",
      "2025-08-05 10:07:15,247 - src.helpers - INFO - Running PCA on cluster cluster_23 with 4 datasets\n",
      "2025-08-05 10:07:15,267 - src.helpers - INFO - Cluster cluster_13: PC1 explained variance = nan\n",
      "2025-08-05 10:07:15,252 - src.helpers - INFO - Running PCA on cluster cluster_27 with 3 datasets\n",
      "2025-08-05 10:07:15,276 - src.helpers - INFO - Running PCA on cluster cluster_2 with 28 datasets\n",
      "2025-08-05 10:07:15,270 - src.helpers - INFO - Cluster cluster_36: PC1 explained variance = nan\n",
      "/Users/taishajoseph/miniconda3/envs/mdc-challenge-2025/lib/python3.12/site-packages/sklearn/decomposition/_pca.py:646: RuntimeWarning: invalid value encountered in divide\n",
      "  explained_variance_ratio_ = explained_variance_ / total_var\n",
      "2025-08-05 10:07:15,267 - src.helpers - INFO - Cluster cluster_13: PC1 explained variance = nan\n",
      "2025-08-05 10:07:15,286 - src.helpers - INFO - Cluster cluster_37: PC1 explained variance = nan\n",
      "2025-08-05 10:07:15,276 - src.helpers - INFO - Running PCA on cluster cluster_2 with 28 datasets\n",
      "2025-08-05 10:07:15,302 - src.helpers - INFO - Cluster cluster_5: PC1 explained variance = 1.000\n",
      "2025-08-05 10:07:15,270 - src.helpers - INFO - Cluster cluster_36: PC1 explained variance = nan\n",
      "2025-08-05 10:07:15,286 - src.helpers - INFO - Cluster cluster_37: PC1 explained variance = nan\n",
      "2025-08-05 10:07:15,312 - src.helpers - INFO - Cluster cluster_14: PC1 explained variance = 0.604\n",
      "2025-08-05 10:07:15,302 - src.helpers - INFO - Cluster cluster_5: PC1 explained variance = 1.000\n",
      "2025-08-05 10:07:15,276 - src.helpers - INFO - Running PCA on cluster cluster_2 with 28 datasets\n",
      "2025-08-05 10:07:15,312 - src.helpers - INFO - Cluster cluster_14: PC1 explained variance = 0.604\n",
      "2025-08-05 10:07:15,318 - src.helpers - INFO - Cluster cluster_23: PC1 explained variance = nan\n",
      "2025-08-05 10:07:15,286 - src.helpers - INFO - Cluster cluster_37: PC1 explained variance = nan\n",
      "2025-08-05 10:07:15,324 - src.helpers - INFO - Cluster cluster_27: PC1 explained variance = 1.000\n",
      "2025-08-05 10:07:15,302 - src.helpers - INFO - Cluster cluster_5: PC1 explained variance = 1.000\n",
      "2025-08-05 10:07:15,318 - src.helpers - INFO - Cluster cluster_23: PC1 explained variance = nan\n",
      "2025-08-05 10:07:15,326 - src.helpers - INFO - Running PCA on cluster cluster_38 with 2 datasets\n",
      "2025-08-05 10:07:15,312 - src.helpers - INFO - Cluster cluster_14: PC1 explained variance = 0.604\n",
      "2025-08-05 10:07:15,324 - src.helpers - INFO - Cluster cluster_27: PC1 explained variance = 1.000\n",
      "2025-08-05 10:07:15,328 - src.helpers - INFO - Running PCA on cluster cluster_9 with 16 datasets\n",
      "2025-08-05 10:07:15,318 - src.helpers - INFO - Cluster cluster_23: PC1 explained variance = nan\n",
      "2025-08-05 10:07:15,326 - src.helpers - INFO - Running PCA on cluster cluster_38 with 2 datasets\n",
      "2025-08-05 10:07:15,335 - src.helpers - INFO - Running PCA on cluster cluster_12 with 15 datasets\n",
      "2025-08-05 10:07:15,328 - src.helpers - INFO - Running PCA on cluster cluster_9 with 16 datasets\n",
      "2025-08-05 10:07:15,324 - src.helpers - INFO - Cluster cluster_27: PC1 explained variance = 1.000\n",
      "2025-08-05 10:07:15,341 - src.helpers - INFO - Running PCA on cluster cluster_1 with 30 datasets\n",
      "2025-08-05 10:07:15,326 - src.helpers - INFO - Running PCA on cluster cluster_38 with 2 datasets\n",
      "2025-08-05 10:07:15,335 - src.helpers - INFO - Running PCA on cluster cluster_12 with 15 datasets\n",
      "2025-08-05 10:07:15,341 - src.helpers - INFO - Running PCA on cluster cluster_1 with 30 datasets\n",
      "2025-08-05 10:07:15,368 - src.helpers - INFO - Running PCA on cluster cluster_39 with 2 datasets\n",
      "2025-08-05 10:07:15,328 - src.helpers - INFO - Running PCA on cluster cluster_9 with 16 datasets\n",
      "/Users/taishajoseph/miniconda3/envs/mdc-challenge-2025/lib/python3.12/site-packages/sklearn/decomposition/_pca.py:646: RuntimeWarning: invalid value encountered in divide\n",
      "  explained_variance_ratio_ = explained_variance_ / total_var\n",
      "2025-08-05 10:07:15,335 - src.helpers - INFO - Running PCA on cluster cluster_12 with 15 datasets\n",
      "2025-08-05 10:07:15,368 - src.helpers - INFO - Running PCA on cluster cluster_39 with 2 datasets\n",
      "2025-08-05 10:07:15,371 - src.helpers - INFO - Cluster cluster_2: PC1 explained variance = 0.724\n",
      "2025-08-05 10:07:15,341 - src.helpers - INFO - Running PCA on cluster cluster_1 with 30 datasets\n",
      "2025-08-05 10:07:15,373 - src.helpers - INFO - Running PCA on cluster cluster_20 with 5 datasets\n",
      "2025-08-05 10:07:15,371 - src.helpers - INFO - Cluster cluster_2: PC1 explained variance = 0.724\n",
      "2025-08-05 10:07:15,368 - src.helpers - INFO - Running PCA on cluster cluster_39 with 2 datasets\n",
      "/Users/taishajoseph/miniconda3/envs/mdc-challenge-2025/lib/python3.12/site-packages/sklearn/decomposition/_pca.py:646: RuntimeWarning: invalid value encountered in divide\n",
      "  explained_variance_ratio_ = explained_variance_ / total_var\n",
      "2025-08-05 10:07:15,376 - src.helpers - INFO - Running PCA on cluster cluster_16 with 11 datasets\n",
      "2025-08-05 10:07:15,373 - src.helpers - INFO - Running PCA on cluster cluster_20 with 5 datasets\n",
      "2025-08-05 10:07:15,387 - src.helpers - INFO - Cluster cluster_38: PC1 explained variance = nan\n",
      "/Users/taishajoseph/miniconda3/envs/mdc-challenge-2025/lib/python3.12/site-packages/sklearn/decomposition/_pca.py:646: RuntimeWarning: invalid value encountered in divide\n",
      "  explained_variance_ratio_ = explained_variance_ / total_var\n",
      "2025-08-05 10:07:15,407 - src.helpers - INFO - Cluster cluster_9: PC1 explained variance = nan\n",
      "2025-08-05 10:07:15,371 - src.helpers - INFO - Cluster cluster_2: PC1 explained variance = 0.724\n",
      "2025-08-05 10:07:15,376 - src.helpers - INFO - Running PCA on cluster cluster_16 with 11 datasets\n",
      "2025-08-05 10:07:15,419 - src.helpers - INFO - Cluster cluster_12: PC1 explained variance = 1.000\n",
      "2025-08-05 10:07:15,373 - src.helpers - INFO - Running PCA on cluster cluster_20 with 5 datasets\n",
      "2025-08-05 10:07:15,387 - src.helpers - INFO - Cluster cluster_38: PC1 explained variance = nan\n",
      "2025-08-05 10:07:15,421 - src.helpers - INFO - Cluster cluster_39: PC1 explained variance = nan\n",
      "2025-08-05 10:07:15,376 - src.helpers - INFO - Running PCA on cluster cluster_16 with 11 datasets\n",
      "2025-08-05 10:07:15,427 - src.helpers - INFO - Cluster cluster_1: PC1 explained variance = 0.496\n",
      "2025-08-05 10:07:15,407 - src.helpers - INFO - Cluster cluster_9: PC1 explained variance = nan\n",
      "2025-08-05 10:07:15,387 - src.helpers - INFO - Cluster cluster_38: PC1 explained variance = nan\n",
      "2025-08-05 10:07:15,419 - src.helpers - INFO - Cluster cluster_12: PC1 explained variance = 1.000\n",
      "2025-08-05 10:07:15,433 - src.helpers - INFO - Running PCA on cluster cluster_28 with 3 datasets\n",
      "2025-08-05 10:07:15,443 - src.helpers - INFO - Cluster cluster_20: PC1 explained variance = 0.453\n",
      "2025-08-05 10:07:15,421 - src.helpers - INFO - Cluster cluster_39: PC1 explained variance = nan\n",
      "2025-08-05 10:07:15,407 - src.helpers - INFO - Cluster cluster_9: PC1 explained variance = nan\n",
      "2025-08-05 10:07:15,427 - src.helpers - INFO - Cluster cluster_1: PC1 explained variance = 0.496\n",
      "2025-08-05 10:07:15,455 - src.helpers - INFO - Cluster cluster_16: PC1 explained variance = 0.622\n",
      "2025-08-05 10:07:15,419 - src.helpers - INFO - Cluster cluster_12: PC1 explained variance = 1.000\n",
      "2025-08-05 10:07:15,433 - src.helpers - INFO - Running PCA on cluster cluster_28 with 3 datasets\n",
      "2025-08-05 10:07:15,421 - src.helpers - INFO - Cluster cluster_39: PC1 explained variance = nan\n",
      "2025-08-05 10:07:15,456 - src.helpers - INFO - Running PCA on cluster cluster_40 with 2 datasets\n",
      "2025-08-05 10:07:15,460 - src.helpers - INFO - Running PCA on cluster cluster_4 with 27 datasets\n",
      "2025-08-05 10:07:15,427 - src.helpers - INFO - Cluster cluster_1: PC1 explained variance = 0.496\n",
      "2025-08-05 10:07:15,443 - src.helpers - INFO - Cluster cluster_20: PC1 explained variance = 0.453\n",
      "2025-08-05 10:07:15,433 - src.helpers - INFO - Running PCA on cluster cluster_28 with 3 datasets\n",
      "2025-08-05 10:07:15,463 - src.helpers - INFO - Running PCA on cluster cluster_41 with 2 datasets\n",
      "2025-08-05 10:07:15,443 - src.helpers - INFO - Cluster cluster_20: PC1 explained variance = 0.453\n",
      "2025-08-05 10:07:15,455 - src.helpers - INFO - Cluster cluster_16: PC1 explained variance = 0.622\n",
      "/Users/taishajoseph/miniconda3/envs/mdc-challenge-2025/lib/python3.12/site-packages/sklearn/decomposition/_pca.py:646: RuntimeWarning: invalid value encountered in divide\n",
      "  explained_variance_ratio_ = explained_variance_ / total_var\n",
      "2025-08-05 10:07:15,467 - src.helpers - INFO - Running PCA on cluster cluster_15 with 12 datasets\n",
      "2025-08-05 10:07:15,471 - src.helpers - INFO - Running PCA on cluster cluster_42 with 2 datasets\n",
      "2025-08-05 10:07:15,456 - src.helpers - INFO - Running PCA on cluster cluster_40 with 2 datasets\n",
      "2025-08-05 10:07:15,455 - src.helpers - INFO - Cluster cluster_16: PC1 explained variance = 0.622\n",
      "2025-08-05 10:07:15,456 - src.helpers - INFO - Running PCA on cluster cluster_40 with 2 datasets\n",
      "2025-08-05 10:07:15,460 - src.helpers - INFO - Running PCA on cluster cluster_4 with 27 datasets\n",
      "2025-08-05 10:07:15,479 - src.helpers - INFO - Cluster cluster_28: PC1 explained variance = nan\n",
      "2025-08-05 10:07:15,463 - src.helpers - INFO - Running PCA on cluster cluster_41 with 2 datasets\n",
      "/Users/taishajoseph/miniconda3/envs/mdc-challenge-2025/lib/python3.12/site-packages/sklearn/decomposition/_pca.py:646: RuntimeWarning: invalid value encountered in divide\n",
      "  explained_variance_ratio_ = explained_variance_ / total_var\n",
      "2025-08-05 10:07:15,460 - src.helpers - INFO - Running PCA on cluster cluster_4 with 27 datasets\n",
      "2025-08-05 10:07:15,480 - src.helpers - INFO - Running PCA on cluster cluster_43 with 2 datasets\n",
      "2025-08-05 10:07:15,467 - src.helpers - INFO - Running PCA on cluster cluster_15 with 12 datasets\n",
      "2025-08-05 10:07:15,463 - src.helpers - INFO - Running PCA on cluster cluster_41 with 2 datasets\n",
      "2025-08-05 10:07:15,486 - src.helpers - INFO - Running PCA on cluster cluster_29 with 3 datasets\n",
      "2025-08-05 10:07:15,471 - src.helpers - INFO - Running PCA on cluster cluster_42 with 2 datasets\n",
      "2025-08-05 10:07:15,467 - src.helpers - INFO - Running PCA on cluster cluster_15 with 12 datasets\n",
      "2025-08-05 10:07:15,494 - src.helpers - INFO - Cluster cluster_40: PC1 explained variance = nan\n",
      "/Users/taishajoseph/miniconda3/envs/mdc-challenge-2025/lib/python3.12/site-packages/sklearn/decomposition/_pca.py:646: RuntimeWarning: invalid value encountered in divide\n",
      "  explained_variance_ratio_ = explained_variance_ / total_var\n",
      "2025-08-05 10:07:15,479 - src.helpers - INFO - Cluster cluster_28: PC1 explained variance = nan\n",
      "2025-08-05 10:07:15,480 - src.helpers - INFO - Running PCA on cluster cluster_43 with 2 datasets\n",
      "2025-08-05 10:07:15,511 - src.helpers - INFO - Cluster cluster_41: PC1 explained variance = nan\n",
      "2025-08-05 10:07:15,471 - src.helpers - INFO - Running PCA on cluster cluster_42 with 2 datasets\n",
      "2025-08-05 10:07:15,479 - src.helpers - INFO - Cluster cluster_28: PC1 explained variance = nan\n",
      "2025-08-05 10:07:15,486 - src.helpers - INFO - Running PCA on cluster cluster_29 with 3 datasets\n",
      "2025-08-05 10:07:15,521 - src.helpers - INFO - Cluster cluster_4: PC1 explained variance = 1.000\n",
      "2025-08-05 10:07:15,494 - src.helpers - INFO - Cluster cluster_40: PC1 explained variance = nan\n",
      "2025-08-05 10:07:15,480 - src.helpers - INFO - Running PCA on cluster cluster_43 with 2 datasets\n",
      "2025-08-05 10:07:15,531 - src.helpers - INFO - Cluster cluster_15: PC1 explained variance = 1.000\n",
      "2025-08-05 10:07:15,533 - src.helpers - INFO - Cluster cluster_42: PC1 explained variance = 1.000\n",
      "2025-08-05 10:07:15,486 - src.helpers - INFO - Running PCA on cluster cluster_29 with 3 datasets\n",
      "2025-08-05 10:07:15,511 - src.helpers - INFO - Cluster cluster_41: PC1 explained variance = nan\n",
      "/Users/taishajoseph/miniconda3/envs/mdc-challenge-2025/lib/python3.12/site-packages/sklearn/decomposition/_pca.py:646: RuntimeWarning: invalid value encountered in divide\n",
      "  explained_variance_ratio_ = explained_variance_ / total_var\n",
      "2025-08-05 10:07:15,494 - src.helpers - INFO - Cluster cluster_40: PC1 explained variance = nan\n",
      "2025-08-05 10:07:15,521 - src.helpers - INFO - Cluster cluster_4: PC1 explained variance = 1.000\n",
      "/Users/taishajoseph/miniconda3/envs/mdc-challenge-2025/lib/python3.12/site-packages/sklearn/decomposition/_pca.py:646: RuntimeWarning: invalid value encountered in divide\n",
      "  explained_variance_ratio_ = explained_variance_ / total_var\n",
      "2025-08-05 10:07:15,535 - src.helpers - INFO - Running PCA on cluster cluster_24 with 4 datasets\n",
      "2025-08-05 10:07:15,511 - src.helpers - INFO - Cluster cluster_41: PC1 explained variance = nan\n",
      "2025-08-05 10:07:15,544 - src.helpers - INFO - Cluster cluster_43: PC1 explained variance = nan\n",
      "2025-08-05 10:07:15,531 - src.helpers - INFO - Cluster cluster_15: PC1 explained variance = 1.000\n",
      "2025-08-05 10:07:15,521 - src.helpers - INFO - Cluster cluster_4: PC1 explained variance = 1.000\n",
      "2025-08-05 10:07:15,533 - src.helpers - INFO - Cluster cluster_42: PC1 explained variance = 1.000\n",
      "2025-08-05 10:07:15,552 - src.helpers - INFO - Cluster cluster_29: PC1 explained variance = nan\n",
      "2025-08-05 10:07:15,531 - src.helpers - INFO - Cluster cluster_15: PC1 explained variance = 1.000\n",
      "2025-08-05 10:07:15,535 - src.helpers - INFO - Running PCA on cluster cluster_24 with 4 datasets\n",
      "2025-08-05 10:07:15,554 - src.helpers - INFO - Running PCA on cluster cluster_44 with 2 datasets\n",
      "2025-08-05 10:07:15,533 - src.helpers - INFO - Cluster cluster_42: PC1 explained variance = 1.000\n",
      "2025-08-05 10:07:15,544 - src.helpers - INFO - Cluster cluster_43: PC1 explained variance = nan\n",
      "2025-08-05 10:07:15,557 - src.helpers - INFO - Running PCA on cluster cluster_45 with 2 datasets\n",
      "2025-08-05 10:07:15,552 - src.helpers - INFO - Cluster cluster_29: PC1 explained variance = nan\n",
      "2025-08-05 10:07:15,535 - src.helpers - INFO - Running PCA on cluster cluster_24 with 4 datasets\n",
      "2025-08-05 10:07:15,560 - src.helpers - INFO - Running PCA on cluster cluster_10 with 16 datasets\n",
      "2025-08-05 10:07:15,544 - src.helpers - INFO - Cluster cluster_43: PC1 explained variance = nan\n",
      "2025-08-05 10:07:15,554 - src.helpers - INFO - Running PCA on cluster cluster_44 with 2 datasets\n",
      "/Users/taishajoseph/miniconda3/envs/mdc-challenge-2025/lib/python3.12/site-packages/sklearn/decomposition/_pca.py:646: RuntimeWarning: invalid value encountered in divide\n",
      "  explained_variance_ratio_ = explained_variance_ / total_var\n",
      "2025-08-05 10:07:15,563 - src.helpers - INFO - Running PCA on cluster cluster_7 with 18 datasets\n",
      "2025-08-05 10:07:15,552 - src.helpers - INFO - Cluster cluster_29: PC1 explained variance = nan\n",
      "2025-08-05 10:07:15,557 - src.helpers - INFO - Running PCA on cluster cluster_45 with 2 datasets\n",
      "2025-08-05 10:07:15,569 - src.helpers - INFO - Running PCA on cluster cluster_25 with 4 datasets\n",
      "2025-08-05 10:07:15,554 - src.helpers - INFO - Running PCA on cluster cluster_44 with 2 datasets\n",
      "2025-08-05 10:07:15,560 - src.helpers - INFO - Running PCA on cluster cluster_10 with 16 datasets\n",
      "2025-08-05 10:07:15,557 - src.helpers - INFO - Running PCA on cluster cluster_45 with 2 datasets\n",
      "2025-08-05 10:07:15,563 - src.helpers - INFO - Running PCA on cluster cluster_7 with 18 datasets\n",
      "2025-08-05 10:07:15,578 - src.helpers - INFO - Cluster cluster_24: PC1 explained variance = nan\n",
      "2025-08-05 10:07:15,560 - src.helpers - INFO - Running PCA on cluster cluster_10 with 16 datasets\n",
      "2025-08-05 10:07:15,569 - src.helpers - INFO - Running PCA on cluster cluster_25 with 4 datasets\n",
      "2025-08-05 10:07:15,578 - src.helpers - INFO - Running PCA on cluster cluster_30 with 3 datasets\n",
      "2025-08-05 10:07:15,563 - src.helpers - INFO - Running PCA on cluster cluster_7 with 18 datasets\n",
      "2025-08-05 10:07:15,578 - src.helpers - INFO - Cluster cluster_24: PC1 explained variance = nan\n",
      "2025-08-05 10:07:15,584 - src.helpers - INFO - Running PCA on cluster cluster_46 with 2 datasets\n",
      "2025-08-05 10:07:15,569 - src.helpers - INFO - Running PCA on cluster cluster_25 with 4 datasets\n",
      "2025-08-05 10:07:15,578 - src.helpers - INFO - Running PCA on cluster cluster_30 with 3 datasets\n",
      "/Users/taishajoseph/miniconda3/envs/mdc-challenge-2025/lib/python3.12/site-packages/sklearn/decomposition/_pca.py:646: RuntimeWarning: invalid value encountered in divide\n",
      "  explained_variance_ratio_ = explained_variance_ / total_var\n",
      "2025-08-05 10:07:15,578 - src.helpers - INFO - Cluster cluster_24: PC1 explained variance = nan\n",
      "2025-08-05 10:07:15,595 - src.helpers - INFO - Cluster cluster_44: PC1 explained variance = 1.000\n",
      "2025-08-05 10:07:15,584 - src.helpers - INFO - Running PCA on cluster cluster_46 with 2 datasets\n",
      "2025-08-05 10:07:15,578 - src.helpers - INFO - Running PCA on cluster cluster_30 with 3 datasets\n",
      "2025-08-05 10:07:15,602 - src.helpers - INFO - Cluster cluster_45: PC1 explained variance = 1.000\n",
      "2025-08-05 10:07:15,595 - src.helpers - INFO - Cluster cluster_44: PC1 explained variance = 1.000\n",
      "2025-08-05 10:07:15,584 - src.helpers - INFO - Running PCA on cluster cluster_46 with 2 datasets\n",
      "2025-08-05 10:07:15,610 - src.helpers - INFO - Cluster cluster_10: PC1 explained variance = 1.000\n",
      "2025-08-05 10:07:15,602 - src.helpers - INFO - Cluster cluster_45: PC1 explained variance = 1.000\n",
      "2025-08-05 10:07:15,595 - src.helpers - INFO - Cluster cluster_44: PC1 explained variance = 1.000\n",
      "/Users/taishajoseph/miniconda3/envs/mdc-challenge-2025/lib/python3.12/site-packages/sklearn/decomposition/_pca.py:646: RuntimeWarning: invalid value encountered in divide\n",
      "  explained_variance_ratio_ = explained_variance_ / total_var\n",
      "2025-08-05 10:07:15,602 - src.helpers - INFO - Cluster cluster_45: PC1 explained variance = 1.000\n",
      "2025-08-05 10:07:15,623 - src.helpers - INFO - Cluster cluster_25: PC1 explained variance = nan\n",
      "2025-08-05 10:07:15,610 - src.helpers - INFO - Cluster cluster_10: PC1 explained variance = 1.000\n",
      "2025-08-05 10:07:15,625 - src.helpers - INFO - Cluster cluster_7: PC1 explained variance = 1.000\n",
      "2025-08-05 10:07:15,610 - src.helpers - INFO - Cluster cluster_10: PC1 explained variance = 1.000\n",
      "2025-08-05 10:07:15,623 - src.helpers - INFO - Cluster cluster_25: PC1 explained variance = nan\n",
      "2025-08-05 10:07:15,623 - src.helpers - INFO - Cluster cluster_25: PC1 explained variance = nan\n",
      "2025-08-05 10:07:15,628 - src.helpers - INFO - Running PCA on cluster cluster_47 with 2 datasets\n",
      "2025-08-05 10:07:15,625 - src.helpers - INFO - Cluster cluster_7: PC1 explained variance = 1.000\n",
      "2025-08-05 10:07:15,625 - src.helpers - INFO - Cluster cluster_7: PC1 explained variance = 1.000\n",
      "2025-08-05 10:07:15,634 - src.helpers - INFO - Cluster cluster_30: PC1 explained variance = 1.000\n",
      "2025-08-05 10:07:15,628 - src.helpers - INFO - Running PCA on cluster cluster_47 with 2 datasets\n",
      "2025-08-05 10:07:15,628 - src.helpers - INFO - Running PCA on cluster cluster_47 with 2 datasets\n",
      "2025-08-05 10:07:15,642 - src.helpers - INFO - Cluster cluster_46: PC1 explained variance = nan\n",
      "2025-08-05 10:07:15,634 - src.helpers - INFO - Cluster cluster_30: PC1 explained variance = 1.000\n",
      "/Users/taishajoseph/miniconda3/envs/mdc-challenge-2025/lib/python3.12/site-packages/sklearn/decomposition/_pca.py:646: RuntimeWarning: invalid value encountered in divide\n",
      "  explained_variance_ratio_ = explained_variance_ / total_var\n",
      "2025-08-05 10:07:15,634 - src.helpers - INFO - Cluster cluster_30: PC1 explained variance = 1.000\n",
      "2025-08-05 10:07:15,662 - src.helpers - INFO - Cluster cluster_47: PC1 explained variance = nan\n",
      "2025-08-05 10:07:15,642 - src.helpers - INFO - Cluster cluster_46: PC1 explained variance = nan\n",
      "2025-08-05 10:07:15,642 - src.helpers - INFO - Cluster cluster_46: PC1 explained variance = nan\n",
      "2025-08-05 10:07:15,662 - src.helpers - INFO - Cluster cluster_47: PC1 explained variance = nan\n",
      "2025-08-05 10:07:15,662 - src.helpers - INFO - Cluster cluster_47: PC1 explained variance = nan\n",
      "2025-08-05 10:07:15,673 - src.helpers - INFO - ✅ Completed parallel PCA on 48 clusters\n",
      "2025-08-05 10:07:15,673 - src.helpers - INFO - ✅ Completed parallel PCA on 48 clusters\n",
      "2025-08-05 10:07:15,673 - src.helpers - INFO - ✅ Completed parallel PCA on 48 clusters\n",
      "2025-08-05 10:07:15,677 - src.helpers - INFO - Saving PCA features for 487 datasets to DuckDB...\n",
      "2025-08-05 10:07:15,677 - src.helpers - INFO - Saving PCA features for 487 datasets to DuckDB...\n",
      "2025-08-05 10:07:15,677 - src.helpers - INFO - Saving PCA features for 487 datasets to DuckDB...\n",
      "2025-08-05 10:07:15,803 - src.helpers - INFO - ✅ Upserted 1948 feature rows.\n",
      "2025-08-05 10:07:15,803 - src.helpers - INFO - ✅ Upserted 1948 feature rows.\n",
      "2025-08-05 10:07:15,803 - src.helpers - INFO - ✅ Upserted 1948 feature rows.\n",
      "2025-08-05 10:07:15,807 - src.helpers - INFO - ✅ Successfully saved PCA features for 487 datasets\n",
      "2025-08-05 10:07:15,807 - src.helpers - INFO - ✅ Successfully saved PCA features for 487 datasets\n",
      "2025-08-05 10:07:15,807 - src.helpers - INFO - ✅ Successfully saved PCA features for 487 datasets\n",
      "2025-08-05 10:07:15,811 - src.helpers - INFO - ✅ Per-cluster PCA completed successfully!\n",
      "2025-08-05 10:07:15,811 - src.helpers - INFO - ✅ Per-cluster PCA completed successfully!\n",
      "2025-08-05 10:07:15,811 - src.helpers - INFO - ✅ Per-cluster PCA completed successfully!\n"
     ]
    },
    {
     "name": "stdout",
     "output_type": "stream",
     "text": [
      "Function run_per_cluster_pca took 0.8951 seconds to complete.\n"
     ]
    }
   ],
   "source": [
    "\n",
    "res_pca = fresh_reducer.run_per_cluster_pca(embeddings, random_seed = 42)"
   ]
  },
  {
   "cell_type": "code",
   "execution_count": 25,
   "id": "8f1a2525",
   "metadata": {},
   "outputs": [
    {
     "name": "stderr",
     "output_type": "stream",
     "text": [
      "2025-08-05 10:48:16,703 - api.database.duckdb_schema - INFO - Starting DuckDB schema creation...\n",
      "2025-08-05 10:48:16,703 - api.database.duckdb_schema - INFO - Starting DuckDB schema creation...\n",
      "2025-08-05 10:48:16,703 - api.database.duckdb_schema - INFO - Starting DuckDB schema creation...\n",
      "2025-08-05 10:48:16,708 - api.database.duckdb_schema - INFO - Creating documents table...\n",
      "2025-08-05 10:48:16,708 - api.database.duckdb_schema - INFO - Creating documents table...\n",
      "2025-08-05 10:48:16,708 - api.database.duckdb_schema - INFO - Creating documents table...\n",
      "2025-08-05 10:48:16,711 - api.database.duckdb_schema - INFO - Documents table created successfully\n",
      "2025-08-05 10:48:16,711 - api.database.duckdb_schema - INFO - Documents table created successfully\n",
      "2025-08-05 10:48:16,711 - api.database.duckdb_schema - INFO - Documents table created successfully\n",
      "2025-08-05 10:48:16,714 - api.database.duckdb_schema - INFO - Creating citations table...\n",
      "2025-08-05 10:48:16,714 - api.database.duckdb_schema - INFO - Creating citations table...\n",
      "2025-08-05 10:48:16,714 - api.database.duckdb_schema - INFO - Creating citations table...\n",
      "2025-08-05 10:48:16,720 - api.database.duckdb_schema - INFO - Citations table created successfully\n",
      "2025-08-05 10:48:16,720 - api.database.duckdb_schema - INFO - Citations table created successfully\n",
      "2025-08-05 10:48:16,720 - api.database.duckdb_schema - INFO - Citations table created successfully\n",
      "2025-08-05 10:48:16,724 - api.database.duckdb_schema - INFO - Creating chunks table...\n",
      "2025-08-05 10:48:16,724 - api.database.duckdb_schema - INFO - Creating chunks table...\n",
      "2025-08-05 10:48:16,724 - api.database.duckdb_schema - INFO - Creating chunks table...\n",
      "2025-08-05 10:48:16,731 - api.database.duckdb_schema - INFO - Chunks table created successfully\n",
      "2025-08-05 10:48:16,731 - api.database.duckdb_schema - INFO - Chunks table created successfully\n",
      "2025-08-05 10:48:16,731 - api.database.duckdb_schema - INFO - Chunks table created successfully\n",
      "2025-08-05 10:48:16,734 - api.database.duckdb_schema - INFO - Creating datasets table...\n",
      "2025-08-05 10:48:16,734 - api.database.duckdb_schema - INFO - Creating datasets table...\n",
      "2025-08-05 10:48:16,734 - api.database.duckdb_schema - INFO - Creating datasets table...\n",
      "2025-08-05 10:48:16,739 - api.database.duckdb_schema - INFO - Datasets table created successfully\n",
      "2025-08-05 10:48:16,739 - api.database.duckdb_schema - INFO - Datasets table created successfully\n",
      "2025-08-05 10:48:16,739 - api.database.duckdb_schema - INFO - Datasets table created successfully\n",
      "2025-08-05 10:48:16,742 - api.database.duckdb_schema - INFO - Creating engineered_feature_values table...\n",
      "2025-08-05 10:48:16,742 - api.database.duckdb_schema - INFO - Creating engineered_feature_values table...\n",
      "2025-08-05 10:48:16,742 - api.database.duckdb_schema - INFO - Creating engineered_feature_values table...\n",
      "2025-08-05 10:48:16,747 - api.database.duckdb_schema - INFO - engineered_feature_values table created successfully\n",
      "2025-08-05 10:48:16,747 - api.database.duckdb_schema - INFO - engineered_feature_values table created successfully\n",
      "2025-08-05 10:48:16,747 - api.database.duckdb_schema - INFO - engineered_feature_values table created successfully\n",
      "2025-08-05 10:48:16,750 - api.database.duckdb_schema - INFO - Creating indexes...\n",
      "2025-08-05 10:48:16,750 - api.database.duckdb_schema - INFO - Creating indexes...\n",
      "2025-08-05 10:48:16,750 - api.database.duckdb_schema - INFO - Creating indexes...\n",
      "2025-08-05 10:48:16,757 - api.database.duckdb_schema - INFO - Indexes created successfully\n",
      "2025-08-05 10:48:16,757 - api.database.duckdb_schema - INFO - Indexes created successfully\n",
      "2025-08-05 10:48:16,757 - api.database.duckdb_schema - INFO - Indexes created successfully\n",
      "2025-08-05 10:48:16,760 - api.database.duckdb_schema - INFO - DuckDB schema creation completed successfully\n",
      "2025-08-05 10:48:16,760 - api.database.duckdb_schema - INFO - DuckDB schema creation completed successfully\n",
      "2025-08-05 10:48:16,760 - api.database.duckdb_schema - INFO - DuckDB schema creation completed successfully\n",
      "2025-08-05 10:48:16,762 - api.database.duckdb_schema - INFO - Validating schema...\n",
      "2025-08-05 10:48:16,762 - api.database.duckdb_schema - INFO - Validating schema...\n",
      "2025-08-05 10:48:16,762 - api.database.duckdb_schema - INFO - Validating schema...\n",
      "2025-08-05 10:48:16,802 - api.database.duckdb_schema - INFO - Table documents has 14 columns\n",
      "2025-08-05 10:48:16,802 - api.database.duckdb_schema - INFO - Table documents has 14 columns\n",
      "2025-08-05 10:48:16,802 - api.database.duckdb_schema - INFO - Table documents has 14 columns\n",
      "2025-08-05 10:48:16,806 - api.database.duckdb_schema - INFO - Table citations has 5 columns\n",
      "2025-08-05 10:48:16,806 - api.database.duckdb_schema - INFO - Table citations has 5 columns\n",
      "2025-08-05 10:48:16,806 - api.database.duckdb_schema - INFO - Table citations has 5 columns\n",
      "2025-08-05 10:48:16,810 - api.database.duckdb_schema - INFO - Table chunks has 6 columns\n",
      "2025-08-05 10:48:16,810 - api.database.duckdb_schema - INFO - Table chunks has 6 columns\n",
      "2025-08-05 10:48:16,810 - api.database.duckdb_schema - INFO - Table chunks has 6 columns\n",
      "2025-08-05 10:48:16,813 - api.database.duckdb_schema - INFO - Table datasets has 11 columns\n",
      "2025-08-05 10:48:16,813 - api.database.duckdb_schema - INFO - Table datasets has 11 columns\n",
      "2025-08-05 10:48:16,813 - api.database.duckdb_schema - INFO - Table datasets has 11 columns\n",
      "2025-08-05 10:48:16,817 - api.database.duckdb_schema - INFO - Table engineered_feature_values has 6 columns\n",
      "2025-08-05 10:48:16,817 - api.database.duckdb_schema - INFO - Table engineered_feature_values has 6 columns\n",
      "2025-08-05 10:48:16,817 - api.database.duckdb_schema - INFO - Table engineered_feature_values has 6 columns\n",
      "2025-08-05 10:48:16,821 - api.database.duckdb_schema - INFO - Schema validation completed successfully\n",
      "2025-08-05 10:48:16,821 - api.database.duckdb_schema - INFO - Schema validation completed successfully\n",
      "2025-08-05 10:48:16,821 - api.database.duckdb_schema - INFO - Schema validation completed successfully\n",
      "2025-08-05 10:48:16,825 - src.helpers - INFO - DuckDB schema initialization completed successfully\n",
      "2025-08-05 10:48:16,825 - src.helpers - INFO - DuckDB schema initialization completed successfully\n",
      "2025-08-05 10:48:16,825 - src.helpers - INFO - DuckDB schema initialization completed successfully\n",
      "2025-08-05 10:48:16,829 - api.database.duckdb_schema - INFO - Database connection closed\n",
      "2025-08-05 10:48:16,829 - api.database.duckdb_schema - INFO - Database connection closed\n",
      "2025-08-05 10:48:16,829 - api.database.duckdb_schema - INFO - Database connection closed\n",
      "2025-08-05 10:48:16,837 - src.helpers - INFO - Database connection closed\n",
      "2025-08-05 10:48:16,837 - src.helpers - INFO - Database connection closed\n",
      "2025-08-05 10:48:16,837 - src.helpers - INFO - Database connection closed\n"
     ]
    }
   ],
   "source": [
    "from api.utils.duckdb_utils import DuckDBHelper\n",
    "\n",
    "db_helper = DuckDBHelper()\n",
    "\n",
    "db_helper.close()"
   ]
  }
 ],
 "metadata": {
  "kernelspec": {
   "display_name": "mdc-challenge-2025",
   "language": "python",
   "name": "python3"
  },
  "language_info": {
   "codemirror_mode": {
    "name": "ipython",
    "version": 3
   },
   "file_extension": ".py",
   "mimetype": "text/x-python",
   "name": "python",
   "nbconvert_exporter": "python",
   "pygments_lexer": "ipython3",
   "version": "3.12.2"
  }
 },
 "nbformat": 4,
 "nbformat_minor": 5
}
