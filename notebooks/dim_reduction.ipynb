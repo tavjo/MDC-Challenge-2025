{
 "cells": [
  {
   "cell_type": "code",
   "execution_count": 1,
   "id": "72a155f8",
   "metadata": {},
   "outputs": [
    {
     "name": "stdout",
     "output_type": "stream",
     "text": [
      "Project root: /Users/taishajoseph/Documents/Projects/MDC-Challenge-2025\n",
      "Working from: /Users/taishajoseph/Documents/Projects/MDC-Challenge-2025/notebooks\n"
     ]
    }
   ],
   "source": [
    "import os\n",
    "import sys\n",
    "from pathlib import Path\n",
    "\n",
    "# Add project root to path \n",
    "project_root = Path.cwd().parent if Path.cwd().name == \"notebooks\" else Path.cwd()\n",
    "sys.path.append(str(project_root))\n",
    "\n",
    "print(f\"Project root: {project_root}\")\n",
    "print(f\"Working from: {Path.cwd()}\")"
   ]
  },
  {
   "cell_type": "code",
   "execution_count": 2,
   "id": "04523ca3",
   "metadata": {},
   "outputs": [
    {
     "name": "stderr",
     "output_type": "stream",
     "text": [
      "2025-08-05 21:03:19,084 - src.helpers - INFO - Logging initialized for /Users/taishajoseph/Documents/Projects/MDC-Challenge-2025/logs/duckdb_utils.log\n",
      "2025-08-05 21:03:19,084 - src.helpers - INFO - Logging initialized for /Users/taishajoseph/Documents/Projects/MDC-Challenge-2025/logs/duckdb_utils.log\n",
      "/Users/taishajoseph/miniconda3/envs/mdc-challenge-2025/lib/python3.12/site-packages/tqdm/auto.py:21: TqdmWarning: IProgress not found. Please update jupyter and ipywidgets. See https://ipywidgets.readthedocs.io/en/stable/user_install.html\n",
      "  from .autonotebook import tqdm as notebook_tqdm\n",
      "2025-08-05 21:03:29,425 - src.helpers - INFO - Logging initialized for /Users/taishajoseph/Documents/Projects/MDC-Challenge-2025/logs/dimensionality_reduction.log\n",
      "2025-08-05 21:03:29,425 - src.helpers - INFO - Logging initialized for /Users/taishajoseph/Documents/Projects/MDC-Challenge-2025/logs/dimensionality_reduction.log\n",
      "2025-08-05 21:03:29,425 - src.helpers - INFO - Logging initialized for /Users/taishajoseph/Documents/Projects/MDC-Challenge-2025/logs/dimensionality_reduction.log\n"
     ]
    }
   ],
   "source": [
    "from src.dimensionality_reduction import Reducer"
   ]
  },
  {
   "cell_type": "code",
   "execution_count": 3,
   "id": "b187bf6c",
   "metadata": {},
   "outputs": [],
   "source": [
    "# reduce = Reducer()"
   ]
  },
  {
   "cell_type": "code",
   "execution_count": 4,
   "id": "96ce9389",
   "metadata": {},
   "outputs": [],
   "source": [
    "# data = reduce.load_datasets_from_duckdb()\n",
    "# len(data)"
   ]
  },
  {
   "cell_type": "code",
   "execution_count": 5,
   "id": "9f7d1b81",
   "metadata": {},
   "outputs": [],
   "source": [
    "# from api.utils.duckdb_utils import DuckDBHelper\n",
    "\n",
    "# db_helper = DuckDBHelper()"
   ]
  },
  {
   "cell_type": "code",
   "execution_count": 6,
   "id": "c81b27aa",
   "metadata": {},
   "outputs": [],
   "source": [
    "# db_helper.get_database_stats()"
   ]
  },
  {
   "cell_type": "code",
   "execution_count": 7,
   "id": "a176a3ca",
   "metadata": {},
   "outputs": [],
   "source": [
    "# data = db_helper.get_all_datasets()\n",
    "# len(data)"
   ]
  },
  {
   "cell_type": "code",
   "execution_count": 8,
   "id": "20d3309b",
   "metadata": {},
   "outputs": [
    {
     "name": "stderr",
     "output_type": "stream",
     "text": [
      "2025-08-05 21:03:29,515 - api.database.duckdb_schema - INFO - Starting DuckDB schema creation...\n",
      "2025-08-05 21:03:29,515 - api.database.duckdb_schema - INFO - Starting DuckDB schema creation...\n",
      "2025-08-05 21:03:29,515 - api.database.duckdb_schema - INFO - Starting DuckDB schema creation...\n",
      "2025-08-05 21:03:29,538 - api.database.duckdb_schema - INFO - Creating documents table...\n",
      "2025-08-05 21:03:29,538 - api.database.duckdb_schema - INFO - Creating documents table...\n",
      "2025-08-05 21:03:29,538 - api.database.duckdb_schema - INFO - Creating documents table...\n",
      "2025-08-05 21:03:29,542 - api.database.duckdb_schema - INFO - Documents table created successfully\n",
      "2025-08-05 21:03:29,542 - api.database.duckdb_schema - INFO - Documents table created successfully\n",
      "2025-08-05 21:03:29,542 - api.database.duckdb_schema - INFO - Documents table created successfully\n",
      "2025-08-05 21:03:29,545 - api.database.duckdb_schema - INFO - Creating citations table...\n",
      "2025-08-05 21:03:29,545 - api.database.duckdb_schema - INFO - Creating citations table...\n",
      "2025-08-05 21:03:29,545 - api.database.duckdb_schema - INFO - Creating citations table...\n",
      "2025-08-05 21:03:29,557 - api.database.duckdb_schema - INFO - Citations table created successfully\n",
      "2025-08-05 21:03:29,557 - api.database.duckdb_schema - INFO - Citations table created successfully\n",
      "2025-08-05 21:03:29,557 - api.database.duckdb_schema - INFO - Citations table created successfully\n",
      "2025-08-05 21:03:29,561 - api.database.duckdb_schema - INFO - Creating chunks table...\n",
      "2025-08-05 21:03:29,561 - api.database.duckdb_schema - INFO - Creating chunks table...\n",
      "2025-08-05 21:03:29,561 - api.database.duckdb_schema - INFO - Creating chunks table...\n",
      "2025-08-05 21:03:29,567 - api.database.duckdb_schema - INFO - Chunks table created successfully\n",
      "2025-08-05 21:03:29,567 - api.database.duckdb_schema - INFO - Chunks table created successfully\n",
      "2025-08-05 21:03:29,567 - api.database.duckdb_schema - INFO - Chunks table created successfully\n",
      "2025-08-05 21:03:29,569 - api.database.duckdb_schema - INFO - Creating datasets table...\n",
      "2025-08-05 21:03:29,569 - api.database.duckdb_schema - INFO - Creating datasets table...\n",
      "2025-08-05 21:03:29,569 - api.database.duckdb_schema - INFO - Creating datasets table...\n",
      "2025-08-05 21:03:29,574 - api.database.duckdb_schema - INFO - Datasets table created successfully\n",
      "2025-08-05 21:03:29,574 - api.database.duckdb_schema - INFO - Datasets table created successfully\n",
      "2025-08-05 21:03:29,574 - api.database.duckdb_schema - INFO - Datasets table created successfully\n",
      "2025-08-05 21:03:29,576 - api.database.duckdb_schema - INFO - Creating engineered_feature_values table...\n",
      "2025-08-05 21:03:29,576 - api.database.duckdb_schema - INFO - Creating engineered_feature_values table...\n",
      "2025-08-05 21:03:29,576 - api.database.duckdb_schema - INFO - Creating engineered_feature_values table...\n",
      "2025-08-05 21:03:29,582 - api.database.duckdb_schema - INFO - engineered_feature_values table created successfully\n",
      "2025-08-05 21:03:29,582 - api.database.duckdb_schema - INFO - engineered_feature_values table created successfully\n",
      "2025-08-05 21:03:29,582 - api.database.duckdb_schema - INFO - engineered_feature_values table created successfully\n",
      "2025-08-05 21:03:29,586 - api.database.duckdb_schema - INFO - Creating indexes...\n",
      "2025-08-05 21:03:29,586 - api.database.duckdb_schema - INFO - Creating indexes...\n",
      "2025-08-05 21:03:29,586 - api.database.duckdb_schema - INFO - Creating indexes...\n",
      "2025-08-05 21:03:29,593 - api.database.duckdb_schema - INFO - Indexes created successfully\n",
      "2025-08-05 21:03:29,593 - api.database.duckdb_schema - INFO - Indexes created successfully\n",
      "2025-08-05 21:03:29,593 - api.database.duckdb_schema - INFO - Indexes created successfully\n",
      "2025-08-05 21:03:29,596 - api.database.duckdb_schema - INFO - DuckDB schema creation completed successfully\n",
      "2025-08-05 21:03:29,596 - api.database.duckdb_schema - INFO - DuckDB schema creation completed successfully\n",
      "2025-08-05 21:03:29,596 - api.database.duckdb_schema - INFO - DuckDB schema creation completed successfully\n",
      "2025-08-05 21:03:29,599 - api.database.duckdb_schema - INFO - Validating schema...\n",
      "2025-08-05 21:03:29,599 - api.database.duckdb_schema - INFO - Validating schema...\n",
      "2025-08-05 21:03:29,599 - api.database.duckdb_schema - INFO - Validating schema...\n",
      "2025-08-05 21:03:29,639 - api.database.duckdb_schema - INFO - Table documents has 14 columns\n",
      "2025-08-05 21:03:29,639 - api.database.duckdb_schema - INFO - Table documents has 14 columns\n",
      "2025-08-05 21:03:29,639 - api.database.duckdb_schema - INFO - Table documents has 14 columns\n",
      "2025-08-05 21:03:29,643 - api.database.duckdb_schema - INFO - Table citations has 5 columns\n",
      "2025-08-05 21:03:29,643 - api.database.duckdb_schema - INFO - Table citations has 5 columns\n",
      "2025-08-05 21:03:29,643 - api.database.duckdb_schema - INFO - Table citations has 5 columns\n",
      "2025-08-05 21:03:29,647 - api.database.duckdb_schema - INFO - Table chunks has 6 columns\n",
      "2025-08-05 21:03:29,647 - api.database.duckdb_schema - INFO - Table chunks has 6 columns\n",
      "2025-08-05 21:03:29,647 - api.database.duckdb_schema - INFO - Table chunks has 6 columns\n",
      "2025-08-05 21:03:29,652 - api.database.duckdb_schema - INFO - Table datasets has 11 columns\n",
      "2025-08-05 21:03:29,652 - api.database.duckdb_schema - INFO - Table datasets has 11 columns\n",
      "2025-08-05 21:03:29,652 - api.database.duckdb_schema - INFO - Table datasets has 11 columns\n",
      "2025-08-05 21:03:29,656 - api.database.duckdb_schema - INFO - Table engineered_feature_values has 6 columns\n",
      "2025-08-05 21:03:29,656 - api.database.duckdb_schema - INFO - Table engineered_feature_values has 6 columns\n",
      "2025-08-05 21:03:29,656 - api.database.duckdb_schema - INFO - Table engineered_feature_values has 6 columns\n",
      "2025-08-05 21:03:29,659 - api.database.duckdb_schema - INFO - Schema validation completed successfully\n",
      "2025-08-05 21:03:29,659 - api.database.duckdb_schema - INFO - Schema validation completed successfully\n",
      "2025-08-05 21:03:29,659 - api.database.duckdb_schema - INFO - Schema validation completed successfully\n",
      "2025-08-05 21:03:29,662 - src.helpers - INFO - DuckDB schema initialization completed successfully\n",
      "2025-08-05 21:03:29,662 - src.helpers - INFO - DuckDB schema initialization completed successfully\n",
      "2025-08-05 21:03:29,662 - src.helpers - INFO - DuckDB schema initialization completed successfully\n",
      "2025-08-05 21:03:29,669 - api.database.duckdb_schema - INFO - Database connection closed\n",
      "2025-08-05 21:03:29,669 - api.database.duckdb_schema - INFO - Database connection closed\n",
      "2025-08-05 21:03:29,669 - api.database.duckdb_schema - INFO - Database connection closed\n",
      "2025-08-05 21:03:29,672 - src.helpers - INFO - Loading datasets from DuckDB...\n",
      "2025-08-05 21:03:29,672 - src.helpers - INFO - Loading datasets from DuckDB...\n",
      "2025-08-05 21:03:29,672 - src.helpers - INFO - Loading datasets from DuckDB...\n",
      "2025-08-05 21:03:29,717 - src.helpers - INFO - Retrieved 487 datasets from database\n",
      "2025-08-05 21:03:29,717 - src.helpers - INFO - Retrieved 487 datasets from database\n",
      "2025-08-05 21:03:29,717 - src.helpers - INFO - Retrieved 487 datasets from database\n",
      "2025-08-05 21:03:29,720 - src.helpers - INFO - ✅ Successfully loaded 487 datasets from DuckDB\n"
     ]
    },
    {
     "name": "stderr",
     "output_type": "stream",
     "text": [
      "2025-08-05 21:03:29,720 - src.helpers - INFO - ✅ Successfully loaded 487 datasets from DuckDB\n",
      "2025-08-05 21:03:29,720 - src.helpers - INFO - ✅ Successfully loaded 487 datasets from DuckDB\n",
      "2025-08-05 21:03:29,732 - src.helpers - INFO - Database connection closed\n",
      "2025-08-05 21:03:29,732 - src.helpers - INFO - Database connection closed\n",
      "2025-08-05 21:03:29,732 - src.helpers - INFO - Database connection closed\n"
     ]
    },
    {
     "name": "stdout",
     "output_type": "stream",
     "text": [
      "Using database: ../artifacts/mdc_challenge.db\n",
      "Found 487 datasets!\n",
      "First dataset: https://doi.org/10.11583/dtu.20555586\n"
     ]
    }
   ],
   "source": [
    "# Fix: Use the correct database path (go up one directory)\n",
    "correct_db_path = \"../artifacts/mdc_challenge.db\"\n",
    "reduce_fixed = Reducer(db_path=correct_db_path)\n",
    "\n",
    "print(f\"Using database: {correct_db_path}\")\n",
    "data_fixed = reduce_fixed.load_datasets_from_duckdb()\n",
    "print(f\"Found {len(data_fixed)} datasets!\")\n",
    "\n",
    "if len(data_fixed) > 0:\n",
    "    print(f\"First dataset: {data_fixed[0].dataset_id}\")\n"
   ]
  },
  {
   "cell_type": "code",
   "execution_count": 9,
   "id": "763ceb2b",
   "metadata": {},
   "outputs": [],
   "source": [
    "# # ✅ VERIFY: Check if cluster assignments are now working\n",
    "# data_with_clusters = reduce_fixed.load_datasets_from_duckdb()\n",
    "# print(f\"Loaded {len(data_with_clusters)} datasets\")\n",
    "\n",
    "# # Check cluster distribution\n",
    "# cluster_counts = {}\n",
    "# for dataset in data_with_clusters:\n",
    "#     cluster = dataset.cluster or \"None\"\n",
    "#     cluster_counts[cluster] = cluster_counts.get(cluster, 0) + 1\n",
    "\n",
    "# print(f\"\\nCluster assignments:\")\n",
    "# for cluster, count in sorted(cluster_counts.items()):\n",
    "#     if cluster != \"None\":\n",
    "#         print(f\"  {cluster}: {count} datasets\")\n",
    "\n",
    "# print(f\"\\nFirst dataset:\")\n",
    "# print(f\"  ID: {data_with_clusters[0].dataset_id}\")\n",
    "# print(f\"  Cluster: {data_with_clusters[0].cluster}\")\n",
    "# print(f\"  Type: {data_with_clusters[0].dataset_type}\")\n",
    "\n",
    "# datasets_with_clusters = len([d for d in data_with_clusters if d.cluster is not None])\n",
    "# print(f\"\\n🎉 SUCCESS: {datasets_with_clusters}/{len(data_with_clusters)} datasets have cluster assignments!\")\n"
   ]
  },
  {
   "cell_type": "code",
   "execution_count": 10,
   "id": "7354a922",
   "metadata": {},
   "outputs": [],
   "source": [
    "# data_fixed[0]"
   ]
  },
  {
   "cell_type": "code",
   "execution_count": 11,
   "id": "3f29b20a",
   "metadata": {},
   "outputs": [],
   "source": [
    "# data_fixed[-1].cluster"
   ]
  },
  {
   "cell_type": "markdown",
   "id": "2b53f662",
   "metadata": {},
   "source": [
    "## UMAP"
   ]
  },
  {
   "cell_type": "code",
   "execution_count": 12,
   "id": "065183df",
   "metadata": {},
   "outputs": [
    {
     "name": "stderr",
     "output_type": "stream",
     "text": [
      "2025-08-05 21:03:29,771 - src.helpers - INFO - Loading embeddings with URL: http://localhost:8000/load_embeddings\n",
      "2025-08-05 21:03:29,771 - src.helpers - INFO - Loading embeddings with URL: http://localhost:8000/load_embeddings\n",
      "2025-08-05 21:03:29,771 - src.helpers - INFO - Loading embeddings with URL: http://localhost:8000/load_embeddings\n",
      "2025-08-05 21:03:29,774 - src.helpers - INFO - Using collection: dataset-aggregates-train\n",
      "2025-08-05 21:03:29,774 - src.helpers - INFO - Using collection: dataset-aggregates-train\n",
      "2025-08-05 21:03:29,774 - src.helpers - INFO - Using collection: dataset-aggregates-train\n",
      "2025-08-05 21:03:30,513 - src.helpers - INFO - ✅ Successfully loaded 3 embeddings\n",
      "2025-08-05 21:03:30,513 - src.helpers - INFO - ✅ Successfully loaded 3 embeddings\n",
      "2025-08-05 21:03:30,513 - src.helpers - INFO - ✅ Successfully loaded 3 embeddings\n"
     ]
    },
    {
     "data": {
      "text/plain": [
       "487"
      ]
     },
     "execution_count": 12,
     "metadata": {},
     "output_type": "execute_result"
    }
   ],
   "source": [
    "embeddings = reduce_fixed.load_embeddings_from_api()\n",
    "len(embeddings)"
   ]
  },
  {
   "cell_type": "code",
   "execution_count": 13,
   "id": "cf9046d1",
   "metadata": {},
   "outputs": [],
   "source": [
    "DEFAULT_N_NEIGHBORS = 15\n",
    "DEFAULT_MIN_DIST = 0.1\n",
    "DEFAULT_N_COMPONENTS = 2\n",
    "DEFAULT_RANDOM_SEED = 42"
   ]
  },
  {
   "cell_type": "code",
   "execution_count": 14,
   "id": "3132fa9d",
   "metadata": {},
   "outputs": [
    {
     "name": "stderr",
     "output_type": "stream",
     "text": [
      "2025-08-05 21:03:30,574 - api.database.duckdb_schema - INFO - Starting DuckDB schema creation...\n",
      "2025-08-05 21:03:30,574 - api.database.duckdb_schema - INFO - Starting DuckDB schema creation...\n",
      "2025-08-05 21:03:30,574 - api.database.duckdb_schema - INFO - Starting DuckDB schema creation...\n",
      "2025-08-05 21:03:30,597 - api.database.duckdb_schema - INFO - Creating documents table...\n",
      "2025-08-05 21:03:30,597 - api.database.duckdb_schema - INFO - Creating documents table...\n",
      "2025-08-05 21:03:30,597 - api.database.duckdb_schema - INFO - Creating documents table...\n",
      "2025-08-05 21:03:30,602 - api.database.duckdb_schema - INFO - Documents table created successfully\n",
      "2025-08-05 21:03:30,602 - api.database.duckdb_schema - INFO - Documents table created successfully\n",
      "2025-08-05 21:03:30,602 - api.database.duckdb_schema - INFO - Documents table created successfully\n",
      "2025-08-05 21:03:30,605 - api.database.duckdb_schema - INFO - Creating citations table...\n",
      "2025-08-05 21:03:30,605 - api.database.duckdb_schema - INFO - Creating citations table...\n",
      "2025-08-05 21:03:30,605 - api.database.duckdb_schema - INFO - Creating citations table...\n",
      "2025-08-05 21:03:30,610 - api.database.duckdb_schema - INFO - Citations table created successfully\n",
      "2025-08-05 21:03:30,610 - api.database.duckdb_schema - INFO - Citations table created successfully\n",
      "2025-08-05 21:03:30,610 - api.database.duckdb_schema - INFO - Citations table created successfully\n",
      "2025-08-05 21:03:30,612 - api.database.duckdb_schema - INFO - Creating chunks table...\n",
      "2025-08-05 21:03:30,612 - api.database.duckdb_schema - INFO - Creating chunks table...\n",
      "2025-08-05 21:03:30,612 - api.database.duckdb_schema - INFO - Creating chunks table...\n",
      "2025-08-05 21:03:30,616 - api.database.duckdb_schema - INFO - Chunks table created successfully\n",
      "2025-08-05 21:03:30,616 - api.database.duckdb_schema - INFO - Chunks table created successfully\n",
      "2025-08-05 21:03:30,616 - api.database.duckdb_schema - INFO - Chunks table created successfully\n",
      "2025-08-05 21:03:30,618 - api.database.duckdb_schema - INFO - Creating datasets table...\n",
      "2025-08-05 21:03:30,618 - api.database.duckdb_schema - INFO - Creating datasets table...\n",
      "2025-08-05 21:03:30,618 - api.database.duckdb_schema - INFO - Creating datasets table...\n",
      "2025-08-05 21:03:30,623 - api.database.duckdb_schema - INFO - Datasets table created successfully\n",
      "2025-08-05 21:03:30,623 - api.database.duckdb_schema - INFO - Datasets table created successfully\n",
      "2025-08-05 21:03:30,623 - api.database.duckdb_schema - INFO - Datasets table created successfully\n",
      "2025-08-05 21:03:30,625 - api.database.duckdb_schema - INFO - Creating engineered_feature_values table...\n",
      "2025-08-05 21:03:30,625 - api.database.duckdb_schema - INFO - Creating engineered_feature_values table...\n",
      "2025-08-05 21:03:30,625 - api.database.duckdb_schema - INFO - Creating engineered_feature_values table...\n",
      "2025-08-05 21:03:30,631 - api.database.duckdb_schema - INFO - engineered_feature_values table created successfully\n",
      "2025-08-05 21:03:30,631 - api.database.duckdb_schema - INFO - engineered_feature_values table created successfully\n",
      "2025-08-05 21:03:30,631 - api.database.duckdb_schema - INFO - engineered_feature_values table created successfully\n",
      "2025-08-05 21:03:30,634 - api.database.duckdb_schema - INFO - Creating indexes...\n",
      "2025-08-05 21:03:30,634 - api.database.duckdb_schema - INFO - Creating indexes...\n",
      "2025-08-05 21:03:30,634 - api.database.duckdb_schema - INFO - Creating indexes...\n",
      "2025-08-05 21:03:30,643 - api.database.duckdb_schema - INFO - Indexes created successfully\n",
      "2025-08-05 21:03:30,643 - api.database.duckdb_schema - INFO - Indexes created successfully\n",
      "2025-08-05 21:03:30,643 - api.database.duckdb_schema - INFO - Indexes created successfully\n",
      "2025-08-05 21:03:30,646 - api.database.duckdb_schema - INFO - DuckDB schema creation completed successfully\n",
      "2025-08-05 21:03:30,646 - api.database.duckdb_schema - INFO - DuckDB schema creation completed successfully\n",
      "2025-08-05 21:03:30,646 - api.database.duckdb_schema - INFO - DuckDB schema creation completed successfully\n",
      "2025-08-05 21:03:30,649 - api.database.duckdb_schema - INFO - Validating schema...\n",
      "2025-08-05 21:03:30,649 - api.database.duckdb_schema - INFO - Validating schema...\n",
      "2025-08-05 21:03:30,649 - api.database.duckdb_schema - INFO - Validating schema...\n",
      "2025-08-05 21:03:30,693 - api.database.duckdb_schema - INFO - Table documents has 14 columns\n",
      "2025-08-05 21:03:30,693 - api.database.duckdb_schema - INFO - Table documents has 14 columns\n",
      "2025-08-05 21:03:30,693 - api.database.duckdb_schema - INFO - Table documents has 14 columns\n",
      "2025-08-05 21:03:30,699 - api.database.duckdb_schema - INFO - Table citations has 5 columns\n",
      "2025-08-05 21:03:30,699 - api.database.duckdb_schema - INFO - Table citations has 5 columns\n",
      "2025-08-05 21:03:30,699 - api.database.duckdb_schema - INFO - Table citations has 5 columns\n",
      "2025-08-05 21:03:30,706 - api.database.duckdb_schema - INFO - Table chunks has 6 columns\n",
      "2025-08-05 21:03:30,706 - api.database.duckdb_schema - INFO - Table chunks has 6 columns\n",
      "2025-08-05 21:03:30,706 - api.database.duckdb_schema - INFO - Table chunks has 6 columns\n",
      "2025-08-05 21:03:30,712 - api.database.duckdb_schema - INFO - Table datasets has 11 columns\n",
      "2025-08-05 21:03:30,712 - api.database.duckdb_schema - INFO - Table datasets has 11 columns\n",
      "2025-08-05 21:03:30,712 - api.database.duckdb_schema - INFO - Table datasets has 11 columns\n",
      "2025-08-05 21:03:30,719 - api.database.duckdb_schema - INFO - Table engineered_feature_values has 6 columns\n",
      "2025-08-05 21:03:30,719 - api.database.duckdb_schema - INFO - Table engineered_feature_values has 6 columns\n",
      "2025-08-05 21:03:30,719 - api.database.duckdb_schema - INFO - Table engineered_feature_values has 6 columns\n",
      "2025-08-05 21:03:30,722 - api.database.duckdb_schema - INFO - Schema validation completed successfully\n",
      "2025-08-05 21:03:30,722 - api.database.duckdb_schema - INFO - Schema validation completed successfully\n",
      "2025-08-05 21:03:30,722 - api.database.duckdb_schema - INFO - Schema validation completed successfully\n",
      "2025-08-05 21:03:30,724 - src.helpers - INFO - DuckDB schema initialization completed successfully\n",
      "2025-08-05 21:03:30,724 - src.helpers - INFO - DuckDB schema initialization completed successfully\n",
      "2025-08-05 21:03:30,724 - src.helpers - INFO - DuckDB schema initialization completed successfully\n"
     ]
    },
    {
     "name": "stderr",
     "output_type": "stream",
     "text": [
      "2025-08-05 21:03:30,733 - api.database.duckdb_schema - INFO - Database connection closed\n",
      "2025-08-05 21:03:30,733 - api.database.duckdb_schema - INFO - Database connection closed\n",
      "2025-08-05 21:03:30,733 - api.database.duckdb_schema - INFO - Database connection closed\n",
      "2025-08-05 21:03:30,736 - src.helpers - INFO - 🔄 Running UMAP reduction on 487 embeddings...\n",
      "2025-08-05 21:03:30,736 - src.helpers - INFO - 🔄 Running UMAP reduction on 487 embeddings...\n",
      "2025-08-05 21:03:30,736 - src.helpers - INFO - 🔄 Running UMAP reduction on 487 embeddings...\n",
      "2025-08-05 21:03:30,739 - src.helpers - INFO - Parameters: n_neighbors=15, min_dist=0.1, n_components=2, random_state=42\n",
      "2025-08-05 21:03:30,739 - src.helpers - INFO - Parameters: n_neighbors=15, min_dist=0.1, n_components=2, random_state=42\n",
      "2025-08-05 21:03:30,739 - src.helpers - INFO - Parameters: n_neighbors=15, min_dist=0.1, n_components=2, random_state=42\n",
      "2025-08-05 21:03:30,744 - src.helpers - INFO - Embedding matrix shape: (487, 384)\n",
      "2025-08-05 21:03:30,744 - src.helpers - INFO - Embedding matrix shape: (487, 384)\n",
      "2025-08-05 21:03:30,744 - src.helpers - INFO - Embedding matrix shape: (487, 384)\n",
      "/Users/taishajoseph/miniconda3/envs/mdc-challenge-2025/lib/python3.12/site-packages/umap/umap_.py:1952: UserWarning: n_jobs value 1 overridden to 1 by setting random_state. Use no seed for parallelism.\n",
      "  warn(\n"
     ]
    },
    {
     "name": "stdout",
     "output_type": "stream",
     "text": [
      "Fresh reducer with 487 pre-loaded datasets\n",
      "Executing run_umap_reduction...\n",
      "UMAP(n_jobs=1, random_state=42, verbose=True)\n",
      "Tue Aug  5 21:03:30 2025 Construct fuzzy simplicial set\n",
      "Tue Aug  5 21:03:31 2025 Finding Nearest Neighbors\n",
      "Tue Aug  5 21:03:37 2025 Finished Nearest Neighbor Search\n",
      "Tue Aug  5 21:03:41 2025 Construct embedding\n"
     ]
    },
    {
     "name": "stderr",
     "output_type": "stream",
     "text": [
      "Epochs completed:   6%| ▌          31/500 [00:01]"
     ]
    },
    {
     "name": "stdout",
     "output_type": "stream",
     "text": [
      "\tcompleted  0  /  500 epochs\n",
      "\tcompleted  50  /  500 epochs\n"
     ]
    },
    {
     "name": "stderr",
     "output_type": "stream",
     "text": [
      "Epochs completed:  32%| ███▏       159/500 [00:01]"
     ]
    },
    {
     "name": "stdout",
     "output_type": "stream",
     "text": [
      "\tcompleted  100  /  500 epochs\n",
      "\tcompleted  150  /  500 epochs\n"
     ]
    },
    {
     "name": "stderr",
     "output_type": "stream",
     "text": [
      "Epochs completed:  50%| █████      250/500 [00:01]"
     ]
    },
    {
     "name": "stdout",
     "output_type": "stream",
     "text": [
      "\tcompleted  200  /  500 epochs\n",
      "\tcompleted  250  /  500 epochs\n"
     ]
    },
    {
     "name": "stderr",
     "output_type": "stream",
     "text": [
      "Epochs completed:  68%| ██████▊    342/500 [00:02]"
     ]
    },
    {
     "name": "stdout",
     "output_type": "stream",
     "text": [
      "\tcompleted  300  /  500 epochs\n",
      "\tcompleted  350  /  500 epochs\n"
     ]
    },
    {
     "name": "stderr",
     "output_type": "stream",
     "text": [
      "Epochs completed:  87%| ████████▋  433/500 [00:02]"
     ]
    },
    {
     "name": "stdout",
     "output_type": "stream",
     "text": [
      "\tcompleted  400  /  500 epochs\n",
      "\tcompleted  450  /  500 epochs\n"
     ]
    },
    {
     "name": "stderr",
     "output_type": "stream",
     "text": [
      "Epochs completed: 100%| ██████████ 500/500 [00:02]\n",
      "2025-08-05 21:03:44,226 - src.helpers - INFO - UMAP embeddings shape: (487, 2)\n",
      "2025-08-05 21:03:44,226 - src.helpers - INFO - UMAP embeddings shape: (487, 2)\n",
      "2025-08-05 21:03:44,226 - src.helpers - INFO - UMAP embeddings shape: (487, 2)\n",
      "2025-08-05 21:03:44,230 - src.helpers - INFO - Saving UMAP features for 487 datasets to DuckDB...\n",
      "2025-08-05 21:03:44,230 - src.helpers - INFO - Saving UMAP features for 487 datasets to DuckDB...\n",
      "2025-08-05 21:03:44,230 - src.helpers - INFO - Saving UMAP features for 487 datasets to DuckDB...\n",
      "2025-08-05 21:03:44,332 - src.helpers - INFO - ✅ Upserted 1461 feature rows.\n",
      "2025-08-05 21:03:44,332 - src.helpers - INFO - ✅ Upserted 1461 feature rows.\n",
      "2025-08-05 21:03:44,332 - src.helpers - INFO - ✅ Upserted 1461 feature rows.\n",
      "2025-08-05 21:03:44,335 - src.helpers - INFO - ✅ Successfully saved UMAP features for 487 datasets\n",
      "2025-08-05 21:03:44,335 - src.helpers - INFO - ✅ Successfully saved UMAP features for 487 datasets\n",
      "2025-08-05 21:03:44,335 - src.helpers - INFO - ✅ Successfully saved UMAP features for 487 datasets\n",
      "2025-08-05 21:03:44,338 - src.helpers - INFO - ✅ UMAP reduction completed successfully!\n",
      "2025-08-05 21:03:44,338 - src.helpers - INFO - ✅ UMAP reduction completed successfully!\n",
      "2025-08-05 21:03:44,338 - src.helpers - INFO - ✅ UMAP reduction completed successfully!\n"
     ]
    },
    {
     "name": "stdout",
     "output_type": "stream",
     "text": [
      "Tue Aug  5 21:03:44 2025 Finished embedding\n",
      "Function run_umap_reduction took 13.6042 seconds to complete.\n"
     ]
    }
   ],
   "source": [
    "# Fix: Create fresh Reducer with active database connection and pre-loaded datasets\n",
    "fresh_reducer = Reducer(db_path=\"../artifacts/mdc_challenge.db\")\n",
    "fresh_reducer.datasets = data_fixed  # Pre-load datasets to avoid connection issues\n",
    "print(f\"Fresh reducer with {len(fresh_reducer.datasets)} pre-loaded datasets\")\n",
    "\n",
    "# Run UMAP reduction with fresh connection\n",
    "res = fresh_reducer.run_umap_reduction(embeddings, n_neighbors=15, min_dist=0.1, n_components=2, random_seed=42)\n"
   ]
  },
  {
   "cell_type": "code",
   "execution_count": 15,
   "id": "067f508d",
   "metadata": {},
   "outputs": [
    {
     "name": "stderr",
     "output_type": "stream",
     "text": [
      "2025-08-05 21:03:44,351 - src.helpers - INFO - 🎨 Creating cluster visualization...\n",
      "2025-08-05 21:03:44,351 - src.helpers - INFO - 🎨 Creating cluster visualization...\n",
      "2025-08-05 21:03:44,351 - src.helpers - INFO - 🎨 Creating cluster visualization...\n"
     ]
    },
    {
     "name": "stdout",
     "output_type": "stream",
     "text": [
      "Executing create_cluster_visualization...\n"
     ]
    },
    {
     "name": "stderr",
     "output_type": "stream",
     "text": [
      "2025-08-05 21:03:47,423 - src.helpers - INFO - ✅ Cluster visualization saved to: reports/dimensionality_reduction/cluster_visualization.png\n",
      "2025-08-05 21:03:47,423 - src.helpers - INFO - ✅ Cluster visualization saved to: reports/dimensionality_reduction/cluster_visualization.png\n",
      "2025-08-05 21:03:47,423 - src.helpers - INFO - ✅ Cluster visualization saved to: reports/dimensionality_reduction/cluster_visualization.png\n"
     ]
    },
    {
     "name": "stdout",
     "output_type": "stream",
     "text": [
      "Function create_cluster_visualization took 3.0745 seconds to complete.\n"
     ]
    },
    {
     "data": {
      "text/plain": [
       "True"
      ]
     },
     "execution_count": 15,
     "metadata": {},
     "output_type": "execute_result"
    }
   ],
   "source": [
    "fresh_reducer.create_cluster_visualization(embeddings)"
   ]
  },
  {
   "cell_type": "code",
   "execution_count": 16,
   "id": "f39eb552",
   "metadata": {},
   "outputs": [
    {
     "name": "stderr",
     "output_type": "stream",
     "text": [
      "2025-08-05 21:03:47,435 - src.helpers - INFO - 🎨 Creating ground truth visualization...\n",
      "2025-08-05 21:03:47,435 - src.helpers - INFO - 🎨 Creating ground truth visualization...\n",
      "2025-08-05 21:03:47,435 - src.helpers - INFO - 🎨 Creating ground truth visualization...\n"
     ]
    },
    {
     "name": "stdout",
     "output_type": "stream",
     "text": [
      "Executing create_ground_truth_visualization...\n"
     ]
    },
    {
     "name": "stderr",
     "output_type": "stream",
     "text": [
      "2025-08-05 21:03:48,252 - src.helpers - INFO - ✅ Ground truth visualization saved to: reports/dimensionality_reduction/ground_truth_visualization.png\n",
      "2025-08-05 21:03:48,252 - src.helpers - INFO - ✅ Ground truth visualization saved to: reports/dimensionality_reduction/ground_truth_visualization.png\n",
      "2025-08-05 21:03:48,252 - src.helpers - INFO - ✅ Ground truth visualization saved to: reports/dimensionality_reduction/ground_truth_visualization.png\n"
     ]
    },
    {
     "name": "stdout",
     "output_type": "stream",
     "text": [
      "Function create_ground_truth_visualization took 0.8198 seconds to complete.\n"
     ]
    },
    {
     "data": {
      "text/plain": [
       "True"
      ]
     },
     "execution_count": 16,
     "metadata": {},
     "output_type": "execute_result"
    }
   ],
   "source": [
    "fresh_reducer.create_ground_truth_visualization(embeddings)"
   ]
  },
  {
   "cell_type": "code",
   "execution_count": 17,
   "id": "3ab73622",
   "metadata": {},
   "outputs": [
    {
     "data": {
      "text/html": [
       "<div>\n",
       "<style scoped>\n",
       "    .dataframe tbody tr th:only-of-type {\n",
       "        vertical-align: middle;\n",
       "    }\n",
       "\n",
       "    .dataframe tbody tr th {\n",
       "        vertical-align: top;\n",
       "    }\n",
       "\n",
       "    .dataframe thead th {\n",
       "        text-align: right;\n",
       "    }\n",
       "</style>\n",
       "<table border=\"1\" class=\"dataframe\">\n",
       "  <thead>\n",
       "    <tr style=\"text-align: right;\">\n",
       "      <th></th>\n",
       "      <th>https://doi.org/10.11583/dtu.20555586</th>\n",
       "      <th>https://doi.org/10.5281/zenodo.8014150</th>\n",
       "      <th>ENSOARG00000003950</th>\n",
       "      <th>ENSOARG00000012128</th>\n",
       "      <th>ENSOARG00000012835</th>\n",
       "      <th>ENSOARG00000013782</th>\n",
       "      <th>ENSOARG00000013966</th>\n",
       "      <th>ENSOARG00000014129</th>\n",
       "      <th>IPR000264</th>\n",
       "      <th>IPR002172</th>\n",
       "      <th>...</th>\n",
       "      <th>https://doi.org/10.3334/cdiac/otg.ndp093_glodapv2</th>\n",
       "      <th>https://doi.org/10.6096/aeroclo.1754</th>\n",
       "      <th>https://doi.org/10.6096/aeroclo.1774</th>\n",
       "      <th>https://doi.org/10.6096/aeroclo.1777</th>\n",
       "      <th>https://doi.org/10.22033/esgf/cmip6.10843</th>\n",
       "      <th>https://doi.org/10.22033/esgf/cmip6.1621</th>\n",
       "      <th>https://doi.org/10.5066/f72j69rm</th>\n",
       "      <th>https://doi.org/10.15468/dl.a2a348</th>\n",
       "      <th>https://doi.org/10.15468/dl.k8zeq6</th>\n",
       "      <th>https://doi.org/10.6078/d1k419</th>\n",
       "    </tr>\n",
       "  </thead>\n",
       "  <tbody>\n",
       "    <tr>\n",
       "      <th>0</th>\n",
       "      <td>-8.534961</td>\n",
       "      <td>13.646475</td>\n",
       "      <td>16.815632</td>\n",
       "      <td>16.847464</td>\n",
       "      <td>16.837645</td>\n",
       "      <td>16.81308</td>\n",
       "      <td>16.775257</td>\n",
       "      <td>16.787197</td>\n",
       "      <td>16.855883</td>\n",
       "      <td>16.794903</td>\n",
       "      <td>...</td>\n",
       "      <td>-9.549592</td>\n",
       "      <td>-9.545057</td>\n",
       "      <td>-8.820501</td>\n",
       "      <td>-8.808505</td>\n",
       "      <td>-8.729691</td>\n",
       "      <td>-8.762401</td>\n",
       "      <td>-9.656613</td>\n",
       "      <td>-8.821649</td>\n",
       "      <td>-8.845269</td>\n",
       "      <td>25.909603</td>\n",
       "    </tr>\n",
       "    <tr>\n",
       "      <th>1</th>\n",
       "      <td>4.728017</td>\n",
       "      <td>6.295977</td>\n",
       "      <td>3.153131</td>\n",
       "      <td>3.121337</td>\n",
       "      <td>3.181674</td>\n",
       "      <td>3.15744</td>\n",
       "      <td>3.195567</td>\n",
       "      <td>3.183709</td>\n",
       "      <td>3.115013</td>\n",
       "      <td>3.153053</td>\n",
       "      <td>...</td>\n",
       "      <td>4.783882</td>\n",
       "      <td>4.961493</td>\n",
       "      <td>5.552035</td>\n",
       "      <td>5.526095</td>\n",
       "      <td>5.033782</td>\n",
       "      <td>4.906552</td>\n",
       "      <td>3.494139</td>\n",
       "      <td>2.328143</td>\n",
       "      <td>2.384678</td>\n",
       "      <td>19.751556</td>\n",
       "    </tr>\n",
       "  </tbody>\n",
       "</table>\n",
       "<p>2 rows × 487 columns</p>\n",
       "</div>"
      ],
      "text/plain": [
       "   https://doi.org/10.11583/dtu.20555586  \\\n",
       "0                              -8.534961   \n",
       "1                               4.728017   \n",
       "\n",
       "   https://doi.org/10.5281/zenodo.8014150  ENSOARG00000003950  \\\n",
       "0                               13.646475           16.815632   \n",
       "1                                6.295977            3.153131   \n",
       "\n",
       "   ENSOARG00000012128  ENSOARG00000012835  ENSOARG00000013782  \\\n",
       "0           16.847464           16.837645            16.81308   \n",
       "1            3.121337            3.181674             3.15744   \n",
       "\n",
       "   ENSOARG00000013966  ENSOARG00000014129  IPR000264  IPR002172  ...  \\\n",
       "0           16.775257           16.787197  16.855883  16.794903  ...   \n",
       "1            3.195567            3.183709   3.115013   3.153053  ...   \n",
       "\n",
       "   https://doi.org/10.3334/cdiac/otg.ndp093_glodapv2  \\\n",
       "0                                          -9.549592   \n",
       "1                                           4.783882   \n",
       "\n",
       "   https://doi.org/10.6096/aeroclo.1754  https://doi.org/10.6096/aeroclo.1774  \\\n",
       "0                             -9.545057                             -8.820501   \n",
       "1                              4.961493                              5.552035   \n",
       "\n",
       "   https://doi.org/10.6096/aeroclo.1777  \\\n",
       "0                             -8.808505   \n",
       "1                              5.526095   \n",
       "\n",
       "   https://doi.org/10.22033/esgf/cmip6.10843  \\\n",
       "0                                  -8.729691   \n",
       "1                                   5.033782   \n",
       "\n",
       "   https://doi.org/10.22033/esgf/cmip6.1621  https://doi.org/10.5066/f72j69rm  \\\n",
       "0                                 -8.762401                         -9.656613   \n",
       "1                                  4.906552                          3.494139   \n",
       "\n",
       "   https://doi.org/10.15468/dl.a2a348  https://doi.org/10.15468/dl.k8zeq6  \\\n",
       "0                           -8.821649                           -8.845269   \n",
       "1                            2.328143                            2.384678   \n",
       "\n",
       "   https://doi.org/10.6078/d1k419  \n",
       "0                       25.909603  \n",
       "1                       19.751556  \n",
       "\n",
       "[2 rows x 487 columns]"
      ]
     },
     "execution_count": 17,
     "metadata": {},
     "output_type": "execute_result"
    }
   ],
   "source": [
    "import pandas as pd\n",
    "\n",
    "res_df = pd.DataFrame(res)\n",
    "res_df"
   ]
  },
  {
   "cell_type": "markdown",
   "id": "891b736a",
   "metadata": {},
   "source": [
    "## PCA"
   ]
  },
  {
   "cell_type": "code",
   "execution_count": 20,
   "id": "a4d41d7b",
   "metadata": {},
   "outputs": [
    {
     "name": "stderr",
     "output_type": "stream",
     "text": [
      "2025-08-05 21:05:29,270 - src.helpers - INFO - Loading feature clusters from /Users/taishajoseph/Documents/Projects/MDC-Challenge-2025/reports/clustering/feature_clusters.json...\n",
      "2025-08-05 21:05:29,270 - src.helpers - INFO - Loading feature clusters from /Users/taishajoseph/Documents/Projects/MDC-Challenge-2025/reports/clustering/feature_clusters.json...\n",
      "2025-08-05 21:05:29,270 - src.helpers - INFO - Loading feature clusters from /Users/taishajoseph/Documents/Projects/MDC-Challenge-2025/reports/clustering/feature_clusters.json...\n",
      "2025-08-05 21:05:29,275 - src.helpers - INFO - ✅ Successfully loaded 384 feature cluster mappings\n",
      "2025-08-05 21:05:29,275 - src.helpers - INFO - ✅ Successfully loaded 384 feature cluster mappings\n",
      "2025-08-05 21:05:29,275 - src.helpers - INFO - ✅ Successfully loaded 384 feature cluster mappings\n"
     ]
    },
    {
     "data": {
      "text/plain": [
       "384"
      ]
     },
     "execution_count": 20,
     "metadata": {},
     "output_type": "execute_result"
    }
   ],
   "source": [
    "# Load feature clusters\n",
    "feature_cluster_map = fresh_reducer.load_feature_clusters(os.path.join(project_root, \"reports/clustering/feature_clusters.json\"))\n",
    "len(feature_cluster_map)"
   ]
  },
  {
   "cell_type": "code",
   "execution_count": 22,
   "id": "059cc93b",
   "metadata": {},
   "outputs": [],
   "source": [
    "import numpy as np\n",
    "\n",
    "# Convert embeddings dict to matrix format\n",
    "dataset_ids = list(embeddings.keys())\n",
    "dataset_embeddings = np.array([embeddings[ds_id] for ds_id in dataset_ids])"
   ]
  },
  {
   "cell_type": "code",
   "execution_count": 23,
   "id": "865dc568",
   "metadata": {},
   "outputs": [
    {
     "name": "stderr",
     "output_type": "stream",
     "text": [
      "2025-08-05 21:05:55,174 - src.helpers - INFO - 🔄 Running feature-cluster PCA...\n",
      "2025-08-05 21:05:55,174 - src.helpers - INFO - 🔄 Running feature-cluster PCA...\n",
      "2025-08-05 21:05:55,174 - src.helpers - INFO - 🔄 Running feature-cluster PCA...\n",
      "2025-08-05 21:05:55,177 - src.helpers - INFO - Processing 51 feature clusters\n",
      "2025-08-05 21:05:55,177 - src.helpers - INFO - Processing 51 feature clusters\n",
      "2025-08-05 21:05:55,177 - src.helpers - INFO - Processing 51 feature clusters\n",
      "2025-08-05 21:05:55,186 - src.helpers - INFO - cluster_6: PC1 var ratio = 0.3765\n",
      "2025-08-05 21:05:55,190 - src.helpers - INFO - cluster_30: PC1 var ratio = 0.4035\n",
      "2025-08-05 21:05:55,186 - src.helpers - INFO - cluster_6: PC1 var ratio = 0.3765\n",
      "2025-08-05 21:05:55,186 - src.helpers - INFO - cluster_6: PC1 var ratio = 0.3765\n",
      "2025-08-05 21:05:55,191 - src.helpers - INFO - cluster_10: PC1 var ratio = 0.3343\n",
      "2025-08-05 21:05:55,190 - src.helpers - INFO - cluster_30: PC1 var ratio = 0.4035\n",
      "2025-08-05 21:05:55,191 - src.helpers - INFO - cluster_13: PC1 var ratio = 0.2868\n",
      "2025-08-05 21:05:55,191 - src.helpers - INFO - cluster_10: PC1 var ratio = 0.3343\n",
      "2025-08-05 21:05:55,190 - src.helpers - INFO - cluster_30: PC1 var ratio = 0.4035\n",
      "2025-08-05 21:05:55,191 - src.helpers - INFO - cluster_10: PC1 var ratio = 0.3343\n",
      "2025-08-05 21:05:55,195 - src.helpers - INFO - cluster_26: PC1 var ratio = 0.3567\n",
      "2025-08-05 21:05:55,191 - src.helpers - INFO - cluster_13: PC1 var ratio = 0.2868\n",
      "2025-08-05 21:05:55,191 - src.helpers - INFO - cluster_13: PC1 var ratio = 0.2868\n",
      "2025-08-05 21:05:55,195 - src.helpers - INFO - cluster_0: PC1 var ratio = 0.3503\n",
      "2025-08-05 21:05:55,195 - src.helpers - INFO - cluster_26: PC1 var ratio = 0.3567\n",
      "2025-08-05 21:05:55,196 - src.helpers - INFO - cluster_11: PC1 var ratio = 0.4635\n",
      "2025-08-05 21:05:55,195 - src.helpers - INFO - cluster_0: PC1 var ratio = 0.3503\n",
      "2025-08-05 21:05:55,195 - src.helpers - INFO - cluster_26: PC1 var ratio = 0.3567\n",
      "2025-08-05 21:05:55,196 - src.helpers - INFO - cluster_21: PC1 var ratio = 0.4328\n",
      "2025-08-05 21:05:55,196 - src.helpers - INFO - cluster_11: PC1 var ratio = 0.4635\n",
      "2025-08-05 21:05:55,195 - src.helpers - INFO - cluster_0: PC1 var ratio = 0.3503\n",
      "2025-08-05 21:05:55,200 - src.helpers - INFO - cluster_31: PC1 var ratio = 0.3287\n",
      "2025-08-05 21:05:55,196 - src.helpers - INFO - cluster_21: PC1 var ratio = 0.4328\n",
      "2025-08-05 21:05:55,196 - src.helpers - INFO - cluster_11: PC1 var ratio = 0.4635\n",
      "2025-08-05 21:05:55,202 - src.helpers - INFO - cluster_40: PC1 var ratio = 0.4058\n",
      "2025-08-05 21:05:55,200 - src.helpers - INFO - cluster_31: PC1 var ratio = 0.3287\n",
      "2025-08-05 21:05:55,211 - src.helpers - INFO - cluster_5: PC1 var ratio = 0.3870\n",
      "2025-08-05 21:05:55,196 - src.helpers - INFO - cluster_21: PC1 var ratio = 0.4328\n",
      "2025-08-05 21:05:55,202 - src.helpers - INFO - cluster_40: PC1 var ratio = 0.4058\n",
      "2025-08-05 21:05:55,217 - src.helpers - INFO - cluster_38: PC1 var ratio = 0.5568\n",
      "2025-08-05 21:05:55,200 - src.helpers - INFO - cluster_31: PC1 var ratio = 0.3287\n",
      "2025-08-05 21:05:55,211 - src.helpers - INFO - cluster_5: PC1 var ratio = 0.3870\n",
      "2025-08-05 21:05:55,220 - src.helpers - INFO - cluster_46: PC1 var ratio = 0.4747\n",
      "2025-08-05 21:05:55,202 - src.helpers - INFO - cluster_40: PC1 var ratio = 0.4058\n",
      "2025-08-05 21:05:55,217 - src.helpers - INFO - cluster_38: PC1 var ratio = 0.5568\n",
      "2025-08-05 21:05:55,224 - src.helpers - INFO - cluster_12: PC1 var ratio = 0.3866\n",
      "2025-08-05 21:05:55,211 - src.helpers - INFO - cluster_5: PC1 var ratio = 0.3870\n",
      "2025-08-05 21:05:55,220 - src.helpers - INFO - cluster_46: PC1 var ratio = 0.4747\n",
      "2025-08-05 21:05:55,217 - src.helpers - INFO - cluster_38: PC1 var ratio = 0.5568\n",
      "2025-08-05 21:05:55,303 - src.helpers - INFO - cluster_16: PC1 var ratio = 0.4151\n",
      "2025-08-05 21:05:55,224 - src.helpers - INFO - cluster_12: PC1 var ratio = 0.3866\n",
      "2025-08-05 21:05:55,220 - src.helpers - INFO - cluster_46: PC1 var ratio = 0.4747\n",
      "2025-08-05 21:05:55,308 - src.helpers - INFO - cluster_28: PC1 var ratio = 0.5040\n",
      "2025-08-05 21:05:55,224 - src.helpers - INFO - cluster_12: PC1 var ratio = 0.3866\n",
      "2025-08-05 21:05:55,303 - src.helpers - INFO - cluster_16: PC1 var ratio = 0.4151\n",
      "2025-08-05 21:05:55,313 - src.helpers - INFO - cluster_42: PC1 var ratio = 0.3780\n",
      "2025-08-05 21:05:55,308 - src.helpers - INFO - cluster_28: PC1 var ratio = 0.5040\n",
      "2025-08-05 21:05:55,303 - src.helpers - INFO - cluster_16: PC1 var ratio = 0.4151\n",
      "2025-08-05 21:05:55,313 - src.helpers - INFO - cluster_42: PC1 var ratio = 0.3780\n",
      "2025-08-05 21:05:55,318 - src.helpers - INFO - cluster_35: PC1 var ratio = 0.3632\n",
      "2025-08-05 21:05:55,308 - src.helpers - INFO - cluster_28: PC1 var ratio = 0.5040\n",
      "2025-08-05 21:05:55,318 - src.helpers - INFO - cluster_35: PC1 var ratio = 0.3632\n",
      "2025-08-05 21:05:55,313 - src.helpers - INFO - cluster_42: PC1 var ratio = 0.3780\n",
      "2025-08-05 21:05:55,323 - src.helpers - INFO - cluster_4: PC1 var ratio = 0.2567\n",
      "2025-08-05 21:05:55,328 - src.helpers - INFO - cluster_33: PC1 var ratio = 0.3891\n",
      "2025-08-05 21:05:55,318 - src.helpers - INFO - cluster_35: PC1 var ratio = 0.3632\n",
      "2025-08-05 21:05:55,323 - src.helpers - INFO - cluster_4: PC1 var ratio = 0.2567\n",
      "2025-08-05 21:05:55,333 - src.helpers - INFO - cluster_8: PC1 var ratio = 0.4049\n",
      "2025-08-05 21:05:55,323 - src.helpers - INFO - cluster_4: PC1 var ratio = 0.2567\n",
      "2025-08-05 21:05:55,328 - src.helpers - INFO - cluster_33: PC1 var ratio = 0.3891\n",
      "2025-08-05 21:05:55,328 - src.helpers - INFO - cluster_33: PC1 var ratio = 0.3891\n",
      "2025-08-05 21:05:55,336 - src.helpers - INFO - cluster_29: PC1 var ratio = 0.4185\n",
      "2025-08-05 21:05:55,333 - src.helpers - INFO - cluster_8: PC1 var ratio = 0.4049\n",
      "2025-08-05 21:05:55,340 - src.helpers - INFO - cluster_19: PC1 var ratio = 0.4458\n",
      "2025-08-05 21:05:55,333 - src.helpers - INFO - cluster_8: PC1 var ratio = 0.4049\n",
      "2025-08-05 21:05:55,336 - src.helpers - INFO - cluster_29: PC1 var ratio = 0.4185\n",
      "2025-08-05 21:05:55,345 - src.helpers - INFO - cluster_3: PC1 var ratio = 0.3555\n",
      "2025-08-05 21:05:55,336 - src.helpers - INFO - cluster_29: PC1 var ratio = 0.4185\n",
      "2025-08-05 21:05:55,340 - src.helpers - INFO - cluster_19: PC1 var ratio = 0.4458\n",
      "2025-08-05 21:05:55,351 - src.helpers - INFO - cluster_7: PC1 var ratio = 0.4359\n",
      "2025-08-05 21:05:55,340 - src.helpers - INFO - cluster_19: PC1 var ratio = 0.4458\n",
      "2025-08-05 21:05:55,345 - src.helpers - INFO - cluster_3: PC1 var ratio = 0.3555\n",
      "2025-08-05 21:05:55,351 - src.helpers - INFO - cluster_7: PC1 var ratio = 0.4359\n",
      "2025-08-05 21:05:55,345 - src.helpers - INFO - cluster_3: PC1 var ratio = 0.3555\n",
      "2025-08-05 21:05:55,353 - src.helpers - INFO - cluster_44: PC1 var ratio = 0.3341\n"
     ]
    },
    {
     "name": "stdout",
     "output_type": "stream",
     "text": [
      "Executing run_per_cluster_pca...\n"
     ]
    },
    {
     "name": "stderr",
     "output_type": "stream",
     "text": [
      "2025-08-05 21:05:55,351 - src.helpers - INFO - cluster_7: PC1 var ratio = 0.4359\n",
      "2025-08-05 21:05:55,360 - src.helpers - INFO - cluster_23: PC1 var ratio = 0.2732\n",
      "2025-08-05 21:05:55,353 - src.helpers - INFO - cluster_44: PC1 var ratio = 0.3341\n",
      "2025-08-05 21:05:55,364 - src.helpers - INFO - cluster_15: PC1 var ratio = 0.2862\n",
      "2025-08-05 21:05:55,353 - src.helpers - INFO - cluster_44: PC1 var ratio = 0.3341\n",
      "2025-08-05 21:05:55,360 - src.helpers - INFO - cluster_23: PC1 var ratio = 0.2732\n",
      "2025-08-05 21:05:55,360 - src.helpers - INFO - cluster_23: PC1 var ratio = 0.2732\n",
      "2025-08-05 21:05:55,368 - src.helpers - INFO - cluster_9: PC1 var ratio = 0.3156\n",
      "2025-08-05 21:05:55,364 - src.helpers - INFO - cluster_15: PC1 var ratio = 0.2862\n",
      "2025-08-05 21:05:55,364 - src.helpers - INFO - cluster_15: PC1 var ratio = 0.2862\n",
      "2025-08-05 21:05:55,372 - src.helpers - INFO - cluster_20: PC1 var ratio = 0.3408\n",
      "2025-08-05 21:05:55,368 - src.helpers - INFO - cluster_9: PC1 var ratio = 0.3156\n",
      "2025-08-05 21:05:55,376 - src.helpers - INFO - cluster_34: PC1 var ratio = 0.4351\n",
      "2025-08-05 21:05:55,368 - src.helpers - INFO - cluster_9: PC1 var ratio = 0.3156\n",
      "2025-08-05 21:05:55,372 - src.helpers - INFO - cluster_20: PC1 var ratio = 0.3408\n",
      "2025-08-05 21:05:55,380 - src.helpers - INFO - cluster_41: PC1 var ratio = 0.4413\n",
      "2025-08-05 21:05:55,383 - src.helpers - INFO - cluster_18: PC1 var ratio = 0.3717\n",
      "2025-08-05 21:05:55,372 - src.helpers - INFO - cluster_20: PC1 var ratio = 0.3408\n",
      "2025-08-05 21:05:55,376 - src.helpers - INFO - cluster_34: PC1 var ratio = 0.4351\n",
      "2025-08-05 21:05:55,387 - src.helpers - INFO - cluster_25: PC1 var ratio = 0.4372\n",
      "2025-08-05 21:05:55,376 - src.helpers - INFO - cluster_34: PC1 var ratio = 0.4351\n",
      "2025-08-05 21:05:55,380 - src.helpers - INFO - cluster_41: PC1 var ratio = 0.4413\n",
      "2025-08-05 21:05:55,390 - src.helpers - INFO - cluster_39: PC1 var ratio = 0.3970\n",
      "2025-08-05 21:05:55,380 - src.helpers - INFO - cluster_41: PC1 var ratio = 0.4413\n",
      "2025-08-05 21:05:55,383 - src.helpers - INFO - cluster_18: PC1 var ratio = 0.3717\n",
      "2025-08-05 21:05:55,394 - src.helpers - INFO - cluster_14: PC1 var ratio = 0.3322\n",
      "2025-08-05 21:05:55,383 - src.helpers - INFO - cluster_18: PC1 var ratio = 0.3717\n",
      "2025-08-05 21:05:55,387 - src.helpers - INFO - cluster_25: PC1 var ratio = 0.4372\n",
      "2025-08-05 21:05:55,387 - src.helpers - INFO - cluster_25: PC1 var ratio = 0.4372\n",
      "2025-08-05 21:05:55,398 - src.helpers - INFO - cluster_49: PC1 var ratio = 0.4723\n",
      "2025-08-05 21:05:55,390 - src.helpers - INFO - cluster_39: PC1 var ratio = 0.3970\n",
      "2025-08-05 21:05:55,402 - src.helpers - INFO - cluster_22: PC1 var ratio = 0.3109\n",
      "2025-08-05 21:05:55,394 - src.helpers - INFO - cluster_14: PC1 var ratio = 0.3322\n",
      "2025-08-05 21:05:55,390 - src.helpers - INFO - cluster_39: PC1 var ratio = 0.3970\n",
      "2025-08-05 21:05:55,408 - src.helpers - INFO - cluster_24: PC1 var ratio = 0.3964\n",
      "2025-08-05 21:05:55,398 - src.helpers - INFO - cluster_49: PC1 var ratio = 0.4723\n",
      "2025-08-05 21:05:55,394 - src.helpers - INFO - cluster_14: PC1 var ratio = 0.3322\n",
      "2025-08-05 21:05:55,412 - src.helpers - INFO - cluster_1: PC1 var ratio = 0.2913\n",
      "2025-08-05 21:05:55,398 - src.helpers - INFO - cluster_49: PC1 var ratio = 0.4723\n",
      "2025-08-05 21:05:55,402 - src.helpers - INFO - cluster_22: PC1 var ratio = 0.3109\n",
      "2025-08-05 21:05:55,415 - src.helpers - INFO - cluster_2: PC1 var ratio = 0.4108\n",
      "2025-08-05 21:05:55,408 - src.helpers - INFO - cluster_24: PC1 var ratio = 0.3964\n",
      "2025-08-05 21:05:55,402 - src.helpers - INFO - cluster_22: PC1 var ratio = 0.3109\n",
      "2025-08-05 21:05:55,418 - src.helpers - INFO - cluster_27: PC1 var ratio = 0.3176\n",
      "2025-08-05 21:05:55,408 - src.helpers - INFO - cluster_24: PC1 var ratio = 0.3964\n",
      "2025-08-05 21:05:55,412 - src.helpers - INFO - cluster_1: PC1 var ratio = 0.2913\n",
      "2025-08-05 21:05:55,424 - src.helpers - INFO - cluster_37: PC1 var ratio = 0.3594\n",
      "2025-08-05 21:05:55,412 - src.helpers - INFO - cluster_1: PC1 var ratio = 0.2913\n",
      "2025-08-05 21:05:55,415 - src.helpers - INFO - cluster_2: PC1 var ratio = 0.4108\n",
      "2025-08-05 21:05:55,430 - src.helpers - INFO - cluster_36: PC1 var ratio = 0.3155\n",
      "2025-08-05 21:05:55,415 - src.helpers - INFO - cluster_2: PC1 var ratio = 0.4108\n",
      "2025-08-05 21:05:55,433 - src.helpers - INFO - cluster_45: PC1 var ratio = 0.4095\n",
      "2025-08-05 21:05:55,418 - src.helpers - INFO - cluster_27: PC1 var ratio = 0.3176\n",
      "2025-08-05 21:05:55,424 - src.helpers - INFO - cluster_37: PC1 var ratio = 0.3594\n",
      "2025-08-05 21:05:55,436 - src.helpers - INFO - cluster_48: PC1 var ratio = 0.5238\n",
      "2025-08-05 21:05:55,418 - src.helpers - INFO - cluster_27: PC1 var ratio = 0.3176\n",
      "2025-08-05 21:05:55,430 - src.helpers - INFO - cluster_36: PC1 var ratio = 0.3155\n",
      "2025-08-05 21:05:55,441 - src.helpers - INFO - cluster_47: PC1 var ratio = 0.5973\n",
      "2025-08-05 21:05:55,424 - src.helpers - INFO - cluster_37: PC1 var ratio = 0.3594\n",
      "2025-08-05 21:05:55,433 - src.helpers - INFO - cluster_45: PC1 var ratio = 0.4095\n",
      "2025-08-05 21:05:55,447 - src.helpers - INFO - cluster_17: PC1 var ratio = 0.3586\n",
      "2025-08-05 21:05:55,450 - src.helpers - INFO - cluster_32: PC1 var ratio = 0.4644\n",
      "2025-08-05 21:05:55,436 - src.helpers - INFO - cluster_48: PC1 var ratio = 0.5238\n",
      "2025-08-05 21:05:55,430 - src.helpers - INFO - cluster_36: PC1 var ratio = 0.3155\n",
      "2025-08-05 21:05:55,457 - src.helpers - INFO - cluster_43: PC1 var ratio = 0.3493\n",
      "2025-08-05 21:05:55,441 - src.helpers - INFO - cluster_47: PC1 var ratio = 0.5973\n",
      "2025-08-05 21:05:55,433 - src.helpers - INFO - cluster_45: PC1 var ratio = 0.4095\n",
      "2025-08-05 21:05:55,436 - src.helpers - INFO - cluster_48: PC1 var ratio = 0.5238\n",
      "2025-08-05 21:05:55,460 - src.helpers - INFO - cluster_50: PC1 var ratio = 0.5240\n",
      "2025-08-05 21:05:55,447 - src.helpers - INFO - cluster_17: PC1 var ratio = 0.3586\n",
      "2025-08-05 21:05:55,441 - src.helpers - INFO - cluster_47: PC1 var ratio = 0.5973\n",
      "2025-08-05 21:05:55,450 - src.helpers - INFO - cluster_32: PC1 var ratio = 0.4644\n",
      "2025-08-05 21:05:55,447 - src.helpers - INFO - cluster_17: PC1 var ratio = 0.3586\n",
      "2025-08-05 21:05:55,457 - src.helpers - INFO - cluster_43: PC1 var ratio = 0.3493\n",
      "2025-08-05 21:05:55,450 - src.helpers - INFO - cluster_32: PC1 var ratio = 0.4644\n",
      "2025-08-05 21:05:55,460 - src.helpers - INFO - cluster_50: PC1 var ratio = 0.5240\n",
      "2025-08-05 21:05:55,457 - src.helpers - INFO - cluster_43: PC1 var ratio = 0.3493\n",
      "2025-08-05 21:05:55,460 - src.helpers - INFO - cluster_50: PC1 var ratio = 0.5240\n",
      "2025-08-05 21:05:55,475 - src.helpers - INFO - ✅ Completed parallel PCA on 51 clusters\n",
      "2025-08-05 21:05:55,475 - src.helpers - INFO - ✅ Completed parallel PCA on 51 clusters\n",
      "2025-08-05 21:05:55,475 - src.helpers - INFO - ✅ Completed parallel PCA on 51 clusters\n",
      "2025-08-05 21:05:55,495 - src.helpers - INFO - Saving PCA features for 487 datasets to DuckDB...\n",
      "2025-08-05 21:05:55,495 - src.helpers - INFO - Saving PCA features for 487 datasets to DuckDB...\n",
      "2025-08-05 21:05:55,495 - src.helpers - INFO - Saving PCA features for 487 datasets to DuckDB...\n",
      "2025-08-05 21:05:56,892 - src.helpers - INFO - ✅ Upserted 26298 feature rows.\n",
      "2025-08-05 21:05:56,892 - src.helpers - INFO - ✅ Upserted 26298 feature rows.\n",
      "2025-08-05 21:05:56,892 - src.helpers - INFO - ✅ Upserted 26298 feature rows.\n",
      "2025-08-05 21:05:56,899 - src.helpers - INFO - ✅ Successfully saved PCA features for 487 datasets\n",
      "2025-08-05 21:05:56,899 - src.helpers - INFO - ✅ Successfully saved PCA features for 487 datasets\n",
      "2025-08-05 21:05:56,899 - src.helpers - INFO - ✅ Successfully saved PCA features for 487 datasets\n",
      "2025-08-05 21:05:56,903 - src.helpers - INFO - ✅ Feature-cluster PCA completed successfully!\n",
      "2025-08-05 21:05:56,903 - src.helpers - INFO - ✅ Feature-cluster PCA completed successfully!\n",
      "2025-08-05 21:05:56,903 - src.helpers - INFO - ✅ Feature-cluster PCA completed successfully!\n"
     ]
    },
    {
     "name": "stdout",
     "output_type": "stream",
     "text": [
      "Function run_per_cluster_pca took 1.7332 seconds to complete.\n"
     ]
    }
   ],
   "source": [
    "res_pca = fresh_reducer.run_per_cluster_pca(dataset_embeddings,feature_cluster_map=feature_cluster_map,dataset_ids=dataset_ids, random_seed = 42)"
   ]
  },
  {
   "cell_type": "code",
   "execution_count": null,
   "id": "8f1a2525",
   "metadata": {},
   "outputs": [
    {
     "name": "stderr",
     "output_type": "stream",
     "text": [
      "2025-08-05 21:07:11,524 - api.database.duckdb_schema - INFO - Starting DuckDB schema creation...\n",
      "2025-08-05 21:07:11,524 - api.database.duckdb_schema - INFO - Starting DuckDB schema creation...\n",
      "2025-08-05 21:07:11,524 - api.database.duckdb_schema - INFO - Starting DuckDB schema creation...\n",
      "2025-08-05 21:07:11,551 - api.database.duckdb_schema - INFO - Creating documents table...\n",
      "2025-08-05 21:07:11,551 - api.database.duckdb_schema - INFO - Creating documents table...\n",
      "2025-08-05 21:07:11,551 - api.database.duckdb_schema - INFO - Creating documents table...\n",
      "2025-08-05 21:07:11,555 - api.database.duckdb_schema - INFO - Documents table created successfully\n",
      "2025-08-05 21:07:11,555 - api.database.duckdb_schema - INFO - Documents table created successfully\n",
      "2025-08-05 21:07:11,555 - api.database.duckdb_schema - INFO - Documents table created successfully\n",
      "2025-08-05 21:07:11,558 - api.database.duckdb_schema - INFO - Creating citations table...\n",
      "2025-08-05 21:07:11,558 - api.database.duckdb_schema - INFO - Creating citations table...\n",
      "2025-08-05 21:07:11,558 - api.database.duckdb_schema - INFO - Creating citations table...\n",
      "2025-08-05 21:07:11,564 - api.database.duckdb_schema - INFO - Citations table created successfully\n",
      "2025-08-05 21:07:11,564 - api.database.duckdb_schema - INFO - Citations table created successfully\n",
      "2025-08-05 21:07:11,564 - api.database.duckdb_schema - INFO - Citations table created successfully\n",
      "2025-08-05 21:07:11,569 - api.database.duckdb_schema - INFO - Creating chunks table...\n",
      "2025-08-05 21:07:11,569 - api.database.duckdb_schema - INFO - Creating chunks table...\n",
      "2025-08-05 21:07:11,569 - api.database.duckdb_schema - INFO - Creating chunks table...\n",
      "2025-08-05 21:07:11,575 - api.database.duckdb_schema - INFO - Chunks table created successfully\n",
      "2025-08-05 21:07:11,575 - api.database.duckdb_schema - INFO - Chunks table created successfully\n",
      "2025-08-05 21:07:11,575 - api.database.duckdb_schema - INFO - Chunks table created successfully\n",
      "2025-08-05 21:07:11,579 - api.database.duckdb_schema - INFO - Creating datasets table...\n",
      "2025-08-05 21:07:11,579 - api.database.duckdb_schema - INFO - Creating datasets table...\n",
      "2025-08-05 21:07:11,579 - api.database.duckdb_schema - INFO - Creating datasets table...\n",
      "2025-08-05 21:07:11,584 - api.database.duckdb_schema - INFO - Datasets table created successfully\n",
      "2025-08-05 21:07:11,584 - api.database.duckdb_schema - INFO - Datasets table created successfully\n",
      "2025-08-05 21:07:11,584 - api.database.duckdb_schema - INFO - Datasets table created successfully\n",
      "2025-08-05 21:07:11,587 - api.database.duckdb_schema - INFO - Creating engineered_feature_values table...\n",
      "2025-08-05 21:07:11,587 - api.database.duckdb_schema - INFO - Creating engineered_feature_values table...\n",
      "2025-08-05 21:07:11,587 - api.database.duckdb_schema - INFO - Creating engineered_feature_values table...\n",
      "2025-08-05 21:07:11,593 - api.database.duckdb_schema - INFO - engineered_feature_values table created successfully\n",
      "2025-08-05 21:07:11,593 - api.database.duckdb_schema - INFO - engineered_feature_values table created successfully\n",
      "2025-08-05 21:07:11,593 - api.database.duckdb_schema - INFO - engineered_feature_values table created successfully\n",
      "2025-08-05 21:07:11,595 - api.database.duckdb_schema - INFO - Creating indexes...\n",
      "2025-08-05 21:07:11,595 - api.database.duckdb_schema - INFO - Creating indexes...\n",
      "2025-08-05 21:07:11,595 - api.database.duckdb_schema - INFO - Creating indexes...\n",
      "2025-08-05 21:07:11,602 - api.database.duckdb_schema - INFO - Indexes created successfully\n",
      "2025-08-05 21:07:11,602 - api.database.duckdb_schema - INFO - Indexes created successfully\n",
      "2025-08-05 21:07:11,602 - api.database.duckdb_schema - INFO - Indexes created successfully\n",
      "2025-08-05 21:07:11,605 - api.database.duckdb_schema - INFO - DuckDB schema creation completed successfully\n",
      "2025-08-05 21:07:11,605 - api.database.duckdb_schema - INFO - DuckDB schema creation completed successfully\n",
      "2025-08-05 21:07:11,605 - api.database.duckdb_schema - INFO - DuckDB schema creation completed successfully\n",
      "2025-08-05 21:07:11,607 - api.database.duckdb_schema - INFO - Validating schema...\n",
      "2025-08-05 21:07:11,607 - api.database.duckdb_schema - INFO - Validating schema...\n",
      "2025-08-05 21:07:11,607 - api.database.duckdb_schema - INFO - Validating schema...\n",
      "2025-08-05 21:07:11,643 - api.database.duckdb_schema - INFO - Table documents has 14 columns\n",
      "2025-08-05 21:07:11,643 - api.database.duckdb_schema - INFO - Table documents has 14 columns\n",
      "2025-08-05 21:07:11,643 - api.database.duckdb_schema - INFO - Table documents has 14 columns\n",
      "2025-08-05 21:07:11,648 - api.database.duckdb_schema - INFO - Table citations has 5 columns\n",
      "2025-08-05 21:07:11,648 - api.database.duckdb_schema - INFO - Table citations has 5 columns\n",
      "2025-08-05 21:07:11,648 - api.database.duckdb_schema - INFO - Table citations has 5 columns\n",
      "2025-08-05 21:07:11,653 - api.database.duckdb_schema - INFO - Table chunks has 6 columns\n",
      "2025-08-05 21:07:11,653 - api.database.duckdb_schema - INFO - Table chunks has 6 columns\n",
      "2025-08-05 21:07:11,653 - api.database.duckdb_schema - INFO - Table chunks has 6 columns\n",
      "2025-08-05 21:07:11,656 - api.database.duckdb_schema - INFO - Table datasets has 11 columns\n",
      "2025-08-05 21:07:11,656 - api.database.duckdb_schema - INFO - Table datasets has 11 columns\n",
      "2025-08-05 21:07:11,656 - api.database.duckdb_schema - INFO - Table datasets has 11 columns\n",
      "2025-08-05 21:07:11,660 - api.database.duckdb_schema - INFO - Table engineered_feature_values has 6 columns\n",
      "2025-08-05 21:07:11,660 - api.database.duckdb_schema - INFO - Table engineered_feature_values has 6 columns\n",
      "2025-08-05 21:07:11,660 - api.database.duckdb_schema - INFO - Table engineered_feature_values has 6 columns\n",
      "2025-08-05 21:07:11,663 - api.database.duckdb_schema - INFO - Schema validation completed successfully\n",
      "2025-08-05 21:07:11,663 - api.database.duckdb_schema - INFO - Schema validation completed successfully\n",
      "2025-08-05 21:07:11,663 - api.database.duckdb_schema - INFO - Schema validation completed successfully\n",
      "2025-08-05 21:07:11,665 - src.helpers - INFO - DuckDB schema initialization completed successfully\n",
      "2025-08-05 21:07:11,665 - src.helpers - INFO - DuckDB schema initialization completed successfully\n",
      "2025-08-05 21:07:11,665 - src.helpers - INFO - DuckDB schema initialization completed successfully\n",
      "2025-08-05 21:07:11,673 - api.database.duckdb_schema - INFO - Database connection closed\n",
      "2025-08-05 21:07:11,673 - api.database.duckdb_schema - INFO - Database connection closed\n",
      "2025-08-05 21:07:11,673 - api.database.duckdb_schema - INFO - Database connection closed\n",
      "2025-08-05 21:07:11,675 - src.helpers - INFO - Database connection closed\n",
      "2025-08-05 21:07:11,675 - src.helpers - INFO - Database connection closed\n",
      "2025-08-05 21:07:11,675 - src.helpers - INFO - Database connection closed\n"
     ]
    },
    {
     "ename": "",
     "evalue": "",
     "output_type": "error",
     "traceback": [
      "\u001b[1;31mThe Kernel crashed while executing code in the current cell or a previous cell. \n",
      "\u001b[1;31mPlease review the code in the cell(s) to identify a possible cause of the failure. \n",
      "\u001b[1;31mClick <a href='https://aka.ms/vscodeJupyterKernelCrash'>here</a> for more info. \n",
      "\u001b[1;31mView Jupyter <a href='command:jupyter.viewOutput'>log</a> for further details."
     ]
    }
   ],
   "source": [
    "from api.utils.duckdb_utils import DuckDBHelper\n",
    "correct_db_path = \"../artifacts/mdc_challenge.db\"\n",
    "db_helper = DuckDBHelper(correct_db_path)\n",
    "\n",
    "db_helper.close()"
   ]
  }
 ],
 "metadata": {
  "kernelspec": {
   "display_name": "mdc-challenge-2025",
   "language": "python",
   "name": "python3"
  },
  "language_info": {
   "codemirror_mode": {
    "name": "ipython",
    "version": 3
   },
   "file_extension": ".py",
   "mimetype": "text/x-python",
   "name": "python",
   "nbconvert_exporter": "python",
   "pygments_lexer": "ipython3",
   "version": "3.12.2"
  }
 },
 "nbformat": 4,
 "nbformat_minor": 5
}
