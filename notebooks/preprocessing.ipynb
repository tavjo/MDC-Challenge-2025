{
 "cells": [
  {
   "cell_type": "markdown",
   "id": "95dbdf0a",
   "metadata": {},
   "source": [
    "# Run Pre-processing Pipeline steps"
   ]
  },
  {
   "cell_type": "code",
   "execution_count": 1,
   "id": "aa7951f9",
   "metadata": {},
   "outputs": [
    {
     "name": "stderr",
     "output_type": "stream",
     "text": [
      "2025-07-08 17:32:11,291 - src.helpers - INFO - Logging initialized for /Users/taishajoseph/Documents/Projects/MDC-Challenge-2025/logs/preprocessing.log\n"
     ]
    }
   ],
   "source": [
    "# import dependencies\n",
    "import sys, os\n",
    "from pathlib import Path\n",
    "# get project root (parent directory of notebooks)\n",
    "nb_dir = Path(os.getcwd())\n",
    "project_root = nb_dir.parent\n",
    "\n",
    "sys.path.append(str(project_root))\n",
    "from preprocessing import PreprocessingPipeline"
   ]
  },
  {
   "cell_type": "code",
   "execution_count": 2,
   "id": "c02f8418",
   "metadata": {},
   "outputs": [
    {
     "name": "stdout",
     "output_type": "stream",
     "text": [
      "Current working directory: /Users/taishajoseph/Documents/Projects/MDC-Challenge-2025/notebooks\n",
      "Changed to project root: /Users/taishajoseph/Documents/Projects/MDC-Challenge-2025\n",
      "conversion_candidates.csv exists: True\n",
      "✅ conversion_candidates.csv found - ready to proceed\n"
     ]
    }
   ],
   "source": [
    "# Fix working directory issue - change to project root\n",
    "import os\n",
    "from pathlib import Path\n",
    "\n",
    "# Get current working directory (should be notebooks folder)\n",
    "current_dir = Path(os.getcwd())\n",
    "print(f\"Current working directory: {current_dir}\")\n",
    "\n",
    "# Change to project root (parent directory of notebooks)\n",
    "project_root = current_dir.parent\n",
    "os.chdir(project_root)\n",
    "\n",
    "print(f\"Changed to project root: {os.getcwd()}\")\n",
    "print(f\"conversion_candidates.csv exists: {os.path.exists('Data/conversion_candidates.csv')}\")\n",
    "\n",
    "# Verify the file exists\n",
    "if os.path.exists('Data/conversion_candidates.csv'):\n",
    "    print(\"✅ conversion_candidates.csv found - ready to proceed\")\n",
    "else:\n",
    "    print(\"❌ conversion_candidates.csv not found - check file location\")\n"
   ]
  },
  {
   "cell_type": "code",
   "execution_count": 3,
   "id": "294cb776",
   "metadata": {},
   "outputs": [
    {
     "name": "stderr",
     "output_type": "stream",
     "text": [
      "2025-07-08 17:32:11,349 - src.helpers - INFO - Initializing Enhanced PreprocessingPipeline...\n",
      "2025-07-08 17:32:11,353 - src.helpers - INFO - Pipeline state loaded from /Users/taishajoseph/Documents/Projects/MDC-Challenge-2025/Data/pipeline_state.pkl\n",
      "2025-07-08 17:32:11,354 - src.helpers - INFO - Pipeline initialized with 8 steps\n"
     ]
    },
    {
     "name": "stdout",
     "output_type": "stream",
     "text": [
      "Executing PreprocessingPipeline...\n",
      "Function PreprocessingPipeline took 0.0061 seconds to complete.\n"
     ]
    }
   ],
   "source": [
    "pipeline = PreprocessingPipeline(data_dir=\"Data\")"
   ]
  },
  {
   "cell_type": "markdown",
   "id": "6e3fc89f",
   "metadata": {},
   "source": [
    "## Run Step-by-step"
   ]
  },
  {
   "cell_type": "code",
   "execution_count": 4,
   "id": "28305232",
   "metadata": {},
   "outputs": [],
   "source": [
    "# Run steps individually with custom parameters\n",
    "steps = [\n",
    "    (\"pre_chunking_eda\", {\"show_plots\": True}),\n",
    "    (\"doc_conversion\", {\"timeout\": 1800}),\n",
    "    (\"document_parsing\", {\"extract_sections\": True}),\n",
    "    (\"semantic_chunking\", {\"chunk_size\": 300, \"chunk_overlap\": 30})\n",
    "]"
   ]
  },
  {
   "cell_type": "code",
   "execution_count": 5,
   "id": "6aa77c2d",
   "metadata": {},
   "outputs": [
    {
     "name": "stderr",
     "output_type": "stream",
     "text": [
      "2025-07-08 17:32:11,372 - src.helpers - INFO - Updated parameters for step pre_chunking_eda\n",
      "2025-07-08 17:32:11,374 - src.helpers - INFO - Step pre_chunking_eda already completed, skipping\n"
     ]
    },
    {
     "name": "stdout",
     "output_type": "stream",
     "text": [
      "✅ pre_chunking_eda completed successfully\n"
     ]
    }
   ],
   "source": [
    "# Step 1: EDA\n",
    "step_id = steps[0][0]\n",
    "params = steps[0][1]\n",
    "# Update parameters\n",
    "pipeline.update_step_parameters(step_id, params)\n",
    "# Run step\n",
    "success = pipeline.run_single_step(step_id) #, force=True if I want regenerate outputs\n",
    "if success:\n",
    "    print(f\"✅ {step_id} completed successfully\")\n",
    "else:\n",
    "    print(f\"❌ {step_id} failed\")\n",
    "# pipeline.generate_consolidated_reports()"
   ]
  },
  {
   "cell_type": "code",
   "execution_count": 6,
   "id": "40258d5e",
   "metadata": {},
   "outputs": [
    {
     "name": "stderr",
     "output_type": "stream",
     "text": [
      "2025-07-08 17:32:11,386 - src.helpers - INFO - Step doc_conversion already completed, skipping\n"
     ]
    },
    {
     "name": "stdout",
     "output_type": "stream",
     "text": [
      "✅ doc_conversion completed successfully\n"
     ]
    }
   ],
   "source": [
    "# Step 2: PDF to XML conversion\n",
    "step_id = steps[1][0]\n",
    "params = steps[1][1]\n",
    "# Run step\n",
    "success = pipeline.run_single_step(step_id)\n",
    "if success:\n",
    "    print(f\"✅ {step_id} completed successfully\")\n",
    "else:\n",
    "    print(f\"❌ {step_id} failed\")\n",
    "# pipeline.generate_consolidated_reports()"
   ]
  },
  {
   "cell_type": "code",
   "execution_count": null,
   "id": "4c7da269",
   "metadata": {},
   "outputs": [],
   "source": [
    "# Step 3: Document Parsing\n",
    "step_id = steps[2][0]\n",
    "params = steps[2][1]\n",
    "# Run step\n",
    "success = pipeline.run_single_step(step_id)\n",
    "if success:\n",
    "    print(f\"✅ {step_id} completed successfully\")\n",
    "else:\n",
    "    print(f\"❌ {step_id} failed\")"
   ]
  },
  {
   "cell_type": "code",
   "execution_count": null,
   "id": "79472f40",
   "metadata": {},
   "outputs": [],
   "source": [
    "# Run all steps\n",
    "success = pipeline.run_all()\n",
    "\n",
    "if success:\n",
    "    print(\"Pipeline completed successfully!\")\n",
    "    # Generate reports\n",
    "    pipeline.generate_consolidated_reports()\n",
    "else:\n",
    "    print(\"Pipeline failed!\")\n",
    "    # Check failed steps\n",
    "    print(f\"Failed steps: {pipeline.state.failed_steps}\")\n"
   ]
  }
 ],
 "metadata": {
  "kernelspec": {
   "display_name": ".venv",
   "language": "python",
   "name": "python3"
  },
  "language_info": {
   "codemirror_mode": {
    "name": "ipython",
    "version": 3
   },
   "file_extension": ".py",
   "mimetype": "text/x-python",
   "name": "python",
   "nbconvert_exporter": "python",
   "pygments_lexer": "ipython3",
   "version": "3.12.3"
  }
 },
 "nbformat": 4,
 "nbformat_minor": 5
}
