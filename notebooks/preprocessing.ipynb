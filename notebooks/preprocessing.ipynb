{
 "cells": [
  {
   "cell_type": "markdown",
   "id": "95dbdf0a",
   "metadata": {},
   "source": [
    "# Run Pre-processing Pipeline steps"
   ]
  },
  {
   "cell_type": "code",
   "execution_count": 1,
   "id": "aa7951f9",
   "metadata": {},
   "outputs": [
    {
     "name": "stderr",
     "output_type": "stream",
     "text": [
      "2025-07-09 15:56:11,169 - src.helpers - INFO - Logging initialized for /Users/taishajoseph/Documents/Projects/MDC-Challenge-2025/logs/preprocessing.log\n"
     ]
    }
   ],
   "source": [
    "# import dependencies\n",
    "import sys, os\n",
    "from pathlib import Path\n",
    "# get project root (parent directory of notebooks)\n",
    "nb_dir = Path(os.getcwd())\n",
    "project_root = nb_dir.parent\n",
    "\n",
    "sys.path.append(str(project_root))\n",
    "from preprocessing import PreprocessingPipeline"
   ]
  },
  {
   "cell_type": "code",
   "execution_count": 2,
   "id": "c02f8418",
   "metadata": {},
   "outputs": [
    {
     "name": "stdout",
     "output_type": "stream",
     "text": [
      "Current working directory: /Users/taishajoseph/Documents/Projects/MDC-Challenge-2025/notebooks\n",
      "Changed to project root: /Users/taishajoseph/Documents/Projects/MDC-Challenge-2025\n",
      "conversion_candidates.csv exists: True\n",
      "✅ conversion_candidates.csv found - ready to proceed\n"
     ]
    }
   ],
   "source": [
    "# Fix working directory issue - change to project root\n",
    "import os\n",
    "from pathlib import Path\n",
    "\n",
    "# Get current working directory (should be notebooks folder)\n",
    "current_dir = Path(os.getcwd())\n",
    "print(f\"Current working directory: {current_dir}\")\n",
    "\n",
    "# Change to project root (parent directory of notebooks)\n",
    "project_root = current_dir.parent\n",
    "os.chdir(project_root)\n",
    "\n",
    "print(f\"Changed to project root: {os.getcwd()}\")\n",
    "print(f\"conversion_candidates.csv exists: {os.path.exists('Data/conversion_candidates.csv')}\")\n",
    "\n",
    "# Verify the file exists\n",
    "if os.path.exists('Data/conversion_candidates.csv'):\n",
    "    print(\"✅ conversion_candidates.csv found - ready to proceed\")\n",
    "else:\n",
    "    print(\"❌ conversion_candidates.csv not found - check file location\")\n"
   ]
  },
  {
   "cell_type": "code",
   "execution_count": 3,
   "id": "294cb776",
   "metadata": {},
   "outputs": [
    {
     "name": "stderr",
     "output_type": "stream",
     "text": [
      "2025-07-09 15:56:11,355 - src.helpers - INFO - Initializing Enhanced PreprocessingPipeline...\n",
      "2025-07-09 15:56:11,365 - src.helpers - INFO - Pipeline state loaded from /Users/taishajoseph/Documents/Projects/MDC-Challenge-2025/Data/pipeline_state.pkl\n",
      "2025-07-09 15:56:11,366 - src.helpers - INFO - Pipeline initialized with 8 steps\n"
     ]
    },
    {
     "name": "stdout",
     "output_type": "stream",
     "text": [
      "Executing PreprocessingPipeline...\n",
      "Function PreprocessingPipeline took 0.0124 seconds to complete.\n"
     ]
    }
   ],
   "source": [
    "pipeline = PreprocessingPipeline(data_dir=\"Data\")"
   ]
  },
  {
   "cell_type": "markdown",
   "id": "6e3fc89f",
   "metadata": {},
   "source": [
    "## Run Step-by-step"
   ]
  },
  {
   "cell_type": "code",
   "execution_count": 4,
   "id": "28305232",
   "metadata": {},
   "outputs": [],
   "source": [
    "# Run steps individually with custom parameters\n",
    "data_dir = os.path.join(project_root, \"Data/\")\n",
    "doc_path = os.path.join(data_dir, \"train/parsed/parsed_documents.pkl\")\n",
    "steps = [\n",
    "    (\"pre_chunking_eda\", {\"show_plots\": True}),\n",
    "    (\"doc_conversion\", {\"data_dir\": data_dir}),\n",
    "    (\"document_parsing\", {\"data_dir\": data_dir}),\n",
    "    (\"semantic_chunking\", {\"chunk_size\": 300, \"chunk_overlap\": 30, \"input_path\": doc_path})\n",
    "]"
   ]
  },
  {
   "cell_type": "code",
   "execution_count": 5,
   "id": "6aa77c2d",
   "metadata": {},
   "outputs": [
    {
     "name": "stderr",
     "output_type": "stream",
     "text": [
      "2025-07-09 15:56:11,385 - src.helpers - INFO - Updated parameters for step pre_chunking_eda\n",
      "2025-07-09 15:56:11,386 - src.helpers - INFO - Step pre_chunking_eda already completed, skipping\n"
     ]
    },
    {
     "name": "stdout",
     "output_type": "stream",
     "text": [
      "✅ pre_chunking_eda completed successfully\n"
     ]
    }
   ],
   "source": [
    "# Step 1: EDA\n",
    "step_id = steps[0][0]\n",
    "params = steps[0][1]\n",
    "# Update parameters\n",
    "pipeline.update_step_parameters(step_id, params)\n",
    "# Run step\n",
    "success = pipeline.run_single_step(step_id) #, force=True if I want regenerate outputs\n",
    "if success:\n",
    "    print(f\"✅ {step_id} completed successfully\")\n",
    "else:\n",
    "    print(f\"❌ {step_id} failed\")\n",
    "# pipeline.generate_consolidated_reports()"
   ]
  },
  {
   "cell_type": "code",
   "execution_count": 6,
   "id": "40258d5e",
   "metadata": {},
   "outputs": [
    {
     "name": "stderr",
     "output_type": "stream",
     "text": [
      "2025-07-09 15:56:11,397 - src.helpers - INFO - Updated parameters for step doc_conversion\n",
      "2025-07-09 15:56:11,399 - src.helpers - INFO - Step doc_conversion already completed, skipping\n"
     ]
    },
    {
     "name": "stdout",
     "output_type": "stream",
     "text": [
      "✅ doc_conversion completed successfully\n"
     ]
    }
   ],
   "source": [
    "# Step 2: PDF to XML conversion\n",
    "step_id = steps[1][0]\n",
    "params = steps[1][1]\n",
    "# Update parameters\n",
    "pipeline.update_step_parameters(step_id, params)\n",
    "# Run step\n",
    "success = pipeline.run_single_step(step_id)\n",
    "if success:\n",
    "    print(f\"✅ {step_id} completed successfully\")\n",
    "else:\n",
    "    print(f\"❌ {step_id} failed\")\n",
    "# pipeline.generate_consolidated_reports()"
   ]
  },
  {
   "cell_type": "code",
   "execution_count": 7,
   "id": "4c7da269",
   "metadata": {},
   "outputs": [
    {
     "name": "stderr",
     "output_type": "stream",
     "text": [
      "2025-07-09 15:56:11,410 - src.helpers - INFO - Step document_parsing already completed, skipping\n"
     ]
    },
    {
     "name": "stdout",
     "output_type": "stream",
     "text": [
      "✅ document_parsing completed successfully\n"
     ]
    }
   ],
   "source": [
    "# Step 3: Document Parsing\n",
    "step_id = steps[2][0]\n",
    "params = steps[2][1]\n",
    "# Update parameters\n",
    "# pipeline.update_step_parameters(step_id, params)\n",
    "# Run step\n",
    "success = pipeline.run_single_step(step_id)\n",
    "if success:\n",
    "    print(f\"✅ {step_id} completed successfully\")\n",
    "else:\n",
    "    print(f\"❌ {step_id} failed\")"
   ]
  },
  {
   "cell_type": "code",
   "execution_count": 8,
   "id": "24c3b105",
   "metadata": {},
   "outputs": [
    {
     "name": "stderr",
     "output_type": "stream",
     "text": [
      "2025-07-09 15:56:11,421 - src.helpers - INFO - Updated parameters for step semantic_chunking\n",
      "2025-07-09 15:56:11,423 - src.helpers - INFO - Validating prerequisites for step semantic_chunking\n",
      "2025-07-09 15:56:11,425 - src.helpers - INFO - Data directory structure validation passed\n",
      "2025-07-09 15:56:11,427 - src.helpers - INFO - File dependencies validation passed for step semantic_chunking\n",
      "2025-07-09 15:56:14,947 - src.helpers - INFO - Validated pickle file format for semantic_chunking\n",
      "2025-07-09 15:56:14,948 - src.helpers - INFO - Input format validation passed for step semantic_chunking\n",
      "2025-07-09 15:56:14,952 - src.helpers - INFO - Cleaned up temporary files: ['__pycache__/preprocessing.cpython-312.pyc']\n",
      "2025-07-09 15:56:14,954 - src.helpers - INFO - Starting step: Semantic Chunking\n",
      "2025-07-09 15:56:17,241 - src.helpers - INFO - Logging initialized for /Users/taishajoseph/Documents/Projects/MDC-Challenge-2025/logs/update_patterns.log\n",
      "2025-07-09 15:56:17,241 - src.helpers - INFO - Logging initialized for /Users/taishajoseph/Documents/Projects/MDC-Challenge-2025/logs/update_patterns.log\n"
     ]
    },
    {
     "name": "stdout",
     "output_type": "stream",
     "text": [
      "Executing load_entity_patterns...\n"
     ]
    },
    {
     "name": "stderr",
     "output_type": "stream",
     "text": [
      "2025-07-09 15:56:18,162 - src.helpers - INFO - Loaded 1563 patterns from artifacts/entity_patterns.yaml\n",
      "2025-07-09 15:56:18,162 - src.helpers - INFO - Loaded 1563 patterns from artifacts/entity_patterns.yaml\n",
      "2025-07-09 15:56:18,164 - src.helpers - INFO - Default pattern DOI is in the compiled patterns. Updating it.\n",
      "2025-07-09 15:56:18,164 - src.helpers - INFO - Default pattern DOI is in the compiled patterns. Updating it.\n",
      "2025-07-09 15:56:18,165 - src.helpers - INFO - Default pattern PRIDE is in the compiled patterns. Updating it.\n",
      "2025-07-09 15:56:18,165 - src.helpers - INFO - Default pattern PRIDE is in the compiled patterns. Updating it.\n",
      "2025-07-09 15:56:18,167 - src.helpers - INFO - Default pattern WIKIDATA is in the compiled patterns. Updating it.\n",
      "2025-07-09 15:56:18,167 - src.helpers - INFO - Default pattern WIKIDATA is in the compiled patterns. Updating it.\n",
      "2025-07-09 15:56:18,169 - src.helpers - INFO - Default pattern OCID is in the compiled patterns. Updating it.\n",
      "2025-07-09 15:56:18,169 - src.helpers - INFO - Default pattern OCID is in the compiled patterns. Updating it.\n",
      "2025-07-09 15:56:18,171 - src.helpers - INFO - Default pattern DOID is in the compiled patterns. Updating it.\n",
      "2025-07-09 15:56:18,171 - src.helpers - INFO - Default pattern DOID is in the compiled patterns. Updating it.\n",
      "2025-07-09 15:56:18,176 - src.helpers - INFO - Logging initialized for /Users/taishajoseph/Documents/Projects/MDC-Challenge-2025/logs/semantic_chunking.log\n",
      "2025-07-09 15:56:18,176 - src.helpers - INFO - Logging initialized for /Users/taishajoseph/Documents/Projects/MDC-Challenge-2025/logs/semantic_chunking.log\n",
      "2025-07-09 15:56:18,176 - src.helpers - INFO - Logging initialized for /Users/taishajoseph/Documents/Projects/MDC-Challenge-2025/logs/semantic_chunking.log\n"
     ]
    },
    {
     "name": "stdout",
     "output_type": "stream",
     "text": [
      "Function load_entity_patterns took 0.7863 seconds to complete.\n"
     ]
    },
    {
     "name": "stderr",
     "output_type": "stream",
     "text": [
      "2025-07-09 15:56:18,472 - src.helpers - INFO - Logging initialized for /Users/taishajoseph/Documents/Projects/MDC-Challenge-2025/logs/run_chunking_pipeline.log\n",
      "2025-07-09 15:56:18,472 - src.helpers - INFO - Logging initialized for /Users/taishajoseph/Documents/Projects/MDC-Challenge-2025/logs/run_chunking_pipeline.log\n",
      "2025-07-09 15:56:18,472 - src.helpers - INFO - Logging initialized for /Users/taishajoseph/Documents/Projects/MDC-Challenge-2025/logs/run_chunking_pipeline.log\n",
      "2025-07-09 15:56:18,472 - src.helpers - INFO - Logging initialized for /Users/taishajoseph/Documents/Projects/MDC-Challenge-2025/logs/run_chunking_pipeline.log\n",
      "2025-07-09 15:56:18,476 - src.helpers - INFO - Starting comprehensive semantic chunking with reporting...\n",
      "2025-07-09 15:56:18,476 - src.helpers - INFO - Starting comprehensive semantic chunking with reporting...\n",
      "2025-07-09 15:56:18,476 - src.helpers - INFO - Starting comprehensive semantic chunking with reporting...\n",
      "2025-07-09 15:56:18,476 - src.helpers - INFO - Starting comprehensive semantic chunking with reporting...\n",
      "2025-07-09 15:56:18,479 - src.helpers - INFO - Step 1: Pre-chunking configuration and validation...\n",
      "2025-07-09 15:56:18,479 - src.helpers - INFO - Step 1: Pre-chunking configuration and validation...\n",
      "2025-07-09 15:56:18,479 - src.helpers - INFO - Step 1: Pre-chunking configuration and validation...\n",
      "2025-07-09 15:56:18,479 - src.helpers - INFO - Step 1: Pre-chunking configuration and validation...\n",
      "2025-07-09 15:56:18,484 - src.helpers - INFO - Step 2: Executing core semantic chunking pipeline...\n",
      "2025-07-09 15:56:18,484 - src.helpers - INFO - Step 2: Executing core semantic chunking pipeline...\n",
      "2025-07-09 15:56:18,484 - src.helpers - INFO - Step 2: Executing core semantic chunking pipeline...\n",
      "2025-07-09 15:56:18,484 - src.helpers - INFO - Step 2: Executing core semantic chunking pipeline...\n",
      "2025-07-09 15:56:18,488 - src.helpers - INFO - === Semantic Chunking Pipeline (Step 6) ===\n",
      "2025-07-09 15:56:18,488 - src.helpers - INFO - === Semantic Chunking Pipeline (Step 6) ===\n",
      "2025-07-09 15:56:18,488 - src.helpers - INFO - === Semantic Chunking Pipeline (Step 6) ===\n",
      "2025-07-09 15:56:18,488 - src.helpers - INFO - === Semantic Chunking Pipeline (Step 6) ===\n",
      "2025-07-09 15:56:18,492 - src.helpers - INFO - Started at: 2025-07-09 15:56:18.492581\n",
      "2025-07-09 15:56:18,492 - src.helpers - INFO - Started at: 2025-07-09 15:56:18.492581\n",
      "2025-07-09 15:56:18,492 - src.helpers - INFO - Started at: 2025-07-09 15:56:18.492581\n",
      "2025-07-09 15:56:18,492 - src.helpers - INFO - Started at: 2025-07-09 15:56:18.492581\n",
      "2025-07-09 15:56:18,497 - src.helpers - INFO - \n",
      "📋 Step 1: Load & Filter Documents\n",
      "2025-07-09 15:56:18,497 - src.helpers - INFO - \n",
      "📋 Step 1: Load & Filter Documents\n",
      "2025-07-09 15:56:18,497 - src.helpers - INFO - \n",
      "📋 Step 1: Load & Filter Documents\n",
      "2025-07-09 15:56:18,497 - src.helpers - INFO - \n",
      "📋 Step 1: Load & Filter Documents\n",
      "2025-07-09 15:56:18,501 - src.helpers - INFO - Loading parsed documents from: /Users/taishajoseph/Documents/Projects/MDC-Challenge-2025/Data/train/parsed/parsed_documents.pkl\n",
      "2025-07-09 15:56:18,501 - src.helpers - INFO - Loading parsed documents from: /Users/taishajoseph/Documents/Projects/MDC-Challenge-2025/Data/train/parsed/parsed_documents.pkl\n",
      "2025-07-09 15:56:18,501 - src.helpers - INFO - Loading parsed documents from: /Users/taishajoseph/Documents/Projects/MDC-Challenge-2025/Data/train/parsed/parsed_documents.pkl\n",
      "2025-07-09 15:56:18,501 - src.helpers - INFO - Loading parsed documents from: /Users/taishajoseph/Documents/Projects/MDC-Challenge-2025/Data/train/parsed/parsed_documents.pkl\n",
      "2025-07-09 15:56:18,507 - src.helpers - INFO - ✅ Loaded 3 documents\n",
      "2025-07-09 15:56:18,507 - src.helpers - INFO - ✅ Loaded 3 documents\n",
      "2025-07-09 15:56:18,507 - src.helpers - INFO - ✅ Loaded 3 documents\n",
      "2025-07-09 15:56:18,507 - src.helpers - INFO - ✅ Loaded 3 documents\n",
      "2025-07-09 15:56:18,511 - src.helpers - WARNING - ⚠️  Skipped 0 documents (< 500 chars)\n",
      "2025-07-09 15:56:18,511 - src.helpers - WARNING - ⚠️  Skipped 0 documents (< 500 chars)\n",
      "2025-07-09 15:56:18,511 - src.helpers - WARNING - ⚠️  Skipped 0 documents (< 500 chars)\n",
      "2025-07-09 15:56:18,511 - src.helpers - WARNING - ⚠️  Skipped 0 documents (< 500 chars)\n",
      "2025-07-09 15:56:18,515 - src.helpers - INFO - \n",
      "📋 Step 2: Prepare Section Texts\n",
      "2025-07-09 15:56:18,515 - src.helpers - INFO - \n",
      "📋 Step 2: Prepare Section Texts\n",
      "2025-07-09 15:56:18,515 - src.helpers - INFO - \n",
      "📋 Step 2: Prepare Section Texts\n",
      "2025-07-09 15:56:18,515 - src.helpers - INFO - \n",
      "📋 Step 2: Prepare Section Texts\n",
      "2025-07-09 15:56:18,518 - src.helpers - INFO - Preparing section texts for 3 documents\n",
      "2025-07-09 15:56:18,518 - src.helpers - INFO - Preparing section texts for 3 documents\n",
      "2025-07-09 15:56:18,518 - src.helpers - INFO - Preparing section texts for 3 documents\n",
      "2025-07-09 15:56:18,518 - src.helpers - INFO - Preparing section texts for 3 documents\n",
      "2025-07-09 15:56:18,522 - src.helpers - INFO - ✅ Prepared section texts for 3 sections\n",
      "2025-07-09 15:56:18,522 - src.helpers - INFO - ✅ Prepared section texts for 3 sections\n",
      "2025-07-09 15:56:18,522 - src.helpers - INFO - ✅ Prepared section texts for 3 sections\n",
      "2025-07-09 15:56:18,522 - src.helpers - INFO - ✅ Prepared section texts for 3 sections\n",
      "2025-07-09 15:56:18,525 - src.helpers - INFO - 📊 Priority sections found: 0\n",
      "2025-07-09 15:56:18,525 - src.helpers - INFO - 📊 Priority sections found: 0\n",
      "2025-07-09 15:56:18,525 - src.helpers - INFO - 📊 Priority sections found: 0\n",
      "2025-07-09 15:56:18,525 - src.helpers - INFO - 📊 Priority sections found: 0\n",
      "2025-07-09 15:56:18,531 - src.helpers - WARNING - 📊 Fallback to full document: 3\n",
      "2025-07-09 15:56:18,531 - src.helpers - WARNING - 📊 Fallback to full document: 3\n",
      "2025-07-09 15:56:18,531 - src.helpers - WARNING - 📊 Fallback to full document: 3\n",
      "2025-07-09 15:56:18,531 - src.helpers - WARNING - 📊 Fallback to full document: 3\n",
      "2025-07-09 15:56:18,536 - src.helpers - INFO - \n",
      "📋 Step 3: Create Entity Inventory\n",
      "2025-07-09 15:56:18,536 - src.helpers - INFO - \n",
      "📋 Step 3: Create Entity Inventory\n",
      "2025-07-09 15:56:18,536 - src.helpers - INFO - \n",
      "📋 Step 3: Create Entity Inventory\n",
      "2025-07-09 15:56:18,536 - src.helpers - INFO - \n",
      "📋 Step 3: Create Entity Inventory\n",
      "2025-07-09 15:56:18,542 - src.helpers - INFO - Creating pre-chunk entity inventory for 3 sections\n",
      "2025-07-09 15:56:18,542 - src.helpers - INFO - Creating pre-chunk entity inventory for 3 sections\n",
      "2025-07-09 15:56:18,542 - src.helpers - INFO - Creating pre-chunk entity inventory for 3 sections\n",
      "2025-07-09 15:56:18,542 - src.helpers - INFO - Creating pre-chunk entity inventory for 3 sections\n",
      "2025-07-09 15:56:18,569 - src.helpers - INFO - ✅ Created entity inventory:\n",
      "2025-07-09 15:56:18,569 - src.helpers - INFO - ✅ Created entity inventory:\n",
      "2025-07-09 15:56:18,569 - src.helpers - INFO - ✅ Created entity inventory:\n",
      "2025-07-09 15:56:18,569 - src.helpers - INFO - ✅ Created entity inventory:\n",
      "2025-07-09 15:56:18,573 - src.helpers - INFO - 📊 Total entities found: 2178\n",
      "2025-07-09 15:56:18,573 - src.helpers - INFO - 📊 Total entities found: 2178\n",
      "2025-07-09 15:56:18,573 - src.helpers - INFO - 📊 Total entities found: 2178\n",
      "2025-07-09 15:56:18,573 - src.helpers - INFO - 📊 Total entities found: 2178\n",
      "2025-07-09 15:56:18,577 - src.helpers - INFO - 📊 Documents with entities: 3/3\n",
      "2025-07-09 15:56:18,577 - src.helpers - INFO - 📊 Documents with entities: 3/3\n",
      "2025-07-09 15:56:18,577 - src.helpers - INFO - 📊 Documents with entities: 3/3\n",
      "2025-07-09 15:56:18,577 - src.helpers - INFO - 📊 Documents with entities: 3/3\n",
      "2025-07-09 15:56:18,580 - src.helpers - INFO - \n",
      "📋 Step 4: Create Section-Aware Chunks\n",
      "2025-07-09 15:56:18,580 - src.helpers - INFO - \n",
      "📋 Step 4: Create Section-Aware Chunks\n",
      "2025-07-09 15:56:18,580 - src.helpers - INFO - \n",
      "📋 Step 4: Create Section-Aware Chunks\n",
      "2025-07-09 15:56:18,580 - src.helpers - INFO - \n",
      "📋 Step 4: Create Section-Aware Chunks\n",
      "2025-07-09 15:56:18,584 - src.helpers - INFO - Creating section-aware chunks with size=300, overlap=30\n",
      "2025-07-09 15:56:18,584 - src.helpers - INFO - Creating section-aware chunks with size=300, overlap=30\n",
      "2025-07-09 15:56:18,584 - src.helpers - INFO - Creating section-aware chunks with size=300, overlap=30\n",
      "2025-07-09 15:56:18,584 - src.helpers - INFO - Creating section-aware chunks with size=300, overlap=30\n"
     ]
    },
    {
     "name": "stdout",
     "output_type": "stream",
     "text": [
      "Executing run_semantic_chunking_with_reporting...\n",
      "Executing run_semantic_chunking_pipeline...\n",
      "Executing load_parsed_documents_for_chunking...\n",
      "Function load_parsed_documents_for_chunking took 0.0132 seconds to complete.\n",
      "Executing prepare_section_texts_for_chunking...\n",
      "Function prepare_section_texts_for_chunking took 0.0185 seconds to complete.\n",
      "Executing create_pre_chunk_entity_inventory...\n",
      "Function create_pre_chunk_entity_inventory took 0.0388 seconds to complete.\n",
      "Executing create_section_aware_chunks...\n"
     ]
    },
    {
     "name": "stderr",
     "output_type": "stream",
     "text": [
      "Chunking documents: 100%|██████████| 3/3 [00:00<00:00, 377.55it/s]\n",
      "2025-07-09 15:56:18,708 - src.helpers - INFO - ✅ Created 3 chunks from 3 sections\n",
      "2025-07-09 15:56:18,708 - src.helpers - INFO - ✅ Created 3 chunks from 3 sections\n",
      "2025-07-09 15:56:18,708 - src.helpers - INFO - ✅ Created 3 chunks from 3 sections\n",
      "2025-07-09 15:56:18,708 - src.helpers - INFO - ✅ Created 3 chunks from 3 sections\n",
      "2025-07-09 15:56:18,712 - src.helpers - INFO - \n",
      "📋 Step 5: Link Adjacent Chunks\n",
      "2025-07-09 15:56:18,712 - src.helpers - INFO - \n",
      "📋 Step 5: Link Adjacent Chunks\n",
      "2025-07-09 15:56:18,712 - src.helpers - INFO - \n",
      "📋 Step 5: Link Adjacent Chunks\n",
      "2025-07-09 15:56:18,712 - src.helpers - INFO - \n",
      "📋 Step 5: Link Adjacent Chunks\n",
      "2025-07-09 15:56:18,719 - src.helpers - INFO - Linking adjacent chunks for 3 chunks\n",
      "2025-07-09 15:56:18,719 - src.helpers - INFO - Linking adjacent chunks for 3 chunks\n",
      "2025-07-09 15:56:18,719 - src.helpers - INFO - Linking adjacent chunks for 3 chunks\n",
      "2025-07-09 15:56:18,719 - src.helpers - INFO - Linking adjacent chunks for 3 chunks\n",
      "2025-07-09 15:56:18,724 - src.helpers - INFO - ✅ Linked 3 chunks\n",
      "2025-07-09 15:56:18,724 - src.helpers - INFO - ✅ Linked 3 chunks\n",
      "2025-07-09 15:56:18,724 - src.helpers - INFO - ✅ Linked 3 chunks\n",
      "2025-07-09 15:56:18,724 - src.helpers - INFO - ✅ Linked 3 chunks\n",
      "2025-07-09 15:56:18,730 - src.helpers - INFO - \n",
      "📋 Step 6: Refine Chunk Types\n",
      "2025-07-09 15:56:18,730 - src.helpers - INFO - \n",
      "📋 Step 6: Refine Chunk Types\n",
      "2025-07-09 15:56:18,730 - src.helpers - INFO - \n",
      "📋 Step 6: Refine Chunk Types\n",
      "2025-07-09 15:56:18,730 - src.helpers - INFO - \n",
      "📋 Step 6: Refine Chunk Types\n",
      "2025-07-09 15:56:18,740 - src.helpers - INFO - Refining chunk types for 3 chunks\n",
      "2025-07-09 15:56:18,740 - src.helpers - INFO - Refining chunk types for 3 chunks\n",
      "2025-07-09 15:56:18,740 - src.helpers - INFO - Refining chunk types for 3 chunks\n",
      "2025-07-09 15:56:18,740 - src.helpers - INFO - Refining chunk types for 3 chunks\n",
      "2025-07-09 15:56:18,748 - src.helpers - INFO - ✅ Refined chunk types:\n",
      "2025-07-09 15:56:18,748 - src.helpers - INFO - ✅ Refined chunk types:\n",
      "2025-07-09 15:56:18,748 - src.helpers - INFO - ✅ Refined chunk types:\n",
      "2025-07-09 15:56:18,748 - src.helpers - INFO - ✅ Refined chunk types:\n",
      "2025-07-09 15:56:18,753 - src.helpers - INFO -    body: 3\n",
      "2025-07-09 15:56:18,753 - src.helpers - INFO -    body: 3\n",
      "2025-07-09 15:56:18,753 - src.helpers - INFO -    body: 3\n",
      "2025-07-09 15:56:18,753 - src.helpers - INFO -    body: 3\n",
      "2025-07-09 15:56:18,757 - src.helpers - INFO - \n",
      "📋 Step 7: Validate Chunk Integrity\n",
      "2025-07-09 15:56:18,757 - src.helpers - INFO - \n",
      "📋 Step 7: Validate Chunk Integrity\n",
      "2025-07-09 15:56:18,757 - src.helpers - INFO - \n",
      "📋 Step 7: Validate Chunk Integrity\n",
      "2025-07-09 15:56:18,757 - src.helpers - INFO - \n",
      "📋 Step 7: Validate Chunk Integrity\n",
      "2025-07-09 15:56:18,760 - src.helpers - INFO - Validating chunk integrity for 3 chunks\n",
      "2025-07-09 15:56:18,760 - src.helpers - INFO - Validating chunk integrity for 3 chunks\n",
      "2025-07-09 15:56:18,760 - src.helpers - INFO - Validating chunk integrity for 3 chunks\n",
      "2025-07-09 15:56:18,760 - src.helpers - INFO - Validating chunk integrity for 3 chunks\n",
      "2025-07-09 15:56:18,821 - src.helpers - INFO - ✅ Entity integrity validation:\n",
      "2025-07-09 15:56:18,821 - src.helpers - INFO - ✅ Entity integrity validation:\n",
      "2025-07-09 15:56:18,821 - src.helpers - INFO - ✅ Entity integrity validation:\n",
      "2025-07-09 15:56:18,821 - src.helpers - INFO - ✅ Entity integrity validation:\n",
      "2025-07-09 15:56:18,825 - src.helpers - INFO -    Pre-chunk entities: 2178\n",
      "2025-07-09 15:56:18,825 - src.helpers - INFO -    Pre-chunk entities: 2178\n",
      "2025-07-09 15:56:18,825 - src.helpers - INFO -    Pre-chunk entities: 2178\n",
      "2025-07-09 15:56:18,825 - src.helpers - INFO -    Pre-chunk entities: 2178\n",
      "2025-07-09 15:56:18,828 - src.helpers - INFO -    Post-chunk entities: 2178\n",
      "2025-07-09 15:56:18,828 - src.helpers - INFO -    Post-chunk entities: 2178\n",
      "2025-07-09 15:56:18,828 - src.helpers - INFO -    Post-chunk entities: 2178\n",
      "2025-07-09 15:56:18,828 - src.helpers - INFO -    Post-chunk entities: 2178\n",
      "2025-07-09 15:56:18,832 - src.helpers - INFO -    Retention rate: 100.0%\n",
      "2025-07-09 15:56:18,832 - src.helpers - INFO -    Retention rate: 100.0%\n",
      "2025-07-09 15:56:18,832 - src.helpers - INFO -    Retention rate: 100.0%\n",
      "2025-07-09 15:56:18,832 - src.helpers - INFO -    Retention rate: 100.0%\n",
      "2025-07-09 15:56:18,838 - src.helpers - INFO - ✅ SUCCESS: 100% entity retention achieved\n",
      "2025-07-09 15:56:18,838 - src.helpers - INFO - ✅ SUCCESS: 100% entity retention achieved\n",
      "2025-07-09 15:56:18,838 - src.helpers - INFO - ✅ SUCCESS: 100% entity retention achieved\n",
      "2025-07-09 15:56:18,838 - src.helpers - INFO - ✅ SUCCESS: 100% entity retention achieved\n",
      "2025-07-09 15:56:18,845 - src.helpers - INFO - \n",
      "📋 Step 8: Export Chunks\n",
      "2025-07-09 15:56:18,845 - src.helpers - INFO - \n",
      "📋 Step 8: Export Chunks\n",
      "2025-07-09 15:56:18,845 - src.helpers - INFO - \n",
      "📋 Step 8: Export Chunks\n",
      "2025-07-09 15:56:18,845 - src.helpers - INFO - \n",
      "📋 Step 8: Export Chunks\n",
      "2025-07-09 15:56:18,851 - src.helpers - INFO - Exporting 3 chunks to /Users/taishajoseph/Documents/Projects/MDC-Challenge-2025/Data/chunks_for_embedding.pkl\n",
      "2025-07-09 15:56:18,851 - src.helpers - INFO - Exporting 3 chunks to /Users/taishajoseph/Documents/Projects/MDC-Challenge-2025/Data/chunks_for_embedding.pkl\n",
      "2025-07-09 15:56:18,851 - src.helpers - INFO - Exporting 3 chunks to /Users/taishajoseph/Documents/Projects/MDC-Challenge-2025/Data/chunks_for_embedding.pkl\n",
      "2025-07-09 15:56:18,851 - src.helpers - INFO - Exporting 3 chunks to /Users/taishajoseph/Documents/Projects/MDC-Challenge-2025/Data/chunks_for_embedding.pkl\n",
      "2025-07-09 15:56:18,872 - src.helpers - INFO - ✅ Exported chunks:\n",
      "2025-07-09 15:56:18,872 - src.helpers - INFO - ✅ Exported chunks:\n",
      "2025-07-09 15:56:18,872 - src.helpers - INFO - ✅ Exported chunks:\n",
      "2025-07-09 15:56:18,872 - src.helpers - INFO - ✅ Exported chunks:\n",
      "2025-07-09 15:56:18,877 - src.helpers - INFO -    Chunks file: /Users/taishajoseph/Documents/Projects/MDC-Challenge-2025/Data/chunks_for_embedding.pkl.part\n",
      "2025-07-09 15:56:18,877 - src.helpers - INFO -    Chunks file: /Users/taishajoseph/Documents/Projects/MDC-Challenge-2025/Data/chunks_for_embedding.pkl.part\n",
      "2025-07-09 15:56:18,877 - src.helpers - INFO -    Chunks file: /Users/taishajoseph/Documents/Projects/MDC-Challenge-2025/Data/chunks_for_embedding.pkl.part\n",
      "2025-07-09 15:56:18,877 - src.helpers - INFO -    Chunks file: /Users/taishajoseph/Documents/Projects/MDC-Challenge-2025/Data/chunks_for_embedding.pkl.part\n",
      "2025-07-09 15:56:18,884 - src.helpers - INFO -    Summary file: /Users/taishajoseph/Documents/Projects/MDC-Challenge-2025/Data/chunks_for_embedding_summary.csv.part.part\n",
      "2025-07-09 15:56:18,884 - src.helpers - INFO -    Summary file: /Users/taishajoseph/Documents/Projects/MDC-Challenge-2025/Data/chunks_for_embedding_summary.csv.part.part\n",
      "2025-07-09 15:56:18,884 - src.helpers - INFO -    Summary file: /Users/taishajoseph/Documents/Projects/MDC-Challenge-2025/Data/chunks_for_embedding_summary.csv.part.part\n",
      "2025-07-09 15:56:18,884 - src.helpers - INFO -    Summary file: /Users/taishajoseph/Documents/Projects/MDC-Challenge-2025/Data/chunks_for_embedding_summary.csv.part.part\n",
      "2025-07-09 15:56:18,890 - src.helpers - INFO -    Total chunks: 3\n",
      "2025-07-09 15:56:18,890 - src.helpers - INFO -    Total chunks: 3\n",
      "2025-07-09 15:56:18,890 - src.helpers - INFO -    Total chunks: 3\n",
      "2025-07-09 15:56:18,890 - src.helpers - INFO -    Total chunks: 3\n",
      "2025-07-09 15:56:18,897 - src.helpers - INFO - \n",
      "✅ Pipeline completed successfully!\n",
      "2025-07-09 15:56:18,897 - src.helpers - INFO - \n",
      "✅ Pipeline completed successfully!\n",
      "2025-07-09 15:56:18,897 - src.helpers - INFO - \n",
      "✅ Pipeline completed successfully!\n",
      "2025-07-09 15:56:18,897 - src.helpers - INFO - \n",
      "✅ Pipeline completed successfully!\n",
      "2025-07-09 15:56:18,904 - src.helpers - INFO - 📊 Final Results:\n",
      "2025-07-09 15:56:18,904 - src.helpers - INFO - 📊 Final Results:\n",
      "2025-07-09 15:56:18,904 - src.helpers - INFO - 📊 Final Results:\n",
      "2025-07-09 15:56:18,904 - src.helpers - INFO - 📊 Final Results:\n",
      "2025-07-09 15:56:18,909 - src.helpers - INFO -    Documents processed: 3\n",
      "2025-07-09 15:56:18,909 - src.helpers - INFO -    Documents processed: 3\n",
      "2025-07-09 15:56:18,909 - src.helpers - INFO -    Documents processed: 3\n",
      "2025-07-09 15:56:18,909 - src.helpers - INFO -    Documents processed: 3\n"
     ]
    },
    {
     "name": "stdout",
     "output_type": "stream",
     "text": [
      "Function create_section_aware_chunks took 0.1279 seconds to complete.\n",
      "Executing link_adjacent_chunks...\n",
      "Function link_adjacent_chunks took 0.0113 seconds to complete.\n",
      "Executing refine_chunk_types...\n",
      "Function refine_chunk_types took 0.0171 seconds to complete.\n",
      "Executing validate_chunk_integrity...\n",
      "Function validate_chunk_integrity took 0.0848 seconds to complete.\n",
      "Executing export_chunks_for_embedding...\n",
      "Function export_chunks_for_embedding took 0.0444 seconds to complete.\n"
     ]
    },
    {
     "name": "stderr",
     "output_type": "stream",
     "text": [
      "2025-07-09 15:56:18,913 - src.helpers - INFO -    Chunks created: 3\n",
      "2025-07-09 15:56:18,913 - src.helpers - INFO -    Chunks created: 3\n",
      "2025-07-09 15:56:18,913 - src.helpers - INFO -    Chunks created: 3\n",
      "2025-07-09 15:56:18,913 - src.helpers - INFO -    Chunks created: 3\n",
      "2025-07-09 15:56:18,919 - src.helpers - INFO - Step 3: Quality analysis and recommendations...\n",
      "2025-07-09 15:56:18,919 - src.helpers - INFO - Step 3: Quality analysis and recommendations...\n",
      "2025-07-09 15:56:18,919 - src.helpers - INFO - Step 3: Quality analysis and recommendations...\n",
      "2025-07-09 15:56:18,919 - src.helpers - INFO - Step 3: Quality analysis and recommendations...\n",
      "2025-07-09 15:56:18,924 - src.helpers - INFO - Semantic chunking with reporting completed successfully!\n",
      "2025-07-09 15:56:18,924 - src.helpers - INFO - Semantic chunking with reporting completed successfully!\n",
      "2025-07-09 15:56:18,924 - src.helpers - INFO - Semantic chunking with reporting completed successfully!\n",
      "2025-07-09 15:56:18,924 - src.helpers - INFO - Semantic chunking with reporting completed successfully!\n",
      "2025-07-09 15:56:18,935 - src.helpers - INFO - Reports saved: reports/semantic_chunking_report_20250709_155618.md, reports/semantic_chunking_summary_20250709_155618.json\n",
      "2025-07-09 15:56:18,935 - src.helpers - INFO - Reports saved: reports/semantic_chunking_report_20250709_155618.md, reports/semantic_chunking_summary_20250709_155618.json\n",
      "2025-07-09 15:56:18,935 - src.helpers - INFO - Reports saved: reports/semantic_chunking_report_20250709_155618.md, reports/semantic_chunking_summary_20250709_155618.json\n",
      "2025-07-09 15:56:18,935 - src.helpers - INFO - Reports saved: reports/semantic_chunking_report_20250709_155618.md, reports/semantic_chunking_summary_20250709_155618.json\n",
      "2025-07-09 15:56:18,944 - src.helpers - INFO - Atomically renamed /Users/taishajoseph/Documents/Projects/MDC-Challenge-2025/Data/chunks_for_embedding.pkl.part → /Users/taishajoseph/Documents/Projects/MDC-Challenge-2025/Data/chunks_for_embedding.pkl\n",
      "2025-07-09 15:56:18,944 - src.helpers - INFO - Atomically renamed /Users/taishajoseph/Documents/Projects/MDC-Challenge-2025/Data/chunks_for_embedding.pkl.part → /Users/taishajoseph/Documents/Projects/MDC-Challenge-2025/Data/chunks_for_embedding.pkl\n",
      "2025-07-09 15:56:18,944 - src.helpers - INFO - Atomically renamed /Users/taishajoseph/Documents/Projects/MDC-Challenge-2025/Data/chunks_for_embedding.pkl.part → /Users/taishajoseph/Documents/Projects/MDC-Challenge-2025/Data/chunks_for_embedding.pkl\n",
      "2025-07-09 15:56:18,944 - src.helpers - INFO - Atomically renamed /Users/taishajoseph/Documents/Projects/MDC-Challenge-2025/Data/chunks_for_embedding.pkl.part → /Users/taishajoseph/Documents/Projects/MDC-Challenge-2025/Data/chunks_for_embedding.pkl\n"
     ]
    },
    {
     "name": "stdout",
     "output_type": "stream",
     "text": [
      "   Average tokens per chunk: 261.0\n",
      "   Entity retention: 100.0%\n",
      "Function run_semantic_chunking_pipeline took 0.4301 seconds to complete.\n",
      "================================================================================\n",
      "SEMANTIC CHUNKING PIPELINE COMPREHENSIVE REPORT\n",
      "================================================================================\n",
      "Generated: 2025-07-09 15:56:18\n",
      "Data Directory: Data\n",
      "Chunking Duration: 0:00:00.452938\n",
      "\n",
      "EXECUTIVE SUMMARY\n",
      "----------------------------------------\n",
      "• Configuration Validation: PASSED\n",
      "• Pipeline Success: True\n",
      "• Total Chunks Created: 3\n",
      "• Entity Retention Rate: 100.0%\n",
      "• Quality Score: GOOD\n",
      "• Total Processing Time: 0.43s\n",
      "• Average Tokens per Chunk: 261.0\n",
      "• Chunking Steps Completed: 3\n",
      "\n",
      "CHUNKING PERFORMANCE\n",
      "----------------------------------------\n",
      "• average_processing_time: 0.43s\n",
      "• total_processing_time: 0.43s\n",
      "• fastest_processing: 0.4302248954772949\n",
      "• slowest_processing: 0.4302248954772949\n",
      "• processing_rate: 2.32 docs/sec\n",
      "• average_memory_mb: 171.0MB\n",
      "• peak_memory_mb: 171.0MB\n",
      "• min_memory_mb: 171.0MB\n",
      "\n",
      "QUALITY GATES STATUS\n",
      "----------------------------------------\n",
      "• Entity retention: ✅ PASSED\n",
      "• Retention rate: 100.0%\n",
      "\n",
      "CHUNKING_START\n",
      "--------------\n",
      "message: Semantic chunking process initiated\n",
      "input_path: /Users/taishajoseph/Documents/Projects/MDC-Challenge-2025/Data/train/parsed/parsed_documents.pkl\n",
      "output_path: /Users/taishajoseph/Documents/Projects/MDC-Challenge-2025/Data/chunks_for_embedding.pkl\n",
      "parameters: {'chunk_size': 300, 'chunk_overlap': 30, 'min_chars': 500}...\n",
      "timestamp: 2025-07-09T15:56:18.479689\n",
      "\n",
      "STEP_1_CONFIGURATION\n",
      "--------------------\n",
      "input_validation: passed\n",
      "input_file_exists: True\n",
      "configuration: {'chunk_size': 300, 'chunk_overlap': 30, 'min_chars': 500, 'overlap_ratio': 0.1}...\n",
      "step_duration: 0.0002269744873046875\n",
      "\n",
      "STEP_2_CORE_CHUNKING\n",
      "--------------------\n",
      "pipeline_success: True\n",
      "total_documents: 3\n",
      "total_chunks: 3\n",
      "total_tokens: 783\n",
      "avg_tokens_per_chunk: 261.0\n",
      "validation_passed: True\n",
      "entity_retention: 100.0\n",
      "step_duration: 0.4302248954772949\n",
      "\n",
      "STEP_3_QUALITY_ANALYSIS\n",
      "-----------------------\n",
      "quality_gates: {'entity_retention_passed': True, 'token_distribution_analysis': {'avg_tokens_per_chunk': 261.0, 'op...\n",
      "recommendations: []...\n",
      "overall_quality_score: good\n",
      "step_duration: 1.6689300537109375e-05\n",
      "\n",
      "GENERATED FILES\n",
      "----------------------------------------\n",
      "• Chunks for embedding (pickle): /Users/taishajoseph/Documents/Projects/MDC-Challenge-2025/Data/chunks_for_embedding.pkl\n",
      "• Chunking summary (CSV): /Users/taishajoseph/Documents/Projects/MDC-Challenge-2025/Data/chunks_for_embedding_summary.csv\n",
      "\n",
      "Function run_semantic_chunking_with_reporting took 0.4730 seconds to complete.\n"
     ]
    },
    {
     "name": "stderr",
     "output_type": "stream",
     "text": [
      "2025-07-09 15:56:19,966 - src.helpers - INFO - Checkpoint created for step semantic_chunking\n",
      "2025-07-09 15:56:19,966 - src.helpers - INFO - Checkpoint created for step semantic_chunking\n",
      "2025-07-09 15:56:19,966 - src.helpers - INFO - Checkpoint created for step semantic_chunking\n",
      "2025-07-09 15:56:19,966 - src.helpers - INFO - Checkpoint created for step semantic_chunking\n",
      "2025-07-09 15:56:19,971 - src.helpers - INFO - Step Semantic Chunking completed successfully in 5.00 seconds\n",
      "2025-07-09 15:56:19,971 - src.helpers - INFO - Step Semantic Chunking completed successfully in 5.00 seconds\n",
      "2025-07-09 15:56:19,971 - src.helpers - INFO - Step Semantic Chunking completed successfully in 5.00 seconds\n",
      "2025-07-09 15:56:19,971 - src.helpers - INFO - Step Semantic Chunking completed successfully in 5.00 seconds\n"
     ]
    },
    {
     "name": "stdout",
     "output_type": "stream",
     "text": [
      "✅ semantic_chunking completed successfully\n"
     ]
    }
   ],
   "source": [
    "# Step 4: Semantic Chunking\n",
    "step_id = steps[3][0]\n",
    "params = steps[3][1]\n",
    "# Update parameters\n",
    "pipeline.update_step_parameters(step_id, params)\n",
    "# Run step\n",
    "success = pipeline.run_single_step(step_id)\n",
    "if success:\n",
    "    print(f\"✅ {step_id} completed successfully\")\n",
    "else:\n",
    "    print(f\"❌ {step_id} failed\")"
   ]
  },
  {
   "cell_type": "code",
   "execution_count": null,
   "id": "79472f40",
   "metadata": {},
   "outputs": [],
   "source": [
    "# Run all steps\n",
    "success = pipeline.run_all()\n",
    "\n",
    "if success:\n",
    "    print(\"Pipeline completed successfully!\")\n",
    "    # Generate reports\n",
    "    pipeline.generate_consolidated_reports()\n",
    "else:\n",
    "    print(\"Pipeline failed!\")\n",
    "    # Check failed steps\n",
    "    print(f\"Failed steps: {pipeline.state.failed_steps}\")\n"
   ]
  }
 ],
 "metadata": {
  "kernelspec": {
   "display_name": ".venv",
   "language": "python",
   "name": "python3"
  },
  "language_info": {
   "codemirror_mode": {
    "name": "ipython",
    "version": 3
   },
   "file_extension": ".py",
   "mimetype": "text/x-python",
   "name": "python",
   "nbconvert_exporter": "python",
   "pygments_lexer": "ipython3",
   "version": "3.12.3"
  }
 },
 "nbformat": 4,
 "nbformat_minor": 5
}
