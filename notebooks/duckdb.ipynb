{
 "cells": [
  {
   "cell_type": "markdown",
   "id": "1414176c",
   "metadata": {},
   "source": [
    "# DuckDB Functions/methods"
   ]
  },
  {
   "cell_type": "code",
   "execution_count": 1,
   "id": "3b1d9129",
   "metadata": {},
   "outputs": [
    {
     "name": "stderr",
     "output_type": "stream",
     "text": [
      "2025-07-27 14:48:46,979 - src.helpers - INFO - Logging initialized for /Users/taishajoseph/Documents/Projects/MDC-Challenge-2025/logs/duckdb_utils.log\n",
      "2025-07-27 14:48:46,979 - src.helpers - INFO - Logging initialized for /Users/taishajoseph/Documents/Projects/MDC-Challenge-2025/logs/duckdb_utils.log\n",
      "2025-07-27 14:48:47,017 - src.helpers - INFO - Database schema initialized successfully\n",
      "2025-07-27 14:48:47,017 - src.helpers - INFO - Database schema initialized successfully\n",
      "2025-07-27 14:48:47,027 - src.helpers - INFO - Database schema initialized successfully\n",
      "2025-07-27 14:48:47,027 - src.helpers - INFO - Database schema initialized successfully\n"
     ]
    },
    {
     "name": "stdout",
     "output_type": "stream",
     "text": [
      "Project root: /Users/taishajoseph/Documents/Projects/MDC-Challenge-2025\n",
      "Python path includes project root: True\n"
     ]
    }
   ],
   "source": [
    "# import dependencies\n",
    "import sys, os\n",
    "from pathlib import Path\n",
    "# get project root\n",
    "project_root = Path(os.getcwd()).parent\n",
    "\n",
    "sys.path.append(str(project_root))\n",
    "from api.utils.duckdb_utils import get_duckdb_helper\n",
    "\n",
    "db_helper = get_duckdb_helper(str(project_root / \"artifacts\" / \"mdc_challenge.db\"))\n",
    "db_helper = get_duckdb_helper(str(project_root / \"artifacts\" / \"mdc_challenge.db\"))\n",
    "\n",
    "print(f\"Project root: {project_root}\")\n",
    "print(f\"Python path includes project root: {str(project_root) in sys.path}\")"
   ]
  },
  {
   "cell_type": "code",
   "execution_count": 2,
   "id": "0ea99178",
   "metadata": {},
   "outputs": [
    {
     "name": "stdout",
     "output_type": "stream",
     "text": [
      "Total chunks in DB: 0\n"
     ]
    }
   ],
   "source": [
    "stats = db_helper.get_database_stats()\n",
    "print(f\"Total chunks in DB: {stats['total_chunks']}\")"
   ]
  },
  {
   "cell_type": "code",
   "execution_count": 3,
   "id": "ba786490",
   "metadata": {},
   "outputs": [
    {
     "name": "stderr",
     "output_type": "stream",
     "text": [
      "2025-07-27 14:48:47,064 - src.helpers - INFO - Database connection closed\n",
      "2025-07-27 14:48:47,064 - src.helpers - INFO - Database connection closed\n"
     ]
    },
    {
     "name": "stdout",
     "output_type": "stream",
     "text": [
      "🚫 No rows in `chunks`, nothing to do.\n"
     ]
    }
   ],
   "source": [
    "if stats[\"total_chunks\"] > 0:\n",
    "    db_helper.engine.execute(\"DELETE FROM chunks\")\n",
    "    print(\"✅ All rows from `chunks` have been deleted.\")\n",
    "else:\n",
    "    print(\"🚫 No rows in `chunks`, nothing to do.\")\n",
    "\n",
    "# 4. Close connection\n",
    "db_helper.close()"
   ]
  },
  {
   "cell_type": "code",
   "execution_count": 4,
   "id": "68cba430",
   "metadata": {},
   "outputs": [
    {
     "name": "stderr",
     "output_type": "stream",
     "text": [
      "2025-07-27 14:48:47,078 - src.helpers - ERROR - Failed to get database stats: Connection Error: Connection already closed!\n",
      "2025-07-27 14:48:47,078 - src.helpers - ERROR - Failed to get database stats: Connection Error: Connection already closed!\n"
     ]
    },
    {
     "name": "stdout",
     "output_type": "stream",
     "text": [
      "Total chunks in DB: 0\n"
     ]
    }
   ],
   "source": [
    "stats = db_helper.get_database_stats()\n",
    "print(f\"Total chunks in DB: {stats['total_chunks']}\")"
   ]
  },
  {
   "cell_type": "code",
   "execution_count": 5,
   "id": "0dadcb14",
   "metadata": {},
   "outputs": [
    {
     "data": {
      "text/plain": [
       "0"
      ]
     },
     "execution_count": 5,
     "metadata": {},
     "output_type": "execute_result"
    }
   ],
   "source": [
    "stats['total_documents']"
   ]
  },
  {
   "cell_type": "code",
   "execution_count": 6,
   "id": "a53c89c4",
   "metadata": {},
   "outputs": [
    {
     "data": {
      "text/plain": [
       "0"
      ]
     },
     "execution_count": 6,
     "metadata": {},
     "output_type": "execute_result"
    }
   ],
   "source": [
    "stats['documents_with_citations']"
   ]
  }
 ],
 "metadata": {
  "kernelspec": {
   "display_name": ".venv",
   "language": "python",
   "name": "python3"
  },
  "language_info": {
   "codemirror_mode": {
    "name": "ipython",
    "version": 3
   },
   "file_extension": ".py",
   "mimetype": "text/x-python",
   "name": "python",
   "nbconvert_exporter": "python",
   "pygments_lexer": "ipython3",
   "version": "3.12.3"
  }
 },
 "nbformat": 4,
 "nbformat_minor": 5
}
