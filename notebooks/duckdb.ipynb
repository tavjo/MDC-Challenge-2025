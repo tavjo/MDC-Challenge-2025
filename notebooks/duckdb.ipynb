{
 "cells": [
  {
   "cell_type": "markdown",
   "id": "1414176c",
   "metadata": {},
   "source": [
    "# DuckDB Functions/methods"
   ]
  },
  {
   "cell_type": "code",
   "execution_count": 1,
   "id": "3b1d9129",
   "metadata": {},
   "outputs": [
    {
     "name": "stderr",
     "output_type": "stream",
     "text": [
      "2025-08-09 12:58:16,540 - src.helpers - INFO - Logging initialized for /Users/taishajoseph/Documents/Projects/MDC-Challenge-2025/logs/duckdb_utils.log\n",
      "2025-08-09 12:58:16,540 - src.helpers - INFO - Logging initialized for /Users/taishajoseph/Documents/Projects/MDC-Challenge-2025/logs/duckdb_utils.log\n",
      "2025-08-09 12:58:16,583 - api.database.duckdb_schema - INFO - Starting DuckDB schema creation...\n",
      "2025-08-09 12:58:16,583 - api.database.duckdb_schema - INFO - Starting DuckDB schema creation...\n",
      "2025-08-09 12:58:16,614 - api.database.duckdb_schema - INFO - Creating documents table...\n",
      "2025-08-09 12:58:16,614 - api.database.duckdb_schema - INFO - Creating documents table...\n",
      "2025-08-09 12:58:16,619 - api.database.duckdb_schema - INFO - Documents table created successfully\n",
      "2025-08-09 12:58:16,619 - api.database.duckdb_schema - INFO - Documents table created successfully\n",
      "2025-08-09 12:58:16,621 - api.database.duckdb_schema - INFO - Creating citations table...\n",
      "2025-08-09 12:58:16,621 - api.database.duckdb_schema - INFO - Creating citations table...\n",
      "2025-08-09 12:58:16,625 - api.database.duckdb_schema - INFO - Citations table created successfully\n",
      "2025-08-09 12:58:16,625 - api.database.duckdb_schema - INFO - Citations table created successfully\n",
      "2025-08-09 12:58:16,630 - api.database.duckdb_schema - INFO - Creating chunks table...\n",
      "2025-08-09 12:58:16,630 - api.database.duckdb_schema - INFO - Creating chunks table...\n",
      "2025-08-09 12:58:16,635 - api.database.duckdb_schema - INFO - Chunks table created successfully\n",
      "2025-08-09 12:58:16,635 - api.database.duckdb_schema - INFO - Chunks table created successfully\n",
      "2025-08-09 12:58:16,638 - api.database.duckdb_schema - INFO - Creating datasets table...\n",
      "2025-08-09 12:58:16,638 - api.database.duckdb_schema - INFO - Creating datasets table...\n",
      "2025-08-09 12:58:16,643 - api.database.duckdb_schema - INFO - Datasets table created successfully\n",
      "2025-08-09 12:58:16,643 - api.database.duckdb_schema - INFO - Datasets table created successfully\n",
      "2025-08-09 12:58:16,650 - api.database.duckdb_schema - INFO - Creating engineered_feature_values table...\n",
      "2025-08-09 12:58:16,650 - api.database.duckdb_schema - INFO - Creating engineered_feature_values table...\n",
      "2025-08-09 12:58:16,655 - api.database.duckdb_schema - INFO - engineered_feature_values table created successfully\n",
      "2025-08-09 12:58:16,655 - api.database.duckdb_schema - INFO - engineered_feature_values table created successfully\n",
      "2025-08-09 12:58:16,657 - api.database.duckdb_schema - INFO - Creating indexes...\n",
      "2025-08-09 12:58:16,657 - api.database.duckdb_schema - INFO - Creating indexes...\n",
      "2025-08-09 12:58:16,667 - api.database.duckdb_schema - INFO - Indexes created successfully\n",
      "2025-08-09 12:58:16,667 - api.database.duckdb_schema - INFO - Indexes created successfully\n",
      "2025-08-09 12:58:16,668 - api.database.duckdb_schema - INFO - DuckDB schema creation completed successfully\n",
      "2025-08-09 12:58:16,668 - api.database.duckdb_schema - INFO - DuckDB schema creation completed successfully\n",
      "2025-08-09 12:58:16,674 - api.database.duckdb_schema - INFO - Validating schema...\n",
      "2025-08-09 12:58:16,674 - api.database.duckdb_schema - INFO - Validating schema...\n",
      "2025-08-09 12:58:16,709 - api.database.duckdb_schema - INFO - Table documents has 14 columns\n",
      "2025-08-09 12:58:16,709 - api.database.duckdb_schema - INFO - Table documents has 14 columns\n",
      "2025-08-09 12:58:16,716 - api.database.duckdb_schema - INFO - Table citations has 5 columns\n",
      "2025-08-09 12:58:16,716 - api.database.duckdb_schema - INFO - Table citations has 5 columns\n",
      "2025-08-09 12:58:16,719 - api.database.duckdb_schema - INFO - Table chunks has 6 columns\n",
      "2025-08-09 12:58:16,719 - api.database.duckdb_schema - INFO - Table chunks has 6 columns\n",
      "2025-08-09 12:58:16,722 - api.database.duckdb_schema - INFO - Table datasets has 11 columns\n",
      "2025-08-09 12:58:16,722 - api.database.duckdb_schema - INFO - Table datasets has 11 columns\n",
      "2025-08-09 12:58:16,725 - api.database.duckdb_schema - INFO - Table engineered_feature_values has 6 columns\n",
      "2025-08-09 12:58:16,725 - api.database.duckdb_schema - INFO - Table engineered_feature_values has 6 columns\n",
      "2025-08-09 12:58:16,730 - api.database.duckdb_schema - INFO - Schema validation completed successfully\n",
      "2025-08-09 12:58:16,730 - api.database.duckdb_schema - INFO - Schema validation completed successfully\n",
      "2025-08-09 12:58:16,733 - src.helpers - INFO - DuckDB schema initialization completed successfully\n",
      "2025-08-09 12:58:16,733 - src.helpers - INFO - DuckDB schema initialization completed successfully\n",
      "2025-08-09 12:58:16,741 - api.database.duckdb_schema - INFO - Database connection closed\n",
      "2025-08-09 12:58:16,741 - api.database.duckdb_schema - INFO - Database connection closed\n"
     ]
    },
    {
     "name": "stdout",
     "output_type": "stream",
     "text": [
      "Project root: /Users/taishajoseph/Documents/Projects/MDC-Challenge-2025\n",
      "Python path includes project root: True\n"
     ]
    }
   ],
   "source": [
    "# import dependencies\n",
    "import sys, os\n",
    "from pathlib import Path\n",
    "# get project root\n",
    "project_root = Path(os.getcwd()).parent\n",
    "\n",
    "sys.path.append(str(project_root))\n",
    "from api.utils.duckdb_utils import get_duckdb_helper\n",
    "\n",
    "# db_helper = get_duckdb_helper(str(project_root / \"artifacts\" / \"mdc_challenge.db\"))\n",
    "db_helper = get_duckdb_helper(str(project_root / \"artifacts\" / \"mdc_challenge.db\"))\n",
    "\n",
    "print(f\"Project root: {project_root}\")\n",
    "print(f\"Python path includes project root: {str(project_root) in sys.path}\")"
   ]
  },
  {
   "cell_type": "code",
   "execution_count": 2,
   "id": "0ea99178",
   "metadata": {},
   "outputs": [
    {
     "data": {
      "text/plain": [
       "{'total_documents': 524,\n",
       " 'total_citations': 531,\n",
       " 'total_chunks': 3965,\n",
       " 'documents_with_citations': 0,\n",
       " 'total_datasets': 486}"
      ]
     },
     "execution_count": 2,
     "metadata": {},
     "output_type": "execute_result"
    }
   ],
   "source": [
    "stats = db_helper.get_database_stats()\n",
    "stats"
   ]
  },
  {
   "cell_type": "code",
   "execution_count": 3,
   "id": "45cec7bb",
   "metadata": {},
   "outputs": [
    {
     "name": "stdout",
     "output_type": "stream",
     "text": [
      "Total chunks in DB: 3965\n"
     ]
    }
   ],
   "source": [
    "print(f\"Total chunks in DB: {stats['total_chunks']}\")"
   ]
  },
  {
   "cell_type": "code",
   "execution_count": null,
   "id": "ba786490",
   "metadata": {},
   "outputs": [],
   "source": [
    "# if stats[\"total_chunks\"] > 0:\n",
    "#     db_helper.engine.execute(\"DELETE FROM chunks\")\n",
    "#     print(\"✅ All rows from `chunks` have been deleted.\")\n",
    "# else:\n",
    "#     print(\"🚫 No rows in `chunks`, nothing to do.\")\n",
    "\n",
    "# # 4. Close connection\n",
    "# db_helper.close()"
   ]
  },
  {
   "cell_type": "code",
   "execution_count": 4,
   "id": "68cba430",
   "metadata": {},
   "outputs": [
    {
     "data": {
      "text/plain": [
       "{'total_documents': 524,\n",
       " 'total_citations': 487,\n",
       " 'total_chunks': 0,\n",
       " 'documents_with_citations': 0,\n",
       " 'total_datasets': 487}"
      ]
     },
     "execution_count": 4,
     "metadata": {},
     "output_type": "execute_result"
    }
   ],
   "source": [
    "stats = db_helper.get_database_stats()\n",
    "stats"
   ]
  },
  {
   "cell_type": "code",
   "execution_count": 5,
   "id": "5296c4fb",
   "metadata": {},
   "outputs": [
    {
     "name": "stdout",
     "output_type": "stream",
     "text": [
      "Total chunks in DB: 0\n"
     ]
    }
   ],
   "source": [
    "print(f\"Total chunks in DB: {stats['total_chunks']}\")"
   ]
  },
  {
   "cell_type": "code",
   "execution_count": 6,
   "id": "0dadcb14",
   "metadata": {},
   "outputs": [
    {
     "data": {
      "text/plain": [
       "524"
      ]
     },
     "execution_count": 6,
     "metadata": {},
     "output_type": "execute_result"
    }
   ],
   "source": [
    "stats['total_documents']"
   ]
  },
  {
   "cell_type": "code",
   "execution_count": 7,
   "id": "a53c89c4",
   "metadata": {},
   "outputs": [
    {
     "data": {
      "text/plain": [
       "0"
      ]
     },
     "execution_count": 7,
     "metadata": {},
     "output_type": "execute_result"
    }
   ],
   "source": [
    "stats['documents_with_citations']"
   ]
  },
  {
   "cell_type": "code",
   "execution_count": 4,
   "id": "56996fe0",
   "metadata": {},
   "outputs": [
    {
     "name": "stderr",
     "output_type": "stream",
     "text": [
      "2025-08-09 12:59:15,555 - src.helpers - INFO - Retrieved 524 documents from database\n",
      "2025-08-09 12:59:15,555 - src.helpers - INFO - Retrieved 524 documents from database\n"
     ]
    }
   ],
   "source": [
    "docs = db_helper.get_all_documents()"
   ]
  },
  {
   "cell_type": "code",
   "execution_count": 5,
   "id": "b3f3131a",
   "metadata": {},
   "outputs": [
    {
     "data": {
      "text/plain": [
       "Document(doi='10.1107_s2414314616007227', has_dataset_citation=None, full_text=['data reports IUCrData (2016). 1, x160722 http://dx.doi.org/10.1107/S2414314616007227 1 of 3 Diethyl 2,6-dimethyl-4-(naphthalen-1-yl)-1,4-dihydropyridine-3,5-dicarboxylate N. L. Prasad and Noor Shahina Begum* Department of Studies in Chemistry, Central College Campus, Bangalore University, Bangalore 560 001, Karnataka, India. *Correspondence e-mail: noorsb@rediffmail.com In the title compound, C23H25NO4, the 1,4-dihydropyridine ring adopts a flattened boat conformation. The naphthalene ring system forms a dihedral angle of 88.59 (6)\\x02 with the pyridine ring. In the crystal, N—H\\x03 \\x03 \\x03O and C— H\\x03 \\x03 \\x03O hydrogen bonds generate an R1 2(6) ring motif and result in a zigzag chain along the b axis. Additional C—H\\x03 \\x03 \\x03O hydrogen bonds form infinite chains along the c-axis direction. Structure description 1,4-Dihydropyridines (1,4-DHPs) are an important class of chemicals widely used as drugs or their precursors (Giorgi et al., 2010; Lavanya et al., 2011; Datar & Pratibha, 2012). 1,4-Dihydropyridine compounds are prescribed for the treatment of hypertension and heart defibrilation (Metcalf & Holt, 2000). Dihydropyridines (DHPs), in particular 4-aryl-substituted 1,4-dihydropyridines (Hantzsch esters), have been recognized as an important class of organic calcium channel modulators for the treatment of cardiovascular diseases (Zonouz et al., 2013). Herein, we report the crystal structure of the title 4-aryl-substituted 1,4-dihydropyridine compound, (Fig. 1). The naphthalene substituent at C4 is positioned axially and is inclined to the pyridine ring at a dihedral angle of 88.590 (6)\\x02. The pyridine ring with the naphthalene substituent at the C4 atom is significantly puckered and adopts a flattened boat conformation with atoms N1 and C4 displaced by 0.1444 (3) and 0.322 (6) A ̊ , respectively, from the mean plane of the other four atoms C5/C6/C2/C3. Both ethylcarboxylate substituents on the dihydropyridine ring adopt cis orientations of the carbonyl O atoms and the adjacent methyl groups with respect to the C2 C3 and C5 C6 double bonds, respectively. This contrasts with two of three methoxy-substituted 4-phenyl-2,6-dimethyl-1,4-dihydropyridine-3,6-dicarboxylate compounds (Metcalf & Holt, 2000) where there is one cis and one trans conformation. This may be due to the presence of a bulky naphthalene group in Received 7 April 2016 Accepted 28 April 2016 Edited by J. Simpson, University of Otago, New Zealand Keywords: crystal structure; pyridine derivatives; hydrogen bonds; biological activity; Hantzsch reaction. CCDC reference: 1477134 Structural data: full structural data are available from iucrdata.iucr.org ISSN 2414-3146', '2 of 3 Prasad and Begum \\x04 C23H25NO4 IUCrData (2016). 1, x160722 data reports the title compound. The bond lengths and angles in the title compound are in good agreement with the corresponding values in closely related structures (Fun et al., 2012; Vra ́bel et al., 2005; Giorgi et al., 2010; Metcalf & Holt, 2000). In the crystal, the O1 atom acts as a double-acceptor for the N1—H1\\x03 \\x03 \\x03O1 and C7—H7\\x03 \\x03 \\x03O1 hydrogen bonds (Table 1), generating an R1 2(6) ring motif and linking the molecules into zigzag chains running along the b axis (Fig. 2). C1—H1\\x03 \\x03 \\x03O2 and C19—H19\\x03 \\x03 \\x03O1 hydrogen bonds form infinite chains along the c-axis direction (Fig. 3). Synthesis and crystallization A mixture of naphthaldehyde (1 mmol), ethyl acetoacetate (2 mmol) and aqueous ammonia (1.5 mmol), was refluxed in dry ethanol (20 mmol) for 12 h. The progress of the reaction was monitored by TLC. After confirming that the reaction was complete, the reaction mixture was cooled to room temperaFigure 2 Fragment of an [010] chain in the title compound showing C—H\\x03 \\x03 \\x03O and N—H\\x03 \\x03 \\x03O interactions as dashed lines. H atoms not involved in hydrogen bonding have been excluded. Figure 3 Fragment of an [001] chain in the title compound showing C—H\\x03 \\x03 \\x03O interactions as dashed lines. H-atoms not involved in hydrogen bonding have been omitted. Table 2 Experimental details. Crystal data Chemical formula C23H25NO4 Mr 379.44 Crystal system, space group Monoclinic, P21 Temperature (K) 100 a, b, c (A ̊ ) 8.7072 (17), 9.8740 (19), 11.221 (2) \\x02 (\\x02) 95.307 (6) V (A ̊ 3) 960.6 (3) Z 2 Radiation type Mo K\\x03 \\x04 (mm\\x051) 0.09 Crystal size (mm) 0.18 \\x06 0.16 \\x06 0.16 Data collection Diffractometer Bruker SMART APEX CCD Absorption correction Multi-scan (SADABS; Bruker, 1998) Tmin, Tmax 0.984, 0.986 No. of measured, independent and observed [I > 2\\x05(I)] reflections 7663, 3319, 3046 Rint 0.048 (sin \\x06/\\x07)max (A ̊ \\x051) 0.594 Refinement R[F 2 > 2\\x05(F 2)], wR(F 2), S 0.048, 0.123, 1.05 No. of reflections 3319 No. of parameters 257 No. of restraints 1 H-atom treatment H-atom parameters constrained \\x02\\x08max, \\x02\\x08min (e A ̊ \\x053) 0.30, \\x050.27 Computer programs: SMART and SAINT-Plus (Bruker, 1998), SHELXS97 and SHELXL97 (Sheldrick, 2008), ORTEP-3 for Windowsand WinGX (Farrugia, 2012) and CAMERON (Watkin et al., 1996). Figure 1 The molecular structure of the title compound, showing the atomnumbering scheme. Displacement ellipsoids are drawn at the 50% probability level. H atoms are presented as small spheres of arbitrary radius. Table 1 Hydrogen-bond geometry (A ̊ , \\x02). D—H\\x03 \\x03 \\x03A D—H H\\x03 \\x03 \\x03A D\\x03 \\x03 \\x03A D—H\\x03 \\x03 \\x03A N1—H1\\x03 \\x03 \\x03O1i 0.88 2.13 2.985 (3) 164 C7—H7B\\x03 \\x03 \\x03O1i 0.98 2.58 3.378 (4) 138 C19—H19\\x03 \\x03 \\x03O1ii 0.95 2.59 3.503 (4) 161 C1—H1C\\x03 \\x03 \\x03O2iii 0.98 2.62 3.563 (3) 161 Symmetry codes: (i) \\x05x; y \\x05 1 2; \\x05z þ 2; (ii) \\x05x; y \\x05 1 2; \\x05z þ 1; (iii) \\x05x þ 1; y \\x05 1 2; \\x05z þ 2.', 'data reports IUCrData (2016). 1, x160722 Prasad and Begum \\x04 C23H25NO4 3 of 3 ture and allowed to stand for two days to allow the formation of a solid. The resulting solid product was washed with methanol and recrystallized from ethanol solution to yield single crystals suitable for X-ray diffraction studies (Yield: 78%; m.p. 192–194\\x02C). The absolute structure of this compound was indeterminate in the present experiment. Refinement Crystal data, data collection and structure refinement details are summarized in Table 2. The compound, crystallizes in a non-centric monoclinic space group with one molecule in the asymmetric unit but the absolute structure cannot be determined reliably by refinement of the Flack parameter because of insufficient anomalous scattering effects. Acknowledgements NLP is thankful to the University Grants Commission (UGC), India, for a UGC–JRF. References Bruker. (1998). SMART, SAINT-Plus and SADABS. Bruker AXS Inc., Madison, Wisconsin, USA. Datar, P. A. & Pratibha, B. A. (2012). J. Comput. Methods Mol. Des. 2, 85–91. Farrugia, L. J. (2012). J. Appl. Cryst. 45, 849–854. Fun, H.-K., Hemamalini, M., Reddy, B. P., Vijayakumar, V. & Sarveswari, S. (2012). Acta Cryst. E68, o287–o288. Giorgi, G., Adamo, M. F. A., Ponticelli, F. & Ventura, A. (2010). Org. Biomol. Chem. 8, 5339–5344. Lavanya, T., Manjula, S., Rajkiran, E., Pradeep kumar, T. & Madhavi, K. (2011). IJRPC. 1, 1203–1208. Metcalf, S. K. & Holt, E. M. (2000). Acta Cryst. C56, 1228–1231. Sheldrick, G. M. (2008). Acta Cryst. A64, 112–122. Vra ́bel, V., Kozˇı ́sˇek, J., Marchalı ́n, Sˇ. & Svoboda, I. (2005). Acta Cryst. E61, o733–o735. Watkin, D. J., Prout, C. K. & Pearce, L. J. (1996). CAMERON. Chemical Crystallography Laboratory, University of Oxford, England. Zonouz, A. M., Aras, M. A. & Abuali, N. (2013). Transition Met. Chem. 38, 335–340.', \"data reports data-1 IUCrData (2016). 1, x160722 full crystallographic data IUCrData (2016). 1, x160722 [doi:10.1107/S2414314616007227] Diethyl 2,6-dimethyl-4-(naphthalen-1-yl)-1,4-dihydropyridine-3,5-dicarboxylate N. L. Prasad and Noor Shahina Begum Diethyl 2,6-dimethyl-4-(naphthalen-1-yl)-1,4-dihydropyridine-3,5-dicarboxylate Crystal data C23H25NO4 Mr = 379.44 Monoclinic, P21 Hall symbol: P 2yb a = 8.7072 (17) Å b = 9.8740 (19) Å c = 11.221 (2) Å β = 95.307 (6)° V = 960.6 (3) Å3 Z = 2 F(000) = 404 Dx = 1.312 Mg m−3 Mo Kα radiation, λ = 0.71073 Å Cell parameters from 3319 reflections θ = 2.4–25.0° μ = 0.09 mm−1 T = 100 K Block, colorless 0.18 × 0.16 × 0.16 mm Data collection Bruker SMART APEX CCD diffractometer Radiation source: fine-focus sealed tube Graphite monochromator ω scans Absorption correction: multi-scan (SADABS; Bruker, 1998) Tmin = 0.984, Tmax = 0.986 7663 measured reflections 3319 independent reflections 3046 reflections with I > 2σ(I) Rint = 0.048 θmax = 25.0°, θmin = 2.4° h = −10→10 k = −11→11 l = −13→13 Refinement Refinement on F2 Least-squares matrix: full R[F2 > 2σ(F2)] = 0.048 wR(F2) = 0.123 S = 1.05 3319 reflections 257 parameters 1 restraint Primary atom site location: structure-invariant direct methods Secondary atom site location: difference Fourier map Hydrogen site location: inferred from neighbouring sites H-atom parameters constrained w = 1/[σ2(Fo2) + (0.0552P)2 + 0.5392P] where P = (Fo2 + 2Fc2)/3 (Δ/σ)max = 0.006 Δρmax = 0.30 e Å−3 Δρmin = −0.27 e Å−3 Special details Geometry. All s.u.'s (except the s.u. in the dihedral angle between two l.s. planes) are estimated using the full covariance matrix. The cell s.u.'s are taken into account individually in the estimation of s.u.'s in distances, angles and torsion angles; correlations between s.u.'s in cell parameters are only used when they are defined by crystal symmetry. An approximate (isotropic) treatment of cell s.u.'s is used for estimating s.u.'s involving l.s. planes.\", 'data reports data-2 IUCrData (2016). 1, x160722 Refinement. Refinement of F2 against ALL reflections. The weighted R-factor wR and goodness of fit S are based on F2, conventional R-factors R are based on F, with F set to zero for negative F2. The threshold expression of F2 > 2σ(F2) is used only for calculating R-factors(gt) etc. and is not relevant to the choice of reflections for refinement. R-factors based on F2 are statistically about twice as large as those based on F, and Rfactors based on ALL data will be even larger. Fractional atomic coordinates and isotropic or equivalent isotropic displacement parameters (Å2) x y z Uiso*/Ueq O1 0.0444 (2) 0.6473 (2) 0.85079 (17) 0.0229 (5) O3 0.6369 (2) 0.1373 (2) 0.9159 (2) 0.0363 (6) O2 0.2555 (2) 0.6312 (2) 0.75134 (16) 0.0206 (4) O4 0.6092 (2) 0.3009 (2) 0.77744 (16) 0.0216 (5) C18 0.1941 (3) 0.2709 (3) 0.4733 (2) 0.0223 (6) C6 0.3320 (3) 0.2149 (3) 0.9818 (2) 0.0165 (6) C11 0.5595 (3) 0.2253 (3) 0.8650 (2) 0.0180 (6) N1 0.1949 (3) 0.2706 (2) 1.00885 (18) 0.0167 (5) H1 0.1399 0.2262 1.0580 0.020* C5 0.4022 (3) 0.2669 (3) 0.8886 (2) 0.0159 (6) C23 0.2732 (3) 0.3409 (3) 0.5723 (3) 0.0200 (6) C15 0.1469 (3) 0.1912 (3) 0.7039 (2) 0.0170 (6) H15 0.1301 0.1621 0.7823 0.020* C4 0.3184 (3) 0.3685 (3) 0.8039 (2) 0.0161 (6) H4 0.3960 0.4350 0.7790 0.019* C2 0.1386 (3) 0.3929 (3) 0.9629 (2) 0.0152 (6) C14 0.2448 (3) 0.2979 (3) 0.6911 (2) 0.0168 (6) C19 0.2202 (4) 0.3115 (3) 0.3546 (3) 0.0266 (7) H19 0.1682 0.2658 0.2881 0.032* C16 0.0703 (3) 0.1230 (3) 0.6056 (2) 0.0221 (6) H16 0.0037 0.0491 0.6177 0.026* C8 0.1561 (3) 0.5826 (3) 0.8255 (2) 0.0159 (6) C1 0.3898 (3) 0.1038 (3) 1.0646 (2) 0.0220 (6) H1A 0.4127 0.0237 1.0178 0.033* H1B 0.3109 0.0811 1.1182 0.033* H1C 0.4839 0.1337 1.1120 0.033* C17 0.0929 (3) 0.1642 (3) 0.4929 (3) 0.0235 (7) H17 0.0392 0.1201 0.4263 0.028* C7 0.0198 (3) 0.4559 (3) 1.0338 (2) 0.0223 (6) H7A 0.0550 0.5458 1.0614 0.033* H7B 0.0044 0.3987 1.1031 0.033* H7C −0.0778 0.4645 0.9834 0.033* C3 0.1992 (3) 0.4460 (3) 0.8674 (2) 0.0167 (6) C9 0.2391 (4) 0.7720 (3) 0.7145 (3) 0.0269 (7) H9A 0.1285 0.7966 0.7048 0.032* H9B 0.2814 0.7843 0.6362 0.032* C12 0.7675 (3) 0.2790 (3) 0.7500 (3) 0.0241 (7) H12A 0.7793 0.1872 0.7166 0.029* H12B 0.8395 0.2884 0.8231 0.029* C22 0.3751 (3) 0.4470 (3) 0.5484 (3) 0.0231 (7)', 'data reports data-3 IUCrData (2016). 1, x160722 H22 0.4292 0.4943 0.6130 0.028* C13 0.8000 (4) 0.3842 (4) 0.6602 (3) 0.0344 (8) H13A 0.7254 0.3758 0.5896 0.052* H13B 0.9046 0.3716 0.6366 0.052* H13C 0.7913 0.4744 0.6955 0.052* C21 0.3965 (4) 0.4823 (4) 0.4328 (3) 0.0299 (8) H21 0.4655 0.5536 0.4182 0.036* C20 0.3175 (4) 0.4139 (4) 0.3359 (3) 0.0304 (8) H20 0.3328 0.4401 0.2563 0.036* C10 0.3226 (4) 0.8625 (3) 0.8053 (3) 0.0317 (8) H10A 0.2740 0.8570 0.8805 0.047* H10B 0.3180 0.9560 0.7760 0.047* H10C 0.4305 0.8338 0.8189 0.047* Atomic displacement parameters (Å2) U11 U22 U33 U12 U13 U23 O1 0.0252 (11) 0.0204 (11) 0.0234 (10) 0.0072 (9) 0.0043 (8) 0.0025 (9) O3 0.0269 (12) 0.0407 (14) 0.0427 (13) 0.0166 (11) 0.0096 (10) 0.0209 (12) O2 0.0248 (10) 0.0155 (10) 0.0224 (10) 0.0042 (9) 0.0065 (8) 0.0050 (8) O4 0.0167 (9) 0.0236 (11) 0.0252 (10) 0.0042 (9) 0.0053 (8) 0.0062 (9) C18 0.0204 (14) 0.0267 (16) 0.0197 (13) 0.0118 (14) 0.0005 (11) −0.0056 (13) C6 0.0155 (14) 0.0156 (14) 0.0176 (14) −0.0034 (12) −0.0024 (11) −0.0020 (11) C11 0.0203 (14) 0.0169 (15) 0.0166 (13) −0.0024 (12) −0.0003 (11) −0.0008 (12) N1 0.0174 (12) 0.0154 (12) 0.0177 (11) −0.0014 (10) 0.0044 (9) 0.0027 (10) C5 0.0175 (13) 0.0136 (14) 0.0156 (12) 0.0005 (12) −0.0032 (10) −0.0017 (11) C23 0.0198 (14) 0.0215 (16) 0.0188 (14) 0.0077 (12) 0.0017 (11) −0.0011 (12) C15 0.0164 (14) 0.0171 (15) 0.0179 (14) 0.0035 (12) 0.0033 (11) 0.0004 (11) C4 0.0154 (13) 0.0157 (14) 0.0174 (13) −0.0022 (11) 0.0025 (11) 0.0011 (12) C2 0.0163 (13) 0.0120 (14) 0.0171 (13) −0.0052 (12) 0.0005 (10) −0.0024 (11) C14 0.0156 (13) 0.0139 (14) 0.0208 (13) 0.0077 (12) 0.0009 (10) 0.0009 (12) C19 0.0294 (17) 0.0312 (18) 0.0184 (14) 0.0082 (15) −0.0016 (12) −0.0014 (13) C16 0.0193 (14) 0.0185 (16) 0.0281 (15) 0.0011 (13) 0.0005 (12) −0.0059 (13) C8 0.0183 (14) 0.0172 (14) 0.0120 (12) −0.0022 (13) 0.0002 (10) −0.0017 (11) C1 0.0215 (14) 0.0218 (16) 0.0224 (14) 0.0017 (13) −0.0001 (11) 0.0029 (13) C17 0.0200 (15) 0.0242 (16) 0.0247 (15) 0.0053 (13) −0.0062 (12) −0.0083 (13) C7 0.0230 (15) 0.0211 (16) 0.0235 (14) −0.0005 (13) 0.0057 (12) −0.0005 (13) C3 0.0156 (13) 0.0157 (14) 0.0183 (13) −0.0028 (12) −0.0021 (11) −0.0042 (12) C9 0.0329 (17) 0.0193 (15) 0.0292 (15) 0.0031 (14) 0.0068 (13) 0.0078 (14) C12 0.0188 (14) 0.0238 (16) 0.0308 (15) 0.0024 (14) 0.0080 (12) −0.0023 (14) C22 0.0212 (15) 0.0238 (17) 0.0245 (14) 0.0033 (13) 0.0027 (12) 0.0011 (13) C13 0.0286 (17) 0.0296 (19) 0.047 (2) 0.0078 (16) 0.0163 (15) 0.0084 (17) C21 0.0305 (18) 0.0326 (18) 0.0274 (16) −0.0009 (15) 0.0071 (14) 0.0040 (14) C20 0.0335 (17) 0.041 (2) 0.0170 (15) 0.0142 (16) 0.0065 (12) 0.0047 (14) C10 0.0250 (16) 0.0201 (16) 0.050 (2) 0.0036 (13) 0.0044 (15) 0.0081 (15)', 'data reports data-4 IUCrData (2016). 1, x160722 Geometric parameters (Å, o) O1—C8 1.219 (3) C16—C17 1.359 (4) O3—C11 1.210 (4) C16—H16 0.9500 O2—C8 1.344 (3) C8—C3 1.466 (4) O2—C9 1.454 (4) C1—H1A 0.9800 O4—C11 1.338 (3) C1—H1B 0.9800 O4—C12 1.457 (3) C1—H1C 0.9800 C18—C17 1.404 (5) C17—H17 0.9500 C18—C19 1.428 (4) C7—H7A 0.9800 C18—C23 1.430 (4) C7—H7B 0.9800 C6—C5 1.360 (4) C7—H7C 0.9800 C6—N1 1.373 (4) C9—C10 1.492 (4) C6—C1 1.495 (4) C9—H9A 0.9900 C11—C5 1.477 (4) C9—H9B 0.9900 N1—C2 1.384 (4) C12—C13 1.492 (5) N1—H1 0.8800 C12—H12A 0.9900 C5—C4 1.521 (4) C12—H12B 0.9900 C23—C22 1.414 (4) C22—C21 1.372 (4) C23—C14 1.442 (4) C22—H22 0.9500 C15—C14 1.371 (4) C13—H13A 0.9800 C15—C16 1.407 (4) C13—H13B 0.9800 C15—H15 0.9500 C13—H13C 0.9800 C4—C3 1.519 (4) C21—C20 1.405 (5) C4—C14 1.533 (4) C21—H21 0.9500 C4—H4 1.0000 C20—H20 0.9500 C2—C3 1.344 (4) C10—H10A 0.9800 C2—C7 1.497 (4) C10—H10B 0.9800 C19—C20 1.349 (5) C10—H10C 0.9800 C19—H19 0.9500 C8—O2—C9 117.8 (2) H1A—C1—H1C 109.5 C11—O4—C12 116.7 (2) H1B—C1—H1C 109.5 C17—C18—C19 120.9 (3) C16—C17—C18 121.2 (3) C17—C18—C23 120.3 (3) C16—C17—H17 119.4 C19—C18—C23 118.8 (3) C18—C17—H17 119.4 C5—C6—N1 118.7 (3) C2—C7—H7A 109.5 C5—C6—C1 127.2 (3) C2—C7—H7B 109.5 N1—C6—C1 114.0 (2) H7A—C7—H7B 109.5 O3—C11—O4 122.9 (3) C2—C7—H7C 109.5 O3—C11—C5 126.9 (3) H7A—C7—H7C 109.5 O4—C11—C5 110.2 (2) H7B—C7—H7C 109.5 C6—N1—C2 123.5 (2) C2—C3—C8 120.5 (2) C6—N1—H1 118.2 C2—C3—C4 120.9 (3) C2—N1—H1 118.2 C8—C3—C4 118.6 (2) C6—C5—C11 121.5 (3) O2—C9—C10 110.5 (2) C6—C5—C4 120.4 (2) O2—C9—H9A 109.6 C11—C5—C4 118.1 (2) C10—C9—H9A 109.6', 'data reports data-5 IUCrData (2016). 1, x160722 C22—C23—C18 118.4 (3) O2—C9—H9B 109.6 C22—C23—C14 123.9 (3) C10—C9—H9B 109.6 C18—C23—C14 117.7 (3) H9A—C9—H9B 108.1 C14—C15—C16 122.7 (3) O4—C12—C13 106.4 (2) C14—C15—H15 118.7 O4—C12—H12A 110.5 C16—C15—H15 118.7 C13—C12—H12A 110.5 C3—C4—C5 110.4 (2) O4—C12—H12B 110.5 C3—C4—C14 111.4 (2) C13—C12—H12B 110.5 C5—C4—C14 110.9 (2) H12A—C12—H12B 108.6 C3—C4—H4 108.0 C21—C22—C23 120.7 (3) C5—C4—H4 108.0 C21—C22—H22 119.7 C14—C4—H4 108.0 C23—C22—H22 119.7 C3—C2—N1 119.0 (2) C12—C13—H13A 109.5 C3—C2—C7 127.1 (3) C12—C13—H13B 109.5 N1—C2—C7 113.8 (2) H13A—C13—H13B 109.5 C15—C14—C23 119.0 (2) C12—C13—H13C 109.5 C15—C14—C4 118.7 (2) H13A—C13—H13C 109.5 C23—C14—C4 122.3 (2) H13B—C13—H13C 109.5 C20—C19—C18 120.8 (3) C22—C21—C20 120.7 (3) C20—C19—H19 119.6 C22—C21—H21 119.7 C18—C19—H19 119.6 C20—C21—H21 119.7 C17—C16—C15 119.2 (3) C19—C20—C21 120.6 (3) C17—C16—H16 120.4 C19—C20—H20 119.7 C15—C16—H16 120.4 C21—C20—H20 119.7 O1—C8—O2 122.1 (3) C9—C10—H10A 109.5 O1—C8—C3 126.4 (2) C9—C10—H10B 109.5 O2—C8—C3 111.5 (2) H10A—C10—H10B 109.5 C6—C1—H1A 109.5 C9—C10—H10C 109.5 C6—C1—H1B 109.5 H10A—C10—H10C 109.5 H1A—C1—H1B 109.5 H10B—C10—H10C 109.5 C6—C1—H1C 109.5 C12—O4—C11—O3 −3.9 (4) C3—C4—C14—C23 110.4 (3) C12—O4—C11—C5 175.4 (2) C5—C4—C14—C23 −126.3 (3) C5—C6—N1—C2 −13.3 (4) C17—C18—C19—C20 −180.0 (3) C1—C6—N1—C2 164.6 (2) C23—C18—C19—C20 0.0 (4) N1—C6—C5—C11 171.3 (2) C14—C15—C16—C17 −0.3 (4) C1—C6—C5—C11 −6.2 (4) C9—O2—C8—O1 8.6 (4) N1—C6—C5—C4 −9.9 (4) C9—O2—C8—C3 −172.3 (2) C1—C6—C5—C4 172.6 (3) C15—C16—C17—C18 1.8 (4) O3—C11—C5—C6 6.1 (5) C19—C18—C17—C16 178.5 (3) O4—C11—C5—C6 −173.2 (2) C23—C18—C17—C16 −1.6 (4) O3—C11—C5—C4 −172.8 (3) N1—C2—C3—C8 −172.5 (2) O4—C11—C5—C4 7.9 (3) C7—C2—C3—C8 3.1 (4) C17—C18—C23—C22 179.5 (3) N1—C2—C3—C4 5.0 (4) C19—C18—C23—C22 −0.5 (4) C7—C2—C3—C4 −179.4 (3) C17—C18—C23—C14 0.0 (4) O1—C8—C3—C2 −17.1 (4) C19—C18—C23—C14 179.9 (3) O2—C8—C3—C2 163.9 (2)', 'data reports data-6 IUCrData (2016). 1, x160722 C6—C5—C4—C3 26.8 (3) O1—C8—C3—C4 165.3 (2) C11—C5—C4—C3 −154.3 (2) O2—C8—C3—C4 −13.7 (3) C6—C5—C4—C14 −97.1 (3) C5—C4—C3—C2 −24.4 (3) C11—C5—C4—C14 81.8 (3) C14—C4—C3—C2 99.2 (3) C6—N1—C2—C3 15.9 (4) C5—C4—C3—C8 153.2 (2) C6—N1—C2—C7 −160.3 (2) C14—C4—C3—C8 −83.2 (3) C16—C15—C14—C23 −1.2 (4) C8—O2—C9—C10 85.1 (3) C16—C15—C14—C4 178.0 (3) C11—O4—C12—C13 −173.9 (3) C22—C23—C14—C15 −178.1 (3) C18—C23—C22—C21 0.4 (4) C18—C23—C14—C15 1.4 (4) C14—C23—C22—C21 179.9 (3) C22—C23—C14—C4 2.7 (4) C23—C22—C21—C20 0.1 (5) C18—C23—C14—C4 −177.8 (2) C18—C19—C20—C21 0.5 (5) C3—C4—C14—C15 −68.8 (3) C22—C21—C20—C19 −0.6 (5) C5—C4—C14—C15 54.5 (3) Hydrogen-bond geometry (Å, o) D—H···A D—H H···A D···A D—H···A N1—H1···O1i 0.88 2.13 2.985 (3) 164 C7—H7B···O1i 0.98 2.58 3.378 (4) 138 C19—H19···O1ii 0.95 2.59 3.503 (4) 161 C1—H1C···O2iii 0.98 2.62 3.563 (3) 161 Symmetry codes: (i) −x, y−1/2, −z+2; (ii) −x, y−1/2, −z+1; (iii) −x+1, y−1/2, −z+2.'], total_char_length=18850, parsed_timestamp='2025-08-08 23:05:27.627179', total_chunks=None, total_tokens=9568, avg_tokens_per_chunk=None, file_hash='c4cc414de888f36020bf5a5d7b68342d', file_path='Data/train/PDF/10.1107_s2414314616007227.pdf', citation_entities=[], n_pages=9)"
      ]
     },
     "execution_count": 5,
     "metadata": {},
     "output_type": "execute_result"
    }
   ],
   "source": [
    "docs[0]"
   ]
  },
  {
   "cell_type": "code",
   "execution_count": 6,
   "id": "10c2994a",
   "metadata": {},
   "outputs": [
    {
     "name": "stderr",
     "output_type": "stream",
     "text": [
      "2025-08-09 13:27:45,981 - src.helpers - INFO - Database connection closed\n",
      "2025-08-09 13:27:45,981 - src.helpers - INFO - Database connection closed\n"
     ]
    }
   ],
   "source": [
    "db_helper.close()"
   ]
  }
 ],
 "metadata": {
  "kernelspec": {
   "display_name": ".venv",
   "language": "python",
   "name": "python3"
  },
  "language_info": {
   "codemirror_mode": {
    "name": "ipython",
    "version": 3
   },
   "file_extension": ".py",
   "mimetype": "text/x-python",
   "name": "python",
   "nbconvert_exporter": "python",
   "pygments_lexer": "ipython3",
   "version": "3.12.3"
  }
 },
 "nbformat": 4,
 "nbformat_minor": 5
}
