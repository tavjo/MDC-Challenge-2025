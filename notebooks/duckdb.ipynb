{
 "cells": [
  {
   "cell_type": "markdown",
   "id": "1414176c",
   "metadata": {},
   "source": [
    "# DuckDB Functions/methods"
   ]
  },
  {
   "cell_type": "code",
   "execution_count": 1,
   "id": "3b1d9129",
   "metadata": {},
   "outputs": [
    {
     "name": "stderr",
     "output_type": "stream",
     "text": [
      "2025-08-05 17:51:54,429 - src.helpers - INFO - Logging initialized for /Users/taishajoseph/Documents/Projects/MDC-Challenge-2025/logs/duckdb_utils.log\n",
      "2025-08-05 17:51:54,429 - src.helpers - INFO - Logging initialized for /Users/taishajoseph/Documents/Projects/MDC-Challenge-2025/logs/duckdb_utils.log\n",
      "2025-08-05 17:51:54,511 - api.database.duckdb_schema - INFO - Starting DuckDB schema creation...\n",
      "2025-08-05 17:51:54,511 - api.database.duckdb_schema - INFO - Starting DuckDB schema creation...\n",
      "2025-08-05 17:51:54,534 - api.database.duckdb_schema - INFO - Creating documents table...\n",
      "2025-08-05 17:51:54,534 - api.database.duckdb_schema - INFO - Creating documents table...\n",
      "2025-08-05 17:51:54,545 - api.database.duckdb_schema - INFO - Documents table created successfully\n",
      "2025-08-05 17:51:54,545 - api.database.duckdb_schema - INFO - Documents table created successfully\n",
      "2025-08-05 17:51:54,547 - api.database.duckdb_schema - INFO - Creating citations table...\n",
      "2025-08-05 17:51:54,547 - api.database.duckdb_schema - INFO - Creating citations table...\n",
      "2025-08-05 17:51:54,551 - api.database.duckdb_schema - INFO - Citations table created successfully\n",
      "2025-08-05 17:51:54,551 - api.database.duckdb_schema - INFO - Citations table created successfully\n",
      "2025-08-05 17:51:54,555 - api.database.duckdb_schema - INFO - Creating chunks table...\n",
      "2025-08-05 17:51:54,555 - api.database.duckdb_schema - INFO - Creating chunks table...\n",
      "2025-08-05 17:51:54,558 - api.database.duckdb_schema - INFO - Chunks table created successfully\n",
      "2025-08-05 17:51:54,558 - api.database.duckdb_schema - INFO - Chunks table created successfully\n",
      "2025-08-05 17:51:54,560 - api.database.duckdb_schema - INFO - Creating datasets table...\n",
      "2025-08-05 17:51:54,560 - api.database.duckdb_schema - INFO - Creating datasets table...\n",
      "2025-08-05 17:51:54,565 - api.database.duckdb_schema - INFO - Datasets table created successfully\n",
      "2025-08-05 17:51:54,565 - api.database.duckdb_schema - INFO - Datasets table created successfully\n",
      "2025-08-05 17:51:54,567 - api.database.duckdb_schema - INFO - Creating engineered_feature_values table...\n",
      "2025-08-05 17:51:54,567 - api.database.duckdb_schema - INFO - Creating engineered_feature_values table...\n",
      "2025-08-05 17:51:54,572 - api.database.duckdb_schema - INFO - engineered_feature_values table created successfully\n",
      "2025-08-05 17:51:54,572 - api.database.duckdb_schema - INFO - engineered_feature_values table created successfully\n",
      "2025-08-05 17:51:54,574 - api.database.duckdb_schema - INFO - Creating indexes...\n",
      "2025-08-05 17:51:54,574 - api.database.duckdb_schema - INFO - Creating indexes...\n",
      "2025-08-05 17:51:54,587 - api.database.duckdb_schema - INFO - Indexes created successfully\n",
      "2025-08-05 17:51:54,587 - api.database.duckdb_schema - INFO - Indexes created successfully\n",
      "2025-08-05 17:51:54,589 - api.database.duckdb_schema - INFO - DuckDB schema creation completed successfully\n",
      "2025-08-05 17:51:54,589 - api.database.duckdb_schema - INFO - DuckDB schema creation completed successfully\n",
      "2025-08-05 17:51:54,592 - api.database.duckdb_schema - INFO - Validating schema...\n",
      "2025-08-05 17:51:54,592 - api.database.duckdb_schema - INFO - Validating schema...\n",
      "2025-08-05 17:51:54,638 - api.database.duckdb_schema - INFO - Table documents has 14 columns\n",
      "2025-08-05 17:51:54,638 - api.database.duckdb_schema - INFO - Table documents has 14 columns\n",
      "2025-08-05 17:51:54,644 - api.database.duckdb_schema - INFO - Table citations has 5 columns\n",
      "2025-08-05 17:51:54,644 - api.database.duckdb_schema - INFO - Table citations has 5 columns\n",
      "2025-08-05 17:51:54,648 - api.database.duckdb_schema - INFO - Table chunks has 6 columns\n",
      "2025-08-05 17:51:54,648 - api.database.duckdb_schema - INFO - Table chunks has 6 columns\n",
      "2025-08-05 17:51:54,654 - api.database.duckdb_schema - INFO - Table datasets has 11 columns\n",
      "2025-08-05 17:51:54,654 - api.database.duckdb_schema - INFO - Table datasets has 11 columns\n",
      "2025-08-05 17:51:54,657 - api.database.duckdb_schema - INFO - Table engineered_feature_values has 6 columns\n",
      "2025-08-05 17:51:54,657 - api.database.duckdb_schema - INFO - Table engineered_feature_values has 6 columns\n",
      "2025-08-05 17:51:54,659 - api.database.duckdb_schema - INFO - Schema validation completed successfully\n",
      "2025-08-05 17:51:54,659 - api.database.duckdb_schema - INFO - Schema validation completed successfully\n",
      "2025-08-05 17:51:54,662 - src.helpers - INFO - DuckDB schema initialization completed successfully\n",
      "2025-08-05 17:51:54,662 - src.helpers - INFO - DuckDB schema initialization completed successfully\n",
      "2025-08-05 17:51:54,674 - api.database.duckdb_schema - INFO - Database connection closed\n",
      "2025-08-05 17:51:54,674 - api.database.duckdb_schema - INFO - Database connection closed\n"
     ]
    },
    {
     "name": "stdout",
     "output_type": "stream",
     "text": [
      "Project root: /Users/taishajoseph/Documents/Projects/MDC-Challenge-2025\n",
      "Python path includes project root: True\n"
     ]
    }
   ],
   "source": [
    "# import dependencies\n",
    "import sys, os\n",
    "from pathlib import Path\n",
    "# get project root\n",
    "project_root = Path(os.getcwd()).parent\n",
    "\n",
    "sys.path.append(str(project_root))\n",
    "from api.utils.duckdb_utils import get_duckdb_helper\n",
    "\n",
    "# db_helper = get_duckdb_helper(str(project_root / \"artifacts\" / \"mdc_challenge.db\"))\n",
    "db_helper = get_duckdb_helper(str(project_root / \"artifacts\" / \"mdc_challenge.db\"))\n",
    "\n",
    "print(f\"Project root: {project_root}\")\n",
    "print(f\"Python path includes project root: {str(project_root) in sys.path}\")"
   ]
  },
  {
   "cell_type": "code",
   "execution_count": 2,
   "id": "0ea99178",
   "metadata": {},
   "outputs": [
    {
     "data": {
      "text/plain": [
       "{'total_documents': 524,\n",
       " 'total_citations': 487,\n",
       " 'total_chunks': 0,\n",
       " 'documents_with_citations': 0,\n",
       " 'total_datasets': 487}"
      ]
     },
     "execution_count": 2,
     "metadata": {},
     "output_type": "execute_result"
    }
   ],
   "source": [
    "stats = db_helper.get_database_stats()\n",
    "stats"
   ]
  },
  {
   "cell_type": "code",
   "execution_count": 3,
   "id": "45cec7bb",
   "metadata": {},
   "outputs": [
    {
     "name": "stdout",
     "output_type": "stream",
     "text": [
      "Total chunks in DB: 0\n"
     ]
    }
   ],
   "source": [
    "print(f\"Total chunks in DB: {stats['total_chunks']}\")"
   ]
  },
  {
   "cell_type": "code",
   "execution_count": null,
   "id": "ba786490",
   "metadata": {},
   "outputs": [],
   "source": [
    "# if stats[\"total_chunks\"] > 0:\n",
    "#     db_helper.engine.execute(\"DELETE FROM chunks\")\n",
    "#     print(\"✅ All rows from `chunks` have been deleted.\")\n",
    "# else:\n",
    "#     print(\"🚫 No rows in `chunks`, nothing to do.\")\n",
    "\n",
    "# # 4. Close connection\n",
    "# db_helper.close()"
   ]
  },
  {
   "cell_type": "code",
   "execution_count": 4,
   "id": "68cba430",
   "metadata": {},
   "outputs": [
    {
     "data": {
      "text/plain": [
       "{'total_documents': 524,\n",
       " 'total_citations': 487,\n",
       " 'total_chunks': 0,\n",
       " 'documents_with_citations': 0,\n",
       " 'total_datasets': 487}"
      ]
     },
     "execution_count": 4,
     "metadata": {},
     "output_type": "execute_result"
    }
   ],
   "source": [
    "stats = db_helper.get_database_stats()\n",
    "stats"
   ]
  },
  {
   "cell_type": "code",
   "execution_count": 5,
   "id": "5296c4fb",
   "metadata": {},
   "outputs": [
    {
     "name": "stdout",
     "output_type": "stream",
     "text": [
      "Total chunks in DB: 0\n"
     ]
    }
   ],
   "source": [
    "print(f\"Total chunks in DB: {stats['total_chunks']}\")"
   ]
  },
  {
   "cell_type": "code",
   "execution_count": 6,
   "id": "0dadcb14",
   "metadata": {},
   "outputs": [
    {
     "data": {
      "text/plain": [
       "524"
      ]
     },
     "execution_count": 6,
     "metadata": {},
     "output_type": "execute_result"
    }
   ],
   "source": [
    "stats['total_documents']"
   ]
  },
  {
   "cell_type": "code",
   "execution_count": 7,
   "id": "a53c89c4",
   "metadata": {},
   "outputs": [
    {
     "data": {
      "text/plain": [
       "0"
      ]
     },
     "execution_count": 7,
     "metadata": {},
     "output_type": "execute_result"
    }
   ],
   "source": [
    "stats['documents_with_citations']"
   ]
  },
  {
   "cell_type": "code",
   "execution_count": null,
   "id": "10c2994a",
   "metadata": {},
   "outputs": [
    {
     "name": "stderr",
     "output_type": "stream",
     "text": [
      "2025-08-05 17:52:14,958 - src.helpers - INFO - Database connection closed\n",
      "2025-08-05 17:52:14,958 - src.helpers - INFO - Database connection closed\n"
     ]
    },
    {
     "ename": "",
     "evalue": "",
     "output_type": "error",
     "traceback": [
      "\u001b[1;31mThe Kernel crashed while executing code in the current cell or a previous cell. \n",
      "\u001b[1;31mPlease review the code in the cell(s) to identify a possible cause of the failure. \n",
      "\u001b[1;31mClick <a href='https://aka.ms/vscodeJupyterKernelCrash'>here</a> for more info. \n",
      "\u001b[1;31mView Jupyter <a href='command:jupyter.viewOutput'>log</a> for further details."
     ]
    }
   ],
   "source": [
    "db_helper.close()"
   ]
  }
 ],
 "metadata": {
  "kernelspec": {
   "display_name": ".venv",
   "language": "python",
   "name": "python3"
  },
  "language_info": {
   "codemirror_mode": {
    "name": "ipython",
    "version": 3
   },
   "file_extension": ".py",
   "mimetype": "text/x-python",
   "name": "python",
   "nbconvert_exporter": "python",
   "pygments_lexer": "ipython3",
   "version": "3.12.3"
  }
 },
 "nbformat": 4,
 "nbformat_minor": 5
}
