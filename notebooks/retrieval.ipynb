{
 "cells": [
  {
   "cell_type": "code",
   "execution_count": 1,
   "id": "ac8bdb4d",
   "metadata": {},
   "outputs": [
    {
     "name": "stdout",
     "output_type": "stream",
     "text": [
      "Project root: /Users/taishajoseph/Documents/Projects/MDC-Challenge-2025\n",
      "Python path includes project root: True\n"
     ]
    },
    {
     "data": {
      "text/plain": [
       "PosixPath('/Users/taishajoseph/Documents/Projects/MDC-Challenge-2025')"
      ]
     },
     "execution_count": 1,
     "metadata": {},
     "output_type": "execute_result"
    }
   ],
   "source": [
    "# import dependencies\n",
    "import sys, os\n",
    "from pathlib import Path\n",
    "# get project root\n",
    "project_root = Path(os.getcwd()).parent\n",
    "\n",
    "sys.path.append(str(project_root))\n",
    "\n",
    "print(f\"Project root: {project_root}\")\n",
    "print(f\"Python path includes project root: {str(project_root) in sys.path}\")\n",
    "project_root"
   ]
  },
  {
   "cell_type": "code",
   "execution_count": 2,
   "id": "0a697ba1",
   "metadata": {},
   "outputs": [
    {
     "name": "stderr",
     "output_type": "stream",
     "text": [
      "/Users/taishajoseph/miniconda3/envs/mdc-challenge-2025/lib/python3.12/site-packages/tqdm/auto.py:21: TqdmWarning: IProgress not found. Please update jupyter and ipywidgets. See https://ipywidgets.readthedocs.io/en/stable/user_install.html\n",
      "  from .autonotebook import tqdm as notebook_tqdm\n"
     ]
    }
   ],
   "source": [
    "from sentence_transformers import SentenceTransformer\n",
    "# loads https://huggingface.co/BAAI/bge-small-en-v1.5\n",
    "# 1. Load a pretrained Sentence Transformer model\n",
    "local_cache = os.path.join(project_root, \"offline_models\")\n",
    "# model = SentenceTransformer(\"all-MiniLM-L6-v2\", device=\"cpu\", cache_folder=local_cache)\n",
    "# model = SentenceTransformer(\"BAAI/bge-small-en-v1.5\", device=\"cpu\", cache_folder=local_cache)\n",
    "model = SentenceTransformer(local_cache)"
   ]
  },
  {
   "cell_type": "code",
   "execution_count": 3,
   "id": "81cbff3b",
   "metadata": {},
   "outputs": [
    {
     "name": "stdout",
     "output_type": "stream",
     "text": [
      "384\n",
      "(384,)\n"
     ]
    }
   ],
   "source": [
    "text = [\"\"\"Behavioral Ecology\\n\\nThe official journal of theISBEInternational Society for Behavioral Ecology\\n\\nBehavioral Ecology (2019), 30(5), 1451\\u20131460. doi:10.1093/beheco/arz101\\n\\nOriginal Article\\n\\nPipefish embryo oxygenation, survival, and development: egg size, male size, and temperature effects\\n\\nD o w n o a d e d\\n\\nl\\n\\nf r o m h\\n\\nt t\\n\\np s : / /\\n\\nMalin Nyga\\u030ard,a Charlotta Kvarnemo,a,b, Ingrid Ahnesjo\\u0308,c, and Ines Braga Goncalvesd, aDepartment of Biological and Environmental Sciences, University of Gothenburg, Box 463, Gothenburg SE-40530, Sweden, bThe Linnaeus Centre for Marine Evolutionary Biology, University of Gothenburg, SE-405 30 Gothenburg, Sweden, cDepartment of Ecology and Genetics/Animal Ecology, Uppsala University, Norbyva\\u0308gen 18D, Uppsala SE-75236, Sweden, and dSchool of Biological Sciences/ Life Sciences, University of Bristol, 24 Tyndall Avenue, BS8 1TQ Bristol, UK\\n\\na c a d e m c . o u p . c o m b e h e c o a r t i c e 3 0 5 1 4 5 1 5 5 2 5 1 7 2 b y C a\\n\\ni\\n\\n/\\n\\nReceived 22 January 2019; revised 15 May 2019; editorial decision 21 May 2019; accepted 8 June 2019; Advance Access publication 29 June 2019.\\n\\n/\\n\\nIn animals with uniparental care, the quality of care provided by one sex can deeply impact the reproductive success of both sexes. Studying variation in parental care quality within a species and which factors may affect it can, therefore, shed important light on patterns of mate choice and other reproductive decisions observed in nature. Using Syngnathus typhle, a pipefish species with extensive uniparental male care, with embryos developing inside a brood pouch during a lengthy pregnancy, we assessed how egg size (which correlates positively with female size), male size, and water temperature affect brooding traits that relate to male care quality, all measured on day 18, approximately 1/3, of the brooding period. We found that larger males brooded eggs at lower densities, and their embryos were heavier than those of small males independent of initial egg size. However, large males had lower embryo survival relative to small males. We found no effect of egg size or of paternal size on within-pouch oxygen levels, but oxygen levels were significantly higher in the bottom than the middle section of the pouch. Males that brooded at higher temperatures had lower pouch oxygen levels presumably because of higher embryo developmental rates, as more developed embryos consume more oxygen. Together, our results suggest that small and large males follow distinct paternal strategies: large males positively affect embryo size whereas small males favor embryo survival. As females prefer large mates, offspring size at independence may be more important to female fitness than offspring survival during development.\\n\\nl\\n\\n/\\n\\n/\\n\\n/\\n\\n/\\n\\nl i f\\n\\no r n a D g\\n\\ni\\n\\ni\\n\\ni t\\n\\nKey words: body condition, brood reduction, embryo density, embryo size, embryo survival, male pregnancy, male size, oxygen provisioning, Syngnathidae.\\n\\na\\n\\nl\\n\\nL b r a r y u s e r o n 3 1 M a r c h 2 0 2 5\\n\\ni\\n\\nINTRODUCTION\\n\\nthe trade-off between investment in a current brood versus having resources to invest in potential future broods, in order to maximize the parent\\u2019s lifetime reproductive success (Clutton-Brock 1991; Stearns 1992; Alonso-Alvarez and Velando 2012). When parental resources are limited, an energetic trade-off between number and size of offspring can result in brood reduction, which in its broadsense definition is simply a reduction in the number of developing embryos or young over the parental period (Mock 1994).\"\"\"]\n",
    "text = \" \".join(text).replace(\"\\n\", \" \").strip()\n",
    "embeddings = model.encode(text)\n",
    "print(len(embeddings))\n",
    "print(embeddings.shape)"
   ]
  },
  {
   "cell_type": "code",
   "execution_count": 2,
   "id": "571ba30a",
   "metadata": {},
   "outputs": [],
   "source": [
    "from chromadb import PersistentClient"
   ]
  },
  {
   "cell_type": "code",
   "execution_count": 3,
   "id": "a0d9258f",
   "metadata": {},
   "outputs": [],
   "source": [
    "client = PersistentClient(path=\"../local_chroma\")"
   ]
  },
  {
   "cell_type": "code",
   "execution_count": 7,
   "id": "958b489b",
   "metadata": {},
   "outputs": [
    {
     "name": "stdout",
     "output_type": "stream",
     "text": [
      "[Collection(name=dataset-aggregates-train), Collection(name=mdc_training_data)]\n"
     ]
    }
   ],
   "source": [
    "print(client.list_collections())"
   ]
  },
  {
   "cell_type": "code",
   "execution_count": 8,
   "id": "668e967d",
   "metadata": {},
   "outputs": [],
   "source": [
    "client.delete_collection(\"dataset-aggregates-train\")"
   ]
  },
  {
   "cell_type": "code",
   "execution_count": 9,
   "id": "425fb992",
   "metadata": {},
   "outputs": [
    {
     "name": "stdout",
     "output_type": "stream",
     "text": [
      "[Collection(name=mdc_training_data)]\n"
     ]
    }
   ],
   "source": [
    "print(client.list_collections())"
   ]
  },
  {
   "cell_type": "code",
   "execution_count": 5,
   "id": "08b1d143",
   "metadata": {},
   "outputs": [],
   "source": [
    "collection = client.get_collection(\"dataset-aggregates-train\") \n",
    "#\"mdc_training_data\"\n",
    "#\"dataset-aggregates-train\""
   ]
  },
  {
   "cell_type": "code",
   "execution_count": 6,
   "id": "92927c9c",
   "metadata": {},
   "outputs": [
    {
     "data": {
      "text/plain": [
       "487"
      ]
     },
     "execution_count": 6,
     "metadata": {},
     "output_type": "execute_result"
    }
   ],
   "source": [
    "collection.count()"
   ]
  },
  {
   "cell_type": "code",
   "execution_count": 8,
   "id": "c3538bba",
   "metadata": {},
   "outputs": [
    {
     "data": {
      "text/plain": [
       "{'ids': [['10.1101_2022.07.21.501061_16',\n",
       "   '10.1101_2022.07.21.501061_36',\n",
       "   '10.1101_2022.07.21.501061_15',\n",
       "   '10.1101_2022.07.21.501061_35',\n",
       "   '10.1101_2022.07.21.501061_12',\n",
       "   '10.1101_2022.07.21.501061_22',\n",
       "   '10.1101_2022.07.21.501061_5',\n",
       "   '10.1101_2022.07.21.501061_18',\n",
       "   '10.1101_2022.07.21.501061_2',\n",
       "   '10.1101_2022.07.21.501061_17']],\n",
       " 'embeddings': None,\n",
       " 'documents': [['environments, and 2) regions with high rainfall and limited propensity 280 to hold water versus regions with low rainfall and high topographic water retention. These 281 results are consistent with our hypothesis that larger body sizes are associated with greater 282 resource demands and limited area for water and heat exchange, resulting in shorter breeding 283 periods in environments with little rain, cooler temperatures, and low topographic water 284 retention. High temperature seasonality and high potential evapotranspiration seasonality also 285 seem to shorten breeding periods in larger species, possibly due to their combined effect and 286 this may be due to meeting physiological demands in relatively unpredictable environments. 287 Interestingly, environments which shorten breeding periods in larger species seem to be less 288 detrimental to smaller species, possibly due to their lower resource demand and relatively 289 greater area for water and heat exchange. Furthermore, larger-bodied species may be at a 290 disadvantage in cool and dry environments because the amount of energy used for maintaining 291 homeostasis (hydration) may limit the amount of reproductive investment females are able to 292 make, since egg formation is energetically costly for females. This seems likely, given that we 293 know larger frog species exhibit greater reproductive investment in the form of forming larger 294 clutches and larger eggs (Prado & Haddad 2005; Silva et al. 2020). Body size is also correlated 295 with reproductive investment in seasonally breeding endotherms like lagomorphs, whose body 296 size is correlated with neonatal mass, gestation time, and maternal reproductive effort (Swihart bioRxiv preprint doi: https://doi.org/10.1101/2022.07.21.501061 ; this version posted July 22, 2022. The copyright holder for this preprint (which was not certified by peer review) is the author/funder, who has granted bioRxiv a license to display the preprint in perpetuity. It is made available under a',\n",
       "   'Physiol., 307, R44–56. 649 Silva, N.R., Berneck, B.V.M., da Silva, H.R., Haddad, C.F.B., Zamudio, K.R., Mott, T., et al. 650 (2020). Egg-laying site, fecundity and degree of sexual size dimorphism in frogs. Biol. J. 651 Linn. Soc. Lond., 131, 600–610. 652 Skelly, D.K. & Freidenburg, L.K. (2008). Effects of beaver on the thermal biology of an bioRxiv preprint doi: https://doi.org/10.1101/2022.07.21.501061 ; this version posted July 22, 2022. The copyright holder for this preprint (which was not certified by peer review) is the author/funder, who has granted bioRxiv a license to display the preprint in perpetuity. It is made available under a CC-BY-NC 4.0 International license . 653 amphibian. Ecol. Lett., 3, 483–486. 654 Skelly, D.K., Joseph, L.N., Possingham, H.P., Freidenburg, L.K., Farrugia, T.J., Kinnison, M.T., 655 et al. (2007). Evolutionary responses to climate change. Conserv. Biol., 21, 1353–1355. 656 Sørensen, R., Zinko, U. & Seibert, J. (2005). On the calculation of the topographic wetness 657 index: evaluation of different methods based on field observations. Hydrol. Earth Syst. Sci. 658 Discuss., 2, 1807–1834. 659 South, A. (2012). rworldxtra: Country boundaries at high resolution. R package version 1.01. 660 https://CRAN.R-project.org/package=rworldxtra. 661 Swihart, R.K. (1984). Body size, breeding season length, and life history tactics of lagomorphs. 662 Oikos, 43, 282–290. 663 Telemeco, R.S., Abbott, K.C. & Janzen, F.J. (2013). Modeling the effects of climate change- 664 induced shifts in reproductive phenology on temperature-dependent traits. Am. Nat., 181, 665 637–648. 666 Thomas, C.D., Cameron, A., Green, R.E., Bakkenes, M., Beaumont, L.J., Collingham, Y.C., et 667 al. (2004). Extinction risk from climate change. Nature, 427, 145–148. 668 Title, P.O. & Bemmels, J.B. (2018). ENVIREM: an expanded set of bioclimatic and topographic 669 variables increases flexibility and improves performance of ecological niche modeling. 670 Ecography , 41, 291–307. 671 Todd, B.D., Scott, D.E., Pechmann, J.H.K. &',\n",
       "   'differences in the former after accounting for geographical 264 zone (see SI 1 Table 4). 265 Discussion 266 This study documents the evolution of reproductive behavior associated with climate in 267 one of the largest vertebrate groups. Here we present the first quantitative evidence, to our 268 knowledge, of the latitudinal gradient of breeding period in anurans and its relationship to 269 climate. Our overall findings support longer breeding periods where frogs invest more time into 270 reproduction in warmer and wetter habitats with little seasonality. We also discovered that the bioRxiv preprint doi: https://doi.org/10.1101/2022.07.21.501061 ; this version posted July 22, 2022. The copyright holder for this preprint (which was not certified by peer review) is the author/funder, who has granted bioRxiv a license to display the preprint in perpetuity. It is made available under a CC-BY-NC 4.0 International license . 271 time invested into reproduction, within the context of particular climates, is influenced by body 272 size. We discuss our results in the context of physiology and reproduction and suggest how this 273 new information can guide conservation management priorities of anurans in different climates. 274 Body size played an important role in determining how climate affects breeding periods. 275 This is likely due to its effect on physiological processes such as regulating body temperature 276 and water loss, where larger frogs are better at maintaining body temperatures and are slower 277 to dessicate (Castro et al. 2021; Klein et al. 2016; Santini et al. 2018; Tracy et al. 2010). The 278 size-dependent effect of climate on anuran reproduction is most notable when comparing 1) 279 temperate versus tropical environments, and 2) regions with high rainfall and limited propensity 280 to hold water versus regions with low rainfall and high topographic water retention. These 281 results are consistent with',\n",
       "   '2022. The copyright holder for this preprint (which was not certified by peer review) is the author/funder, who has granted bioRxiv a license to display the preprint in perpetuity. It is made available under a CC-BY-NC 4.0 International license . 627 Distrib., 19, 518–529. 628 Prado, C.P.A. & Haddad, C.F.B. (2005). Size-fecundity relationships and reproductive 629 investment in female frogs in the Pantanal, South-Western Brazil. Herpetol. J., 15, 181– 630 189. 631 R Core Team. (2022). R: A language and environment for statistical computing. R Foundation 632 for Statistical Computing, Vienna, Austria. Available at: https://www.R-project.org/. 633 Rastogi, R.K., Izzo-Vitiello, I., Meglio, M., Matteo, L., Franzese, R., Costanzo, M.G., et al. 634 (1983). Ovarian activity and reproduction in the frog, Rana esculenta. J. Zool. , 200, 233– 635 247. 636 Reading, C.J. (2003). The effects of variation in climatic temperature (1980-2001) on breeding 637 activity and tadpole stage duration in the common toad, Bufo bufo. Sci. Total Environ., 310, 638 231–236. 639 Santini, L., Benítez-López, A., Ficetola, G.F. & Huijbregts, M.A.J. (2018). Length-mass 640 allometries in amphibians. Integr. Zool., 13, 36–45. 641 Schulte, Rödder, Schulte & Lötters. (2010). Preference and competition for breeding plants in 642 coexisting Ranitomeya species (Dendrobatidae): does height play a role. Salamandra, 186, 643 180–184. 644 Sheridan, J.A. (2009). Reproductive variation corresponding to breeding season length in three 645 tropical frog species. J. Trop. Ecol., 25, 583–592. 646 Shibata, Y., Sano, T., Tsuchiya, N., Okada, R., Mochida, H., Tanaka, S., et al. (2014). Gene 647 expression and localization of two types of AQP5 in Xenopus tropicalis under hydration and 648 dehydration. Am. J. Physiol. Regul. Integr. Comp. Physiol., 307, R44–56. 649 Silva, N.R., Berneck, B.V.M., da Silva, H.R., Haddad, C.F.B., Zamudio, K.R., Mott, T., et al. 650 (2020). Egg-laying site, fecundity and degree of sexual size dimorphism',\n",
       "   'play a large role in thermal physiology and desiccation, we compared 216 model fits between two models with and without interactions between climate and body size 217 (snout-vent length). Indeed, including body size substantially improved model fit (F = 2.40, p = 218 0.0082; Table 2). Overall, this model explained 18% of variation in breeding periods. 219 We next describe this model in the context of phylogenetic uncertainty and given the 220 individual effects of each climate variable (see SI 1). We found larger species from the tropics 221 (high scores on PC1) tend to exhibit longer breeding periods relative to smaller species and the 222 magnitude of this effect can be up to 60-90 days. However, this pattern reverses in the 223 temperate zone where relatively smaller species exhibit longer breeding periods (Fig. 2A). For bioRxiv preprint doi: https://doi.org/10.1101/2022.07.21.501061 ; this version posted July 22, 2022. The copyright holder for this preprint (which was not certified by peer review) is the author/funder, who has granted bioRxiv a license to display the preprint in perpetuity. It is made available under a CC-BY-NC 4.0 International license . 224 example, Rana pretiosa (median latitude = 42.60) can be 14mm larger than Rana macrocnemis 225 (median latitude = 45.33) but exhibit a breeding period 48 days shorter (61-13=48 days). This 226 effect was due to latitudinal differences in temperature, temperature seasonality, precipitation, 227 and potential evapotranspiration (PET) seasonality, each showing similar effects when analyzed 228 individually (SI 1 Table 1). Since PET did not have a significant individual effect on breeding 229 periods, it likely does not affect breeding periods although it loads highly onto PC1; we do not 230 interpret PET further for any PC. The effect of PC1 was robust to phylogenetic uncertainty and 231 significant in 89.7% of surveyed trees',\n",
       "   'of reproduction or shortened breeding periods might be highest in smaller 382 tropical species which are common in tropical lowlands. Species living in tropical lowlands along 383 with those living in cloud forests have both been identified as being under threat of extinction 384 (von May et al. 2019; Meza-Parral and Pineda 2015; Murrieta-Galindo et al. 2013; Ponce-Reyes 385 et al. 2013). Further research is needed to understand the neuroendocrine cues used for timing 386 reproduction in frogs, thermal preferences, and the role of molecular or morphological 387 adaptations related to water and heat stress. Without this research, future temperature 388 instability will increase extinction risk without either dispersal to suitable habitats or the ability to 389 acclimate and adapt to their changing environment (Huey et al. 2012). Perhaps the existence of 390 tropical explosive breeders shows capacity for adaptation and persistence in the face of climate 391 change. For example, species faced with limited breeding periods may also adapt to produce 392 more eggs (Sheridan 2009) and habitat shifts associated with thermal preference and choosing 393 egg-laying sites may help mitigate negative thermal climatic effects on tadpoles (Pintanel et al. 394 2022; Todd et al. 2011). Amphibians have much to benefit from dedicated conservation efforts 395 to protect large and diverse landscapes allowing dispersal, protecting plant diversity, and 396 preserving a thermally-diverse range of habitat options. Similar efforts have been successful in 397 partially restoring amphibian diversity in cloud forests (Díaz-García et al. 2020). Future research bioRxiv preprint doi: https://doi.org/10.1101/2022.07.21.501061 ; this version posted July 22, 2022. The copyright holder for this preprint (which was not certified by peer review) is the author/funder, who has granted bioRxiv a license to display the preprint in perpetuity. It is made available under a CC-BY-NC 4.0 International license . 398 might seek',\n",
       "   'from lower rates of water loss relative to smaller species. Alternatively, 95 larger-bodied species may be at a disadvantage in sub-optimal environments due to greater 96 resource demand and limited area for water or heat exchange. Species body size likely 97 influences the effect climate has on breeding period due to trade-offs between reproduction and 98 physiological performance over the course of the breeding period. Knowledge of how climate 99 and body size interact to influence anuran breeding periods is unknown but is likely to allow for 100 more targeted conservation efforts. 101 The goal of this study is to identify how ecological factors are related to reproduction 102 (breeding periods) in anurans on a global scale. Specifically, we test (H1) whether longer 103 breeding periods are the result of warmer, wetter climates, (H2) whether differences in body 104 size significantly alter the way climate influences breeding periods, (H3) whether species with 105 different non-breeding microhabitat preferences exhibit differences in breeding period, and (H4) 106 whether climate differs significantly between species microhabitat and geographical (temperate 107 and tropical) zones. Here, we provide the first quantitative assessment of the latitudinal gradient 108 of reproduction in anurans, including climatic and possible physiological drivers. bioRxiv preprint doi: https://doi.org/10.1101/2022.07.21.501061 ; this version posted July 22, 2022. The copyright holder for this preprint (which was not certified by peer review) is the author/funder, who has granted bioRxiv a license to display the preprint in perpetuity. It is made available under a CC-BY-NC 4.0 International license . 109 Material and Methods 110 Climate data 111 We obtained coordinate data for 497 species representing 41 of 54 anuran families from 112 GBIF.org (GBIF.org 2021a,b,c,d) accessed 3 October 2021. These queries were for presence 113 coordinate data for non-fossil native observations lacking geospatial issues. We cleaned the 114',\n",
       "   'challenge for prolonged breeding periods in smaller species by limiting protection 315 from canopy cover or reproductive opportunities associated with leafor phytotelma-breeding 316 species (Donnelly and Guyer 1994; Poelman et al. 2013; Schulte et al. 2010). Predation risk 317 may also differ between small and large species, where larger species are less reliant on 318 canopy cover due to their large size reducing predation pressure (Nakazawa et al. 2013), 319 resulting in longer breeding periods. Future research investigating the role of plant diversity and 320 predator-prey relationships in anurans seems likely to explain this variability in amphibian 321 reproduction. bioRxiv preprint doi: https://doi.org/10.1101/2022.07.21.501061 ; this version posted July 22, 2022. The copyright holder for this preprint (which was not certified by peer review) is the author/funder, who has granted bioRxiv a license to display the preprint in perpetuity. It is made available under a CC-BY-NC 4.0 International license . 322 Microhabitat use across and within species undoubtedly plays a critical role in how 323 animals experience broader regional climates and together they define climate exposure (Huey 324 et al. 2012; Williams et al. 2008). While ambient and body temperatures are connected 325 (Cunningham 1963), water stream and air temperatures are also correlated to atmospheric 326 temperatures in both warmer and colder climatic zones (Erickson and Stefan 1996; Mohseni 327 and Stefan 1999; Pilgrim et al. 1995). However, support for our hypothesis of differences in 328 breeding periods between species occupying different microhabitats was lacking. Instead, we 329 found a minority of burrowing species exhibit explosive breeding (extremely short breeding 330 periods) and an overabundance of semi-arboreal species which breed for longer periods. The 331 latter is likely related to radiations of small semi-arboreal frogs in the tropics of Central and 332 South America, one of the most diverse regions of',\n",
       "   'the environment, we can better understand how climate change will 45 differentially affect species survival. Importantly, evolutionary biology is taking a key role in 46 conservation biology (Zizka et al. 2021), with climate change and anthropogenic impacts at the 47 heart of these studies. As successful reproduction is necessary for survival and fitness, studies 48 of the ecology and evolution of reproductive traits are needed to understand the effects of 49 climate change on species reproductive success. For example, climate change has led to 50 shifting clutch sizes, offspring sizes, and breeding season start times in vertebrates (Bronson 51 2009; Padilla Perez and Angilletta 2022; Pankhurst and Munday 2011; Telemeco et al. 2013; 52 Todd et al. 2011; Visser et al. 2004). However, limited natural history observations across many 53 species and vertebrate groups has stalled research that would help us better understand how 54 climate impacts various reproductive behaviors. Therefore, ideal model systems for learning 55 how climate affects reproductive behaviors and success include groups with abundant natural 56 history observations and whose reproduction is tied to particular environments. 57 Anurans (frogs and toads) are an ecologically and taxonomically diverse ectotherm 58 group (>7,400 species; AmphibiaWeb 2022) whose reproduction and development is generally 59 dependent on water availability during breeding. Their iconic calling behavior used for 60 reproduction has made them a prime target for natural history studies, making their reproductive 61 behaviors reasonably well-known. Anurans inhabit a wide array of habitats around the world bioRxiv preprint doi: https://doi.org/10.1101/2022.07.21.501061 ; this version posted July 22, 2022. The copyright holder for this preprint (which was not certified by peer review) is the author/funder, who has granted bioRxiv a license to display the preprint in perpetuity. It is made available under a CC-BY-NC 4.0 International license . 62 including tropical rainforests,',\n",
       "   'this preprint (which was not certified by peer review) is the author/funder, who has granted bioRxiv a license to display the preprint in perpetuity. It is made available under a CC-BY-NC 4.0 International license . 297 1984). Temperature and water preferences and limits can evolve in a correlated fashion (Bonetti 298 and Wiens 2014; Guevara-Molina et al. 2020; Köhler et al. 2011) and likely involve 299 underexplored molecular and morphological traits associated with the skin and body size in 300 amphibians (Finn et al. 2014; Shibata et al. 2014; Tracy et al. 2010). How temperature and 301 water limits have shaped anuran breeding physiology is unclear and is an area that needs more 302 research. 303 Ecology, in addition to physiology, plays an important role in determining breeding 304 periods. Our results suggest seasonal environments present the challenge of overcoming 305 unreliable cues for reproduction, similar to findings at shorter ecological scales (Todd et al. 306 2011). Here, we found size-dependent patterns, themselves independent of latitude, where 307 breeding periods in smaller species decline in rainier environments with lower topographic 308 wetness. These qualities are characteristic of high-altitude rainforests, or cloud forests, such as 309 those found in Central and South America, which hold much of the world’s anuran diversity 310 (Cortés et al. 2008; Duellman 1988; Giaretta et al. 1999). One explanation for this pattern is that 311 cloud forests exhibit relatively rapid local drainage of water resources necessary for prolonged 312 amphibian reproduction. Another possible explanation is that areas with low topographic 313 wetness and correspondingly low vascular plant species richness (Sørensen et al. 2005) 314 presents a challenge for prolonged breeding periods in smaller species by limiting protection 315 from canopy cover or reproductive opportunities associated with leafor phytotelma-breeding 316 species (Donnelly and Guyer 1994; Poelman et']],\n",
       " 'uris': None,\n",
       " 'included': ['metadatas', 'documents', 'distances'],\n",
       " 'data': None,\n",
       " 'metadatas': [[{'token_count': 412,\n",
       "    'chunk_id': '10.1101_2022.07.21.501061_16',\n",
       "    'previous_chunk_id': '10.1101_2022.07.21.501061_15',\n",
       "    'document_id': '10.1101_2022.07.21.501061',\n",
       "    'citation_entities': '',\n",
       "    'next_chunk_id': '10.1101_2022.07.21.501061_17'},\n",
       "   {'chunk_id': '10.1101_2022.07.21.501061_36',\n",
       "    'previous_chunk_id': '10.1101_2022.07.21.501061_35',\n",
       "    'document_id': '10.1101_2022.07.21.501061',\n",
       "    'next_chunk_id': '10.1101_2022.07.21.501061_37',\n",
       "    'token_count': 672,\n",
       "    'citation_entities': ''},\n",
       "   {'previous_chunk_id': '10.1101_2022.07.21.501061_14',\n",
       "    'next_chunk_id': '10.1101_2022.07.21.501061_16',\n",
       "    'citation_entities': '',\n",
       "    'document_id': '10.1101_2022.07.21.501061',\n",
       "    'chunk_id': '10.1101_2022.07.21.501061_15',\n",
       "    'token_count': 418},\n",
       "   {'token_count': 655,\n",
       "    'next_chunk_id': '10.1101_2022.07.21.501061_36',\n",
       "    'citation_entities': '',\n",
       "    'chunk_id': '10.1101_2022.07.21.501061_35',\n",
       "    'previous_chunk_id': '10.1101_2022.07.21.501061_34',\n",
       "    'document_id': '10.1101_2022.07.21.501061'},\n",
       "   {'token_count': 461,\n",
       "    'citation_entities': '',\n",
       "    'next_chunk_id': '10.1101_2022.07.21.501061_13',\n",
       "    'document_id': '10.1101_2022.07.21.501061',\n",
       "    'chunk_id': '10.1101_2022.07.21.501061_12',\n",
       "    'previous_chunk_id': '10.1101_2022.07.21.501061_11'},\n",
       "   {'citation_entities': '',\n",
       "    'token_count': 458,\n",
       "    'chunk_id': '10.1101_2022.07.21.501061_22',\n",
       "    'previous_chunk_id': '10.1101_2022.07.21.501061_21',\n",
       "    'next_chunk_id': '10.1101_2022.07.21.501061_23',\n",
       "    'document_id': '10.1101_2022.07.21.501061'},\n",
       "   {'citation_entities': '',\n",
       "    'token_count': 442,\n",
       "    'next_chunk_id': '10.1101_2022.07.21.501061_6',\n",
       "    'document_id': '10.1101_2022.07.21.501061',\n",
       "    'previous_chunk_id': '10.1101_2022.07.21.501061_4',\n",
       "    'chunk_id': '10.1101_2022.07.21.501061_5'},\n",
       "   {'document_id': '10.1101_2022.07.21.501061',\n",
       "    'next_chunk_id': '10.1101_2022.07.21.501061_19',\n",
       "    'previous_chunk_id': '10.1101_2022.07.21.501061_17',\n",
       "    'chunk_id': '10.1101_2022.07.21.501061_18',\n",
       "    'citation_entities': '',\n",
       "    'token_count': 462},\n",
       "   {'next_chunk_id': '10.1101_2022.07.21.501061_3',\n",
       "    'chunk_id': '10.1101_2022.07.21.501061_2',\n",
       "    'previous_chunk_id': '10.1101_2022.07.21.501061_1',\n",
       "    'document_id': '10.1101_2022.07.21.501061',\n",
       "    'citation_entities': '',\n",
       "    'token_count': 450},\n",
       "   {'next_chunk_id': '10.1101_2022.07.21.501061_18',\n",
       "    'chunk_id': '10.1101_2022.07.21.501061_17',\n",
       "    'previous_chunk_id': '10.1101_2022.07.21.501061_16',\n",
       "    'citation_entities': '',\n",
       "    'document_id': '10.1101_2022.07.21.501061',\n",
       "    'token_count': 456}]],\n",
       " 'distances': [[0.3313443660736084,\n",
       "   0.3351432681083679,\n",
       "   0.34592366218566895,\n",
       "   0.3525223731994629,\n",
       "   0.3627055585384369,\n",
       "   0.36319699883461,\n",
       "   0.36463645100593567,\n",
       "   0.3676660656929016,\n",
       "   0.37413498759269714,\n",
       "   0.3771071434020996]]}"
      ]
     },
     "execution_count": 8,
     "metadata": {},
     "output_type": "execute_result"
    }
   ],
   "source": [
    "collection.query(\n",
    "    query_embeddings=[embeddings],\n",
    "    n_results=10,\n",
    "    where={\"document_id\": \"10.1101_2022.07.21.501061\"}\n",
    ")"
   ]
  },
  {
   "cell_type": "code",
   "execution_count": 9,
   "id": "3b4c7db6",
   "metadata": {},
   "outputs": [
    {
     "name": "stderr",
     "output_type": "stream",
     "text": [
      "2025-07-30 11:39:02,523 - src.helpers - INFO - Logging initialized for /Users/taishajoseph/Documents/Projects/MDC-Challenge-2025/logs/duckdb_utils.log\n",
      "2025-07-30 11:39:02,523 - src.helpers - INFO - Logging initialized for /Users/taishajoseph/Documents/Projects/MDC-Challenge-2025/logs/duckdb_utils.log\n",
      "2025-07-30 11:39:02,527 - src.helpers - INFO - Logging initialized for /Users/taishajoseph/Documents/Projects/MDC-Challenge-2025/logs/retriever_services.log\n",
      "2025-07-30 11:39:02,527 - src.helpers - INFO - Logging initialized for /Users/taishajoseph/Documents/Projects/MDC-Challenge-2025/logs/retriever_services.log\n",
      "2025-07-30 11:39:02,527 - src.helpers - INFO - Logging initialized for /Users/taishajoseph/Documents/Projects/MDC-Challenge-2025/logs/retriever_services.log\n"
     ]
    }
   ],
   "source": [
    "from api.services.retriever_services import retrieve_top_chunks"
   ]
  },
  {
   "cell_type": "code",
   "execution_count": 10,
   "id": "d4933a22",
   "metadata": {},
   "outputs": [
    {
     "name": "stderr",
     "output_type": "stream",
     "text": [
      "Batches: 100%|██████████| 1/1 [00:00<00:00,  9.74it/s]"
     ]
    },
    {
     "name": "stdout",
     "output_type": "stream",
     "text": [
      "(384,)\n"
     ]
    },
    {
     "name": "stderr",
     "output_type": "stream",
     "text": [
      "\n"
     ]
    }
   ],
   "source": [
    "text = \" \".join(text).replace(\"\\n\", \" \").strip()\n",
    "embeddings = model.encode(text, convert_to_numpy=True)\n",
    "print(embeddings.shape)"
   ]
  },
  {
   "cell_type": "code",
   "execution_count": 11,
   "id": "42c3a7bd",
   "metadata": {},
   "outputs": [
    {
     "name": "stderr",
     "output_type": "stream",
     "text": [
      "2025-07-30 11:39:02,669 - chromadb.telemetry.product.posthog - INFO - Anonymized telemetry enabled. See                     https://docs.trychroma.com/telemetry for more information.\n",
      "2025-07-30 11:39:02,669 - chromadb.telemetry.product.posthog - INFO - Anonymized telemetry enabled. See                     https://docs.trychroma.com/telemetry for more information.\n",
      "2025-07-30 11:39:02,669 - chromadb.telemetry.product.posthog - INFO - Anonymized telemetry enabled. See                     https://docs.trychroma.com/telemetry for more information.\n",
      "2025-07-30 11:39:02,738 - src.helpers - INFO - Database schema initialized successfully\n",
      "2025-07-30 11:39:02,738 - src.helpers - INFO - Database schema initialized successfully\n",
      "2025-07-30 11:39:02,738 - src.helpers - INFO - Database schema initialized successfully\n",
      "2025-07-30 11:39:02,741 - src.helpers - INFO - Initialized ChromaRetriever: collection=mdc_training_data, model=/Users/taishajoseph/Documents/Projects/MDC-Challenge-2025/offline_models, fusion_scoring=True\n",
      "2025-07-30 11:39:02,741 - src.helpers - INFO - Initialized ChromaRetriever: collection=mdc_training_data, model=/Users/taishajoseph/Documents/Projects/MDC-Challenge-2025/offline_models, fusion_scoring=True\n",
      "2025-07-30 11:39:02,741 - src.helpers - INFO - Initialized ChromaRetriever: collection=mdc_training_data, model=/Users/taishajoseph/Documents/Projects/MDC-Challenge-2025/offline_models, fusion_scoring=True\n",
      "2025-07-30 11:39:02,744 - src.helpers - INFO - Retrieving chunks without text analysis\n",
      "2025-07-30 11:39:02,744 - src.helpers - INFO - Retrieving chunks without text analysis\n",
      "2025-07-30 11:39:02,744 - src.helpers - INFO - Retrieving chunks without text analysis\n",
      "2025-07-30 11:39:02,747 - src.helpers - INFO - Retrieving top-10 chunks for 1 queries\n",
      "2025-07-30 11:39:02,747 - src.helpers - INFO - Retrieving top-10 chunks for 1 queries\n",
      "2025-07-30 11:39:02,747 - src.helpers - INFO - Retrieving top-10 chunks for 1 queries\n",
      "2025-07-30 11:39:02,750 - src.helpers - INFO - Generating embeddings for queries\n",
      "2025-07-30 11:39:02,750 - src.helpers - INFO - Generating embeddings for queries\n",
      "2025-07-30 11:39:02,750 - src.helpers - INFO - Generating embeddings for queries\n",
      "2025-07-30 11:39:02,753 - src.helpers - INFO - Processing query 1/1\n",
      "2025-07-30 11:39:02,753 - src.helpers - INFO - Processing query 1/1\n",
      "2025-07-30 11:39:02,753 - src.helpers - INFO - Processing query 1/1\n",
      "2025-07-30 11:39:02,803 - src.helpers - INFO - Calculating score for chunk 10.1101_2022.07.21.501061_40\n",
      "2025-07-30 11:39:02,803 - src.helpers - INFO - Calculating score for chunk 10.1101_2022.07.21.501061_40\n",
      "2025-07-30 11:39:02,803 - src.helpers - INFO - Calculating score for chunk 10.1101_2022.07.21.501061_40\n",
      "2025-07-30 11:39:02,806 - src.helpers - INFO - Calculating score for chunk 10.1101_2022.07.21.501061_39\n",
      "2025-07-30 11:39:02,806 - src.helpers - INFO - Calculating score for chunk 10.1101_2022.07.21.501061_39\n",
      "2025-07-30 11:39:02,806 - src.helpers - INFO - Calculating score for chunk 10.1101_2022.07.21.501061_39\n",
      "2025-07-30 11:39:02,808 - src.helpers - INFO - Calculating score for chunk 10.1101_2022.07.21.501061_32\n",
      "2025-07-30 11:39:02,808 - src.helpers - INFO - Calculating score for chunk 10.1101_2022.07.21.501061_32\n",
      "2025-07-30 11:39:02,808 - src.helpers - INFO - Calculating score for chunk 10.1101_2022.07.21.501061_32\n",
      "2025-07-30 11:39:02,810 - src.helpers - INFO - Calculating score for chunk 10.1101_2022.07.21.501061_7\n",
      "2025-07-30 11:39:02,810 - src.helpers - INFO - Calculating score for chunk 10.1101_2022.07.21.501061_7\n",
      "2025-07-30 11:39:02,810 - src.helpers - INFO - Calculating score for chunk 10.1101_2022.07.21.501061_7\n",
      "2025-07-30 11:39:02,813 - src.helpers - INFO - Calculating score for chunk 10.1101_2022.07.21.501061_9\n",
      "2025-07-30 11:39:02,813 - src.helpers - INFO - Calculating score for chunk 10.1101_2022.07.21.501061_9\n",
      "2025-07-30 11:39:02,813 - src.helpers - INFO - Calculating score for chunk 10.1101_2022.07.21.501061_9\n",
      "2025-07-30 11:39:02,816 - src.helpers - INFO - Calculating score for chunk 10.1101_2022.07.21.501061_10\n",
      "2025-07-30 11:39:02,816 - src.helpers - INFO - Calculating score for chunk 10.1101_2022.07.21.501061_10\n",
      "2025-07-30 11:39:02,816 - src.helpers - INFO - Calculating score for chunk 10.1101_2022.07.21.501061_10\n",
      "2025-07-30 11:39:02,819 - src.helpers - INFO - Calculating score for chunk 10.1101_2022.07.21.501061_31\n",
      "2025-07-30 11:39:02,819 - src.helpers - INFO - Calculating score for chunk 10.1101_2022.07.21.501061_31\n",
      "2025-07-30 11:39:02,819 - src.helpers - INFO - Calculating score for chunk 10.1101_2022.07.21.501061_31\n",
      "2025-07-30 11:39:02,822 - src.helpers - INFO - Calculating score for chunk 10.1101_2022.07.21.501061_36\n",
      "2025-07-30 11:39:02,822 - src.helpers - INFO - Calculating score for chunk 10.1101_2022.07.21.501061_36\n",
      "2025-07-30 11:39:02,822 - src.helpers - INFO - Calculating score for chunk 10.1101_2022.07.21.501061_36\n",
      "2025-07-30 11:39:02,825 - src.helpers - INFO - Calculating score for chunk 10.1101_2022.07.21.501061_23\n",
      "2025-07-30 11:39:02,825 - src.helpers - INFO - Calculating score for chunk 10.1101_2022.07.21.501061_23\n",
      "2025-07-30 11:39:02,825 - src.helpers - INFO - Calculating score for chunk 10.1101_2022.07.21.501061_23\n",
      "2025-07-30 11:39:02,828 - src.helpers - INFO - Calculating score for chunk 10.1101_2022.07.21.501061_24\n",
      "2025-07-30 11:39:02,828 - src.helpers - INFO - Calculating score for chunk 10.1101_2022.07.21.501061_24\n",
      "2025-07-30 11:39:02,828 - src.helpers - INFO - Calculating score for chunk 10.1101_2022.07.21.501061_24\n",
      "2025-07-30 11:39:02,831 - src.helpers - INFO - Calculating score for chunk 10.1101_2022.07.21.501061_28\n",
      "2025-07-30 11:39:02,831 - src.helpers - INFO - Calculating score for chunk 10.1101_2022.07.21.501061_28\n",
      "2025-07-30 11:39:02,831 - src.helpers - INFO - Calculating score for chunk 10.1101_2022.07.21.501061_28\n",
      "2025-07-30 11:39:02,834 - src.helpers - INFO - Calculating score for chunk 10.1101_2022.07.21.501061_6\n",
      "2025-07-30 11:39:02,834 - src.helpers - INFO - Calculating score for chunk 10.1101_2022.07.21.501061_6\n",
      "2025-07-30 11:39:02,834 - src.helpers - INFO - Calculating score for chunk 10.1101_2022.07.21.501061_6\n",
      "2025-07-30 11:39:02,839 - src.helpers - INFO - Calculating score for chunk 10.1101_2022.07.21.501061_13\n",
      "2025-07-30 11:39:02,839 - src.helpers - INFO - Calculating score for chunk 10.1101_2022.07.21.501061_13\n",
      "2025-07-30 11:39:02,839 - src.helpers - INFO - Calculating score for chunk 10.1101_2022.07.21.501061_13\n",
      "2025-07-30 11:39:02,842 - src.helpers - INFO - Calculating score for chunk 10.1101_2022.07.21.501061_25\n",
      "2025-07-30 11:39:02,842 - src.helpers - INFO - Calculating score for chunk 10.1101_2022.07.21.501061_25\n",
      "2025-07-30 11:39:02,842 - src.helpers - INFO - Calculating score for chunk 10.1101_2022.07.21.501061_25\n",
      "2025-07-30 11:39:02,845 - src.helpers - INFO - Calculating score for chunk 10.1101_2022.07.21.501061_0\n",
      "2025-07-30 11:39:02,845 - src.helpers - INFO - Calculating score for chunk 10.1101_2022.07.21.501061_0\n",
      "2025-07-30 11:39:02,845 - src.helpers - INFO - Calculating score for chunk 10.1101_2022.07.21.501061_0\n",
      "2025-07-30 11:39:02,848 - src.helpers - INFO - Calculating score for chunk 10.1101_2022.07.21.501061_11\n",
      "2025-07-30 11:39:02,848 - src.helpers - INFO - Calculating score for chunk 10.1101_2022.07.21.501061_11\n",
      "2025-07-30 11:39:02,848 - src.helpers - INFO - Calculating score for chunk 10.1101_2022.07.21.501061_11\n",
      "2025-07-30 11:39:02,850 - src.helpers - INFO - Calculating score for chunk 10.1101_2022.07.21.501061_37\n",
      "2025-07-30 11:39:02,850 - src.helpers - INFO - Calculating score for chunk 10.1101_2022.07.21.501061_37\n"
     ]
    },
    {
     "name": "stdout",
     "output_type": "stream",
     "text": [
      "Executing _load_cfg...\n",
      "Function _load_cfg took 0.0068 seconds to complete.\n",
      "Executing _get_chroma_collection...\n",
      "Function _get_chroma_collection took 0.0221 seconds to complete.\n",
      "Executing _detect_data_citation_entities...\n",
      "Function _detect_data_citation_entities took 0.0000 seconds to complete.\n",
      "Executing _detect_data_citation_entities...\n",
      "Function _detect_data_citation_entities took 0.0000 seconds to complete.\n",
      "Executing _detect_data_citation_entities...\n",
      "Function _detect_data_citation_entities took 0.0000 seconds to complete.\n",
      "Executing _detect_data_citation_entities...\n",
      "Function _detect_data_citation_entities took 0.0000 seconds to complete.\n",
      "Executing _detect_data_citation_entities...\n",
      "Function _detect_data_citation_entities took 0.0000 seconds to complete.\n",
      "Executing _detect_data_citation_entities...\n",
      "Function _detect_data_citation_entities took 0.0000 seconds to complete.\n",
      "Executing _detect_data_citation_entities...\n",
      "Function _detect_data_citation_entities took 0.0000 seconds to complete.\n",
      "Executing _detect_data_citation_entities...\n",
      "Function _detect_data_citation_entities took 0.0000 seconds to complete.\n",
      "Executing _detect_data_citation_entities...\n",
      "Function _detect_data_citation_entities took 0.0000 seconds to complete.\n",
      "Executing _detect_data_citation_entities...\n",
      "Function _detect_data_citation_entities took 0.0000 seconds to complete.\n",
      "Executing _detect_data_citation_entities...\n",
      "Function _detect_data_citation_entities took 0.0000 seconds to complete.\n",
      "Executing _detect_data_citation_entities...\n",
      "Function _detect_data_citation_entities took 0.0000 seconds to complete.\n",
      "Executing _detect_data_citation_entities...\n",
      "Function _detect_data_citation_entities took 0.0000 seconds to complete.\n",
      "Executing _detect_data_citation_entities...\n",
      "Function _detect_data_citation_entities took 0.0000 seconds to complete.\n",
      "Executing _detect_data_citation_entities...\n",
      "Function _detect_data_citation_entities took 0.0000 seconds to complete.\n",
      "Executing _detect_data_citation_entities...\n",
      "Function _detect_data_citation_entities took 0.0000 seconds to complete.\n"
     ]
    },
    {
     "name": "stderr",
     "output_type": "stream",
     "text": [
      "2025-07-30 11:39:02,850 - src.helpers - INFO - Calculating score for chunk 10.1101_2022.07.21.501061_37\n",
      "2025-07-30 11:39:02,854 - src.helpers - INFO - Calculating score for chunk 10.1101_2022.07.21.501061_35\n",
      "2025-07-30 11:39:02,854 - src.helpers - INFO - Calculating score for chunk 10.1101_2022.07.21.501061_35\n",
      "2025-07-30 11:39:02,854 - src.helpers - INFO - Calculating score for chunk 10.1101_2022.07.21.501061_35\n",
      "2025-07-30 11:39:02,857 - src.helpers - INFO - Calculating score for chunk 10.1101_2022.07.21.501061_27\n",
      "2025-07-30 11:39:02,857 - src.helpers - INFO - Calculating score for chunk 10.1101_2022.07.21.501061_27\n",
      "2025-07-30 11:39:02,857 - src.helpers - INFO - Calculating score for chunk 10.1101_2022.07.21.501061_27\n",
      "2025-07-30 11:39:02,859 - src.helpers - INFO - Calculating score for chunk 10.1101_2022.07.21.501061_26\n",
      "2025-07-30 11:39:02,859 - src.helpers - INFO - Calculating score for chunk 10.1101_2022.07.21.501061_26\n",
      "2025-07-30 11:39:02,859 - src.helpers - INFO - Calculating score for chunk 10.1101_2022.07.21.501061_26\n"
     ]
    },
    {
     "name": "stdout",
     "output_type": "stream",
     "text": [
      "Executing _detect_data_citation_entities...\n",
      "Function _detect_data_citation_entities took 0.0000 seconds to complete.\n",
      "Executing _detect_data_citation_entities...\n",
      "Function _detect_data_citation_entities took 0.0000 seconds to complete.\n",
      "Executing _detect_data_citation_entities...\n",
      "Function _detect_data_citation_entities took 0.0000 seconds to complete.\n",
      "Executing _detect_data_citation_entities...\n",
      "Function _detect_data_citation_entities took 0.0000 seconds to complete.\n"
     ]
    },
    {
     "name": "stderr",
     "output_type": "stream",
     "text": [
      "2025-07-30 11:39:02,862 - src.helpers - INFO - Calculating score for chunk 10.1101_2022.07.21.501061_38\n",
      "2025-07-30 11:39:02,862 - src.helpers - INFO - Calculating score for chunk 10.1101_2022.07.21.501061_38\n",
      "2025-07-30 11:39:02,862 - src.helpers - INFO - Calculating score for chunk 10.1101_2022.07.21.501061_38\n",
      "2025-07-30 11:39:02,865 - src.helpers - INFO - Calculating score for chunk 10.1101_2022.07.21.501061_16\n",
      "2025-07-30 11:39:02,865 - src.helpers - INFO - Calculating score for chunk 10.1101_2022.07.21.501061_16\n",
      "2025-07-30 11:39:02,865 - src.helpers - INFO - Calculating score for chunk 10.1101_2022.07.21.501061_16\n",
      "2025-07-30 11:39:02,867 - src.helpers - INFO - Calculating score for chunk 10.1101_2022.07.21.501061_15\n",
      "2025-07-30 11:39:02,867 - src.helpers - INFO - Calculating score for chunk 10.1101_2022.07.21.501061_15\n",
      "2025-07-30 11:39:02,867 - src.helpers - INFO - Calculating score for chunk 10.1101_2022.07.21.501061_15\n",
      "2025-07-30 11:39:02,871 - src.helpers - INFO - Calculating score for chunk 10.1101_2022.07.21.501061_17\n",
      "2025-07-30 11:39:02,871 - src.helpers - INFO - Calculating score for chunk 10.1101_2022.07.21.501061_17\n",
      "2025-07-30 11:39:02,871 - src.helpers - INFO - Calculating score for chunk 10.1101_2022.07.21.501061_17\n",
      "2025-07-30 11:39:02,873 - src.helpers - INFO - Calculating score for chunk 10.1101_2022.07.21.501061_8\n",
      "2025-07-30 11:39:02,873 - src.helpers - INFO - Calculating score for chunk 10.1101_2022.07.21.501061_8\n",
      "2025-07-30 11:39:02,873 - src.helpers - INFO - Calculating score for chunk 10.1101_2022.07.21.501061_8\n",
      "2025-07-30 11:39:02,876 - src.helpers - INFO - Calculating score for chunk 10.1101_2022.07.21.501061_30\n",
      "2025-07-30 11:39:02,876 - src.helpers - INFO - Calculating score for chunk 10.1101_2022.07.21.501061_30\n",
      "2025-07-30 11:39:02,876 - src.helpers - INFO - Calculating score for chunk 10.1101_2022.07.21.501061_30\n",
      "2025-07-30 11:39:02,878 - src.helpers - INFO - Calculating score for chunk 10.1101_2022.07.21.501061_5\n",
      "2025-07-30 11:39:02,878 - src.helpers - INFO - Calculating score for chunk 10.1101_2022.07.21.501061_5\n",
      "2025-07-30 11:39:02,878 - src.helpers - INFO - Calculating score for chunk 10.1101_2022.07.21.501061_5\n",
      "2025-07-30 11:39:02,881 - src.helpers - INFO - Calculating score for chunk 10.1101_2022.07.21.501061_14\n",
      "2025-07-30 11:39:02,881 - src.helpers - INFO - Calculating score for chunk 10.1101_2022.07.21.501061_14\n",
      "2025-07-30 11:39:02,881 - src.helpers - INFO - Calculating score for chunk 10.1101_2022.07.21.501061_14\n",
      "2025-07-30 11:39:02,885 - src.helpers - INFO - Calculating score for chunk 10.1101_2022.07.21.501061_12\n",
      "2025-07-30 11:39:02,885 - src.helpers - INFO - Calculating score for chunk 10.1101_2022.07.21.501061_12\n",
      "2025-07-30 11:39:02,885 - src.helpers - INFO - Calculating score for chunk 10.1101_2022.07.21.501061_12\n",
      "2025-07-30 11:39:02,888 - src.helpers - INFO - Calculating score for chunk 10.1101_2022.07.21.501061_22\n",
      "2025-07-30 11:39:02,888 - src.helpers - INFO - Calculating score for chunk 10.1101_2022.07.21.501061_22\n",
      "2025-07-30 11:39:02,888 - src.helpers - INFO - Calculating score for chunk 10.1101_2022.07.21.501061_22\n",
      "2025-07-30 11:39:02,891 - src.helpers - INFO - Calculating score for chunk 10.1101_2022.07.21.501061_29\n",
      "2025-07-30 11:39:02,891 - src.helpers - INFO - Calculating score for chunk 10.1101_2022.07.21.501061_29\n",
      "2025-07-30 11:39:02,891 - src.helpers - INFO - Calculating score for chunk 10.1101_2022.07.21.501061_29\n",
      "2025-07-30 11:39:02,894 - src.helpers - INFO - Calculating score for chunk 10.1101_2022.07.21.501061_34\n",
      "2025-07-30 11:39:02,894 - src.helpers - INFO - Calculating score for chunk 10.1101_2022.07.21.501061_34\n",
      "2025-07-30 11:39:02,894 - src.helpers - INFO - Calculating score for chunk 10.1101_2022.07.21.501061_34\n",
      "2025-07-30 11:39:02,896 - src.helpers - INFO - Calculating score for chunk 10.1101_2022.07.21.501061_21\n",
      "2025-07-30 11:39:02,896 - src.helpers - INFO - Calculating score for chunk 10.1101_2022.07.21.501061_21\n",
      "2025-07-30 11:39:02,896 - src.helpers - INFO - Calculating score for chunk 10.1101_2022.07.21.501061_21\n",
      "2025-07-30 11:39:02,899 - src.helpers - INFO - Calculating score for chunk 10.1101_2022.07.21.501061_18\n",
      "2025-07-30 11:39:02,899 - src.helpers - INFO - Calculating score for chunk 10.1101_2022.07.21.501061_18\n",
      "2025-07-30 11:39:02,899 - src.helpers - INFO - Calculating score for chunk 10.1101_2022.07.21.501061_18\n",
      "2025-07-30 11:39:02,902 - src.helpers - INFO - Calculating score for chunk 10.1101_2022.07.21.501061_33\n",
      "2025-07-30 11:39:02,902 - src.helpers - INFO - Calculating score for chunk 10.1101_2022.07.21.501061_33\n",
      "2025-07-30 11:39:02,902 - src.helpers - INFO - Calculating score for chunk 10.1101_2022.07.21.501061_33\n",
      "2025-07-30 11:39:02,905 - src.helpers - INFO - Calculating score for chunk 10.1101_2022.07.21.501061_4\n",
      "2025-07-30 11:39:02,905 - src.helpers - INFO - Calculating score for chunk 10.1101_2022.07.21.501061_4\n",
      "2025-07-30 11:39:02,905 - src.helpers - INFO - Calculating score for chunk 10.1101_2022.07.21.501061_4\n",
      "2025-07-30 11:39:02,908 - src.helpers - INFO - Calculating score for chunk 10.1101_2022.07.21.501061_20\n",
      "2025-07-30 11:39:02,908 - src.helpers - INFO - Calculating score for chunk 10.1101_2022.07.21.501061_20\n",
      "2025-07-30 11:39:02,908 - src.helpers - INFO - Calculating score for chunk 10.1101_2022.07.21.501061_20\n",
      "2025-07-30 11:39:02,910 - src.helpers - INFO - Calculating score for chunk 10.1101_2022.07.21.501061_19\n",
      "2025-07-30 11:39:02,910 - src.helpers - INFO - Calculating score for chunk 10.1101_2022.07.21.501061_19\n",
      "2025-07-30 11:39:02,910 - src.helpers - INFO - Calculating score for chunk 10.1101_2022.07.21.501061_19\n",
      "2025-07-30 11:39:02,912 - src.helpers - INFO - Calculating score for chunk 10.1101_2022.07.21.501061_2\n",
      "2025-07-30 11:39:02,912 - src.helpers - INFO - Calculating score for chunk 10.1101_2022.07.21.501061_2\n",
      "2025-07-30 11:39:02,912 - src.helpers - INFO - Calculating score for chunk 10.1101_2022.07.21.501061_2\n",
      "2025-07-30 11:39:02,916 - src.helpers - INFO - Calculating score for chunk 10.1101_2022.07.21.501061_1\n",
      "2025-07-30 11:39:02,916 - src.helpers - INFO - Calculating score for chunk 10.1101_2022.07.21.501061_1\n",
      "2025-07-30 11:39:02,916 - src.helpers - INFO - Calculating score for chunk 10.1101_2022.07.21.501061_1\n",
      "2025-07-30 11:39:02,920 - src.helpers - INFO - Calculating score for chunk 10.1101_2022.07.21.501061_3\n",
      "2025-07-30 11:39:02,920 - src.helpers - INFO - Calculating score for chunk 10.1101_2022.07.21.501061_3\n",
      "2025-07-30 11:39:02,920 - src.helpers - INFO - Calculating score for chunk 10.1101_2022.07.21.501061_3\n",
      "2025-07-30 11:39:02,927 - src.helpers - INFO - Retrieved chunk 10.1101_2022.07.21.501061_40 with score 0.276\n",
      "2025-07-30 11:39:02,927 - src.helpers - INFO - Retrieved chunk 10.1101_2022.07.21.501061_40 with score 0.276\n",
      "2025-07-30 11:39:02,927 - src.helpers - INFO - Retrieved chunk 10.1101_2022.07.21.501061_40 with score 0.276\n",
      "2025-07-30 11:39:02,932 - src.helpers - INFO - Retrieved chunk 10.1101_2022.07.21.501061_39 with score 0.221\n",
      "2025-07-30 11:39:02,932 - src.helpers - INFO - Retrieved chunk 10.1101_2022.07.21.501061_39 with score 0.221\n",
      "2025-07-30 11:39:02,932 - src.helpers - INFO - Retrieved chunk 10.1101_2022.07.21.501061_39 with score 0.221\n",
      "2025-07-30 11:39:02,937 - src.helpers - INFO - Retrieved chunk 10.1101_2022.07.21.501061_31 with score 0.202\n",
      "2025-07-30 11:39:02,937 - src.helpers - INFO - Retrieved chunk 10.1101_2022.07.21.501061_31 with score 0.202\n",
      "2025-07-30 11:39:02,937 - src.helpers - INFO - Retrieved chunk 10.1101_2022.07.21.501061_31 with score 0.202\n",
      "2025-07-30 11:39:02,941 - src.helpers - INFO - Retrieved chunk 10.1101_2022.07.21.501061_32 with score 0.198\n",
      "2025-07-30 11:39:02,941 - src.helpers - INFO - Retrieved chunk 10.1101_2022.07.21.501061_32 with score 0.198\n",
      "2025-07-30 11:39:02,941 - src.helpers - INFO - Retrieved chunk 10.1101_2022.07.21.501061_32 with score 0.198\n",
      "2025-07-30 11:39:02,947 - src.helpers - INFO - Retrieved chunk 10.1101_2022.07.21.501061_7 with score 0.189\n",
      "2025-07-30 11:39:02,947 - src.helpers - INFO - Retrieved chunk 10.1101_2022.07.21.501061_7 with score 0.189\n",
      "2025-07-30 11:39:02,947 - src.helpers - INFO - Retrieved chunk 10.1101_2022.07.21.501061_7 with score 0.189\n",
      "2025-07-30 11:39:02,954 - src.helpers - INFO - Retrieved chunk 10.1101_2022.07.21.501061_9 with score 0.184\n",
      "2025-07-30 11:39:02,954 - src.helpers - INFO - Retrieved chunk 10.1101_2022.07.21.501061_9 with score 0.184\n",
      "2025-07-30 11:39:02,954 - src.helpers - INFO - Retrieved chunk 10.1101_2022.07.21.501061_9 with score 0.184\n",
      "2025-07-30 11:39:02,960 - src.helpers - INFO - Retrieved chunk 10.1101_2022.07.21.501061_10 with score 0.182\n",
      "2025-07-30 11:39:02,960 - src.helpers - INFO - Retrieved chunk 10.1101_2022.07.21.501061_10 with score 0.182\n",
      "2025-07-30 11:39:02,960 - src.helpers - INFO - Retrieved chunk 10.1101_2022.07.21.501061_10 with score 0.182\n",
      "2025-07-30 11:39:02,966 - src.helpers - INFO - Retrieved chunk 10.1101_2022.07.21.501061_36 with score 0.167\n",
      "2025-07-30 11:39:02,966 - src.helpers - INFO - Retrieved chunk 10.1101_2022.07.21.501061_36 with score 0.167\n",
      "2025-07-30 11:39:02,966 - src.helpers - INFO - Retrieved chunk 10.1101_2022.07.21.501061_36 with score 0.167\n",
      "2025-07-30 11:39:02,973 - src.helpers - INFO - Retrieved chunk 10.1101_2022.07.21.501061_23 with score 0.153\n",
      "2025-07-30 11:39:02,973 - src.helpers - INFO - Retrieved chunk 10.1101_2022.07.21.501061_23 with score 0.153\n",
      "2025-07-30 11:39:02,973 - src.helpers - INFO - Retrieved chunk 10.1101_2022.07.21.501061_23 with score 0.153\n",
      "2025-07-30 11:39:02,979 - src.helpers - INFO - Retrieved chunk 10.1101_2022.07.21.501061_24 with score 0.152\n",
      "2025-07-30 11:39:02,979 - src.helpers - INFO - Retrieved chunk 10.1101_2022.07.21.501061_24 with score 0.152\n",
      "2025-07-30 11:39:02,979 - src.helpers - INFO - Retrieved chunk 10.1101_2022.07.21.501061_24 with score 0.152\n",
      "2025-07-30 11:39:02,983 - src.helpers - INFO - Successfully retrieved 10 chunks via ChromaDB->DuckDB\n",
      "2025-07-30 11:39:02,983 - src.helpers - INFO - Successfully retrieved 10 chunks via ChromaDB->DuckDB\n",
      "2025-07-30 11:39:02,983 - src.helpers - INFO - Successfully retrieved 10 chunks via ChromaDB->DuckDB\n",
      "2025-07-30 11:39:02,987 - src.helpers - INFO - Retrieved 10 chunks for collection mdc_training_data\n",
      "2025-07-30 11:39:02,987 - src.helpers - INFO - Retrieved 10 chunks for collection mdc_training_data\n",
      "2025-07-30 11:39:02,987 - src.helpers - INFO - Retrieved 10 chunks for collection mdc_training_data\n"
     ]
    },
    {
     "name": "stdout",
     "output_type": "stream",
     "text": [
      "Executing _detect_data_citation_entities...\n",
      "Function _detect_data_citation_entities took 0.0000 seconds to complete.\n",
      "Executing _detect_data_citation_entities...\n",
      "Function _detect_data_citation_entities took 0.0000 seconds to complete.\n",
      "Executing _detect_data_citation_entities...\n",
      "Function _detect_data_citation_entities took 0.0000 seconds to complete.\n",
      "Executing _detect_data_citation_entities...\n",
      "Function _detect_data_citation_entities took 0.0000 seconds to complete.\n",
      "Executing _detect_data_citation_entities...\n",
      "Function _detect_data_citation_entities took 0.0000 seconds to complete.\n",
      "Executing _detect_data_citation_entities...\n",
      "Function _detect_data_citation_entities took 0.0000 seconds to complete.\n",
      "Executing _detect_data_citation_entities...\n",
      "Function _detect_data_citation_entities took 0.0000 seconds to complete.\n",
      "Executing _detect_data_citation_entities...\n",
      "Function _detect_data_citation_entities took 0.0000 seconds to complete.\n",
      "Executing _detect_data_citation_entities...\n",
      "Function _detect_data_citation_entities took 0.0000 seconds to complete.\n",
      "Executing _detect_data_citation_entities...\n",
      "Function _detect_data_citation_entities took 0.0000 seconds to complete.\n",
      "Executing _detect_data_citation_entities...\n",
      "Function _detect_data_citation_entities took 0.0000 seconds to complete.\n",
      "Executing _detect_data_citation_entities...\n",
      "Function _detect_data_citation_entities took 0.0000 seconds to complete.\n",
      "Executing _detect_data_citation_entities...\n",
      "Function _detect_data_citation_entities took 0.0000 seconds to complete.\n",
      "Executing _detect_data_citation_entities...\n",
      "Function _detect_data_citation_entities took 0.0000 seconds to complete.\n",
      "Executing _detect_data_citation_entities...\n",
      "Function _detect_data_citation_entities took 0.0000 seconds to complete.\n",
      "Executing _detect_data_citation_entities...\n",
      "Function _detect_data_citation_entities took 0.0000 seconds to complete.\n",
      "Executing _detect_data_citation_entities...\n",
      "Function _detect_data_citation_entities took 0.0000 seconds to complete.\n",
      "Executing _detect_data_citation_entities...\n",
      "Function _detect_data_citation_entities took 0.0000 seconds to complete.\n",
      "Executing _detect_data_citation_entities...\n",
      "Function _detect_data_citation_entities took 0.0000 seconds to complete.\n",
      "Executing _detect_data_citation_entities...\n",
      "Function _detect_data_citation_entities took 0.0000 seconds to complete.\n",
      "Executing _detect_data_citation_entities...\n",
      "Function _detect_data_citation_entities took 0.0000 seconds to complete.\n"
     ]
    }
   ],
   "source": [
    "chunks = retrieve_top_chunks(\n",
    "    query_texts=[text],\n",
    "    k=10,\n",
    "    collection_name=\"mdc_training_data\",\n",
    "    doc_id_filter=\"10.1101_2022.07.21.501061\",\n",
    "    query_embeddings=[embeddings]\n",
    ")"
   ]
  },
  {
   "cell_type": "code",
   "execution_count": 12,
   "id": "44de6158",
   "metadata": {},
   "outputs": [
    {
     "data": {
      "text/plain": [
       "[Chunk(chunk_id='10.1101_2022.07.21.501061_40', document_id='10.1101_2022.07.21.501061', text='D Max 220 80th Percentile 66 300 ) s y a d ( d o i r e P g n d e e r B Mean 49 60th Percentile 49 Median 44 200 40th Percentile 38 20th Percentile 28 i Min 14 100 0 −2 Climate PC3 13.90% 0 2 0 50 Snout−Vent Length (mm) 100 150 200 bioRxiv preprint doi: https://doi.org/10.1101/2022.07.21.501061 ; this version posted July 22, 2022. The copyright holder for this preprint (which was not certified by peer review) is the author/funder, who has granted bioRxiv a license to display the preprint in perpetuity. It is made available under a CC-BY-NC 4.0 International license . 0.897 PC1 0.714 PC2 0.879 PC3 0.367 PC4 0.422 PC5 0.483 PC6 m r e T Percentile Range 0.665 (0, 0.10] PC7 l e d o M 0.345 (0.10, 1] SVL 0.642 PC1:SVL 0.704 PC2:SVL 0.314 PC3:SVL 0.153 PC4:SVL 0.168 PC5:SVL 0.121 PC6:SVL 0.313 PC7:SVL −2.5 0.0 2.5 5.0 7.5 Empirical Z score bioRxiv preprint doi: https://doi.org/10.1101/2022.07.21.501061 ; this version posted July 22, 2022. The copyright holder for this preprint (which was not certified by peer review) is the author/funder, who has granted bioRxiv a license to display the preprint in perpetuity. It is made available under a CC-BY-NC 4.0 International license . A t a t i b a h o r c i M Microhabitat Arboreal 0 100 200 300 Breeding Period (days) Semi−arboreal Terrestrial B Semi−burrowing Burrowing Semi−aquatic 2 Aquatic Torrential % 0 7 . 3 2 2 C P e t a m 0 Zone Temperate i l C Tropical −2 −4 −6 −4 −2 0 2 Climate PC1 52.10% Climate PC1 52.10%', score=0.27634572982788086, chunk_metadata=ChunkMetadata(chunk_id='10.1101_2022.07.21.501061_40', previous_chunk_id='10.1101_2022.07.21.501061_39', next_chunk_id=None, token_count=566, citation_entities=[])),\n",
       " Chunk(chunk_id='10.1101_2022.07.21.501061_39', document_id='10.1101_2022.07.21.501061', text='e05557. 709 Zizka A., Silvestro, D., Andermann, T., Azevedo, J., Duarte Ritter, C., Edler, D. et al. (2019). 710 CoordinateCleaner: standardized cleaning of occurrence records from biological collection 711 databases. Methods Ecol. Evol., 10, 744–751. R package version 2.0-20, Available at: 712 https://github.com/ropensci/CoordinateCleaner. doi: 10.1111/2041-210X.13152. 713 bioRxiv preprint doi: https://doi.org/10.1101/2022.07.21.501061 ; this version posted July 22, 2022. The copyright holder for this preprint (which was not certified by peer review) is the author/funder, who has granted bioRxiv a license to display the preprint in perpetuity. It is made available under a CC-BY-NC 4.0 International license . Breeding Period (days) A 100 200 300 Region Tropical Temperate B Bufonidae 300 Hylidae ) s y a d ( d o i r e P g n d e e r B 200 i Ranidae Myobatrachidae 100 0 Region bioRxiv preprint doi: https://doi.org/10.1101/2022.07.21.501061 ; this version posted July 22, 2022. The copyright holder for this preprint (which was not certified by peer review) is the author/funder, who has granted bioRxiv a license to display the preprint in perpetuity. It is made available under a CC-BY-NC 4.0 International license . SVL Percentile Range 0 − 20% 21 − 40% 41 − 60% 61 − 80% 81 − 100% A B 300 300 ) s y a d ( d o i r e P g n d e e r B ) s y a d ( d o i r e P g n d e e r B 200 200 i i 100 100 0 0 −6 −4 −2 0 2 −4 −2 Climate PC2 23.70% 0 2 Climate PC1 52.10% C D Max 220 80th Percentile 66 300 ) s y a d ( d o i r e P g n d e e r B Mean 49 60th Percentile', score=0.2211545705795288, chunk_metadata=ChunkMetadata(chunk_id='10.1101_2022.07.21.501061_39', previous_chunk_id='10.1101_2022.07.21.501061_38', next_chunk_id='10.1101_2022.07.21.501061_40', token_count=551, citation_entities=[])),\n",
       " Chunk(chunk_id='10.1101_2022.07.21.501061_31', document_id='10.1101_2022.07.21.501061', text='Available at: 545 https://doi.org/10.15468/dl.nbku3v. Accessed: 03 October 2021. 546 GBIF.org. (2021d). Data from: GBIF Occurrence Download. Available at: 547 https://doi.org/10.15468/dl.uejpg6. Accessed: 03 October 2021. 548 Giaretta, A.A., Facure, K.G., Sawaya, R.J., Meyer, J.H.D.M. & Chemin, N. (1999). Diversity and bioRxiv preprint doi: https://doi.org/10.1101/2022.07.21.501061 ; this version posted July 22, 2022. The copyright holder for this preprint (which was not certified by peer review) is the author/funder, who has granted bioRxiv a license to display the preprint in perpetuity. It is made available under a CC-BY-NC 4.0 International license . 549 abundance of litter frogs in a Montane forest of southeastern Brazil: Seasonal and 550 altitudinal changes. Biotropica, 31, 669–674. 551 Girish, S. & Saidapur, S.K. (2000). Interrelationship between food availability, fat body, and 552 ovarian cycles in the frog, Rana tigrina, with a discussion on the role of fat body in anuran 553 reproduction. J. Exp. Zool., 286, 487–493. 554 Gomez-Mestre, I., Pyron, R.A. & Wiens, J.J. (2012). Phylogenetic analyses reveal unexpected 555 patterns in the evolution of reproductive modes in frogs. Evolution, 66, 3687–3700. 556 Grafen, A. (1989). The phylogenetic regression. Philos. Trans. R. Soc. Lond. B Biol. Sci., 326, 557 119–157. 558 Greenberg, D.A. & Palen, W.J. (2021). Hydrothermal physiology and climate vulnerability in 559 amphibians. Proc. Biol. Sci., 288, 20202273. 560 Griffis-Kyle. (2016). Physiology and ecology to inform climate adaptation strategies for desert 561 amphibians. Herpetol. Conserv. Biol., 11, 563–582. 562 Guevara-Molina, E.C., Gomes, F.R. & Camacho, A. (2020). Effects of dehydration on 563 thermoregulatory behavior and thermal tolerance limits of Rana catesbeiana (Shaw, 1802). 564 J. Therm. Biol., 93, 102721. 565 Holland, B.S. & Copenhaver, M.D. (1987). An improved sequentially rejective bonferroni test 566 procedure. Biometrics, 43, 417–423. 567 Huber, P.J. (1981). Robust statistics. In: International encyclopedia of statistical science. { ed. 568 Lovric, M. }.', score=0.2018185544013977, chunk_metadata=ChunkMetadata(chunk_id='10.1101_2022.07.21.501061_31', previous_chunk_id='10.1101_2022.07.21.501061_30', next_chunk_id='10.1101_2022.07.21.501061_32', token_count=662, citation_entities=[CitationEntity(data_citation='https://doi.org/10.15468/dl.nbku3v', document_id='10.1101_2022.07.21.501061', pages=[24], evidence=None), CitationEntity(data_citation='https://doi.org/10.15468/dl.uejpg6', document_id='10.1101_2022.07.21.501061', pages=[24], evidence=None)])),\n",
       " Chunk(chunk_id='10.1101_2022.07.21.501061_32', document_id='10.1101_2022.07.21.501061', text='(1987). An improved sequentially rejective bonferroni test 566 procedure. Biometrics, 43, 417–423. 567 Huber, P.J. (1981). Robust statistics. In: International encyclopedia of statistical science. { ed. 568 Lovric, M. }. Springer, Berlin, Heidelberg, pp. 1248–1251. 569 Huey, R.B. (1991). Physiological consequences of habitat selection. Am. Nat., 137, S91–S115. 570 Huey, R.B., Kearney, M.R., Krockenberger, A., Holtum, J.A.M., Jess, M. & Williams, S.E. 571 (2012). Predicting organismal vulnerability to climate warming: roles of behaviour, 572 physiology and adaptation. Philos. Trans. R. Soc. Lond. B Biol. Sci., 367, 1665–1679. 573 IUCN. (2022). Data from: The IUCN Red List of Threatened Species, version 2021-3. Available 574 at: https://www.iucnredlist.org. bioRxiv preprint doi: https://doi.org/10.1101/2022.07.21.501061 ; this version posted July 22, 2022. The copyright holder for this preprint (which was not certified by peer review) is the author/funder, who has granted bioRxiv a license to display the preprint in perpetuity. It is made available under a CC-BY-NC 4.0 International license . 575 Jetz, W. & Pyron, R.A. (2018). The interplay of past diversification and evolutionary isolation 576 with present imperilment across the amphibian tree of life. Nat Ecol Evol, 2, 850–858. 577 Klein, W., Dabés, L., Bonfim, V.M.G., Magrini, L. & Napoli, M.F. (2016). Allometric relationships 578 between cutaneous surface area and body mass in anuran amphibians. Zoologischer 579 Anzeiger A Journal of Comparative Zoology, 263, 45–54. 580 Köhler, A., Sadowska, J., Olszewska, J., Trzeciak, P., Berger-Tal, O. & Tracy, C.R. (2011). 581 Staying warm or moist? Operative temperature and thermal preferences of common frogs 582 (Rana temporaria), and effects on locomotion. Herpetol. J., 21, 17–26. 583 Lardner, B. & Loman, J. (2003). Growth or reproduction? Resource allocation by female frogs 584 Rana temporaria. Oecologia, 137, 541–546. 585 Martins, E.P. & Hansen, T.F. (1997). Phylogenies and the comparative method: A general 586 approach to incorporating phylogenetic', score=0.19813895225524902, chunk_metadata=ChunkMetadata(chunk_id='10.1101_2022.07.21.501061_32', previous_chunk_id='10.1101_2022.07.21.501061_31', next_chunk_id='10.1101_2022.07.21.501061_33', token_count=651, citation_entities=[])),\n",
       " Chunk(chunk_id='10.1101_2022.07.21.501061_7', document_id='10.1101_2022.07.21.501061', text='30 seconds (~1km2) 131 resolution. Our data included variables affecting temperature and water availability and covering 132 all possible breeding period values (0–365 days). The final dataset included annual mean 133 temperature, temperature seasonality, annual precipitation, precipitation seasonality, annual bioRxiv preprint doi: https://doi.org/10.1101/2022.07.21.501061 ; this version posted July 22, 2022. The copyright holder for this preprint (which was not certified by peer review) is the author/funder, who has granted bioRxiv a license to display the preprint in perpetuity. It is made available under a CC-BY-NC 4.0 International license . 134 potential evapotranspiration (PET), PET seasonality, and topographic wetness. Topographic 135 wetness is the land’s ability to retain water obtained from estimates of upslope incurrent areas 136 and local slope, which is correlated to vascular plant species richness and soil moisture (see 137 Sørensen et al. 2005). We calculated species means for each climate variable to analyze the 138 dataset in a phylogenetic comparative framework. 139 Behavior data 140 We collected species means of breeding period (sensu Wells 1977) for each species in 141 this study. To obtain species means, we collected approximate start and end dates for breeding 142 periods from the primary literature or AmphibiaWeb (2022) and averaged all available breeding 143 period data for individual populations. We then calculated the difference in calendar days 144 between the start and end dates, assuming 365 calendar days. Since some dates were reported 145 as qualitative data (e.g., “May”, or “early May”), we ascribed values of either the first or last day 146 of the month when breeding periods were reported as starting or ending on a specific month 147 without a specific date given. When breeding periods were reported as the “early” or “late” parts 148 of a month, we matched this to the end of the 1st week and', score=0.18871229887008667, chunk_metadata=ChunkMetadata(chunk_id='10.1101_2022.07.21.501061_7', previous_chunk_id='10.1101_2022.07.21.501061_6', next_chunk_id='10.1101_2022.07.21.501061_8', token_count=438, citation_entities=[])),\n",
       " Chunk(chunk_id='10.1101_2022.07.21.501061_9', document_id='10.1101_2022.07.21.501061', text='we calculated phylogenetic 163 covariance matrices from the consensus tree of Jetz and Pyron (2018) to incorporate 164 evolutionary history as weights in phylogenetic regression. Additionally, we used 1,000 samples 165 from the pseudoposterior distribution of trees from Jetz and Pyron (2018) to assess models in 166 terms of phylogenetic uncertainty (see below). 167 Statistical analysis and visualization 168 All analyses were performed in R. We used ggtree v3.4.0 (Yu 2020; Yu et al. 2018; Yu et 169 al. 2017) to plot average species breeding periods and temperate-tropical geographical zones. 170 We analyzed the data using phylogenetic generalized least squares (PGLS; Grafen 1989; 171 Martins & Hansen 1997) implemented through RRPP v1.3.0 (Collyer and Adams 2018, 2019). 172 Notably, RRPP uses a residual randomized permutation procedure to fit models, evaluate 173 significance, and calculate effect sizes for model terms. We used 9,999 iterations for 174 significance testing in all models. We estimated phylogenetic covariance matrices using ape 175 v5.6-2 (Paradis & Schliep 2019). 176 We scaled each climate variable and performed a principal component analysis (PCA) to 177 avoid collinearity issues in our models. To test our hypotheses, we used phylogenetic multiple 178 regression to examine the relationship of breeding period, all 7 principal components (PCs), and 179 body size. To account for allometry of body size and since the natural logarithm of surface area- bioRxiv preprint doi: https://doi.org/10.1101/2022.07.21.501061 ; this version posted July 22, 2022. The copyright holder for this preprint (which was not certified by peer review) is the author/funder, who has granted bioRxiv a license to display the preprint in perpetuity. It is made available under a CC-BY-NC 4.0 International license . 180 to-volume ratio is expected to scale linearly with the natural logarithm of body size (Castro et al. 181 2021; Klein et al. 2016; Santini', score=0.18388456106185913, chunk_metadata=ChunkMetadata(chunk_id='10.1101_2022.07.21.501061_9', previous_chunk_id='10.1101_2022.07.21.501061_8', next_chunk_id='10.1101_2022.07.21.501061_10', token_count=498, citation_entities=[])),\n",
       " Chunk(chunk_id='10.1101_2022.07.21.501061_10', document_id='10.1101_2022.07.21.501061', text='CC-BY-NC 4.0 International license . 180 to-volume ratio is expected to scale linearly with the natural logarithm of body size (Castro et al. 181 2021; Klein et al. 2016; Santini et al. 2018), we used the natural logarithm of body size in our 182 models. Additionally, we fit a phylogenetic ANCOVA model which included interactions between 183 each PC and body size. We also used ANOVA to test whether adding these interactions 184 resulted in a significant improvement in model performance. To aid in interpretation of these 185 models, we used phylogenetic regression to determine the relationship between breeding period 186 and each individual climate variable. We determined the effects of phylogenetic uncertainty in 187 our models by rerunning the ANCOVA model once each for 1,000 trees from the 188 pseudoposterior distribution of Jetz and Pyron (2018), following Baken et al. (2021). From these 189 analyses we obtained one distribution of 1,000 Z-scores per model term and visualized the 190 proportion of trees under which terms were not significant. We plotted these distributions using 191 ggridges v0.5.3 (Wilke 2021). 192 We used phylogenetic ANOVA to test whether breeding periods differ between 193 microhabitat categories, followed by evaluation of pairwise comparisons. We controlled for Type 194 I error rates due to multiple comparisons using the Sidak-like step-down procedure, which is 195 more powerful than the Sidak and Bonferroni methods (Holland & Copenhaver 1987), using 196 mutoss v0.1-12 (MuToss Coding Team et al. 2017). We used a phylogenetic factorial 197 MANCOVA to determine how climate (all 7 PC’s) differs among microhabitats and 198 temperate/tropical zones. Finally, we visualized these data by plotting conver hulls for groupings 199 of microhabitat and geographical zone using geomorph v4.0.4 (Adams et al. 2021; Baken et al. 200 2021b). bioRxiv preprint doi: https://doi.org/10.1101/2022.07.21.501061 ; this version posted', score=0.18227910995483398, chunk_metadata=ChunkMetadata(chunk_id='10.1101_2022.07.21.501061_10', previous_chunk_id='10.1101_2022.07.21.501061_9', next_chunk_id='10.1101_2022.07.21.501061_11', token_count=497, citation_entities=[])),\n",
       " Chunk(chunk_id='10.1101_2022.07.21.501061_36', document_id='10.1101_2022.07.21.501061', text='Physiol., 307, R44–56. 649 Silva, N.R., Berneck, B.V.M., da Silva, H.R., Haddad, C.F.B., Zamudio, K.R., Mott, T., et al. 650 (2020). Egg-laying site, fecundity and degree of sexual size dimorphism in frogs. Biol. J. 651 Linn. Soc. Lond., 131, 600–610. 652 Skelly, D.K. & Freidenburg, L.K. (2008). Effects of beaver on the thermal biology of an bioRxiv preprint doi: https://doi.org/10.1101/2022.07.21.501061 ; this version posted July 22, 2022. The copyright holder for this preprint (which was not certified by peer review) is the author/funder, who has granted bioRxiv a license to display the preprint in perpetuity. It is made available under a CC-BY-NC 4.0 International license . 653 amphibian. Ecol. Lett., 3, 483–486. 654 Skelly, D.K., Joseph, L.N., Possingham, H.P., Freidenburg, L.K., Farrugia, T.J., Kinnison, M.T., 655 et al. (2007). Evolutionary responses to climate change. Conserv. Biol., 21, 1353–1355. 656 Sørensen, R., Zinko, U. & Seibert, J. (2005). On the calculation of the topographic wetness 657 index: evaluation of different methods based on field observations. Hydrol. Earth Syst. Sci. 658 Discuss., 2, 1807–1834. 659 South, A. (2012). rworldxtra: Country boundaries at high resolution. R package version 1.01. 660 https://CRAN.R-project.org/package=rworldxtra. 661 Swihart, R.K. (1984). Body size, breeding season length, and life history tactics of lagomorphs. 662 Oikos, 43, 282–290. 663 Telemeco, R.S., Abbott, K.C. & Janzen, F.J. (2013). Modeling the effects of climate change- 664 induced shifts in reproductive phenology on temperature-dependent traits. Am. Nat., 181, 665 637–648. 666 Thomas, C.D., Cameron, A., Green, R.E., Bakkenes, M., Beaumont, L.J., Collingham, Y.C., et 667 al. (2004). Extinction risk from climate change. Nature, 427, 145–148. 668 Title, P.O. & Bemmels, J.B. (2018). ENVIREM: an expanded set of bioclimatic and topographic 669 variables increases flexibility and improves performance of ecological niche modeling. 670 Ecography , 41, 291–307. 671 Todd, B.D., Scott, D.E., Pechmann, J.H.K. &', score=0.1672821044921875, chunk_metadata=ChunkMetadata(chunk_id='10.1101_2022.07.21.501061_36', previous_chunk_id='10.1101_2022.07.21.501061_35', next_chunk_id='10.1101_2022.07.21.501061_37', token_count=672, citation_entities=[])),\n",
       " Chunk(chunk_id='10.1101_2022.07.21.501061_23', document_id='10.1101_2022.07.21.501061', text='review) is the author/funder, who has granted bioRxiv a license to display the preprint in perpetuity. It is made available under a CC-BY-NC 4.0 International license . 398 might seek to combine environmental, behavioral, and physiological data to assess extinction 399 risk and habitat suitability (Greenberg and Palen 2021; Griffis-Kyle 2016; Huey 1991). 400 Acknowledgements 401 We thank the O’Connell and Hadly labs at Stanford University for providing valuable 402 feedback on previous versions of this manuscript. This material is based upon work supported by 403 the NSF Postdoctoral Research Fellowships in Biology Program under Grant No. 2109850 (to BHJ). 404 BHJ and LAO are supported by the New York Stem Cell Foundation. LAO is a New York Stem 405 Cell – Robertson Investigator. We are indebted to the following museums for making their data 406 available online: the Department of Herpetology, California Academy of Sciences (CAS); the 407 Museum of Southwestern Biology (MSB); the Museum of Vertebrate Zoology, University of 408 California, Berkeley (MVZ); and the University of Washington Burke Museum (UWBM). 409 410 411 412 Tables Table 1. PCA summary and loadings of climate variables. PCA based on means for 497 species. 413 Cumulative proportion of variance is given in parentheses next to PC heading. Loadings with a magnitude 414 >=0.30 are in bold. Asterisks indicate variables with a significant individual effect on breeding periods and 415 carets indicate variables with a significant interaction with body size (see SI). 416 Variable PC1 (52) PC2 (76) PC3 (90) PC4 (94) PC5 (97) PC6 (99) PC7 (100) Annual Mean Temperature*^ 0.47 0.28 0.08 0.02 0.24 0.15 0.78 Temperature Seasonality*^ 0.47 0.14 0.09 0.44 0.25 0.70 0.04 Annual Precipitation*^ 0.38 0.38 0.13 0.75 0.27 0.21 0.14 Precipitation Seasonality*^ 0.15 0.26 0.90 0.23 0.16 0.15 0.00 bioRxiv preprint doi: https://doi.org/10.1101/2022.07.21.501061 ; this', score=0.1531122326850891, chunk_metadata=ChunkMetadata(chunk_id='10.1101_2022.07.21.501061_23', previous_chunk_id='10.1101_2022.07.21.501061_22', next_chunk_id='10.1101_2022.07.21.501061_24', token_count=555, citation_entities=[])),\n",
       " Chunk(chunk_id='10.1101_2022.07.21.501061_24', document_id='10.1101_2022.07.21.501061', text='0.14 0.09 0.44 0.25 0.70 0.04 Annual Precipitation*^ 0.38 0.38 0.13 0.75 0.27 0.21 0.14 Precipitation Seasonality*^ 0.15 0.26 0.90 0.23 0.16 0.15 0.00 bioRxiv preprint doi: https://doi.org/10.1101/2022.07.21.501061 ; this version posted July 22, 2022. The copyright holder for this preprint (which was not certified by peer review) is the author/funder, who has granted bioRxiv a license to display the preprint in perpetuity. It is made available under a CC-BY-NC 4.0 International license . Annual Potential Evapotranspiration (PET) 0.42 0.4 0.00 0.23 0.47 0.21 0.59 PET Seasonality*^ 0.45 0.28 0.01 0.02 0.59 0.60 0.11 Topographic Wetness^ 0.01 0.67 0.40 0.37 0.47 0.15 0.10 417 418 419 Table 2. Model summary of the effects of climate and body size on breeding periods in 497 frog 420 species. Climate shown as PC’s. Body size is snout-vent length (SVL) in mm. Breeding periods are 421 species means. Df = degrees of freedom, SS = sum of squares, MS = mean square, Rsq = coefficient of 422 determination, F = F-statistic, Z = standardized effect size (Z-score), and P = p-value. Rows with 423 significant terms (p < 0.05) are in bold. 424 Term Df SS MS Rsq F Z P PC1 1 6279.32 6279.32 0.05 26.34 3.69 1e-04 PC2 1 2443.75 2443.75 0.02 10.25 2.59 0.0017 PC3 1 6756.84 6756.84 0.05 28.34 3.83 1e-04 PC4 1 22.69 22.69 0 0.10 0.71 0.7519 PC5 1 734.96 734.96 0.01 3.08 1.39 0.0810 PC6 1 601.68 601.68 0 2.52 1.22 0.1152 PC7 1 1643.48 1643.48 0.01 6.89 2.12 0.0096 SVL 1 1058.17 1058.17 0.01 4.44 1.71 0.0389 PC1:SVL 1 1555.92 1555.92 0.01 6.53 2.07 0.0115 bioRxiv preprint doi: https://doi.org/10.1101/2022.07.21.501061 ; this version posted July 22, 2022. The copyright holder for this preprint (which was not certified by peer review) is the author/funder, who has granted bioRxiv', score=0.15162187814712524, chunk_metadata=ChunkMetadata(chunk_id='10.1101_2022.07.21.501061_24', previous_chunk_id='10.1101_2022.07.21.501061_23', next_chunk_id='10.1101_2022.07.21.501061_25', token_count=767, citation_entities=[]))]"
      ]
     },
     "execution_count": 12,
     "metadata": {},
     "output_type": "execute_result"
    }
   ],
   "source": [
    "chunks"
   ]
  },
  {
   "cell_type": "code",
   "execution_count": 13,
   "id": "baaa0ec4",
   "metadata": {},
   "outputs": [
    {
     "data": {
      "text/plain": [
       "10"
      ]
     },
     "execution_count": 13,
     "metadata": {},
     "output_type": "execute_result"
    }
   ],
   "source": [
    "len(chunks)"
   ]
  },
  {
   "cell_type": "code",
   "execution_count": 14,
   "id": "16d269d2",
   "metadata": {},
   "outputs": [
    {
     "data": {
      "text/plain": [
       "0.27634572982788086"
      ]
     },
     "execution_count": 14,
     "metadata": {},
     "output_type": "execute_result"
    }
   ],
   "source": [
    "chunks[0].score"
   ]
  },
  {
   "cell_type": "code",
   "execution_count": 18,
   "id": "a7f89392",
   "metadata": {},
   "outputs": [
    {
     "name": "stdout",
     "output_type": "stream",
     "text": [
      "0.1862984299659729 0.27634572982788086 0.15162187814712524\n"
     ]
    }
   ],
   "source": [
    "# get median score across all chunks\n",
    "import statistics\n",
    "median_score = statistics.median([chunk.score for chunk in chunks])\n",
    "\n",
    "\n",
    "# get max score across all chunks\n",
    "max_score = max([chunk.score for chunk in chunks])\n",
    "\n",
    "\n",
    "# get min score across all chunks\n",
    "min_score = min([chunk.score for chunk in chunks])\n",
    "print(median_score, max_score, min_score)"
   ]
  }
 ],
 "metadata": {
  "kernelspec": {
   "display_name": "mdc-challenge-2025",
   "language": "python",
   "name": "python3"
  },
  "language_info": {
   "codemirror_mode": {
    "name": "ipython",
    "version": 3
   },
   "file_extension": ".py",
   "mimetype": "text/x-python",
   "name": "python",
   "nbconvert_exporter": "python",
   "pygments_lexer": "ipython3",
   "version": "3.12.2"
  }
 },
 "nbformat": 4,
 "nbformat_minor": 5
}
